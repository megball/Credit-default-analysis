{
 "cells": [
  {
   "cell_type": "markdown",
   "metadata": {},
   "source": [
    "##  Classification pipeline\n",
    "\n",
    "### Last update: 8/24/19\n",
    "### File: C:\\Users\\megan\\OneDrive\\Data_Analytics\\C5T2_3\\Credit default analysis.ipynb\n",
    "### Project Name: Credit Default Analysis"
   ]
  },
  {
   "cell_type": "code",
   "execution_count": 183,
   "metadata": {},
   "outputs": [],
   "source": [
    "#Import libraries and modules\n",
    "\n",
    "# data analysis and wrangling\n",
    "import pandas as pd\n",
    "import numpy as np\n",
    "import random as rnd\n",
    "from scipy import stats\n",
    "\n",
    "# visualization\n",
    "import seaborn as sns\n",
    "from matplotlib import pyplot as plt\n",
    "import plotly\n",
    "import plotly.tools as tls\n",
    "%matplotlib inline\n",
    "\n",
    "# machine learning\n",
    "from sklearn.feature_selection import RFE, f_regression\n",
    "from sklearn.preprocessing import StandardScaler\n",
    "from sklearn.linear_model import LogisticRegression\n",
    "from sklearn.svm import SVC, LinearSVC\n",
    "from sklearn.ensemble import RandomForestClassifier, GradientBoostingClassifier\n",
    "from sklearn.neighbors import KNeighborsClassifier\n",
    "from sklearn.gaussian_process import GaussianProcessClassifier\n",
    "from sklearn.model_selection import train_test_split, cross_val_score, cross_val_predict\n",
    "from sklearn.tree import DecisionTreeClassifier\n",
    "from sklearn.decomposition import PCA\n",
    "from sklearn.preprocessing import OneHotEncoder\n",
    "from sklearn import metrics\n",
    "#from sklearn.metrics import confusion_matrix\n",
    "from pandas_ml import ConfusionMatrix\n",
    "from sklearn.neural_network import MLPClassifier\n",
    "#from sklearn.model_selection import GridSearchCV\n",
    "import dask_ml.model_selection as dcv\n",
    "\n",
    "pd.options.display.max_columns = 30"
   ]
  },
  {
   "cell_type": "code",
   "execution_count": 4,
   "metadata": {},
   "outputs": [],
   "source": [
    "#import data\n",
    "\n",
    "#load train/existing data (dataset1)\n",
    "credit = pd.read_csv('default of credit card clients.csv', header = 1)\n",
    "\n",
    "#load predict/new data (dataset2)"
   ]
  },
  {
   "cell_type": "markdown",
   "metadata": {},
   "source": [
    "### Data Pre-Processing"
   ]
  },
  {
   "cell_type": "code",
   "execution_count": 5,
   "metadata": {},
   "outputs": [
    {
     "name": "stdout",
     "output_type": "stream",
     "text": [
      "False\n"
     ]
    }
   ],
   "source": [
    "#check for missing data\n",
    "print(credit.isnull().values.any())"
   ]
  },
  {
   "cell_type": "code",
   "execution_count": 6,
   "metadata": {},
   "outputs": [
    {
     "data": {
      "text/html": [
       "<div>\n",
       "<style scoped>\n",
       "    .dataframe tbody tr th:only-of-type {\n",
       "        vertical-align: middle;\n",
       "    }\n",
       "\n",
       "    .dataframe tbody tr th {\n",
       "        vertical-align: top;\n",
       "    }\n",
       "\n",
       "    .dataframe thead th {\n",
       "        text-align: right;\n",
       "    }\n",
       "</style>\n",
       "<table border=\"1\" class=\"dataframe\">\n",
       "  <thead>\n",
       "    <tr style=\"text-align: right;\">\n",
       "      <th></th>\n",
       "      <th>ID</th>\n",
       "      <th>LIMIT_BAL</th>\n",
       "      <th>SEX</th>\n",
       "      <th>EDUCATION</th>\n",
       "      <th>MARRIAGE</th>\n",
       "      <th>AGE</th>\n",
       "      <th>PAY_0</th>\n",
       "      <th>PAY_2</th>\n",
       "      <th>PAY_3</th>\n",
       "      <th>PAY_4</th>\n",
       "      <th>PAY_5</th>\n",
       "      <th>PAY_6</th>\n",
       "      <th>BILL_AMT1</th>\n",
       "      <th>BILL_AMT2</th>\n",
       "      <th>BILL_AMT3</th>\n",
       "      <th>BILL_AMT4</th>\n",
       "      <th>BILL_AMT5</th>\n",
       "      <th>BILL_AMT6</th>\n",
       "      <th>PAY_AMT1</th>\n",
       "      <th>PAY_AMT2</th>\n",
       "      <th>PAY_AMT3</th>\n",
       "      <th>PAY_AMT4</th>\n",
       "      <th>PAY_AMT5</th>\n",
       "      <th>PAY_AMT6</th>\n",
       "      <th>default payment next month</th>\n",
       "    </tr>\n",
       "  </thead>\n",
       "  <tbody>\n",
       "    <tr>\n",
       "      <th>0</th>\n",
       "      <td>1</td>\n",
       "      <td>20000</td>\n",
       "      <td>2</td>\n",
       "      <td>2</td>\n",
       "      <td>1</td>\n",
       "      <td>24</td>\n",
       "      <td>2</td>\n",
       "      <td>2</td>\n",
       "      <td>-1</td>\n",
       "      <td>-1</td>\n",
       "      <td>-2</td>\n",
       "      <td>-2</td>\n",
       "      <td>3913</td>\n",
       "      <td>3102</td>\n",
       "      <td>689</td>\n",
       "      <td>0</td>\n",
       "      <td>0</td>\n",
       "      <td>0</td>\n",
       "      <td>0</td>\n",
       "      <td>689</td>\n",
       "      <td>0</td>\n",
       "      <td>0</td>\n",
       "      <td>0</td>\n",
       "      <td>0</td>\n",
       "      <td>1</td>\n",
       "    </tr>\n",
       "    <tr>\n",
       "      <th>1</th>\n",
       "      <td>2</td>\n",
       "      <td>120000</td>\n",
       "      <td>2</td>\n",
       "      <td>2</td>\n",
       "      <td>2</td>\n",
       "      <td>26</td>\n",
       "      <td>-1</td>\n",
       "      <td>2</td>\n",
       "      <td>0</td>\n",
       "      <td>0</td>\n",
       "      <td>0</td>\n",
       "      <td>2</td>\n",
       "      <td>2682</td>\n",
       "      <td>1725</td>\n",
       "      <td>2682</td>\n",
       "      <td>3272</td>\n",
       "      <td>3455</td>\n",
       "      <td>3261</td>\n",
       "      <td>0</td>\n",
       "      <td>1000</td>\n",
       "      <td>1000</td>\n",
       "      <td>1000</td>\n",
       "      <td>0</td>\n",
       "      <td>2000</td>\n",
       "      <td>1</td>\n",
       "    </tr>\n",
       "    <tr>\n",
       "      <th>2</th>\n",
       "      <td>3</td>\n",
       "      <td>90000</td>\n",
       "      <td>2</td>\n",
       "      <td>2</td>\n",
       "      <td>2</td>\n",
       "      <td>34</td>\n",
       "      <td>0</td>\n",
       "      <td>0</td>\n",
       "      <td>0</td>\n",
       "      <td>0</td>\n",
       "      <td>0</td>\n",
       "      <td>0</td>\n",
       "      <td>29239</td>\n",
       "      <td>14027</td>\n",
       "      <td>13559</td>\n",
       "      <td>14331</td>\n",
       "      <td>14948</td>\n",
       "      <td>15549</td>\n",
       "      <td>1518</td>\n",
       "      <td>1500</td>\n",
       "      <td>1000</td>\n",
       "      <td>1000</td>\n",
       "      <td>1000</td>\n",
       "      <td>5000</td>\n",
       "      <td>0</td>\n",
       "    </tr>\n",
       "    <tr>\n",
       "      <th>3</th>\n",
       "      <td>4</td>\n",
       "      <td>50000</td>\n",
       "      <td>2</td>\n",
       "      <td>2</td>\n",
       "      <td>1</td>\n",
       "      <td>37</td>\n",
       "      <td>0</td>\n",
       "      <td>0</td>\n",
       "      <td>0</td>\n",
       "      <td>0</td>\n",
       "      <td>0</td>\n",
       "      <td>0</td>\n",
       "      <td>46990</td>\n",
       "      <td>48233</td>\n",
       "      <td>49291</td>\n",
       "      <td>28314</td>\n",
       "      <td>28959</td>\n",
       "      <td>29547</td>\n",
       "      <td>2000</td>\n",
       "      <td>2019</td>\n",
       "      <td>1200</td>\n",
       "      <td>1100</td>\n",
       "      <td>1069</td>\n",
       "      <td>1000</td>\n",
       "      <td>0</td>\n",
       "    </tr>\n",
       "    <tr>\n",
       "      <th>4</th>\n",
       "      <td>5</td>\n",
       "      <td>50000</td>\n",
       "      <td>1</td>\n",
       "      <td>2</td>\n",
       "      <td>1</td>\n",
       "      <td>57</td>\n",
       "      <td>-1</td>\n",
       "      <td>0</td>\n",
       "      <td>-1</td>\n",
       "      <td>0</td>\n",
       "      <td>0</td>\n",
       "      <td>0</td>\n",
       "      <td>8617</td>\n",
       "      <td>5670</td>\n",
       "      <td>35835</td>\n",
       "      <td>20940</td>\n",
       "      <td>19146</td>\n",
       "      <td>19131</td>\n",
       "      <td>2000</td>\n",
       "      <td>36681</td>\n",
       "      <td>10000</td>\n",
       "      <td>9000</td>\n",
       "      <td>689</td>\n",
       "      <td>679</td>\n",
       "      <td>0</td>\n",
       "    </tr>\n",
       "  </tbody>\n",
       "</table>\n",
       "</div>"
      ],
      "text/plain": [
       "   ID  LIMIT_BAL  SEX  EDUCATION  MARRIAGE  AGE  PAY_0  PAY_2  PAY_3  PAY_4  \\\n",
       "0   1      20000    2          2         1   24      2      2     -1     -1   \n",
       "1   2     120000    2          2         2   26     -1      2      0      0   \n",
       "2   3      90000    2          2         2   34      0      0      0      0   \n",
       "3   4      50000    2          2         1   37      0      0      0      0   \n",
       "4   5      50000    1          2         1   57     -1      0     -1      0   \n",
       "\n",
       "   PAY_5  PAY_6  BILL_AMT1  BILL_AMT2  BILL_AMT3  BILL_AMT4  BILL_AMT5  \\\n",
       "0     -2     -2       3913       3102        689          0          0   \n",
       "1      0      2       2682       1725       2682       3272       3455   \n",
       "2      0      0      29239      14027      13559      14331      14948   \n",
       "3      0      0      46990      48233      49291      28314      28959   \n",
       "4      0      0       8617       5670      35835      20940      19146   \n",
       "\n",
       "   BILL_AMT6  PAY_AMT1  PAY_AMT2  PAY_AMT3  PAY_AMT4  PAY_AMT5  PAY_AMT6  \\\n",
       "0          0         0       689         0         0         0         0   \n",
       "1       3261         0      1000      1000      1000         0      2000   \n",
       "2      15549      1518      1500      1000      1000      1000      5000   \n",
       "3      29547      2000      2019      1200      1100      1069      1000   \n",
       "4      19131      2000     36681     10000      9000       689       679   \n",
       "\n",
       "   default payment next month  \n",
       "0                           1  \n",
       "1                           1  \n",
       "2                           0  \n",
       "3                           0  \n",
       "4                           0  "
      ]
     },
     "execution_count": 6,
     "metadata": {},
     "output_type": "execute_result"
    }
   ],
   "source": [
    "credit.head()"
   ]
  },
  {
   "cell_type": "code",
   "execution_count": 7,
   "metadata": {
    "scrolled": false
   },
   "outputs": [
    {
     "data": {
      "text/html": [
       "<div>\n",
       "<style scoped>\n",
       "    .dataframe tbody tr th:only-of-type {\n",
       "        vertical-align: middle;\n",
       "    }\n",
       "\n",
       "    .dataframe tbody tr th {\n",
       "        vertical-align: top;\n",
       "    }\n",
       "\n",
       "    .dataframe thead th {\n",
       "        text-align: right;\n",
       "    }\n",
       "</style>\n",
       "<table border=\"1\" class=\"dataframe\">\n",
       "  <thead>\n",
       "    <tr style=\"text-align: right;\">\n",
       "      <th></th>\n",
       "      <th>ID</th>\n",
       "      <th>LIMIT_BAL</th>\n",
       "      <th>SEX</th>\n",
       "      <th>EDUCATION</th>\n",
       "      <th>MARRIAGE</th>\n",
       "      <th>AGE</th>\n",
       "      <th>PAY_0</th>\n",
       "      <th>PAY_2</th>\n",
       "      <th>PAY_3</th>\n",
       "      <th>PAY_4</th>\n",
       "      <th>PAY_5</th>\n",
       "      <th>PAY_6</th>\n",
       "      <th>BILL_AMT1</th>\n",
       "      <th>BILL_AMT2</th>\n",
       "      <th>BILL_AMT3</th>\n",
       "      <th>BILL_AMT4</th>\n",
       "      <th>BILL_AMT5</th>\n",
       "      <th>BILL_AMT6</th>\n",
       "      <th>PAY_AMT1</th>\n",
       "      <th>PAY_AMT2</th>\n",
       "      <th>PAY_AMT3</th>\n",
       "      <th>PAY_AMT4</th>\n",
       "      <th>PAY_AMT5</th>\n",
       "      <th>PAY_AMT6</th>\n",
       "      <th>default payment next month</th>\n",
       "    </tr>\n",
       "  </thead>\n",
       "  <tbody>\n",
       "    <tr>\n",
       "      <th>count</th>\n",
       "      <td>30000.000000</td>\n",
       "      <td>30000.000000</td>\n",
       "      <td>30000.000000</td>\n",
       "      <td>30000.000000</td>\n",
       "      <td>30000.000000</td>\n",
       "      <td>30000.000000</td>\n",
       "      <td>30000.000000</td>\n",
       "      <td>30000.000000</td>\n",
       "      <td>30000.000000</td>\n",
       "      <td>30000.000000</td>\n",
       "      <td>30000.000000</td>\n",
       "      <td>30000.000000</td>\n",
       "      <td>30000.000000</td>\n",
       "      <td>30000.000000</td>\n",
       "      <td>3.000000e+04</td>\n",
       "      <td>30000.000000</td>\n",
       "      <td>30000.000000</td>\n",
       "      <td>30000.000000</td>\n",
       "      <td>30000.000000</td>\n",
       "      <td>3.000000e+04</td>\n",
       "      <td>30000.00000</td>\n",
       "      <td>30000.000000</td>\n",
       "      <td>30000.000000</td>\n",
       "      <td>30000.000000</td>\n",
       "      <td>30000.000000</td>\n",
       "    </tr>\n",
       "    <tr>\n",
       "      <th>mean</th>\n",
       "      <td>15000.500000</td>\n",
       "      <td>167484.322667</td>\n",
       "      <td>1.603733</td>\n",
       "      <td>1.853133</td>\n",
       "      <td>1.551867</td>\n",
       "      <td>35.485500</td>\n",
       "      <td>-0.016700</td>\n",
       "      <td>-0.133767</td>\n",
       "      <td>-0.166200</td>\n",
       "      <td>-0.220667</td>\n",
       "      <td>-0.266200</td>\n",
       "      <td>-0.291100</td>\n",
       "      <td>51223.330900</td>\n",
       "      <td>49179.075167</td>\n",
       "      <td>4.701315e+04</td>\n",
       "      <td>43262.948967</td>\n",
       "      <td>40311.400967</td>\n",
       "      <td>38871.760400</td>\n",
       "      <td>5663.580500</td>\n",
       "      <td>5.921163e+03</td>\n",
       "      <td>5225.68150</td>\n",
       "      <td>4826.076867</td>\n",
       "      <td>4799.387633</td>\n",
       "      <td>5215.502567</td>\n",
       "      <td>0.221200</td>\n",
       "    </tr>\n",
       "    <tr>\n",
       "      <th>std</th>\n",
       "      <td>8660.398374</td>\n",
       "      <td>129747.661567</td>\n",
       "      <td>0.489129</td>\n",
       "      <td>0.790349</td>\n",
       "      <td>0.521970</td>\n",
       "      <td>9.217904</td>\n",
       "      <td>1.123802</td>\n",
       "      <td>1.197186</td>\n",
       "      <td>1.196868</td>\n",
       "      <td>1.169139</td>\n",
       "      <td>1.133187</td>\n",
       "      <td>1.149988</td>\n",
       "      <td>73635.860576</td>\n",
       "      <td>71173.768783</td>\n",
       "      <td>6.934939e+04</td>\n",
       "      <td>64332.856134</td>\n",
       "      <td>60797.155770</td>\n",
       "      <td>59554.107537</td>\n",
       "      <td>16563.280354</td>\n",
       "      <td>2.304087e+04</td>\n",
       "      <td>17606.96147</td>\n",
       "      <td>15666.159744</td>\n",
       "      <td>15278.305679</td>\n",
       "      <td>17777.465775</td>\n",
       "      <td>0.415062</td>\n",
       "    </tr>\n",
       "    <tr>\n",
       "      <th>min</th>\n",
       "      <td>1.000000</td>\n",
       "      <td>10000.000000</td>\n",
       "      <td>1.000000</td>\n",
       "      <td>0.000000</td>\n",
       "      <td>0.000000</td>\n",
       "      <td>21.000000</td>\n",
       "      <td>-2.000000</td>\n",
       "      <td>-2.000000</td>\n",
       "      <td>-2.000000</td>\n",
       "      <td>-2.000000</td>\n",
       "      <td>-2.000000</td>\n",
       "      <td>-2.000000</td>\n",
       "      <td>-165580.000000</td>\n",
       "      <td>-69777.000000</td>\n",
       "      <td>-1.572640e+05</td>\n",
       "      <td>-170000.000000</td>\n",
       "      <td>-81334.000000</td>\n",
       "      <td>-339603.000000</td>\n",
       "      <td>0.000000</td>\n",
       "      <td>0.000000e+00</td>\n",
       "      <td>0.00000</td>\n",
       "      <td>0.000000</td>\n",
       "      <td>0.000000</td>\n",
       "      <td>0.000000</td>\n",
       "      <td>0.000000</td>\n",
       "    </tr>\n",
       "    <tr>\n",
       "      <th>25%</th>\n",
       "      <td>7500.750000</td>\n",
       "      <td>50000.000000</td>\n",
       "      <td>1.000000</td>\n",
       "      <td>1.000000</td>\n",
       "      <td>1.000000</td>\n",
       "      <td>28.000000</td>\n",
       "      <td>-1.000000</td>\n",
       "      <td>-1.000000</td>\n",
       "      <td>-1.000000</td>\n",
       "      <td>-1.000000</td>\n",
       "      <td>-1.000000</td>\n",
       "      <td>-1.000000</td>\n",
       "      <td>3558.750000</td>\n",
       "      <td>2984.750000</td>\n",
       "      <td>2.666250e+03</td>\n",
       "      <td>2326.750000</td>\n",
       "      <td>1763.000000</td>\n",
       "      <td>1256.000000</td>\n",
       "      <td>1000.000000</td>\n",
       "      <td>8.330000e+02</td>\n",
       "      <td>390.00000</td>\n",
       "      <td>296.000000</td>\n",
       "      <td>252.500000</td>\n",
       "      <td>117.750000</td>\n",
       "      <td>0.000000</td>\n",
       "    </tr>\n",
       "    <tr>\n",
       "      <th>50%</th>\n",
       "      <td>15000.500000</td>\n",
       "      <td>140000.000000</td>\n",
       "      <td>2.000000</td>\n",
       "      <td>2.000000</td>\n",
       "      <td>2.000000</td>\n",
       "      <td>34.000000</td>\n",
       "      <td>0.000000</td>\n",
       "      <td>0.000000</td>\n",
       "      <td>0.000000</td>\n",
       "      <td>0.000000</td>\n",
       "      <td>0.000000</td>\n",
       "      <td>0.000000</td>\n",
       "      <td>22381.500000</td>\n",
       "      <td>21200.000000</td>\n",
       "      <td>2.008850e+04</td>\n",
       "      <td>19052.000000</td>\n",
       "      <td>18104.500000</td>\n",
       "      <td>17071.000000</td>\n",
       "      <td>2100.000000</td>\n",
       "      <td>2.009000e+03</td>\n",
       "      <td>1800.00000</td>\n",
       "      <td>1500.000000</td>\n",
       "      <td>1500.000000</td>\n",
       "      <td>1500.000000</td>\n",
       "      <td>0.000000</td>\n",
       "    </tr>\n",
       "    <tr>\n",
       "      <th>75%</th>\n",
       "      <td>22500.250000</td>\n",
       "      <td>240000.000000</td>\n",
       "      <td>2.000000</td>\n",
       "      <td>2.000000</td>\n",
       "      <td>2.000000</td>\n",
       "      <td>41.000000</td>\n",
       "      <td>0.000000</td>\n",
       "      <td>0.000000</td>\n",
       "      <td>0.000000</td>\n",
       "      <td>0.000000</td>\n",
       "      <td>0.000000</td>\n",
       "      <td>0.000000</td>\n",
       "      <td>67091.000000</td>\n",
       "      <td>64006.250000</td>\n",
       "      <td>6.016475e+04</td>\n",
       "      <td>54506.000000</td>\n",
       "      <td>50190.500000</td>\n",
       "      <td>49198.250000</td>\n",
       "      <td>5006.000000</td>\n",
       "      <td>5.000000e+03</td>\n",
       "      <td>4505.00000</td>\n",
       "      <td>4013.250000</td>\n",
       "      <td>4031.500000</td>\n",
       "      <td>4000.000000</td>\n",
       "      <td>0.000000</td>\n",
       "    </tr>\n",
       "    <tr>\n",
       "      <th>max</th>\n",
       "      <td>30000.000000</td>\n",
       "      <td>1000000.000000</td>\n",
       "      <td>2.000000</td>\n",
       "      <td>6.000000</td>\n",
       "      <td>3.000000</td>\n",
       "      <td>79.000000</td>\n",
       "      <td>8.000000</td>\n",
       "      <td>8.000000</td>\n",
       "      <td>8.000000</td>\n",
       "      <td>8.000000</td>\n",
       "      <td>8.000000</td>\n",
       "      <td>8.000000</td>\n",
       "      <td>964511.000000</td>\n",
       "      <td>983931.000000</td>\n",
       "      <td>1.664089e+06</td>\n",
       "      <td>891586.000000</td>\n",
       "      <td>927171.000000</td>\n",
       "      <td>961664.000000</td>\n",
       "      <td>873552.000000</td>\n",
       "      <td>1.684259e+06</td>\n",
       "      <td>896040.00000</td>\n",
       "      <td>621000.000000</td>\n",
       "      <td>426529.000000</td>\n",
       "      <td>528666.000000</td>\n",
       "      <td>1.000000</td>\n",
       "    </tr>\n",
       "  </tbody>\n",
       "</table>\n",
       "</div>"
      ],
      "text/plain": [
       "                 ID       LIMIT_BAL           SEX     EDUCATION      MARRIAGE  \\\n",
       "count  30000.000000    30000.000000  30000.000000  30000.000000  30000.000000   \n",
       "mean   15000.500000   167484.322667      1.603733      1.853133      1.551867   \n",
       "std     8660.398374   129747.661567      0.489129      0.790349      0.521970   \n",
       "min        1.000000    10000.000000      1.000000      0.000000      0.000000   \n",
       "25%     7500.750000    50000.000000      1.000000      1.000000      1.000000   \n",
       "50%    15000.500000   140000.000000      2.000000      2.000000      2.000000   \n",
       "75%    22500.250000   240000.000000      2.000000      2.000000      2.000000   \n",
       "max    30000.000000  1000000.000000      2.000000      6.000000      3.000000   \n",
       "\n",
       "                AGE         PAY_0         PAY_2         PAY_3         PAY_4  \\\n",
       "count  30000.000000  30000.000000  30000.000000  30000.000000  30000.000000   \n",
       "mean      35.485500     -0.016700     -0.133767     -0.166200     -0.220667   \n",
       "std        9.217904      1.123802      1.197186      1.196868      1.169139   \n",
       "min       21.000000     -2.000000     -2.000000     -2.000000     -2.000000   \n",
       "25%       28.000000     -1.000000     -1.000000     -1.000000     -1.000000   \n",
       "50%       34.000000      0.000000      0.000000      0.000000      0.000000   \n",
       "75%       41.000000      0.000000      0.000000      0.000000      0.000000   \n",
       "max       79.000000      8.000000      8.000000      8.000000      8.000000   \n",
       "\n",
       "              PAY_5         PAY_6      BILL_AMT1      BILL_AMT2     BILL_AMT3  \\\n",
       "count  30000.000000  30000.000000   30000.000000   30000.000000  3.000000e+04   \n",
       "mean      -0.266200     -0.291100   51223.330900   49179.075167  4.701315e+04   \n",
       "std        1.133187      1.149988   73635.860576   71173.768783  6.934939e+04   \n",
       "min       -2.000000     -2.000000 -165580.000000  -69777.000000 -1.572640e+05   \n",
       "25%       -1.000000     -1.000000    3558.750000    2984.750000  2.666250e+03   \n",
       "50%        0.000000      0.000000   22381.500000   21200.000000  2.008850e+04   \n",
       "75%        0.000000      0.000000   67091.000000   64006.250000  6.016475e+04   \n",
       "max        8.000000      8.000000  964511.000000  983931.000000  1.664089e+06   \n",
       "\n",
       "           BILL_AMT4      BILL_AMT5      BILL_AMT6       PAY_AMT1  \\\n",
       "count   30000.000000   30000.000000   30000.000000   30000.000000   \n",
       "mean    43262.948967   40311.400967   38871.760400    5663.580500   \n",
       "std     64332.856134   60797.155770   59554.107537   16563.280354   \n",
       "min   -170000.000000  -81334.000000 -339603.000000       0.000000   \n",
       "25%      2326.750000    1763.000000    1256.000000    1000.000000   \n",
       "50%     19052.000000   18104.500000   17071.000000    2100.000000   \n",
       "75%     54506.000000   50190.500000   49198.250000    5006.000000   \n",
       "max    891586.000000  927171.000000  961664.000000  873552.000000   \n",
       "\n",
       "           PAY_AMT2      PAY_AMT3       PAY_AMT4       PAY_AMT5  \\\n",
       "count  3.000000e+04   30000.00000   30000.000000   30000.000000   \n",
       "mean   5.921163e+03    5225.68150    4826.076867    4799.387633   \n",
       "std    2.304087e+04   17606.96147   15666.159744   15278.305679   \n",
       "min    0.000000e+00       0.00000       0.000000       0.000000   \n",
       "25%    8.330000e+02     390.00000     296.000000     252.500000   \n",
       "50%    2.009000e+03    1800.00000    1500.000000    1500.000000   \n",
       "75%    5.000000e+03    4505.00000    4013.250000    4031.500000   \n",
       "max    1.684259e+06  896040.00000  621000.000000  426529.000000   \n",
       "\n",
       "            PAY_AMT6  default payment next month  \n",
       "count   30000.000000                30000.000000  \n",
       "mean     5215.502567                    0.221200  \n",
       "std     17777.465775                    0.415062  \n",
       "min         0.000000                    0.000000  \n",
       "25%       117.750000                    0.000000  \n",
       "50%      1500.000000                    0.000000  \n",
       "75%      4000.000000                    0.000000  \n",
       "max    528666.000000                    1.000000  "
      ]
     },
     "execution_count": 7,
     "metadata": {},
     "output_type": "execute_result"
    }
   ],
   "source": [
    "credit.describe()"
   ]
  },
  {
   "cell_type": "code",
   "execution_count": 8,
   "metadata": {},
   "outputs": [
    {
     "data": {
      "text/plain": [
       "Index(['ID', 'LIMIT_BAL', 'SEX', 'EDUCATION', 'MARRIAGE', 'AGE', 'PAY_0',\n",
       "       'PAY_2', 'PAY_3', 'PAY_4', 'PAY_5', 'PAY_6', 'BILL_AMT1', 'BILL_AMT2',\n",
       "       'BILL_AMT3', 'BILL_AMT4', 'BILL_AMT5', 'BILL_AMT6', 'PAY_AMT1',\n",
       "       'PAY_AMT2', 'PAY_AMT3', 'PAY_AMT4', 'PAY_AMT5', 'PAY_AMT6',\n",
       "       'default payment next month'],\n",
       "      dtype='object')"
      ]
     },
     "execution_count": 8,
     "metadata": {},
     "output_type": "execute_result"
    }
   ],
   "source": [
    "credit.columns"
   ]
  },
  {
   "cell_type": "code",
   "execution_count": 9,
   "metadata": {},
   "outputs": [
    {
     "data": {
      "text/plain": [
       "2    18112\n",
       "1    11888\n",
       "Name: SEX, dtype: int64"
      ]
     },
     "execution_count": 9,
     "metadata": {},
     "output_type": "execute_result"
    }
   ],
   "source": [
    "credit['SEX'].value_counts()"
   ]
  },
  {
   "cell_type": "code",
   "execution_count": 10,
   "metadata": {},
   "outputs": [
    {
     "data": {
      "text/plain": [
       "0.6037333333333333"
      ]
     },
     "execution_count": 10,
     "metadata": {},
     "output_type": "execute_result"
    }
   ],
   "source": [
    "18112 / 30000"
   ]
  },
  {
   "cell_type": "code",
   "execution_count": 11,
   "metadata": {},
   "outputs": [
    {
     "data": {
      "text/plain": [
       "0.39626666666666666"
      ]
     },
     "execution_count": 11,
     "metadata": {},
     "output_type": "execute_result"
    }
   ],
   "source": [
    "11888 / 30000"
   ]
  },
  {
   "cell_type": "code",
   "execution_count": 12,
   "metadata": {},
   "outputs": [
    {
     "data": {
      "text/plain": [
       "0    23364\n",
       "1     6636\n",
       "Name: default payment next month, dtype: int64"
      ]
     },
     "execution_count": 12,
     "metadata": {},
     "output_type": "execute_result"
    }
   ],
   "source": [
    "credit['default payment next month'].value_counts()"
   ]
  },
  {
   "cell_type": "code",
   "execution_count": 13,
   "metadata": {},
   "outputs": [
    {
     "data": {
      "text/plain": [
       "0.7788"
      ]
     },
     "execution_count": 13,
     "metadata": {},
     "output_type": "execute_result"
    }
   ],
   "source": [
    "23364 / 30000"
   ]
  },
  {
   "cell_type": "markdown",
   "metadata": {},
   "source": [
    "About 78% percent of the population is no for default; About 22% is yes for default"
   ]
  },
  {
   "cell_type": "code",
   "execution_count": 14,
   "metadata": {},
   "outputs": [
    {
     "name": "stdout",
     "output_type": "stream",
     "text": [
      "<class 'pandas.core.frame.DataFrame'>\n",
      "RangeIndex: 30000 entries, 0 to 29999\n",
      "Data columns (total 25 columns):\n",
      "ID                            30000 non-null int64\n",
      "LIMIT_BAL                     30000 non-null int64\n",
      "SEX                           30000 non-null int64\n",
      "EDUCATION                     30000 non-null int64\n",
      "MARRIAGE                      30000 non-null int64\n",
      "AGE                           30000 non-null int64\n",
      "PAY_0                         30000 non-null int64\n",
      "PAY_2                         30000 non-null int64\n",
      "PAY_3                         30000 non-null int64\n",
      "PAY_4                         30000 non-null int64\n",
      "PAY_5                         30000 non-null int64\n",
      "PAY_6                         30000 non-null int64\n",
      "BILL_AMT1                     30000 non-null int64\n",
      "BILL_AMT2                     30000 non-null int64\n",
      "BILL_AMT3                     30000 non-null int64\n",
      "BILL_AMT4                     30000 non-null int64\n",
      "BILL_AMT5                     30000 non-null int64\n",
      "BILL_AMT6                     30000 non-null int64\n",
      "PAY_AMT1                      30000 non-null int64\n",
      "PAY_AMT2                      30000 non-null int64\n",
      "PAY_AMT3                      30000 non-null int64\n",
      "PAY_AMT4                      30000 non-null int64\n",
      "PAY_AMT5                      30000 non-null int64\n",
      "PAY_AMT6                      30000 non-null int64\n",
      "default payment next month    30000 non-null int64\n",
      "dtypes: int64(25)\n",
      "memory usage: 5.7 MB\n"
     ]
    }
   ],
   "source": [
    "credit.info()"
   ]
  },
  {
   "cell_type": "markdown",
   "metadata": {},
   "source": [
    "All variables are listed as integers in dataset. Need to change sex, education, and marriage to category after exploratory data analysis is done."
   ]
  },
  {
   "cell_type": "code",
   "execution_count": 15,
   "metadata": {},
   "outputs": [],
   "source": [
    "credit = credit.drop(columns=['ID'])"
   ]
  },
  {
   "cell_type": "code",
   "execution_count": 16,
   "metadata": {},
   "outputs": [],
   "source": [
    "credit.rename(columns={\"default payment next month\": \"default\"}, inplace = True)"
   ]
  },
  {
   "cell_type": "code",
   "execution_count": 17,
   "metadata": {
    "scrolled": true
   },
   "outputs": [
    {
     "data": {
      "text/html": [
       "<div>\n",
       "<style scoped>\n",
       "    .dataframe tbody tr th:only-of-type {\n",
       "        vertical-align: middle;\n",
       "    }\n",
       "\n",
       "    .dataframe tbody tr th {\n",
       "        vertical-align: top;\n",
       "    }\n",
       "\n",
       "    .dataframe thead th {\n",
       "        text-align: right;\n",
       "    }\n",
       "</style>\n",
       "<table border=\"1\" class=\"dataframe\">\n",
       "  <thead>\n",
       "    <tr style=\"text-align: right;\">\n",
       "      <th></th>\n",
       "      <th>LIMIT_BAL</th>\n",
       "      <th>SEX</th>\n",
       "      <th>EDUCATION</th>\n",
       "      <th>MARRIAGE</th>\n",
       "      <th>AGE</th>\n",
       "      <th>PAY_0</th>\n",
       "      <th>PAY_2</th>\n",
       "      <th>PAY_3</th>\n",
       "      <th>PAY_4</th>\n",
       "      <th>PAY_5</th>\n",
       "      <th>PAY_6</th>\n",
       "      <th>BILL_AMT1</th>\n",
       "      <th>BILL_AMT2</th>\n",
       "      <th>BILL_AMT3</th>\n",
       "      <th>BILL_AMT4</th>\n",
       "      <th>BILL_AMT5</th>\n",
       "      <th>BILL_AMT6</th>\n",
       "      <th>PAY_AMT1</th>\n",
       "      <th>PAY_AMT2</th>\n",
       "      <th>PAY_AMT3</th>\n",
       "      <th>PAY_AMT4</th>\n",
       "      <th>PAY_AMT5</th>\n",
       "      <th>PAY_AMT6</th>\n",
       "      <th>default</th>\n",
       "    </tr>\n",
       "  </thead>\n",
       "  <tbody>\n",
       "    <tr>\n",
       "      <th>0</th>\n",
       "      <td>20000</td>\n",
       "      <td>2</td>\n",
       "      <td>2</td>\n",
       "      <td>1</td>\n",
       "      <td>24</td>\n",
       "      <td>2</td>\n",
       "      <td>2</td>\n",
       "      <td>-1</td>\n",
       "      <td>-1</td>\n",
       "      <td>-2</td>\n",
       "      <td>-2</td>\n",
       "      <td>3913</td>\n",
       "      <td>3102</td>\n",
       "      <td>689</td>\n",
       "      <td>0</td>\n",
       "      <td>0</td>\n",
       "      <td>0</td>\n",
       "      <td>0</td>\n",
       "      <td>689</td>\n",
       "      <td>0</td>\n",
       "      <td>0</td>\n",
       "      <td>0</td>\n",
       "      <td>0</td>\n",
       "      <td>1</td>\n",
       "    </tr>\n",
       "    <tr>\n",
       "      <th>1</th>\n",
       "      <td>120000</td>\n",
       "      <td>2</td>\n",
       "      <td>2</td>\n",
       "      <td>2</td>\n",
       "      <td>26</td>\n",
       "      <td>-1</td>\n",
       "      <td>2</td>\n",
       "      <td>0</td>\n",
       "      <td>0</td>\n",
       "      <td>0</td>\n",
       "      <td>2</td>\n",
       "      <td>2682</td>\n",
       "      <td>1725</td>\n",
       "      <td>2682</td>\n",
       "      <td>3272</td>\n",
       "      <td>3455</td>\n",
       "      <td>3261</td>\n",
       "      <td>0</td>\n",
       "      <td>1000</td>\n",
       "      <td>1000</td>\n",
       "      <td>1000</td>\n",
       "      <td>0</td>\n",
       "      <td>2000</td>\n",
       "      <td>1</td>\n",
       "    </tr>\n",
       "    <tr>\n",
       "      <th>2</th>\n",
       "      <td>90000</td>\n",
       "      <td>2</td>\n",
       "      <td>2</td>\n",
       "      <td>2</td>\n",
       "      <td>34</td>\n",
       "      <td>0</td>\n",
       "      <td>0</td>\n",
       "      <td>0</td>\n",
       "      <td>0</td>\n",
       "      <td>0</td>\n",
       "      <td>0</td>\n",
       "      <td>29239</td>\n",
       "      <td>14027</td>\n",
       "      <td>13559</td>\n",
       "      <td>14331</td>\n",
       "      <td>14948</td>\n",
       "      <td>15549</td>\n",
       "      <td>1518</td>\n",
       "      <td>1500</td>\n",
       "      <td>1000</td>\n",
       "      <td>1000</td>\n",
       "      <td>1000</td>\n",
       "      <td>5000</td>\n",
       "      <td>0</td>\n",
       "    </tr>\n",
       "    <tr>\n",
       "      <th>3</th>\n",
       "      <td>50000</td>\n",
       "      <td>2</td>\n",
       "      <td>2</td>\n",
       "      <td>1</td>\n",
       "      <td>37</td>\n",
       "      <td>0</td>\n",
       "      <td>0</td>\n",
       "      <td>0</td>\n",
       "      <td>0</td>\n",
       "      <td>0</td>\n",
       "      <td>0</td>\n",
       "      <td>46990</td>\n",
       "      <td>48233</td>\n",
       "      <td>49291</td>\n",
       "      <td>28314</td>\n",
       "      <td>28959</td>\n",
       "      <td>29547</td>\n",
       "      <td>2000</td>\n",
       "      <td>2019</td>\n",
       "      <td>1200</td>\n",
       "      <td>1100</td>\n",
       "      <td>1069</td>\n",
       "      <td>1000</td>\n",
       "      <td>0</td>\n",
       "    </tr>\n",
       "    <tr>\n",
       "      <th>4</th>\n",
       "      <td>50000</td>\n",
       "      <td>1</td>\n",
       "      <td>2</td>\n",
       "      <td>1</td>\n",
       "      <td>57</td>\n",
       "      <td>-1</td>\n",
       "      <td>0</td>\n",
       "      <td>-1</td>\n",
       "      <td>0</td>\n",
       "      <td>0</td>\n",
       "      <td>0</td>\n",
       "      <td>8617</td>\n",
       "      <td>5670</td>\n",
       "      <td>35835</td>\n",
       "      <td>20940</td>\n",
       "      <td>19146</td>\n",
       "      <td>19131</td>\n",
       "      <td>2000</td>\n",
       "      <td>36681</td>\n",
       "      <td>10000</td>\n",
       "      <td>9000</td>\n",
       "      <td>689</td>\n",
       "      <td>679</td>\n",
       "      <td>0</td>\n",
       "    </tr>\n",
       "  </tbody>\n",
       "</table>\n",
       "</div>"
      ],
      "text/plain": [
       "   LIMIT_BAL  SEX  EDUCATION  MARRIAGE  AGE  PAY_0  PAY_2  PAY_3  PAY_4  \\\n",
       "0      20000    2          2         1   24      2      2     -1     -1   \n",
       "1     120000    2          2         2   26     -1      2      0      0   \n",
       "2      90000    2          2         2   34      0      0      0      0   \n",
       "3      50000    2          2         1   37      0      0      0      0   \n",
       "4      50000    1          2         1   57     -1      0     -1      0   \n",
       "\n",
       "   PAY_5  PAY_6  BILL_AMT1  BILL_AMT2  BILL_AMT3  BILL_AMT4  BILL_AMT5  \\\n",
       "0     -2     -2       3913       3102        689          0          0   \n",
       "1      0      2       2682       1725       2682       3272       3455   \n",
       "2      0      0      29239      14027      13559      14331      14948   \n",
       "3      0      0      46990      48233      49291      28314      28959   \n",
       "4      0      0       8617       5670      35835      20940      19146   \n",
       "\n",
       "   BILL_AMT6  PAY_AMT1  PAY_AMT2  PAY_AMT3  PAY_AMT4  PAY_AMT5  PAY_AMT6  \\\n",
       "0          0         0       689         0         0         0         0   \n",
       "1       3261         0      1000      1000      1000         0      2000   \n",
       "2      15549      1518      1500      1000      1000      1000      5000   \n",
       "3      29547      2000      2019      1200      1100      1069      1000   \n",
       "4      19131      2000     36681     10000      9000       689       679   \n",
       "\n",
       "   default  \n",
       "0        1  \n",
       "1        1  \n",
       "2        0  \n",
       "3        0  \n",
       "4        0  "
      ]
     },
     "execution_count": 17,
     "metadata": {},
     "output_type": "execute_result"
    }
   ],
   "source": [
    "credit.head()"
   ]
  },
  {
   "cell_type": "code",
   "execution_count": 18,
   "metadata": {},
   "outputs": [
    {
     "data": {
      "text/plain": [
       "2    14030\n",
       "1    10585\n",
       "3     4917\n",
       "5      280\n",
       "4      123\n",
       "6       51\n",
       "0       14\n",
       "Name: EDUCATION, dtype: int64"
      ]
     },
     "execution_count": 18,
     "metadata": {},
     "output_type": "execute_result"
    }
   ],
   "source": [
    "credit['EDUCATION'].value_counts()"
   ]
  },
  {
   "cell_type": "code",
   "execution_count": 19,
   "metadata": {},
   "outputs": [],
   "source": [
    "#group education levels 4,5,6 into single group 4 \n",
    "#NOTE for future analysis, it would help to understand what 4,5,6 are\n",
    "credit['EDUCATION'] = credit['EDUCATION'].replace([4, 5, 6], 4)"
   ]
  },
  {
   "cell_type": "code",
   "execution_count": 20,
   "metadata": {},
   "outputs": [
    {
     "data": {
      "text/plain": [
       "2    14030\n",
       "1    10585\n",
       "3     4917\n",
       "4      454\n",
       "0       14\n",
       "Name: EDUCATION, dtype: int64"
      ]
     },
     "execution_count": 20,
     "metadata": {},
     "output_type": "execute_result"
    }
   ],
   "source": [
    "#check recode\n",
    "credit['EDUCATION'].value_counts()"
   ]
  },
  {
   "cell_type": "code",
   "execution_count": 21,
   "metadata": {
    "scrolled": true
   },
   "outputs": [
    {
     "data": {
      "text/html": [
       "<div>\n",
       "<style scoped>\n",
       "    .dataframe tbody tr th:only-of-type {\n",
       "        vertical-align: middle;\n",
       "    }\n",
       "\n",
       "    .dataframe tbody tr th {\n",
       "        vertical-align: top;\n",
       "    }\n",
       "\n",
       "    .dataframe thead th {\n",
       "        text-align: right;\n",
       "    }\n",
       "</style>\n",
       "<table border=\"1\" class=\"dataframe\">\n",
       "  <thead>\n",
       "    <tr style=\"text-align: right;\">\n",
       "      <th></th>\n",
       "      <th>LIMIT_BAL</th>\n",
       "      <th>SEX</th>\n",
       "      <th>EDUCATION</th>\n",
       "      <th>MARRIAGE</th>\n",
       "      <th>AGE</th>\n",
       "      <th>PAY_0</th>\n",
       "      <th>PAY_2</th>\n",
       "      <th>PAY_3</th>\n",
       "      <th>PAY_4</th>\n",
       "      <th>PAY_5</th>\n",
       "      <th>PAY_6</th>\n",
       "      <th>BILL_AMT1</th>\n",
       "      <th>BILL_AMT2</th>\n",
       "      <th>BILL_AMT3</th>\n",
       "      <th>BILL_AMT4</th>\n",
       "      <th>BILL_AMT5</th>\n",
       "      <th>BILL_AMT6</th>\n",
       "      <th>PAY_AMT1</th>\n",
       "      <th>PAY_AMT2</th>\n",
       "      <th>PAY_AMT3</th>\n",
       "      <th>PAY_AMT4</th>\n",
       "      <th>PAY_AMT5</th>\n",
       "      <th>PAY_AMT6</th>\n",
       "      <th>default</th>\n",
       "    </tr>\n",
       "  </thead>\n",
       "  <tbody>\n",
       "    <tr>\n",
       "      <th>290</th>\n",
       "      <td>280000</td>\n",
       "      <td>1</td>\n",
       "      <td>1</td>\n",
       "      <td>2</td>\n",
       "      <td>33</td>\n",
       "      <td>-1</td>\n",
       "      <td>-1</td>\n",
       "      <td>-1</td>\n",
       "      <td>-1</td>\n",
       "      <td>-1</td>\n",
       "      <td>-1</td>\n",
       "      <td>898</td>\n",
       "      <td>898</td>\n",
       "      <td>325</td>\n",
       "      <td>898</td>\n",
       "      <td>325</td>\n",
       "      <td>-339603</td>\n",
       "      <td>898</td>\n",
       "      <td>325</td>\n",
       "      <td>898</td>\n",
       "      <td>325</td>\n",
       "      <td>0</td>\n",
       "      <td>345293</td>\n",
       "      <td>1</td>\n",
       "    </tr>\n",
       "    <tr>\n",
       "      <th>26097</th>\n",
       "      <td>290000</td>\n",
       "      <td>2</td>\n",
       "      <td>2</td>\n",
       "      <td>1</td>\n",
       "      <td>33</td>\n",
       "      <td>-2</td>\n",
       "      <td>-1</td>\n",
       "      <td>0</td>\n",
       "      <td>0</td>\n",
       "      <td>0</td>\n",
       "      <td>0</td>\n",
       "      <td>11303</td>\n",
       "      <td>17493</td>\n",
       "      <td>21036</td>\n",
       "      <td>17391</td>\n",
       "      <td>16348</td>\n",
       "      <td>-209051</td>\n",
       "      <td>17654</td>\n",
       "      <td>11068</td>\n",
       "      <td>7600</td>\n",
       "      <td>3352</td>\n",
       "      <td>6104</td>\n",
       "      <td>261883</td>\n",
       "      <td>0</td>\n",
       "    </tr>\n",
       "    <tr>\n",
       "      <th>12828</th>\n",
       "      <td>100000</td>\n",
       "      <td>2</td>\n",
       "      <td>1</td>\n",
       "      <td>2</td>\n",
       "      <td>25</td>\n",
       "      <td>2</td>\n",
       "      <td>2</td>\n",
       "      <td>-2</td>\n",
       "      <td>-2</td>\n",
       "      <td>-2</td>\n",
       "      <td>-2</td>\n",
       "      <td>100000</td>\n",
       "      <td>0</td>\n",
       "      <td>0</td>\n",
       "      <td>0</td>\n",
       "      <td>0</td>\n",
       "      <td>-150953</td>\n",
       "      <td>0</td>\n",
       "      <td>0</td>\n",
       "      <td>0</td>\n",
       "      <td>0</td>\n",
       "      <td>0</td>\n",
       "      <td>150400</td>\n",
       "      <td>0</td>\n",
       "    </tr>\n",
       "    <tr>\n",
       "      <th>29491</th>\n",
       "      <td>320000</td>\n",
       "      <td>1</td>\n",
       "      <td>1</td>\n",
       "      <td>2</td>\n",
       "      <td>31</td>\n",
       "      <td>1</td>\n",
       "      <td>-2</td>\n",
       "      <td>-2</td>\n",
       "      <td>-2</td>\n",
       "      <td>-2</td>\n",
       "      <td>-2</td>\n",
       "      <td>-6029</td>\n",
       "      <td>-9119</td>\n",
       "      <td>-46127</td>\n",
       "      <td>-50616</td>\n",
       "      <td>-53007</td>\n",
       "      <td>-94625</td>\n",
       "      <td>185</td>\n",
       "      <td>28</td>\n",
       "      <td>12</td>\n",
       "      <td>208</td>\n",
       "      <td>8</td>\n",
       "      <td>14</td>\n",
       "      <td>1</td>\n",
       "    </tr>\n",
       "    <tr>\n",
       "      <th>28919</th>\n",
       "      <td>180000</td>\n",
       "      <td>2</td>\n",
       "      <td>1</td>\n",
       "      <td>1</td>\n",
       "      <td>40</td>\n",
       "      <td>0</td>\n",
       "      <td>-1</td>\n",
       "      <td>0</td>\n",
       "      <td>0</td>\n",
       "      <td>0</td>\n",
       "      <td>0</td>\n",
       "      <td>34483</td>\n",
       "      <td>21142</td>\n",
       "      <td>11279</td>\n",
       "      <td>5698</td>\n",
       "      <td>5993</td>\n",
       "      <td>-73895</td>\n",
       "      <td>22864</td>\n",
       "      <td>1133</td>\n",
       "      <td>1000</td>\n",
       "      <td>1000</td>\n",
       "      <td>0</td>\n",
       "      <td>159000</td>\n",
       "      <td>0</td>\n",
       "    </tr>\n",
       "    <tr>\n",
       "      <th>27080</th>\n",
       "      <td>290000</td>\n",
       "      <td>1</td>\n",
       "      <td>1</td>\n",
       "      <td>2</td>\n",
       "      <td>38</td>\n",
       "      <td>-2</td>\n",
       "      <td>-2</td>\n",
       "      <td>-2</td>\n",
       "      <td>-2</td>\n",
       "      <td>-2</td>\n",
       "      <td>-2</td>\n",
       "      <td>2318</td>\n",
       "      <td>1818</td>\n",
       "      <td>2057</td>\n",
       "      <td>2278</td>\n",
       "      <td>1224</td>\n",
       "      <td>-57060</td>\n",
       "      <td>1827</td>\n",
       "      <td>2066</td>\n",
       "      <td>2287</td>\n",
       "      <td>1242</td>\n",
       "      <td>1827</td>\n",
       "      <td>60860</td>\n",
       "      <td>0</td>\n",
       "    </tr>\n",
       "    <tr>\n",
       "      <th>12388</th>\n",
       "      <td>450000</td>\n",
       "      <td>2</td>\n",
       "      <td>2</td>\n",
       "      <td>1</td>\n",
       "      <td>37</td>\n",
       "      <td>-1</td>\n",
       "      <td>-1</td>\n",
       "      <td>-1</td>\n",
       "      <td>-1</td>\n",
       "      <td>-1</td>\n",
       "      <td>-1</td>\n",
       "      <td>1212</td>\n",
       "      <td>791</td>\n",
       "      <td>2663</td>\n",
       "      <td>783</td>\n",
       "      <td>1730</td>\n",
       "      <td>-51443</td>\n",
       "      <td>1032</td>\n",
       "      <td>2663</td>\n",
       "      <td>783</td>\n",
       "      <td>1730</td>\n",
       "      <td>0</td>\n",
       "      <td>70803</td>\n",
       "      <td>1</td>\n",
       "    </tr>\n",
       "    <tr>\n",
       "      <th>3525</th>\n",
       "      <td>140000</td>\n",
       "      <td>1</td>\n",
       "      <td>1</td>\n",
       "      <td>2</td>\n",
       "      <td>28</td>\n",
       "      <td>0</td>\n",
       "      <td>-1</td>\n",
       "      <td>-1</td>\n",
       "      <td>0</td>\n",
       "      <td>-1</td>\n",
       "      <td>-1</td>\n",
       "      <td>3234</td>\n",
       "      <td>4324</td>\n",
       "      <td>5477</td>\n",
       "      <td>4490</td>\n",
       "      <td>1500</td>\n",
       "      <td>-51183</td>\n",
       "      <td>4340</td>\n",
       "      <td>5491</td>\n",
       "      <td>2013</td>\n",
       "      <td>1510</td>\n",
       "      <td>18</td>\n",
       "      <td>89898</td>\n",
       "      <td>0</td>\n",
       "    </tr>\n",
       "    <tr>\n",
       "      <th>21235</th>\n",
       "      <td>150000</td>\n",
       "      <td>1</td>\n",
       "      <td>1</td>\n",
       "      <td>2</td>\n",
       "      <td>36</td>\n",
       "      <td>2</td>\n",
       "      <td>2</td>\n",
       "      <td>2</td>\n",
       "      <td>-2</td>\n",
       "      <td>-2</td>\n",
       "      <td>-2</td>\n",
       "      <td>167094</td>\n",
       "      <td>86193</td>\n",
       "      <td>-25443</td>\n",
       "      <td>-46627</td>\n",
       "      <td>-46627</td>\n",
       "      <td>-46627</td>\n",
       "      <td>5068</td>\n",
       "      <td>9</td>\n",
       "      <td>0</td>\n",
       "      <td>0</td>\n",
       "      <td>0</td>\n",
       "      <td>0</td>\n",
       "      <td>1</td>\n",
       "    </tr>\n",
       "    <tr>\n",
       "      <th>5548</th>\n",
       "      <td>260000</td>\n",
       "      <td>2</td>\n",
       "      <td>2</td>\n",
       "      <td>2</td>\n",
       "      <td>26</td>\n",
       "      <td>0</td>\n",
       "      <td>0</td>\n",
       "      <td>0</td>\n",
       "      <td>0</td>\n",
       "      <td>-1</td>\n",
       "      <td>-1</td>\n",
       "      <td>164351</td>\n",
       "      <td>164244</td>\n",
       "      <td>158124</td>\n",
       "      <td>62373</td>\n",
       "      <td>746</td>\n",
       "      <td>-45734</td>\n",
       "      <td>7000</td>\n",
       "      <td>5115</td>\n",
       "      <td>2000</td>\n",
       "      <td>746</td>\n",
       "      <td>5025</td>\n",
       "      <td>54836</td>\n",
       "      <td>0</td>\n",
       "    </tr>\n",
       "  </tbody>\n",
       "</table>\n",
       "</div>"
      ],
      "text/plain": [
       "       LIMIT_BAL  SEX  EDUCATION  MARRIAGE  AGE  PAY_0  PAY_2  PAY_3  PAY_4  \\\n",
       "290       280000    1          1         2   33     -1     -1     -1     -1   \n",
       "26097     290000    2          2         1   33     -2     -1      0      0   \n",
       "12828     100000    2          1         2   25      2      2     -2     -2   \n",
       "29491     320000    1          1         2   31      1     -2     -2     -2   \n",
       "28919     180000    2          1         1   40      0     -1      0      0   \n",
       "27080     290000    1          1         2   38     -2     -2     -2     -2   \n",
       "12388     450000    2          2         1   37     -1     -1     -1     -1   \n",
       "3525      140000    1          1         2   28      0     -1     -1      0   \n",
       "21235     150000    1          1         2   36      2      2      2     -2   \n",
       "5548      260000    2          2         2   26      0      0      0      0   \n",
       "\n",
       "       PAY_5  PAY_6  BILL_AMT1  BILL_AMT2  BILL_AMT3  BILL_AMT4  BILL_AMT5  \\\n",
       "290       -1     -1        898        898        325        898        325   \n",
       "26097      0      0      11303      17493      21036      17391      16348   \n",
       "12828     -2     -2     100000          0          0          0          0   \n",
       "29491     -2     -2      -6029      -9119     -46127     -50616     -53007   \n",
       "28919      0      0      34483      21142      11279       5698       5993   \n",
       "27080     -2     -2       2318       1818       2057       2278       1224   \n",
       "12388     -1     -1       1212        791       2663        783       1730   \n",
       "3525      -1     -1       3234       4324       5477       4490       1500   \n",
       "21235     -2     -2     167094      86193     -25443     -46627     -46627   \n",
       "5548      -1     -1     164351     164244     158124      62373        746   \n",
       "\n",
       "       BILL_AMT6  PAY_AMT1  PAY_AMT2  PAY_AMT3  PAY_AMT4  PAY_AMT5  PAY_AMT6  \\\n",
       "290      -339603       898       325       898       325         0    345293   \n",
       "26097    -209051     17654     11068      7600      3352      6104    261883   \n",
       "12828    -150953         0         0         0         0         0    150400   \n",
       "29491     -94625       185        28        12       208         8        14   \n",
       "28919     -73895     22864      1133      1000      1000         0    159000   \n",
       "27080     -57060      1827      2066      2287      1242      1827     60860   \n",
       "12388     -51443      1032      2663       783      1730         0     70803   \n",
       "3525      -51183      4340      5491      2013      1510        18     89898   \n",
       "21235     -46627      5068         9         0         0         0         0   \n",
       "5548      -45734      7000      5115      2000       746      5025     54836   \n",
       "\n",
       "       default  \n",
       "290          1  \n",
       "26097        0  \n",
       "12828        0  \n",
       "29491        1  \n",
       "28919        0  \n",
       "27080        0  \n",
       "12388        1  \n",
       "3525         0  \n",
       "21235        1  \n",
       "5548         0  "
      ]
     },
     "execution_count": 21,
     "metadata": {},
     "output_type": "execute_result"
    }
   ],
   "source": [
    "#check negative amounts for bill statements to see if they make sense\n",
    "credit.nsmallest(10, 'BILL_AMT6')"
   ]
  },
  {
   "cell_type": "code",
   "execution_count": 22,
   "metadata": {},
   "outputs": [],
   "source": [
    "#check outliers - done with EDA below"
   ]
  },
  {
   "cell_type": "code",
   "execution_count": 23,
   "metadata": {},
   "outputs": [],
   "source": [
    "#several rows with 0's across payment amt and bill amt. check how many\n",
    "zero = (credit[(credit.PAY_AMT1 == 0) & (credit.PAY_AMT2 == 0) & (credit.PAY_AMT3 == 0) & (credit.PAY_AMT4 == 0) & \\\n",
    "             (credit.PAY_AMT5 == 0) & (credit.PAY_AMT6 == 0) & (credit.BILL_AMT1 ==0) & (credit.BILL_AMT2 ==0) & \\\n",
    "                   (credit.BILL_AMT3 == 0) & (credit.BILL_AMT4 == 0) & (credit.BILL_AMT5 == 0) & (credit.BILL_AMT6 == 0)])"
   ]
  },
  {
   "cell_type": "code",
   "execution_count": 24,
   "metadata": {},
   "outputs": [
    {
     "name": "stdout",
     "output_type": "stream",
     "text": [
      "LIMIT_BAL    795\n",
      "SEX          795\n",
      "EDUCATION    795\n",
      "MARRIAGE     795\n",
      "AGE          795\n",
      "PAY_0        795\n",
      "PAY_2        795\n",
      "PAY_3        795\n",
      "PAY_4        795\n",
      "PAY_5        795\n",
      "PAY_6        795\n",
      "BILL_AMT1    795\n",
      "BILL_AMT2    795\n",
      "BILL_AMT3    795\n",
      "BILL_AMT4    795\n",
      "BILL_AMT5    795\n",
      "BILL_AMT6    795\n",
      "PAY_AMT1     795\n",
      "PAY_AMT2     795\n",
      "PAY_AMT3     795\n",
      "PAY_AMT4     795\n",
      "PAY_AMT5     795\n",
      "PAY_AMT6     795\n",
      "default      795\n",
      "dtype: int64\n"
     ]
    }
   ],
   "source": [
    "print(zero.count())"
   ]
  },
  {
   "cell_type": "markdown",
   "metadata": {},
   "source": [
    "There are a total of 795 rows where BOTH the bill amount and payment amount are zero. Assuming these are 0 balances with no usage."
   ]
  },
  {
   "cell_type": "markdown",
   "metadata": {},
   "source": [
    "### Exploratory Data Analysis"
   ]
  },
  {
   "cell_type": "code",
   "execution_count": 25,
   "metadata": {},
   "outputs": [],
   "source": [
    "sns.set(style=\"darkgrid\")"
   ]
  },
  {
   "cell_type": "code",
   "execution_count": 26,
   "metadata": {},
   "outputs": [
    {
     "name": "stdout",
     "output_type": "stream",
     "text": [
      "Index(['LIMIT_BAL', 'SEX', 'EDUCATION', 'MARRIAGE', 'AGE', 'PAY_0', 'PAY_2',\n",
      "       'PAY_3', 'PAY_4', 'PAY_5', 'PAY_6', 'BILL_AMT1', 'BILL_AMT2',\n",
      "       'BILL_AMT3', 'BILL_AMT4', 'BILL_AMT5', 'BILL_AMT6', 'PAY_AMT1',\n",
      "       'PAY_AMT2', 'PAY_AMT3', 'PAY_AMT4', 'PAY_AMT5', 'PAY_AMT6', 'default'],\n",
      "      dtype='object')\n"
     ]
    }
   ],
   "source": [
    "header = credit.dtypes.index\n",
    "print(header)"
   ]
  },
  {
   "cell_type": "code",
   "execution_count": 27,
   "metadata": {},
   "outputs": [
    {
     "data": {
      "image/png": "[encoded data removed]",
      "text/plain": [
       "<Figure size 432x288 with 1 Axes>"
      ]
     },
     "metadata": {},
     "output_type": "display_data"
    }
   ],
   "source": [
    "#visualize distributions\n",
    "plt.hist(credit['LIMIT_BAL'])\n",
    "plt.show()"
   ]
  },
  {
   "cell_type": "code",
   "execution_count": 28,
   "metadata": {},
   "outputs": [
    {
     "data": {
      "text/plain": [
       "2    18112\n",
       "1    11888\n",
       "Name: SEX, dtype: int64"
      ]
     },
     "execution_count": 28,
     "metadata": {},
     "output_type": "execute_result"
    }
   ],
   "source": [
    "credit['SEX'].value_counts()"
   ]
  },
  {
   "cell_type": "code",
   "execution_count": 29,
   "metadata": {},
   "outputs": [
    {
     "data": {
      "text/plain": [
       "<seaborn.axisgrid.FacetGrid at 0x249806ab630>"
      ]
     },
     "execution_count": 29,
     "metadata": {},
     "output_type": "execute_result"
    },
    {
     "data": {
      "image/png": "[encoded data removed]",
      "text/plain": [
       "<Figure size 540x360 with 1 Axes>"
      ]
     },
     "metadata": {},
     "output_type": "display_data"
    }
   ],
   "source": [
    "fg = sns.catplot('SEX', data=credit, kind='count', aspect=1.5)\n",
    "fg.set_xlabels('SEX')"
   ]
  },
  {
   "cell_type": "markdown",
   "metadata": {},
   "source": [
    "There are 1.5 more females in this dataset than males."
   ]
  },
  {
   "cell_type": "code",
   "execution_count": 30,
   "metadata": {},
   "outputs": [
    {
     "data": {
      "text/plain": [
       "<seaborn.axisgrid.FacetGrid at 0x24980792f98>"
      ]
     },
     "execution_count": 30,
     "metadata": {},
     "output_type": "execute_result"
    },
    {
     "data": {
      "image/png": "[encoded data removed]",
      "text/plain": [
       "<Figure size 360x360 with 1 Axes>"
      ]
     },
     "metadata": {},
     "output_type": "display_data"
    }
   ],
   "source": [
    "g = sns.catplot('EDUCATION', data=credit, kind='count', aspect=1)\n",
    "g.set_xlabels('EDUCATION')"
   ]
  },
  {
   "cell_type": "markdown",
   "metadata": {},
   "source": [
    "There are only 14 people in the '0' education category. The others are grouped into category 4, which is still small compared to the others."
   ]
  },
  {
   "cell_type": "code",
   "execution_count": 31,
   "metadata": {},
   "outputs": [
    {
     "data": {
      "text/plain": [
       "<seaborn.axisgrid.FacetGrid at 0x249807b3c18>"
      ]
     },
     "execution_count": 31,
     "metadata": {},
     "output_type": "execute_result"
    },
    {
     "data": {
      "image/png": "[encoded data removed]",
      "text/plain": [
       "<Figure size 360x360 with 1 Axes>"
      ]
     },
     "metadata": {},
     "output_type": "display_data"
    }
   ],
   "source": [
    "sns.catplot('MARRIAGE', data=credit, kind='count', aspect=1)"
   ]
  },
  {
   "cell_type": "markdown",
   "metadata": {},
   "source": [
    "Vast majority of customers are either married (1) or single (2)."
   ]
  },
  {
   "cell_type": "code",
   "execution_count": 32,
   "metadata": {},
   "outputs": [
    {
     "data": {
      "text/plain": [
       "SEX  EDUCATION\n",
       "1    0               8\n",
       "     1            4354\n",
       "     2            5374\n",
       "     3            1990\n",
       "     4             162\n",
       "2    0               6\n",
       "     1            6231\n",
       "     2            8656\n",
       "     3            2927\n",
       "     4             292\n",
       "Name: SEX, dtype: int64"
      ]
     },
     "execution_count": 32,
     "metadata": {},
     "output_type": "execute_result"
    }
   ],
   "source": [
    "# Number of men and women in each of the education levels\n",
    "credit.groupby(['SEX', 'EDUCATION'])['SEX'].count()"
   ]
  },
  {
   "cell_type": "code",
   "execution_count": 33,
   "metadata": {},
   "outputs": [
    {
     "data": {
      "text/plain": [
       "<seaborn.axisgrid.FacetGrid at 0x249808420b8>"
      ]
     },
     "execution_count": 33,
     "metadata": {},
     "output_type": "execute_result"
    },
    {
     "data": {
      "image/png": "[encoded data removed]",
      "text/plain": [
       "<Figure size 585.725x360 with 1 Axes>"
      ]
     },
     "metadata": {},
     "output_type": "display_data"
    }
   ],
   "source": [
    "sns.catplot('EDUCATION', data=credit, hue='SEX', kind='count', aspect=1.5)"
   ]
  },
  {
   "cell_type": "markdown",
   "metadata": {},
   "source": [
    "Distribution seems to fit the 1.5x females versus males. Females are higher in every education level and they trend similarly."
   ]
  },
  {
   "cell_type": "code",
   "execution_count": 34,
   "metadata": {},
   "outputs": [
    {
     "data": {
      "text/plain": [
       "EDUCATION  MARRIAGE\n",
       "0          1              4\n",
       "           2             10\n",
       "1          0              4\n",
       "           1           3722\n",
       "           2           6809\n",
       "           3             50\n",
       "2          0              6\n",
       "           1           6842\n",
       "           2           7020\n",
       "           3            162\n",
       "3          0             44\n",
       "           1           2861\n",
       "           2           1909\n",
       "           3            103\n",
       "4          1            230\n",
       "           2            216\n",
       "           3              8\n",
       "Name: EDUCATION, dtype: int64"
      ]
     },
     "execution_count": 34,
     "metadata": {},
     "output_type": "execute_result"
    }
   ],
   "source": [
    "# Number of men and women in each of the education levels\n",
    "credit.groupby(['EDUCATION', 'MARRIAGE'])['EDUCATION'].count()"
   ]
  },
  {
   "cell_type": "code",
   "execution_count": 35,
   "metadata": {},
   "outputs": [
    {
     "data": {
      "text/plain": [
       "<seaborn.axisgrid.FacetGrid at 0x249807e3fd0>"
      ]
     },
     "execution_count": 35,
     "metadata": {},
     "output_type": "execute_result"
    },
    {
     "data": {
      "image/png": "[encoded data removed]",
      "text/plain": [
       "<Figure size 608.425x360 with 1 Axes>"
      ]
     },
     "metadata": {},
     "output_type": "display_data"
    }
   ],
   "source": [
    "sns.catplot('MARRIAGE', data=credit, hue='EDUCATION', kind='count', aspect=1.5)"
   ]
  },
  {
   "cell_type": "markdown",
   "metadata": {},
   "source": [
    "There are approx the same number of married (2) and single (1) people with university (2) education. There are much less married (2) people with graduate school (1) compared to single people."
   ]
  },
  {
   "cell_type": "code",
   "execution_count": 36,
   "metadata": {},
   "outputs": [
    {
     "data": {
      "text/plain": [
       "<seaborn.axisgrid.FacetGrid at 0x249808adfd0>"
      ]
     },
     "execution_count": 36,
     "metadata": {},
     "output_type": "execute_result"
    },
    {
     "data": {
      "image/png": "[encoded data removed]",
      "text/plain": [
       "<Figure size 585.725x360 with 1 Axes>"
      ]
     },
     "metadata": {},
     "output_type": "display_data"
    }
   ],
   "source": [
    "sns.catplot('MARRIAGE', data=credit, hue='SEX', kind='count', aspect=1.5)"
   ]
  },
  {
   "cell_type": "code",
   "execution_count": 37,
   "metadata": {},
   "outputs": [
    {
     "data": {
      "text/plain": [
       "<seaborn.axisgrid.FacetGrid at 0x249809cfb00>"
      ]
     },
     "execution_count": 37,
     "metadata": {},
     "output_type": "execute_result"
    },
    {
     "data": {
      "image/png": "[encoded data removed]",
      "text/plain": [
       "<Figure size 926.8x216 with 1 Axes>"
      ]
     },
     "metadata": {},
     "output_type": "display_data"
    }
   ],
   "source": [
    "#distribution of age by marriage\n",
    "fig = sns.FacetGrid(credit, hue='MARRIAGE', aspect=4)\n",
    "fig.map(sns.kdeplot, 'AGE', shade=True)\n",
    "oldest = credit['AGE'].max()\n",
    "fig.set(xlim=(0,oldest))\n",
    "fig.set(title='Distribution of Age Grouped by Marriage')\n",
    "fig.add_legend()"
   ]
  },
  {
   "cell_type": "markdown",
   "metadata": {},
   "source": [
    "As expected, the majority of the single (2) customers are also the youngest."
   ]
  },
  {
   "cell_type": "code",
   "execution_count": 38,
   "metadata": {},
   "outputs": [
    {
     "data": {
      "text/plain": [
       "<seaborn.axisgrid.FacetGrid at 0x24980a99128>"
      ]
     },
     "execution_count": 38,
     "metadata": {},
     "output_type": "execute_result"
    },
    {
     "data": {
      "image/png": "[encoded data removed]",
      "text/plain": [
       "<Figure size 932.425x216 with 1 Axes>"
      ]
     },
     "metadata": {},
     "output_type": "display_data"
    }
   ],
   "source": [
    "#distribution of age by education\n",
    "fig2 = sns.FacetGrid(credit, hue='EDUCATION', aspect=4)\n",
    "fig2.map(sns.kdeplot, 'AGE', shade=True)\n",
    "oldest = credit['AGE'].max()\n",
    "fig2.set(xlim=(0,oldest))\n",
    "fig2.set(title='Distribution of Age Grouped by Education Level')\n",
    "fig2.add_legend()"
   ]
  },
  {
   "cell_type": "markdown",
   "metadata": {},
   "source": [
    "Also interesting that those with graduate schooling (1) also tend to be younger. More younger people have university (2)education vs the older population tend to have just high school (3) level."
   ]
  },
  {
   "cell_type": "code",
   "execution_count": 39,
   "metadata": {},
   "outputs": [
    {
     "data": {
      "image/png": "[encoded data removed]",
      "text/plain": [
       "<Figure size 432x288 with 1 Axes>"
      ]
     },
     "metadata": {},
     "output_type": "display_data"
    }
   ],
   "source": [
    "plt.hist(credit['PAY_0'])\n",
    "plt.show()"
   ]
  },
  {
   "cell_type": "markdown",
   "metadata": {},
   "source": [
    "There appear to be outliers in this group at the 7 month mark. Let's look closer at the actual values."
   ]
  },
  {
   "cell_type": "code",
   "execution_count": 40,
   "metadata": {
    "scrolled": true
   },
   "outputs": [
    {
     "data": {
      "text/plain": [
       " 0    14737\n",
       "-1     5686\n",
       " 1     3688\n",
       "-2     2759\n",
       " 2     2667\n",
       " 3      322\n",
       " 4       76\n",
       " 5       26\n",
       " 8       19\n",
       " 6       11\n",
       " 7        9\n",
       "Name: PAY_0, dtype: int64"
      ]
     },
     "execution_count": 40,
     "metadata": {},
     "output_type": "execute_result"
    }
   ],
   "source": [
    "credit['PAY_0'].value_counts()"
   ]
  },
  {
   "cell_type": "code",
   "execution_count": 41,
   "metadata": {},
   "outputs": [
    {
     "data": {
      "image/png": "[encoded data removed]",
      "text/plain": [
       "<Figure size 432x288 with 1 Axes>"
      ]
     },
     "metadata": {},
     "output_type": "display_data"
    }
   ],
   "source": [
    "A = credit['PAY_0']\n",
    "plt.boxplot(A,0,'gD')\n",
    "plt.show()"
   ]
  },
  {
   "cell_type": "markdown",
   "metadata": {},
   "source": [
    "Technically there are outlier values, but because they range from 2-8 and there is a significant number of them, they will not be removed. Logically, one would think delaying payment would be a significant factor on default risk."
   ]
  },
  {
   "cell_type": "code",
   "execution_count": 42,
   "metadata": {},
   "outputs": [
    {
     "data": {
      "text/plain": [
       "PAY_0  SEX\n",
       "-2     1       871\n",
       "       2      1888\n",
       "-1     1      2132\n",
       "       2      3554\n",
       " 0     1      6031\n",
       "       2      8706\n",
       " 1     1      1492\n",
       "       2      2196\n",
       " 2     1      1120\n",
       "       2      1547\n",
       " 3     1       159\n",
       "       2       163\n",
       " 4     1        44\n",
       "       2        32\n",
       " 5     1        18\n",
       "       2         8\n",
       " 6     1         6\n",
       "       2         5\n",
       " 7     1         5\n",
       "       2         4\n",
       " 8     1        10\n",
       "       2         9\n",
       "Name: PAY_0, dtype: int64"
      ]
     },
     "execution_count": 42,
     "metadata": {},
     "output_type": "execute_result"
    }
   ],
   "source": [
    "# Review if sex relates to payment delays\n",
    "credit.groupby(['PAY_0', 'SEX'])['PAY_0'].count()"
   ]
  },
  {
   "cell_type": "code",
   "execution_count": 43,
   "metadata": {},
   "outputs": [
    {
     "data": {
      "text/plain": [
       "<seaborn.axisgrid.FacetGrid at 0x249813f5208>"
      ]
     },
     "execution_count": 43,
     "metadata": {},
     "output_type": "execute_result"
    },
    {
     "data": {
      "image/png": "[encoded data removed]",
      "text/plain": [
       "<Figure size 585.725x360 with 1 Axes>"
      ]
     },
     "metadata": {},
     "output_type": "display_data"
    }
   ],
   "source": [
    "sns.catplot('PAY_0', data=credit, hue='SEX', kind='count', aspect=1.5)"
   ]
  },
  {
   "cell_type": "code",
   "execution_count": 44,
   "metadata": {},
   "outputs": [
    {
     "data": {
      "text/plain": [
       "<seaborn.axisgrid.FacetGrid at 0x24980b7ec88>"
      ]
     },
     "execution_count": 44,
     "metadata": {},
     "output_type": "execute_result"
    },
    {
     "data": {
      "image/png": "[encoded data removed]",
      "text/plain": [
       "<Figure size 608.425x360 with 1 Axes>"
      ]
     },
     "metadata": {},
     "output_type": "display_data"
    }
   ],
   "source": [
    "sns.catplot('PAY_0', data=credit, hue='EDUCATION', kind='count', aspect=1.5)"
   ]
  },
  {
   "cell_type": "code",
   "execution_count": 45,
   "metadata": {},
   "outputs": [
    {
     "data": {
      "text/plain": [
       "<seaborn.axisgrid.FacetGrid at 0x249814e1550>"
      ]
     },
     "execution_count": 45,
     "metadata": {},
     "output_type": "execute_result"
    },
    {
     "data": {
      "image/png": "[encoded data removed]",
      "text/plain": [
       "<Figure size 602.8x360 with 1 Axes>"
      ]
     },
     "metadata": {},
     "output_type": "display_data"
    }
   ],
   "source": [
    "sns.catplot('PAY_0', data=credit, hue='MARRIAGE', kind='count', aspect=1.5)"
   ]
  },
  {
   "cell_type": "code",
   "execution_count": 46,
   "metadata": {},
   "outputs": [
    {
     "data": {
      "image/png": "[encoded data removed]",
      "text/plain": [
       "<Figure size 432x288 with 1 Axes>"
      ]
     },
     "metadata": {},
     "output_type": "display_data"
    }
   ],
   "source": [
    "plt.hist(credit['PAY_2'])\n",
    "plt.show()"
   ]
  },
  {
   "cell_type": "code",
   "execution_count": 47,
   "metadata": {},
   "outputs": [
    {
     "data": {
      "text/plain": [
       " 0    15730\n",
       "-1     6050\n",
       " 2     3927\n",
       "-2     3782\n",
       " 3      326\n",
       " 4       99\n",
       " 1       28\n",
       " 5       25\n",
       " 7       20\n",
       " 6       12\n",
       " 8        1\n",
       "Name: PAY_2, dtype: int64"
      ]
     },
     "execution_count": 47,
     "metadata": {},
     "output_type": "execute_result"
    }
   ],
   "source": [
    "credit['PAY_2'].value_counts()"
   ]
  },
  {
   "cell_type": "code",
   "execution_count": 48,
   "metadata": {},
   "outputs": [
    {
     "data": {
      "image/png": "[encoded data removed]",
      "text/plain": [
       "<Figure size 432x288 with 1 Axes>"
      ]
     },
     "metadata": {},
     "output_type": "display_data"
    }
   ],
   "source": [
    "plt.hist(credit['PAY_3'])\n",
    "plt.show()"
   ]
  },
  {
   "cell_type": "code",
   "execution_count": 49,
   "metadata": {},
   "outputs": [
    {
     "data": {
      "text/plain": [
       " 0    15764\n",
       "-1     5938\n",
       "-2     4085\n",
       " 2     3819\n",
       " 3      240\n",
       " 4       76\n",
       " 7       27\n",
       " 6       23\n",
       " 5       21\n",
       " 1        4\n",
       " 8        3\n",
       "Name: PAY_3, dtype: int64"
      ]
     },
     "execution_count": 49,
     "metadata": {},
     "output_type": "execute_result"
    }
   ],
   "source": [
    "credit['PAY_3'].value_counts()"
   ]
  },
  {
   "cell_type": "code",
   "execution_count": 50,
   "metadata": {},
   "outputs": [
    {
     "data": {
      "image/png": "[encoded data removed]",
      "text/plain": [
       "<Figure size 432x288 with 1 Axes>"
      ]
     },
     "metadata": {},
     "output_type": "display_data"
    }
   ],
   "source": [
    "plt.hist(credit['PAY_4'])\n",
    "plt.show()"
   ]
  },
  {
   "cell_type": "code",
   "execution_count": 51,
   "metadata": {},
   "outputs": [
    {
     "data": {
      "text/plain": [
       " 0    16455\n",
       "-1     5687\n",
       "-2     4348\n",
       " 2     3159\n",
       " 3      180\n",
       " 4       69\n",
       " 7       58\n",
       " 5       35\n",
       " 6        5\n",
       " 8        2\n",
       " 1        2\n",
       "Name: PAY_4, dtype: int64"
      ]
     },
     "execution_count": 51,
     "metadata": {},
     "output_type": "execute_result"
    }
   ],
   "source": [
    "credit['PAY_4'].value_counts()"
   ]
  },
  {
   "cell_type": "code",
   "execution_count": 52,
   "metadata": {},
   "outputs": [
    {
     "data": {
      "image/png": "[encoded data removed]",
      "text/plain": [
       "<Figure size 432x288 with 1 Axes>"
      ]
     },
     "metadata": {},
     "output_type": "display_data"
    }
   ],
   "source": [
    "plt.hist(credit['PAY_5'])\n",
    "plt.show()"
   ]
  },
  {
   "cell_type": "code",
   "execution_count": 53,
   "metadata": {},
   "outputs": [
    {
     "data": {
      "text/plain": [
       " 0    16947\n",
       "-1     5539\n",
       "-2     4546\n",
       " 2     2626\n",
       " 3      178\n",
       " 4       84\n",
       " 7       58\n",
       " 5       17\n",
       " 6        4\n",
       " 8        1\n",
       "Name: PAY_5, dtype: int64"
      ]
     },
     "execution_count": 53,
     "metadata": {},
     "output_type": "execute_result"
    }
   ],
   "source": [
    "credit['PAY_5'].value_counts()"
   ]
  },
  {
   "cell_type": "code",
   "execution_count": 54,
   "metadata": {},
   "outputs": [
    {
     "data": {
      "image/png": "[encoded data removed]",
      "text/plain": [
       "<Figure size 432x288 with 1 Axes>"
      ]
     },
     "metadata": {},
     "output_type": "display_data"
    }
   ],
   "source": [
    "plt.hist(credit['PAY_6'])\n",
    "plt.show()"
   ]
  },
  {
   "cell_type": "code",
   "execution_count": 55,
   "metadata": {},
   "outputs": [
    {
     "data": {
      "text/plain": [
       " 0    16286\n",
       "-1     5740\n",
       "-2     4895\n",
       " 2     2766\n",
       " 3      184\n",
       " 4       49\n",
       " 7       46\n",
       " 6       19\n",
       " 5       13\n",
       " 8        2\n",
       "Name: PAY_6, dtype: int64"
      ]
     },
     "execution_count": 55,
     "metadata": {},
     "output_type": "execute_result"
    }
   ],
   "source": [
    "credit['PAY_6'].value_counts()"
   ]
  },
  {
   "cell_type": "markdown",
   "metadata": {},
   "source": [
    "All of the payment columns show a highly left-skewed distribution, with 0 (no delay) being dominating group every time. Depending on model used will need to normalize later."
   ]
  },
  {
   "cell_type": "code",
   "execution_count": 56,
   "metadata": {},
   "outputs": [
    {
     "name": "stdout",
     "output_type": "stream",
     "text": [
      "-165580\n",
      "964511\n"
     ]
    },
    {
     "data": {
      "image/png": "[encoded data removed]",
      "text/plain": [
       "<Figure size 432x288 with 1 Axes>"
      ]
     },
     "metadata": {},
     "output_type": "display_data"
    }
   ],
   "source": [
    "plt.hist(credit['BILL_AMT1'],4)\n",
    "print(credit.BILL_AMT1.min())\n",
    "print(credit.BILL_AMT1.max())"
   ]
  },
  {
   "cell_type": "code",
   "execution_count": 57,
   "metadata": {},
   "outputs": [
    {
     "data": {
      "text/html": [
       "<div>\n",
       "<style scoped>\n",
       "    .dataframe tbody tr th:only-of-type {\n",
       "        vertical-align: middle;\n",
       "    }\n",
       "\n",
       "    .dataframe tbody tr th {\n",
       "        vertical-align: top;\n",
       "    }\n",
       "\n",
       "    .dataframe thead th {\n",
       "        text-align: right;\n",
       "    }\n",
       "</style>\n",
       "<table border=\"1\" class=\"dataframe\">\n",
       "  <thead>\n",
       "    <tr style=\"text-align: right;\">\n",
       "      <th></th>\n",
       "      <th>LIMIT_BAL</th>\n",
       "      <th>SEX</th>\n",
       "      <th>EDUCATION</th>\n",
       "      <th>MARRIAGE</th>\n",
       "      <th>AGE</th>\n",
       "      <th>PAY_0</th>\n",
       "      <th>PAY_2</th>\n",
       "      <th>PAY_3</th>\n",
       "      <th>PAY_4</th>\n",
       "      <th>PAY_5</th>\n",
       "      <th>PAY_6</th>\n",
       "      <th>BILL_AMT1</th>\n",
       "      <th>BILL_AMT2</th>\n",
       "      <th>BILL_AMT3</th>\n",
       "      <th>BILL_AMT4</th>\n",
       "      <th>BILL_AMT5</th>\n",
       "      <th>BILL_AMT6</th>\n",
       "      <th>PAY_AMT1</th>\n",
       "      <th>PAY_AMT2</th>\n",
       "      <th>PAY_AMT3</th>\n",
       "      <th>PAY_AMT4</th>\n",
       "      <th>PAY_AMT5</th>\n",
       "      <th>PAY_AMT6</th>\n",
       "      <th>default</th>\n",
       "    </tr>\n",
       "  </thead>\n",
       "  <tbody>\n",
       "    <tr>\n",
       "      <th>12330</th>\n",
       "      <td>300000</td>\n",
       "      <td>1</td>\n",
       "      <td>2</td>\n",
       "      <td>1</td>\n",
       "      <td>37</td>\n",
       "      <td>1</td>\n",
       "      <td>-1</td>\n",
       "      <td>2</td>\n",
       "      <td>0</td>\n",
       "      <td>0</td>\n",
       "      <td>0</td>\n",
       "      <td>-165580</td>\n",
       "      <td>324392</td>\n",
       "      <td>296931</td>\n",
       "      <td>30355</td>\n",
       "      <td>26771</td>\n",
       "      <td>23737</td>\n",
       "      <td>505000</td>\n",
       "      <td>331</td>\n",
       "      <td>1070</td>\n",
       "      <td>17771</td>\n",
       "      <td>18000</td>\n",
       "      <td>16079</td>\n",
       "      <td>0</td>\n",
       "    </tr>\n",
       "  </tbody>\n",
       "</table>\n",
       "</div>"
      ],
      "text/plain": [
       "       LIMIT_BAL  SEX  EDUCATION  MARRIAGE  AGE  PAY_0  PAY_2  PAY_3  PAY_4  \\\n",
       "12330     300000    1          2         1   37      1     -1      2      0   \n",
       "\n",
       "       PAY_5  PAY_6  BILL_AMT1  BILL_AMT2  BILL_AMT3  BILL_AMT4  BILL_AMT5  \\\n",
       "12330      0      0    -165580     324392     296931      30355      26771   \n",
       "\n",
       "       BILL_AMT6  PAY_AMT1  PAY_AMT2  PAY_AMT3  PAY_AMT4  PAY_AMT5  PAY_AMT6  \\\n",
       "12330      23737    505000       331      1070     17771     18000     16079   \n",
       "\n",
       "       default  \n",
       "12330        0  "
      ]
     },
     "execution_count": 57,
     "metadata": {},
     "output_type": "execute_result"
    }
   ],
   "source": [
    "#who had the lowest bill?\n",
    "credit[credit.BILL_AMT1 == -165580]"
   ]
  },
  {
   "cell_type": "markdown",
   "metadata": {},
   "source": [
    "For first month tracked, a 37 year old, college educated, married male had the lowest bill (as a credit)"
   ]
  },
  {
   "cell_type": "code",
   "execution_count": 58,
   "metadata": {},
   "outputs": [
    {
     "data": {
      "text/html": [
       "<div>\n",
       "<style scoped>\n",
       "    .dataframe tbody tr th:only-of-type {\n",
       "        vertical-align: middle;\n",
       "    }\n",
       "\n",
       "    .dataframe tbody tr th {\n",
       "        vertical-align: top;\n",
       "    }\n",
       "\n",
       "    .dataframe thead th {\n",
       "        text-align: right;\n",
       "    }\n",
       "</style>\n",
       "<table border=\"1\" class=\"dataframe\">\n",
       "  <thead>\n",
       "    <tr style=\"text-align: right;\">\n",
       "      <th></th>\n",
       "      <th>LIMIT_BAL</th>\n",
       "      <th>SEX</th>\n",
       "      <th>EDUCATION</th>\n",
       "      <th>MARRIAGE</th>\n",
       "      <th>AGE</th>\n",
       "      <th>PAY_0</th>\n",
       "      <th>PAY_2</th>\n",
       "      <th>PAY_3</th>\n",
       "      <th>PAY_4</th>\n",
       "      <th>PAY_5</th>\n",
       "      <th>PAY_6</th>\n",
       "      <th>BILL_AMT1</th>\n",
       "      <th>BILL_AMT2</th>\n",
       "      <th>BILL_AMT3</th>\n",
       "      <th>BILL_AMT4</th>\n",
       "      <th>BILL_AMT5</th>\n",
       "      <th>BILL_AMT6</th>\n",
       "      <th>PAY_AMT1</th>\n",
       "      <th>PAY_AMT2</th>\n",
       "      <th>PAY_AMT3</th>\n",
       "      <th>PAY_AMT4</th>\n",
       "      <th>PAY_AMT5</th>\n",
       "      <th>PAY_AMT6</th>\n",
       "      <th>default</th>\n",
       "    </tr>\n",
       "  </thead>\n",
       "  <tbody>\n",
       "    <tr>\n",
       "      <th>2197</th>\n",
       "      <td>1000000</td>\n",
       "      <td>2</td>\n",
       "      <td>1</td>\n",
       "      <td>1</td>\n",
       "      <td>47</td>\n",
       "      <td>0</td>\n",
       "      <td>0</td>\n",
       "      <td>0</td>\n",
       "      <td>-1</td>\n",
       "      <td>0</td>\n",
       "      <td>0</td>\n",
       "      <td>964511</td>\n",
       "      <td>983931</td>\n",
       "      <td>535020</td>\n",
       "      <td>891586</td>\n",
       "      <td>927171</td>\n",
       "      <td>961664</td>\n",
       "      <td>50784</td>\n",
       "      <td>50723</td>\n",
       "      <td>896040</td>\n",
       "      <td>50000</td>\n",
       "      <td>50000</td>\n",
       "      <td>50256</td>\n",
       "      <td>0</td>\n",
       "    </tr>\n",
       "  </tbody>\n",
       "</table>\n",
       "</div>"
      ],
      "text/plain": [
       "      LIMIT_BAL  SEX  EDUCATION  MARRIAGE  AGE  PAY_0  PAY_2  PAY_3  PAY_4  \\\n",
       "2197    1000000    2          1         1   47      0      0      0     -1   \n",
       "\n",
       "      PAY_5  PAY_6  BILL_AMT1  BILL_AMT2  BILL_AMT3  BILL_AMT4  BILL_AMT5  \\\n",
       "2197      0      0     964511     983931     535020     891586     927171   \n",
       "\n",
       "      BILL_AMT6  PAY_AMT1  PAY_AMT2  PAY_AMT3  PAY_AMT4  PAY_AMT5  PAY_AMT6  \\\n",
       "2197     961664     50784     50723    896040     50000     50000     50256   \n",
       "\n",
       "      default  \n",
       "2197        0  "
      ]
     },
     "execution_count": 58,
     "metadata": {},
     "output_type": "execute_result"
    }
   ],
   "source": [
    "#who had the highest bill?\n",
    "credit[credit.BILL_AMT1 == 964511]"
   ]
  },
  {
   "cell_type": "markdown",
   "metadata": {},
   "source": [
    "For the first month tracked, a 47 year old, graduate school, married female had the highest bill."
   ]
  },
  {
   "cell_type": "code",
   "execution_count": 59,
   "metadata": {},
   "outputs": [
    {
     "name": "stdout",
     "output_type": "stream",
     "text": [
      "-339603\n",
      "961664\n"
     ]
    },
    {
     "data": {
      "image/png": "[encoded data removed]",
      "text/plain": [
       "<Figure size 432x288 with 1 Axes>"
      ]
     },
     "metadata": {},
     "output_type": "display_data"
    }
   ],
   "source": [
    "plt.hist(credit['BILL_AMT6'],4)\n",
    "print(credit.BILL_AMT6.min())\n",
    "print(credit.BILL_AMT6.max())"
   ]
  },
  {
   "cell_type": "code",
   "execution_count": 60,
   "metadata": {},
   "outputs": [
    {
     "data": {
      "text/html": [
       "<div>\n",
       "<style scoped>\n",
       "    .dataframe tbody tr th:only-of-type {\n",
       "        vertical-align: middle;\n",
       "    }\n",
       "\n",
       "    .dataframe tbody tr th {\n",
       "        vertical-align: top;\n",
       "    }\n",
       "\n",
       "    .dataframe thead th {\n",
       "        text-align: right;\n",
       "    }\n",
       "</style>\n",
       "<table border=\"1\" class=\"dataframe\">\n",
       "  <thead>\n",
       "    <tr style=\"text-align: right;\">\n",
       "      <th></th>\n",
       "      <th>LIMIT_BAL</th>\n",
       "      <th>SEX</th>\n",
       "      <th>EDUCATION</th>\n",
       "      <th>MARRIAGE</th>\n",
       "      <th>AGE</th>\n",
       "      <th>PAY_0</th>\n",
       "      <th>PAY_2</th>\n",
       "      <th>PAY_3</th>\n",
       "      <th>PAY_4</th>\n",
       "      <th>PAY_5</th>\n",
       "      <th>PAY_6</th>\n",
       "      <th>BILL_AMT1</th>\n",
       "      <th>BILL_AMT2</th>\n",
       "      <th>BILL_AMT3</th>\n",
       "      <th>BILL_AMT4</th>\n",
       "      <th>BILL_AMT5</th>\n",
       "      <th>BILL_AMT6</th>\n",
       "      <th>PAY_AMT1</th>\n",
       "      <th>PAY_AMT2</th>\n",
       "      <th>PAY_AMT3</th>\n",
       "      <th>PAY_AMT4</th>\n",
       "      <th>PAY_AMT5</th>\n",
       "      <th>PAY_AMT6</th>\n",
       "      <th>default</th>\n",
       "    </tr>\n",
       "  </thead>\n",
       "  <tbody>\n",
       "    <tr>\n",
       "      <th>290</th>\n",
       "      <td>280000</td>\n",
       "      <td>1</td>\n",
       "      <td>1</td>\n",
       "      <td>2</td>\n",
       "      <td>33</td>\n",
       "      <td>-1</td>\n",
       "      <td>-1</td>\n",
       "      <td>-1</td>\n",
       "      <td>-1</td>\n",
       "      <td>-1</td>\n",
       "      <td>-1</td>\n",
       "      <td>898</td>\n",
       "      <td>898</td>\n",
       "      <td>325</td>\n",
       "      <td>898</td>\n",
       "      <td>325</td>\n",
       "      <td>-339603</td>\n",
       "      <td>898</td>\n",
       "      <td>325</td>\n",
       "      <td>898</td>\n",
       "      <td>325</td>\n",
       "      <td>0</td>\n",
       "      <td>345293</td>\n",
       "      <td>1</td>\n",
       "    </tr>\n",
       "    <tr>\n",
       "      <th>2197</th>\n",
       "      <td>1000000</td>\n",
       "      <td>2</td>\n",
       "      <td>1</td>\n",
       "      <td>1</td>\n",
       "      <td>47</td>\n",
       "      <td>0</td>\n",
       "      <td>0</td>\n",
       "      <td>0</td>\n",
       "      <td>-1</td>\n",
       "      <td>0</td>\n",
       "      <td>0</td>\n",
       "      <td>964511</td>\n",
       "      <td>983931</td>\n",
       "      <td>535020</td>\n",
       "      <td>891586</td>\n",
       "      <td>927171</td>\n",
       "      <td>961664</td>\n",
       "      <td>50784</td>\n",
       "      <td>50723</td>\n",
       "      <td>896040</td>\n",
       "      <td>50000</td>\n",
       "      <td>50000</td>\n",
       "      <td>50256</td>\n",
       "      <td>0</td>\n",
       "    </tr>\n",
       "  </tbody>\n",
       "</table>\n",
       "</div>"
      ],
      "text/plain": [
       "      LIMIT_BAL  SEX  EDUCATION  MARRIAGE  AGE  PAY_0  PAY_2  PAY_3  PAY_4  \\\n",
       "290      280000    1          1         2   33     -1     -1     -1     -1   \n",
       "2197    1000000    2          1         1   47      0      0      0     -1   \n",
       "\n",
       "      PAY_5  PAY_6  BILL_AMT1  BILL_AMT2  BILL_AMT3  BILL_AMT4  BILL_AMT5  \\\n",
       "290      -1     -1        898        898        325        898        325   \n",
       "2197      0      0     964511     983931     535020     891586     927171   \n",
       "\n",
       "      BILL_AMT6  PAY_AMT1  PAY_AMT2  PAY_AMT3  PAY_AMT4  PAY_AMT5  PAY_AMT6  \\\n",
       "290     -339603       898       325       898       325         0    345293   \n",
       "2197     961664     50784     50723    896040     50000     50000     50256   \n",
       "\n",
       "      default  \n",
       "290         1  \n",
       "2197        0  "
      ]
     },
     "execution_count": 60,
     "metadata": {},
     "output_type": "execute_result"
    }
   ],
   "source": [
    "#are the same people the min/max for the sixth month?\n",
    "credit[(credit.BILL_AMT6 == -339603) | (credit.BILL_AMT6 == 961664)]"
   ]
  },
  {
   "cell_type": "markdown",
   "metadata": {},
   "source": [
    "The person with the highest bill is the same. New person for lowest bill (33 y/o single male).<br>\n",
    "Interesting to note that person with lowest bill defaults, person with highest bill does not."
   ]
  },
  {
   "cell_type": "code",
   "execution_count": 61,
   "metadata": {},
   "outputs": [
    {
     "name": "stdout",
     "output_type": "stream",
     "text": [
      "0\n",
      "873552\n"
     ]
    },
    {
     "data": {
      "image/png": "[encoded data removed]",
      "text/plain": [
       "<Figure size 432x288 with 1 Axes>"
      ]
     },
     "metadata": {},
     "output_type": "display_data"
    }
   ],
   "source": [
    "plt.hist(credit['PAY_AMT1'],6)\n",
    "print(credit.PAY_AMT1.min())\n",
    "print(credit.PAY_AMT1.max())"
   ]
  },
  {
   "cell_type": "code",
   "execution_count": 62,
   "metadata": {},
   "outputs": [
    {
     "name": "stdout",
     "output_type": "stream",
     "text": [
      "0\n",
      "528666\n"
     ]
    },
    {
     "data": {
      "image/png": "[encoded data removed]",
      "text/plain": [
       "<Figure size 432x288 with 1 Axes>"
      ]
     },
     "metadata": {},
     "output_type": "display_data"
    }
   ],
   "source": [
    "plt.hist(credit['PAY_AMT6'],6)\n",
    "print(credit.PAY_AMT6.min())\n",
    "print(credit.PAY_AMT6.max())"
   ]
  },
  {
   "cell_type": "code",
   "execution_count": 63,
   "metadata": {},
   "outputs": [],
   "source": [
    "#calculate ratio of last bill amount to limit balance\n",
    "ratio = credit.PAY_AMT6 / credit.LIMIT_BAL"
   ]
  },
  {
   "cell_type": "code",
   "execution_count": 64,
   "metadata": {},
   "outputs": [
    {
     "data": {
      "image/png": "[encoded data removed]",
      "text/plain": [
       "<Figure size 432x288 with 1 Axes>"
      ]
     },
     "metadata": {},
     "output_type": "display_data"
    }
   ],
   "source": [
    "plt.hist(ratio)\n",
    "plt.show()"
   ]
  },
  {
   "cell_type": "code",
   "execution_count": 65,
   "metadata": {},
   "outputs": [
    {
     "data": {
      "image/png": "[encoded data removed]",
      "text/plain": [
       "<Figure size 432x288 with 1 Axes>"
      ]
     },
     "metadata": {},
     "output_type": "display_data"
    }
   ],
   "source": [
    "plt.hist(credit['default'])\n",
    "plt.show()"
   ]
  },
  {
   "cell_type": "code",
   "execution_count": 66,
   "metadata": {},
   "outputs": [
    {
     "data": {
      "text/plain": [
       "<seaborn.axisgrid.FacetGrid at 0x249839bf780>"
      ]
     },
     "execution_count": 66,
     "metadata": {},
     "output_type": "execute_result"
    },
    {
     "data": {
      "image/png": "[encoded data removed]",
      "text/plain": [
       "<Figure size 360x360 with 1 Axes>"
      ]
     },
     "metadata": {},
     "output_type": "display_data"
    }
   ],
   "source": [
    "# Linear plot of age vs. default rate\n",
    "sns.lmplot('AGE', 'default', data=credit)"
   ]
  },
  {
   "cell_type": "markdown",
   "metadata": {},
   "source": [
    "Not a large difference by age, although the older you are the very slightly higher chance that you'll default."
   ]
  },
  {
   "cell_type": "code",
   "execution_count": 67,
   "metadata": {},
   "outputs": [
    {
     "data": {
      "text/plain": [
       "<seaborn.axisgrid.FacetGrid at 0x24983a44940>"
      ]
     },
     "execution_count": 67,
     "metadata": {},
     "output_type": "execute_result"
    },
    {
     "data": {
      "image/png": "[encoded data removed]",
      "text/plain": [
       "<Figure size 720x360 with 2 Axes>"
      ]
     },
     "metadata": {},
     "output_type": "display_data"
    }
   ],
   "source": [
    "# default vs. Age grouped by Sex\n",
    "sns.lmplot('AGE', 'default', data=credit, col='SEX')"
   ]
  },
  {
   "cell_type": "code",
   "execution_count": 68,
   "metadata": {},
   "outputs": [
    {
     "data": {
      "text/plain": [
       "<matplotlib.axes._subplots.AxesSubplot at 0x24983e60748>"
      ]
     },
     "execution_count": 68,
     "metadata": {},
     "output_type": "execute_result"
    },
    {
     "data": {
      "image/png": "[encoded data removed]",
      "text/plain": [
       "<Figure size 432x288 with 1 Axes>"
      ]
     },
     "metadata": {},
     "output_type": "display_data"
    }
   ],
   "source": [
    "# default vs. sex\n",
    "sns.countplot(x=\"SEX\", hue=\"default\", data=credit)"
   ]
  },
  {
   "cell_type": "code",
   "execution_count": 69,
   "metadata": {},
   "outputs": [
    {
     "data": {
      "text/plain": [
       "<matplotlib.axes._subplots.AxesSubplot at 0x24984ee4710>"
      ]
     },
     "execution_count": 69,
     "metadata": {},
     "output_type": "execute_result"
    },
    {
     "data": {
      "image/png": "[encoded data removed]",
      "text/plain": [
       "<Figure size 432x288 with 1 Axes>"
      ]
     },
     "metadata": {},
     "output_type": "display_data"
    }
   ],
   "source": [
    "# default vs. Age grouped by Sex\n",
    "sns.countplot('EDUCATION', hue='default', data=credit)"
   ]
  },
  {
   "cell_type": "code",
   "execution_count": 70,
   "metadata": {},
   "outputs": [
    {
     "data": {
      "text/plain": [
       "EDUCATION  default\n",
       "0          0             14\n",
       "1          0           8549\n",
       "           1           2036\n",
       "2          0          10700\n",
       "           1           3330\n",
       "3          0           3680\n",
       "           1           1237\n",
       "4          0            421\n",
       "           1             33\n",
       "Name: EDUCATION, dtype: int64"
      ]
     },
     "execution_count": 70,
     "metadata": {},
     "output_type": "execute_result"
    }
   ],
   "source": [
    "credit.groupby(['EDUCATION', 'default'])['EDUCATION'].count()"
   ]
  },
  {
   "cell_type": "markdown",
   "metadata": {},
   "source": [
    "Education level 3 has the highest proportion of clients that default."
   ]
  },
  {
   "cell_type": "code",
   "execution_count": 71,
   "metadata": {},
   "outputs": [
    {
     "data": {
      "text/plain": [
       "MARRIAGE  default\n",
       "0         0             49\n",
       "          1              5\n",
       "1         0          10453\n",
       "          1           3206\n",
       "2         0          12623\n",
       "          1           3341\n",
       "3         0            239\n",
       "          1             84\n",
       "Name: MARRIAGE, dtype: int64"
      ]
     },
     "execution_count": 71,
     "metadata": {},
     "output_type": "execute_result"
    }
   ],
   "source": [
    "credit.groupby(['MARRIAGE', 'default'])['MARRIAGE'].count()"
   ]
  },
  {
   "cell_type": "markdown",
   "metadata": {},
   "source": [
    "Overall, for each marriage group, there is a higher proportion of customers that do NOT default."
   ]
  },
  {
   "cell_type": "code",
   "execution_count": 72,
   "metadata": {},
   "outputs": [
    {
     "data": {
      "text/plain": [
       "<seaborn.axisgrid.FacetGrid at 0x24981609cf8>"
      ]
     },
     "execution_count": 72,
     "metadata": {},
     "output_type": "execute_result"
    },
    {
     "data": {
      "image/png": "[encoded data removed]",
      "text/plain": [
       "<Figure size 360x360 with 1 Axes>"
      ]
     },
     "metadata": {},
     "output_type": "display_data"
    }
   ],
   "source": [
    "#payment amount versus default\n",
    "sns.lmplot('PAY_AMT1', 'default', data=credit)"
   ]
  },
  {
   "cell_type": "markdown",
   "metadata": {},
   "source": [
    "The higher the payment amount, the lower the chance of default."
   ]
  },
  {
   "cell_type": "code",
   "execution_count": 73,
   "metadata": {},
   "outputs": [
    {
     "data": {
      "text/plain": [
       "<seaborn.axisgrid.FacetGrid at 0x249839967b8>"
      ]
     },
     "execution_count": 73,
     "metadata": {},
     "output_type": "execute_result"
    },
    {
     "data": {
      "image/png": "[encoded data removed]",
      "text/plain": [
       "<Figure size 360x360 with 1 Axes>"
      ]
     },
     "metadata": {},
     "output_type": "display_data"
    }
   ],
   "source": [
    "#limit balance versus default\n",
    "sns.lmplot('LIMIT_BAL', 'default', data=credit)"
   ]
  },
  {
   "cell_type": "markdown",
   "metadata": {},
   "source": [
    "The higher the limit balance, the lower the chance of default"
   ]
  },
  {
   "cell_type": "code",
   "execution_count": 74,
   "metadata": {},
   "outputs": [
    {
     "data": {
      "text/plain": [
       "<seaborn.axisgrid.FacetGrid at 0x24981869a90>"
      ]
     },
     "execution_count": 74,
     "metadata": {},
     "output_type": "execute_result"
    },
    {
     "data": {
      "image/png": "[encoded data removed]",
      "text/plain": [
       "<Figure size 360x360 with 1 Axes>"
      ]
     },
     "metadata": {},
     "output_type": "display_data"
    }
   ],
   "source": [
    "#bill amount versus default\n",
    "sns.lmplot('BILL_AMT1', 'default', data=credit)"
   ]
  },
  {
   "cell_type": "code",
   "execution_count": 75,
   "metadata": {},
   "outputs": [
    {
     "data": {
      "text/plain": [
       "<matplotlib.axes._subplots.AxesSubplot at 0x249817f5a58>"
      ]
     },
     "execution_count": 75,
     "metadata": {},
     "output_type": "execute_result"
    },
    {
     "data": {
      "image/png": "[encoded data removed]",
      "text/plain": [
       "<Figure size 432x288 with 1 Axes>"
      ]
     },
     "metadata": {},
     "output_type": "display_data"
    }
   ],
   "source": [
    "#bill amount versus default\n",
    "sns.countplot('PAY_6', hue='default', data=credit)"
   ]
  },
  {
   "cell_type": "code",
   "execution_count": 76,
   "metadata": {
    "scrolled": true
   },
   "outputs": [
    {
     "data": {
      "text/plain": [
       "<seaborn.axisgrid.FacetGrid at 0x249806e1dd8>"
      ]
     },
     "execution_count": 76,
     "metadata": {},
     "output_type": "execute_result"
    },
    {
     "data": {
      "image/png": "[encoded data removed]",
      "text/plain": [
       "<Figure size 360x360 with 1 Axes>"
      ]
     },
     "metadata": {},
     "output_type": "display_data"
    }
   ],
   "source": [
    "sns.catplot('PAY_6', 'default', kind='violin', data=credit)"
   ]
  },
  {
   "cell_type": "markdown",
   "metadata": {},
   "source": [
    "Even those customers that paid in full, didn't consume, or used revolving credit in the sixth month still had a small rate of default."
   ]
  },
  {
   "cell_type": "code",
   "execution_count": 77,
   "metadata": {},
   "outputs": [
    {
     "data": {
      "text/plain": [
       "(20.999, 28.0]    8013\n",
       "(28.0, 34.0]      7683\n",
       "(41.0, 79.0]      7450\n",
       "(34.0, 41.0]      6854\n",
       "Name: AGE, dtype: int64"
      ]
     },
     "execution_count": 77,
     "metadata": {},
     "output_type": "execute_result"
    }
   ],
   "source": [
    "#discretize age for new dataset\n",
    "credit_v1 = credit.copy()\n",
    "credit_v1['AGE'] = pd.qcut(credit_v1['AGE'],4)\n",
    "credit_v1['AGE'].value_counts()\n",
    "\n",
    "#bins = pd.IntervalIndex.from_tuples([(20.999, 34), (34, 49), (49, 60), (60, 79)])\n",
    "#credit_v1['AGE'] = pd.cut(credit_v1['AGE'],bins)\n",
    "#credit_v1['AGE'].value_counts()"
   ]
  },
  {
   "cell_type": "code",
   "execution_count": 78,
   "metadata": {},
   "outputs": [
    {
     "data": {
      "text/plain": [
       "(0.0, 15000.0]         9889\n",
       "(15000.0, 60000.0]     9331\n",
       "(60000.0, 964511.0]    8182\n",
       "(-16558.0, 0.0]        2596\n",
       "Name: BILL_AMT1, dtype: int64"
      ]
     },
     "execution_count": 78,
     "metadata": {},
     "output_type": "execute_result"
    }
   ],
   "source": [
    "#update new dataset with discretization for bill and payment amounts \n",
    "#plt.hist(credit['BILL_AMT1'])\n",
    "#credit_v1 = credit.copy()\n",
    "#plt.show()\n",
    "bins = pd.IntervalIndex.from_tuples([(-16558, 0), (0, 15000), (15000, 60000), (60000, 964511.0)])\n",
    "credit_v1['BILL_AMT1'] = pd.cut(credit_v1['BILL_AMT1'],bins)\n",
    "credit_v1['BILL_AMT1'].value_counts()"
   ]
  },
  {
   "cell_type": "code",
   "execution_count": 79,
   "metadata": {},
   "outputs": [
    {
     "data": {
      "text/plain": [
       "(0.0, 15000.0]         9508\n",
       "(15000.0, 60000.0]     9411\n",
       "(60000.0, 983931.0]    7906\n",
       "(-69777.001, 0.0]      3175\n",
       "Name: BILL_AMT2, dtype: int64"
      ]
     },
     "execution_count": 79,
     "metadata": {},
     "output_type": "execute_result"
    }
   ],
   "source": [
    "#plt.hist(credit['BILL_AMT2'])\n",
    "#plt.show()\n",
    "#credit_v1 = credit.copy()\n",
    "bins = pd.IntervalIndex.from_tuples([(-69777.001, 0), (0, 15000), (15000, 60000), (60000, 983931.0)])\n",
    "credit_v1['BILL_AMT2'] = pd.cut(credit_v1['BILL_AMT2'],bins)\n",
    "credit_v1['BILL_AMT2'].value_counts()"
   ]
  },
  {
   "cell_type": "code",
   "execution_count": 80,
   "metadata": {},
   "outputs": [
    {
     "data": {
      "text/plain": [
       "(15000.0, 60000.0]      9657\n",
       "(0.0, 15000.0]          9303\n",
       "(60000.0, 1664089.0]    7515\n",
       "(-157264.001, 0.0]      3525\n",
       "Name: BILL_AMT3, dtype: int64"
      ]
     },
     "execution_count": 80,
     "metadata": {},
     "output_type": "execute_result"
    }
   ],
   "source": [
    "#plt.hist(credit['BILL_AMT3'])\n",
    "#plt.show()\n",
    "#credit_v1 = credit.copy()\n",
    "bins = pd.IntervalIndex.from_tuples([(-157264.001, 0), (0, 15000), (15000, 60000), (60000, 1664089.0)])\n",
    "credit_v1['BILL_AMT3'] = pd.cut(credit_v1['BILL_AMT3'],bins)\n",
    "credit_v1['BILL_AMT3'].value_counts()"
   ]
  },
  {
   "cell_type": "code",
   "execution_count": 81,
   "metadata": {},
   "outputs": [
    {
     "data": {
      "text/plain": [
       "(15000.0, 60000.0]     9791\n",
       "(0.0, 15000.0]         9416\n",
       "(60000.0, 891586.0]    6923\n",
       "(-170000.001, 0.0]     3870\n",
       "Name: BILL_AMT4, dtype: int64"
      ]
     },
     "execution_count": 81,
     "metadata": {},
     "output_type": "execute_result"
    }
   ],
   "source": [
    "#credit_v1 = credit.copy()\n",
    "bins = pd.IntervalIndex.from_tuples([(-170000.001, 0), (0, 15000), (15000, 60000), (60000, 891586.0)])\n",
    "#credit_v1['BILL_AMT4'] = pd.qcut(credit_v1['BILL_AMT4'],5)\n",
    "credit_v1['BILL_AMT4'] = pd.cut(credit_v1['BILL_AMT4'],bins)\n",
    "credit_v1['BILL_AMT4'].value_counts()"
   ]
  },
  {
   "cell_type": "code",
   "execution_count": 82,
   "metadata": {},
   "outputs": [
    {
     "data": {
      "text/plain": [
       "(15000.0, 60000.0]     9705\n",
       "(0.0, 15000.0]         9670\n",
       "(60000.0, 927171.0]    6464\n",
       "(-81334.001, 0.0]      4161\n",
       "Name: BILL_AMT5, dtype: int64"
      ]
     },
     "execution_count": 82,
     "metadata": {},
     "output_type": "execute_result"
    }
   ],
   "source": [
    "#credit_v1 = credit.copy()\n",
    "bins = pd.IntervalIndex.from_tuples([(-81334.001, 0), (0, 15000), (15000, 60000), (60000, 927171.0)])\n",
    "#credit_v1['BILL_AMT5'] = pd.qcut(credit_v1['BILL_AMT5'],5)\n",
    "credit_v1['BILL_AMT5'] = pd.cut(credit_v1['BILL_AMT5'],bins)\n",
    "credit_v1['BILL_AMT5'].value_counts()"
   ]
  },
  {
   "cell_type": "code",
   "execution_count": 83,
   "metadata": {
    "scrolled": true
   },
   "outputs": [
    {
     "data": {
      "text/plain": [
       "(0.0, 15000.0]         9594\n",
       "(15000.0, 60000.0]     9455\n",
       "(60000.0, 961664.0]    6243\n",
       "(-339603.001, 0.0]     4708\n",
       "Name: BILL_AMT6, dtype: int64"
      ]
     },
     "execution_count": 83,
     "metadata": {},
     "output_type": "execute_result"
    }
   ],
   "source": [
    "#credit_v1 = credit.copy()\n",
    "bins = pd.IntervalIndex.from_tuples([(-339603.001, 0), (0, 15000), (15000, 60000), (60000, 961664.0)])\n",
    "#credit_v1['BILL_AMT6'] = pd.qcut(credit_v1['BILL_AMT6'],5)\n",
    "credit_v1['BILL_AMT6'] = pd.cut(credit_v1['BILL_AMT6'],bins)\n",
    "credit_v1['BILL_AMT6'].value_counts()"
   ]
  },
  {
   "cell_type": "code",
   "execution_count": 84,
   "metadata": {},
   "outputs": [
    {
     "data": {
      "text/plain": [
       "(-0.001, 1000.0]      7839\n",
       "(5006.0, 873552.0]    7497\n",
       "(2100.0, 5006.0]      7490\n",
       "(1000.0, 2100.0]      7174\n",
       "Name: PAY_AMT1, dtype: int64"
      ]
     },
     "execution_count": 84,
     "metadata": {},
     "output_type": "execute_result"
    }
   ],
   "source": [
    "#credit_v1 = credit.copy()\n",
    "credit_v1['PAY_AMT1'] = pd.qcut(credit_v1['PAY_AMT1'],4)\n",
    "credit_v1['PAY_AMT1'].value_counts()"
   ]
  },
  {
   "cell_type": "code",
   "execution_count": 85,
   "metadata": {
    "scrolled": true
   },
   "outputs": [
    {
     "data": {
      "text/plain": [
       "(2009.0, 5000.0]       7751\n",
       "(833.0, 2009.0]        7503\n",
       "(-0.001, 833.0]        7502\n",
       "(5000.0, 1684259.0]    7244\n",
       "Name: PAY_AMT2, dtype: int64"
      ]
     },
     "execution_count": 85,
     "metadata": {},
     "output_type": "execute_result"
    }
   ],
   "source": [
    "#credit_v1 = credit.copy()\n",
    "credit_v1['PAY_AMT2'] = pd.qcut(credit_v1['PAY_AMT2'],4)\n",
    "credit_v1['PAY_AMT2'].value_counts()"
   ]
  },
  {
   "cell_type": "code",
   "execution_count": 86,
   "metadata": {},
   "outputs": [
    {
     "data": {
      "text/plain": [
       "(-0.001, 390.0]       7526\n",
       "(4505.0, 896040.0]    7499\n",
       "(1800.0, 4505.0]      7489\n",
       "(390.0, 1800.0]       7486\n",
       "Name: PAY_AMT3, dtype: int64"
      ]
     },
     "execution_count": 86,
     "metadata": {},
     "output_type": "execute_result"
    }
   ],
   "source": [
    "#credit_v1 = credit.copy()\n",
    "credit_v1['PAY_AMT3'] = pd.qcut(credit_v1['PAY_AMT3'],4)\n",
    "credit_v1['PAY_AMT3'].value_counts()"
   ]
  },
  {
   "cell_type": "code",
   "execution_count": 87,
   "metadata": {},
   "outputs": [
    {
     "data": {
      "text/plain": [
       "(296.0, 1500.0]        7655\n",
       "(-0.001, 296.0]        7503\n",
       "(4013.25, 621000.0]    7500\n",
       "(1500.0, 4013.25]      7342\n",
       "Name: PAY_AMT4, dtype: int64"
      ]
     },
     "execution_count": 87,
     "metadata": {},
     "output_type": "execute_result"
    }
   ],
   "source": [
    "#credit_v1 = credit.copy()\n",
    "credit_v1['PAY_AMT4'] = pd.qcut(credit_v1['PAY_AMT4'],4)\n",
    "credit_v1['PAY_AMT4'].value_counts()"
   ]
  },
  {
   "cell_type": "code",
   "execution_count": 88,
   "metadata": {
    "scrolled": true
   },
   "outputs": [
    {
     "data": {
      "text/plain": [
       "(252.5, 1500.0]       7546\n",
       "(4031.5, 426529.0]    7500\n",
       "(-0.001, 252.5]       7500\n",
       "(1500.0, 4031.5]      7454\n",
       "Name: PAY_AMT5, dtype: int64"
      ]
     },
     "execution_count": 88,
     "metadata": {},
     "output_type": "execute_result"
    }
   ],
   "source": [
    "#credit_v1 = credit.copy()\n",
    "credit_v1['PAY_AMT5'] = pd.qcut(credit_v1['PAY_AMT5'],4)\n",
    "credit_v1['PAY_AMT5'].value_counts()"
   ]
  },
  {
   "cell_type": "code",
   "execution_count": 89,
   "metadata": {
    "scrolled": true
   },
   "outputs": [
    {
     "data": {
      "text/plain": [
       "(117.75, 1500.0]      7742\n",
       "(-0.001, 117.75]      7500\n",
       "(4000.0, 528666.0]    7483\n",
       "(1500.0, 4000.0]      7275\n",
       "Name: PAY_AMT6, dtype: int64"
      ]
     },
     "execution_count": 89,
     "metadata": {},
     "output_type": "execute_result"
    }
   ],
   "source": [
    "#credit_v1 = credit.copy()\n",
    "credit_v1['PAY_AMT6'] = pd.qcut(credit_v1['PAY_AMT6'],4)\n",
    "credit_v1['PAY_AMT6'].value_counts()"
   ]
  },
  {
   "cell_type": "markdown",
   "metadata": {},
   "source": [
    "### Feature Engineering"
   ]
  },
  {
   "cell_type": "code",
   "execution_count": 90,
   "metadata": {
    "scrolled": true
   },
   "outputs": [
    {
     "name": "stdout",
     "output_type": "stream",
     "text": [
      "           LIMIT_BAL       SEX  EDUCATION  MARRIAGE       AGE     PAY_0  \\\n",
      "LIMIT_BAL   1.000000  0.024755  -0.232171 -0.108139  0.144713 -0.271214   \n",
      "SEX         0.024755  1.000000   0.014533 -0.031389 -0.090874 -0.057643   \n",
      "EDUCATION  -0.232171  0.014533   1.000000 -0.149995  0.181614  0.113732   \n",
      "MARRIAGE   -0.108139 -0.031389  -0.149995  1.000000 -0.414170  0.019917   \n",
      "AGE         0.144713 -0.090874   0.181614 -0.414170  1.000000 -0.039447   \n",
      "PAY_0      -0.271214 -0.057643   0.113732  0.019917 -0.039447  1.000000   \n",
      "PAY_2      -0.296382 -0.070771   0.131588  0.024199 -0.050148  0.672164   \n",
      "PAY_3      -0.286123 -0.066096   0.124089  0.032688 -0.053048  0.574245   \n",
      "PAY_4      -0.267460 -0.060173   0.117959  0.033122 -0.049722  0.538841   \n",
      "PAY_5      -0.249411 -0.055064   0.105927  0.035629 -0.053826  0.509426   \n",
      "PAY_6      -0.235195 -0.044008   0.091359  0.034345 -0.048773  0.474553   \n",
      "BILL_AMT1   0.285430 -0.033642   0.017950 -0.023472  0.056239  0.187068   \n",
      "BILL_AMT2   0.278314 -0.031183   0.013365 -0.021602  0.054283  0.189859   \n",
      "BILL_AMT3   0.283236 -0.024563   0.007784 -0.024909  0.053710  0.179785   \n",
      "BILL_AMT4   0.293988 -0.021880  -0.004968 -0.023344  0.051353  0.179125   \n",
      "BILL_AMT5   0.295562 -0.017005  -0.011088 -0.025393  0.049345  0.180635   \n",
      "BILL_AMT6   0.290389 -0.016733  -0.011238 -0.021207  0.047613  0.176980   \n",
      "PAY_AMT1    0.195236 -0.000242  -0.041153 -0.005979  0.026147 -0.079269   \n",
      "PAY_AMT2    0.178408 -0.001391  -0.033585 -0.008093  0.021785 -0.070101   \n",
      "PAY_AMT3    0.210167 -0.008597  -0.044830 -0.003541  0.029247 -0.070561   \n",
      "PAY_AMT4    0.203242 -0.002229  -0.040778 -0.012659  0.021379 -0.064005   \n",
      "PAY_AMT5    0.217202 -0.001667  -0.044792 -0.001205  0.022850 -0.058190   \n",
      "PAY_AMT6    0.219595 -0.002766  -0.043773 -0.006641  0.019478 -0.058673   \n",
      "default    -0.153520 -0.039961   0.035197 -0.024339  0.013890  0.324794   \n",
      "\n",
      "              PAY_2     PAY_3     PAY_4     PAY_5     PAY_6  BILL_AMT1  \\\n",
      "LIMIT_BAL -0.296382 -0.286123 -0.267460 -0.249411 -0.235195   0.285430   \n",
      "SEX       -0.070771 -0.066096 -0.060173 -0.055064 -0.044008  -0.033642   \n",
      "EDUCATION  0.131588  0.124089  0.117959  0.105927  0.091359   0.017950   \n",
      "MARRIAGE   0.024199  0.032688  0.033122  0.035629  0.034345  -0.023472   \n",
      "AGE       -0.050148 -0.053048 -0.049722 -0.053826 -0.048773   0.056239   \n",
      "PAY_0      0.672164  0.574245  0.538841  0.509426  0.474553   0.187068   \n",
      "PAY_2      1.000000  0.766552  0.662067  0.622780  0.575501   0.234887   \n",
      "PAY_3      0.766552  1.000000  0.777359  0.686775  0.632684   0.208473   \n",
      "PAY_4      0.662067  0.777359  1.000000  0.819835  0.716449   0.202812   \n",
      "PAY_5      0.622780  0.686775  0.819835  1.000000  0.816900   0.206684   \n",
      "PAY_6      0.575501  0.632684  0.716449  0.816900  1.000000   0.207373   \n",
      "BILL_AMT1  0.234887  0.208473  0.202812  0.206684  0.207373   1.000000   \n",
      "BILL_AMT2  0.235257  0.237295  0.225816  0.226913  0.226924   0.951484   \n",
      "BILL_AMT3  0.224146  0.227494  0.244983  0.243335  0.241181   0.892279   \n",
      "BILL_AMT4  0.222237  0.227202  0.245917  0.271915  0.266356   0.860272   \n",
      "BILL_AMT5  0.221348  0.225145  0.242902  0.269783  0.290894   0.829779   \n",
      "BILL_AMT6  0.219403  0.222327  0.239154  0.262509  0.285091   0.802650   \n",
      "PAY_AMT1  -0.080701  0.001295 -0.009362 -0.006089 -0.001496   0.140277   \n",
      "PAY_AMT2  -0.058990 -0.066793 -0.001944 -0.003191 -0.005223   0.099355   \n",
      "PAY_AMT3  -0.055901 -0.053311 -0.069235  0.009062  0.005834   0.156887   \n",
      "PAY_AMT4  -0.046858 -0.046067 -0.043461 -0.058299  0.019018   0.158303   \n",
      "PAY_AMT5  -0.037093 -0.035863 -0.033590 -0.033337 -0.046434   0.167026   \n",
      "PAY_AMT6  -0.036500 -0.035861 -0.026565 -0.023027 -0.025299   0.179341   \n",
      "default    0.263551  0.235253  0.216614  0.204149  0.186866  -0.019644   \n",
      "\n",
      "           BILL_AMT2  BILL_AMT3  BILL_AMT4  BILL_AMT5  BILL_AMT6  PAY_AMT1  \\\n",
      "LIMIT_BAL   0.278314   0.283236   0.293988   0.295562   0.290389  0.195236   \n",
      "SEX        -0.031183  -0.024563  -0.021880  -0.017005  -0.016733 -0.000242   \n",
      "EDUCATION   0.013365   0.007784  -0.004968  -0.011088  -0.011238 -0.041153   \n",
      "MARRIAGE   -0.021602  -0.024909  -0.023344  -0.025393  -0.021207 -0.005979   \n",
      "AGE         0.054283   0.053710   0.051353   0.049345   0.047613  0.026147   \n",
      "PAY_0       0.189859   0.179785   0.179125   0.180635   0.176980 -0.079269   \n",
      "PAY_2       0.235257   0.224146   0.222237   0.221348   0.219403 -0.080701   \n",
      "PAY_3       0.237295   0.227494   0.227202   0.225145   0.222327  0.001295   \n",
      "PAY_4       0.225816   0.244983   0.245917   0.242902   0.239154 -0.009362   \n",
      "PAY_5       0.226913   0.243335   0.271915   0.269783   0.262509 -0.006089   \n",
      "PAY_6       0.226924   0.241181   0.266356   0.290894   0.285091 -0.001496   \n",
      "BILL_AMT1   0.951484   0.892279   0.860272   0.829779   0.802650  0.140277   \n",
      "BILL_AMT2   1.000000   0.928326   0.892482   0.859778   0.831594  0.280365   \n",
      "BILL_AMT3   0.928326   1.000000   0.923969   0.883910   0.853320  0.244335   \n",
      "BILL_AMT4   0.892482   0.923969   1.000000   0.940134   0.900941  0.233012   \n",
      "BILL_AMT5   0.859778   0.883910   0.940134   1.000000   0.946197  0.217031   \n",
      "BILL_AMT6   0.831594   0.853320   0.900941   0.946197   1.000000  0.199965   \n",
      "PAY_AMT1    0.280365   0.244335   0.233012   0.217031   0.199965  1.000000   \n",
      "PAY_AMT2    0.100851   0.316936   0.207564   0.181246   0.172663  0.285576   \n",
      "PAY_AMT3    0.150718   0.130011   0.300023   0.252305   0.233770  0.252191   \n",
      "PAY_AMT4    0.147398   0.143405   0.130191   0.293118   0.250237  0.199558   \n",
      "PAY_AMT5    0.157957   0.179712   0.160433   0.141574   0.307729  0.148459   \n",
      "PAY_AMT6    0.174256   0.182326   0.177637   0.164184   0.115494  0.185735   \n",
      "default    -0.014193  -0.014076  -0.010156  -0.006760  -0.005372 -0.072929   \n",
      "\n",
      "           PAY_AMT2  PAY_AMT3  PAY_AMT4  PAY_AMT5  PAY_AMT6   default  \n",
      "LIMIT_BAL  0.178408  0.210167  0.203242  0.217202  0.219595 -0.153520  \n",
      "SEX       -0.001391 -0.008597 -0.002229 -0.001667 -0.002766 -0.039961  \n",
      "EDUCATION -0.033585 -0.044830 -0.040778 -0.044792 -0.043773  0.035197  \n",
      "MARRIAGE  -0.008093 -0.003541 -0.012659 -0.001205 -0.006641 -0.024339  \n",
      "AGE        0.021785  0.029247  0.021379  0.022850  0.019478  0.013890  \n",
      "PAY_0     -0.070101 -0.070561 -0.064005 -0.058190 -0.058673  0.324794  \n",
      "PAY_2     -0.058990 -0.055901 -0.046858 -0.037093 -0.036500  0.263551  \n",
      "PAY_3     -0.066793 -0.053311 -0.046067 -0.035863 -0.035861  0.235253  \n",
      "PAY_4     -0.001944 -0.069235 -0.043461 -0.033590 -0.026565  0.216614  \n",
      "PAY_5     -0.003191  0.009062 -0.058299 -0.033337 -0.023027  0.204149  \n",
      "PAY_6     -0.005223  0.005834  0.019018 -0.046434 -0.025299  0.186866  \n",
      "BILL_AMT1  0.099355  0.156887  0.158303  0.167026  0.179341 -0.019644  \n",
      "BILL_AMT2  0.100851  0.150718  0.147398  0.157957  0.174256 -0.014193  \n",
      "BILL_AMT3  0.316936  0.130011  0.143405  0.179712  0.182326 -0.014076  \n",
      "BILL_AMT4  0.207564  0.300023  0.130191  0.160433  0.177637 -0.010156  \n",
      "BILL_AMT5  0.181246  0.252305  0.293118  0.141574  0.164184 -0.006760  \n",
      "BILL_AMT6  0.172663  0.233770  0.250237  0.307729  0.115494 -0.005372  \n",
      "PAY_AMT1   0.285576  0.252191  0.199558  0.148459  0.185735 -0.072929  \n",
      "PAY_AMT2   1.000000  0.244770  0.180107  0.180908  0.157634 -0.058579  \n",
      "PAY_AMT3   0.244770  1.000000  0.216325  0.159214  0.162740 -0.056250  \n",
      "PAY_AMT4   0.180107  0.216325  1.000000  0.151830  0.157834 -0.056827  \n",
      "PAY_AMT5   0.180908  0.159214  0.151830  1.000000  0.154896 -0.055124  \n",
      "PAY_AMT6   0.157634  0.162740  0.157834  0.154896  1.000000 -0.053183  \n",
      "default   -0.058579 -0.056250 -0.056827 -0.055124 -0.053183  1.000000  \n"
     ]
    }
   ],
   "source": [
    "#Correlation checks\n",
    "corrMat = credit.corr()\n",
    "print(corrMat)"
   ]
  },
  {
   "cell_type": "code",
   "execution_count": 91,
   "metadata": {},
   "outputs": [
    {
     "name": "stdout",
     "output_type": "stream",
     "text": [
      "['BILL_AMT2', 'BILL_AMT3', 'BILL_AMT4', 'BILL_AMT5', 'BILL_AMT6']\n"
     ]
    }
   ],
   "source": [
    "# Create correlation matrix with absolute values only\n",
    "corr_matrix_abs = credit.corr().abs()\n",
    "\n",
    "# Select upper triangle of correlation matrix\n",
    "upper = corr_matrix_abs.where(np.triu(np.ones(corr_matrix_abs.shape), k=1).astype(np.bool))\n",
    "\n",
    "# Find features with correlation greater than 0.9\n",
    "to_drop = [column for column in upper.columns if any(upper[column] > 0.9)]\n",
    "print(to_drop)"
   ]
  },
  {
   "cell_type": "code",
   "execution_count": 92,
   "metadata": {},
   "outputs": [],
   "source": [
    "credit_CORR = credit.drop(columns=['BILL_AMT2','BILL_AMT3','BILL_AMT4','BILL_AMT5','BILL_AMT6'])"
   ]
  },
  {
   "cell_type": "code",
   "execution_count": 93,
   "metadata": {
    "scrolled": true
   },
   "outputs": [
    {
     "data": {
      "text/html": [
       "<div>\n",
       "<style scoped>\n",
       "    .dataframe tbody tr th:only-of-type {\n",
       "        vertical-align: middle;\n",
       "    }\n",
       "\n",
       "    .dataframe tbody tr th {\n",
       "        vertical-align: top;\n",
       "    }\n",
       "\n",
       "    .dataframe thead th {\n",
       "        text-align: right;\n",
       "    }\n",
       "</style>\n",
       "<table border=\"1\" class=\"dataframe\">\n",
       "  <thead>\n",
       "    <tr style=\"text-align: right;\">\n",
       "      <th></th>\n",
       "      <th>LIMIT_BAL</th>\n",
       "      <th>SEX</th>\n",
       "      <th>EDUCATION</th>\n",
       "      <th>MARRIAGE</th>\n",
       "      <th>AGE</th>\n",
       "      <th>PAY_0</th>\n",
       "      <th>PAY_2</th>\n",
       "      <th>PAY_3</th>\n",
       "      <th>PAY_4</th>\n",
       "      <th>PAY_5</th>\n",
       "      <th>PAY_6</th>\n",
       "      <th>BILL_AMT1</th>\n",
       "      <th>BILL_AMT2</th>\n",
       "      <th>BILL_AMT3</th>\n",
       "      <th>BILL_AMT4</th>\n",
       "      <th>BILL_AMT5</th>\n",
       "      <th>BILL_AMT6</th>\n",
       "      <th>PAY_AMT1</th>\n",
       "      <th>PAY_AMT2</th>\n",
       "      <th>PAY_AMT3</th>\n",
       "      <th>PAY_AMT4</th>\n",
       "      <th>PAY_AMT5</th>\n",
       "      <th>PAY_AMT6</th>\n",
       "      <th>default</th>\n",
       "    </tr>\n",
       "  </thead>\n",
       "  <tbody>\n",
       "    <tr>\n",
       "      <th>count</th>\n",
       "      <td>30000.000000</td>\n",
       "      <td>30000.000000</td>\n",
       "      <td>30000.000000</td>\n",
       "      <td>30000.000000</td>\n",
       "      <td>30000.000000</td>\n",
       "      <td>30000.000000</td>\n",
       "      <td>30000.000000</td>\n",
       "      <td>30000.000000</td>\n",
       "      <td>30000.000000</td>\n",
       "      <td>30000.000000</td>\n",
       "      <td>30000.000000</td>\n",
       "      <td>30000.000000</td>\n",
       "      <td>30000.000000</td>\n",
       "      <td>3.000000e+04</td>\n",
       "      <td>30000.000000</td>\n",
       "      <td>30000.000000</td>\n",
       "      <td>30000.000000</td>\n",
       "      <td>30000.000000</td>\n",
       "      <td>3.000000e+04</td>\n",
       "      <td>30000.00000</td>\n",
       "      <td>30000.000000</td>\n",
       "      <td>30000.000000</td>\n",
       "      <td>30000.000000</td>\n",
       "      <td>30000.000000</td>\n",
       "    </tr>\n",
       "    <tr>\n",
       "      <th>mean</th>\n",
       "      <td>167484.322667</td>\n",
       "      <td>1.603733</td>\n",
       "      <td>1.840400</td>\n",
       "      <td>1.551867</td>\n",
       "      <td>35.485500</td>\n",
       "      <td>-0.016700</td>\n",
       "      <td>-0.133767</td>\n",
       "      <td>-0.166200</td>\n",
       "      <td>-0.220667</td>\n",
       "      <td>-0.266200</td>\n",
       "      <td>-0.291100</td>\n",
       "      <td>51223.330900</td>\n",
       "      <td>49179.075167</td>\n",
       "      <td>4.701315e+04</td>\n",
       "      <td>43262.948967</td>\n",
       "      <td>40311.400967</td>\n",
       "      <td>38871.760400</td>\n",
       "      <td>5663.580500</td>\n",
       "      <td>5.921163e+03</td>\n",
       "      <td>5225.68150</td>\n",
       "      <td>4826.076867</td>\n",
       "      <td>4799.387633</td>\n",
       "      <td>5215.502567</td>\n",
       "      <td>0.221200</td>\n",
       "    </tr>\n",
       "    <tr>\n",
       "      <th>std</th>\n",
       "      <td>129747.661567</td>\n",
       "      <td>0.489129</td>\n",
       "      <td>0.744097</td>\n",
       "      <td>0.521970</td>\n",
       "      <td>9.217904</td>\n",
       "      <td>1.123802</td>\n",
       "      <td>1.197186</td>\n",
       "      <td>1.196868</td>\n",
       "      <td>1.169139</td>\n",
       "      <td>1.133187</td>\n",
       "      <td>1.149988</td>\n",
       "      <td>73635.860576</td>\n",
       "      <td>71173.768783</td>\n",
       "      <td>6.934939e+04</td>\n",
       "      <td>64332.856134</td>\n",
       "      <td>60797.155770</td>\n",
       "      <td>59554.107537</td>\n",
       "      <td>16563.280354</td>\n",
       "      <td>2.304087e+04</td>\n",
       "      <td>17606.96147</td>\n",
       "      <td>15666.159744</td>\n",
       "      <td>15278.305679</td>\n",
       "      <td>17777.465775</td>\n",
       "      <td>0.415062</td>\n",
       "    </tr>\n",
       "    <tr>\n",
       "      <th>min</th>\n",
       "      <td>10000.000000</td>\n",
       "      <td>1.000000</td>\n",
       "      <td>0.000000</td>\n",
       "      <td>0.000000</td>\n",
       "      <td>21.000000</td>\n",
       "      <td>-2.000000</td>\n",
       "      <td>-2.000000</td>\n",
       "      <td>-2.000000</td>\n",
       "      <td>-2.000000</td>\n",
       "      <td>-2.000000</td>\n",
       "      <td>-2.000000</td>\n",
       "      <td>-165580.000000</td>\n",
       "      <td>-69777.000000</td>\n",
       "      <td>-1.572640e+05</td>\n",
       "      <td>-170000.000000</td>\n",
       "      <td>-81334.000000</td>\n",
       "      <td>-339603.000000</td>\n",
       "      <td>0.000000</td>\n",
       "      <td>0.000000e+00</td>\n",
       "      <td>0.00000</td>\n",
       "      <td>0.000000</td>\n",
       "      <td>0.000000</td>\n",
       "      <td>0.000000</td>\n",
       "      <td>0.000000</td>\n",
       "    </tr>\n",
       "    <tr>\n",
       "      <th>25%</th>\n",
       "      <td>50000.000000</td>\n",
       "      <td>1.000000</td>\n",
       "      <td>1.000000</td>\n",
       "      <td>1.000000</td>\n",
       "      <td>28.000000</td>\n",
       "      <td>-1.000000</td>\n",
       "      <td>-1.000000</td>\n",
       "      <td>-1.000000</td>\n",
       "      <td>-1.000000</td>\n",
       "      <td>-1.000000</td>\n",
       "      <td>-1.000000</td>\n",
       "      <td>3558.750000</td>\n",
       "      <td>2984.750000</td>\n",
       "      <td>2.666250e+03</td>\n",
       "      <td>2326.750000</td>\n",
       "      <td>1763.000000</td>\n",
       "      <td>1256.000000</td>\n",
       "      <td>1000.000000</td>\n",
       "      <td>8.330000e+02</td>\n",
       "      <td>390.00000</td>\n",
       "      <td>296.000000</td>\n",
       "      <td>252.500000</td>\n",
       "      <td>117.750000</td>\n",
       "      <td>0.000000</td>\n",
       "    </tr>\n",
       "    <tr>\n",
       "      <th>50%</th>\n",
       "      <td>140000.000000</td>\n",
       "      <td>2.000000</td>\n",
       "      <td>2.000000</td>\n",
       "      <td>2.000000</td>\n",
       "      <td>34.000000</td>\n",
       "      <td>0.000000</td>\n",
       "      <td>0.000000</td>\n",
       "      <td>0.000000</td>\n",
       "      <td>0.000000</td>\n",
       "      <td>0.000000</td>\n",
       "      <td>0.000000</td>\n",
       "      <td>22381.500000</td>\n",
       "      <td>21200.000000</td>\n",
       "      <td>2.008850e+04</td>\n",
       "      <td>19052.000000</td>\n",
       "      <td>18104.500000</td>\n",
       "      <td>17071.000000</td>\n",
       "      <td>2100.000000</td>\n",
       "      <td>2.009000e+03</td>\n",
       "      <td>1800.00000</td>\n",
       "      <td>1500.000000</td>\n",
       "      <td>1500.000000</td>\n",
       "      <td>1500.000000</td>\n",
       "      <td>0.000000</td>\n",
       "    </tr>\n",
       "    <tr>\n",
       "      <th>75%</th>\n",
       "      <td>240000.000000</td>\n",
       "      <td>2.000000</td>\n",
       "      <td>2.000000</td>\n",
       "      <td>2.000000</td>\n",
       "      <td>41.000000</td>\n",
       "      <td>0.000000</td>\n",
       "      <td>0.000000</td>\n",
       "      <td>0.000000</td>\n",
       "      <td>0.000000</td>\n",
       "      <td>0.000000</td>\n",
       "      <td>0.000000</td>\n",
       "      <td>67091.000000</td>\n",
       "      <td>64006.250000</td>\n",
       "      <td>6.016475e+04</td>\n",
       "      <td>54506.000000</td>\n",
       "      <td>50190.500000</td>\n",
       "      <td>49198.250000</td>\n",
       "      <td>5006.000000</td>\n",
       "      <td>5.000000e+03</td>\n",
       "      <td>4505.00000</td>\n",
       "      <td>4013.250000</td>\n",
       "      <td>4031.500000</td>\n",
       "      <td>4000.000000</td>\n",
       "      <td>0.000000</td>\n",
       "    </tr>\n",
       "    <tr>\n",
       "      <th>max</th>\n",
       "      <td>1000000.000000</td>\n",
       "      <td>2.000000</td>\n",
       "      <td>4.000000</td>\n",
       "      <td>3.000000</td>\n",
       "      <td>79.000000</td>\n",
       "      <td>8.000000</td>\n",
       "      <td>8.000000</td>\n",
       "      <td>8.000000</td>\n",
       "      <td>8.000000</td>\n",
       "      <td>8.000000</td>\n",
       "      <td>8.000000</td>\n",
       "      <td>964511.000000</td>\n",
       "      <td>983931.000000</td>\n",
       "      <td>1.664089e+06</td>\n",
       "      <td>891586.000000</td>\n",
       "      <td>927171.000000</td>\n",
       "      <td>961664.000000</td>\n",
       "      <td>873552.000000</td>\n",
       "      <td>1.684259e+06</td>\n",
       "      <td>896040.00000</td>\n",
       "      <td>621000.000000</td>\n",
       "      <td>426529.000000</td>\n",
       "      <td>528666.000000</td>\n",
       "      <td>1.000000</td>\n",
       "    </tr>\n",
       "  </tbody>\n",
       "</table>\n",
       "</div>"
      ],
      "text/plain": [
       "            LIMIT_BAL           SEX     EDUCATION      MARRIAGE           AGE  \\\n",
       "count    30000.000000  30000.000000  30000.000000  30000.000000  30000.000000   \n",
       "mean    167484.322667      1.603733      1.840400      1.551867     35.485500   \n",
       "std     129747.661567      0.489129      0.744097      0.521970      9.217904   \n",
       "min      10000.000000      1.000000      0.000000      0.000000     21.000000   \n",
       "25%      50000.000000      1.000000      1.000000      1.000000     28.000000   \n",
       "50%     140000.000000      2.000000      2.000000      2.000000     34.000000   \n",
       "75%     240000.000000      2.000000      2.000000      2.000000     41.000000   \n",
       "max    1000000.000000      2.000000      4.000000      3.000000     79.000000   \n",
       "\n",
       "              PAY_0         PAY_2         PAY_3         PAY_4         PAY_5  \\\n",
       "count  30000.000000  30000.000000  30000.000000  30000.000000  30000.000000   \n",
       "mean      -0.016700     -0.133767     -0.166200     -0.220667     -0.266200   \n",
       "std        1.123802      1.197186      1.196868      1.169139      1.133187   \n",
       "min       -2.000000     -2.000000     -2.000000     -2.000000     -2.000000   \n",
       "25%       -1.000000     -1.000000     -1.000000     -1.000000     -1.000000   \n",
       "50%        0.000000      0.000000      0.000000      0.000000      0.000000   \n",
       "75%        0.000000      0.000000      0.000000      0.000000      0.000000   \n",
       "max        8.000000      8.000000      8.000000      8.000000      8.000000   \n",
       "\n",
       "              PAY_6      BILL_AMT1      BILL_AMT2     BILL_AMT3  \\\n",
       "count  30000.000000   30000.000000   30000.000000  3.000000e+04   \n",
       "mean      -0.291100   51223.330900   49179.075167  4.701315e+04   \n",
       "std        1.149988   73635.860576   71173.768783  6.934939e+04   \n",
       "min       -2.000000 -165580.000000  -69777.000000 -1.572640e+05   \n",
       "25%       -1.000000    3558.750000    2984.750000  2.666250e+03   \n",
       "50%        0.000000   22381.500000   21200.000000  2.008850e+04   \n",
       "75%        0.000000   67091.000000   64006.250000  6.016475e+04   \n",
       "max        8.000000  964511.000000  983931.000000  1.664089e+06   \n",
       "\n",
       "           BILL_AMT4      BILL_AMT5      BILL_AMT6       PAY_AMT1  \\\n",
       "count   30000.000000   30000.000000   30000.000000   30000.000000   \n",
       "mean    43262.948967   40311.400967   38871.760400    5663.580500   \n",
       "std     64332.856134   60797.155770   59554.107537   16563.280354   \n",
       "min   -170000.000000  -81334.000000 -339603.000000       0.000000   \n",
       "25%      2326.750000    1763.000000    1256.000000    1000.000000   \n",
       "50%     19052.000000   18104.500000   17071.000000    2100.000000   \n",
       "75%     54506.000000   50190.500000   49198.250000    5006.000000   \n",
       "max    891586.000000  927171.000000  961664.000000  873552.000000   \n",
       "\n",
       "           PAY_AMT2      PAY_AMT3       PAY_AMT4       PAY_AMT5  \\\n",
       "count  3.000000e+04   30000.00000   30000.000000   30000.000000   \n",
       "mean   5.921163e+03    5225.68150    4826.076867    4799.387633   \n",
       "std    2.304087e+04   17606.96147   15666.159744   15278.305679   \n",
       "min    0.000000e+00       0.00000       0.000000       0.000000   \n",
       "25%    8.330000e+02     390.00000     296.000000     252.500000   \n",
       "50%    2.009000e+03    1800.00000    1500.000000    1500.000000   \n",
       "75%    5.000000e+03    4505.00000    4013.250000    4031.500000   \n",
       "max    1.684259e+06  896040.00000  621000.000000  426529.000000   \n",
       "\n",
       "            PAY_AMT6       default  \n",
       "count   30000.000000  30000.000000  \n",
       "mean     5215.502567      0.221200  \n",
       "std     17777.465775      0.415062  \n",
       "min         0.000000      0.000000  \n",
       "25%       117.750000      0.000000  \n",
       "50%      1500.000000      0.000000  \n",
       "75%      4000.000000      0.000000  \n",
       "max    528666.000000      1.000000  "
      ]
     },
     "execution_count": 93,
     "metadata": {},
     "output_type": "execute_result"
    }
   ],
   "source": [
    "credit.describe()"
   ]
  },
  {
   "cell_type": "code",
   "execution_count": 94,
   "metadata": {},
   "outputs": [
    {
     "name": "stdout",
     "output_type": "stream",
     "text": [
      "Summary of feature sample\n"
     ]
    },
    {
     "data": {
      "text/html": [
       "<div>\n",
       "<style scoped>\n",
       "    .dataframe tbody tr th:only-of-type {\n",
       "        vertical-align: middle;\n",
       "    }\n",
       "\n",
       "    .dataframe tbody tr th {\n",
       "        vertical-align: top;\n",
       "    }\n",
       "\n",
       "    .dataframe thead th {\n",
       "        text-align: right;\n",
       "    }\n",
       "</style>\n",
       "<table border=\"1\" class=\"dataframe\">\n",
       "  <thead>\n",
       "    <tr style=\"text-align: right;\">\n",
       "      <th></th>\n",
       "      <th>LIMIT_BAL</th>\n",
       "      <th>SEX</th>\n",
       "      <th>EDUCATION</th>\n",
       "      <th>MARRIAGE</th>\n",
       "      <th>AGE</th>\n",
       "      <th>PAY_0</th>\n",
       "      <th>PAY_2</th>\n",
       "      <th>PAY_3</th>\n",
       "      <th>PAY_4</th>\n",
       "      <th>PAY_5</th>\n",
       "      <th>PAY_6</th>\n",
       "      <th>BILL_AMT1</th>\n",
       "      <th>BILL_AMT2</th>\n",
       "      <th>BILL_AMT3</th>\n",
       "      <th>BILL_AMT4</th>\n",
       "      <th>BILL_AMT5</th>\n",
       "      <th>BILL_AMT6</th>\n",
       "      <th>PAY_AMT1</th>\n",
       "      <th>PAY_AMT2</th>\n",
       "      <th>PAY_AMT3</th>\n",
       "      <th>PAY_AMT4</th>\n",
       "      <th>PAY_AMT5</th>\n",
       "      <th>PAY_AMT6</th>\n",
       "    </tr>\n",
       "  </thead>\n",
       "  <tbody>\n",
       "    <tr>\n",
       "      <th>0</th>\n",
       "      <td>20000</td>\n",
       "      <td>2</td>\n",
       "      <td>2</td>\n",
       "      <td>1</td>\n",
       "      <td>24</td>\n",
       "      <td>2</td>\n",
       "      <td>2</td>\n",
       "      <td>-1</td>\n",
       "      <td>-1</td>\n",
       "      <td>-2</td>\n",
       "      <td>-2</td>\n",
       "      <td>3913</td>\n",
       "      <td>3102</td>\n",
       "      <td>689</td>\n",
       "      <td>0</td>\n",
       "      <td>0</td>\n",
       "      <td>0</td>\n",
       "      <td>0</td>\n",
       "      <td>689</td>\n",
       "      <td>0</td>\n",
       "      <td>0</td>\n",
       "      <td>0</td>\n",
       "      <td>0</td>\n",
       "    </tr>\n",
       "    <tr>\n",
       "      <th>1</th>\n",
       "      <td>120000</td>\n",
       "      <td>2</td>\n",
       "      <td>2</td>\n",
       "      <td>2</td>\n",
       "      <td>26</td>\n",
       "      <td>-1</td>\n",
       "      <td>2</td>\n",
       "      <td>0</td>\n",
       "      <td>0</td>\n",
       "      <td>0</td>\n",
       "      <td>2</td>\n",
       "      <td>2682</td>\n",
       "      <td>1725</td>\n",
       "      <td>2682</td>\n",
       "      <td>3272</td>\n",
       "      <td>3455</td>\n",
       "      <td>3261</td>\n",
       "      <td>0</td>\n",
       "      <td>1000</td>\n",
       "      <td>1000</td>\n",
       "      <td>1000</td>\n",
       "      <td>0</td>\n",
       "      <td>2000</td>\n",
       "    </tr>\n",
       "    <tr>\n",
       "      <th>2</th>\n",
       "      <td>90000</td>\n",
       "      <td>2</td>\n",
       "      <td>2</td>\n",
       "      <td>2</td>\n",
       "      <td>34</td>\n",
       "      <td>0</td>\n",
       "      <td>0</td>\n",
       "      <td>0</td>\n",
       "      <td>0</td>\n",
       "      <td>0</td>\n",
       "      <td>0</td>\n",
       "      <td>29239</td>\n",
       "      <td>14027</td>\n",
       "      <td>13559</td>\n",
       "      <td>14331</td>\n",
       "      <td>14948</td>\n",
       "      <td>15549</td>\n",
       "      <td>1518</td>\n",
       "      <td>1500</td>\n",
       "      <td>1000</td>\n",
       "      <td>1000</td>\n",
       "      <td>1000</td>\n",
       "      <td>5000</td>\n",
       "    </tr>\n",
       "    <tr>\n",
       "      <th>3</th>\n",
       "      <td>50000</td>\n",
       "      <td>2</td>\n",
       "      <td>2</td>\n",
       "      <td>1</td>\n",
       "      <td>37</td>\n",
       "      <td>0</td>\n",
       "      <td>0</td>\n",
       "      <td>0</td>\n",
       "      <td>0</td>\n",
       "      <td>0</td>\n",
       "      <td>0</td>\n",
       "      <td>46990</td>\n",
       "      <td>48233</td>\n",
       "      <td>49291</td>\n",
       "      <td>28314</td>\n",
       "      <td>28959</td>\n",
       "      <td>29547</td>\n",
       "      <td>2000</td>\n",
       "      <td>2019</td>\n",
       "      <td>1200</td>\n",
       "      <td>1100</td>\n",
       "      <td>1069</td>\n",
       "      <td>1000</td>\n",
       "    </tr>\n",
       "    <tr>\n",
       "      <th>4</th>\n",
       "      <td>50000</td>\n",
       "      <td>1</td>\n",
       "      <td>2</td>\n",
       "      <td>1</td>\n",
       "      <td>57</td>\n",
       "      <td>-1</td>\n",
       "      <td>0</td>\n",
       "      <td>-1</td>\n",
       "      <td>0</td>\n",
       "      <td>0</td>\n",
       "      <td>0</td>\n",
       "      <td>8617</td>\n",
       "      <td>5670</td>\n",
       "      <td>35835</td>\n",
       "      <td>20940</td>\n",
       "      <td>19146</td>\n",
       "      <td>19131</td>\n",
       "      <td>2000</td>\n",
       "      <td>36681</td>\n",
       "      <td>10000</td>\n",
       "      <td>9000</td>\n",
       "      <td>689</td>\n",
       "      <td>679</td>\n",
       "    </tr>\n",
       "  </tbody>\n",
       "</table>\n",
       "</div>"
      ],
      "text/plain": [
       "   LIMIT_BAL  SEX  EDUCATION  MARRIAGE  AGE  PAY_0  PAY_2  PAY_3  PAY_4  \\\n",
       "0      20000    2          2         1   24      2      2     -1     -1   \n",
       "1     120000    2          2         2   26     -1      2      0      0   \n",
       "2      90000    2          2         2   34      0      0      0      0   \n",
       "3      50000    2          2         1   37      0      0      0      0   \n",
       "4      50000    1          2         1   57     -1      0     -1      0   \n",
       "\n",
       "   PAY_5  PAY_6  BILL_AMT1  BILL_AMT2  BILL_AMT3  BILL_AMT4  BILL_AMT5  \\\n",
       "0     -2     -2       3913       3102        689          0          0   \n",
       "1      0      2       2682       1725       2682       3272       3455   \n",
       "2      0      0      29239      14027      13559      14331      14948   \n",
       "3      0      0      46990      48233      49291      28314      28959   \n",
       "4      0      0       8617       5670      35835      20940      19146   \n",
       "\n",
       "   BILL_AMT6  PAY_AMT1  PAY_AMT2  PAY_AMT3  PAY_AMT4  PAY_AMT5  PAY_AMT6  \n",
       "0          0         0       689         0         0         0         0  \n",
       "1       3261         0      1000      1000      1000         0      2000  \n",
       "2      15549      1518      1500      1000      1000      1000      5000  \n",
       "3      29547      2000      2019      1200      1100      1069      1000  \n",
       "4      19131      2000     36681     10000      9000       689       679  "
      ]
     },
     "execution_count": 94,
     "metadata": {},
     "output_type": "execute_result"
    }
   ],
   "source": [
    "#split data into test and training set for feature engineering\n",
    "\n",
    "features = credit.iloc[:,0:23]\n",
    "print('Summary of feature sample')\n",
    "features.head(5)"
   ]
  },
  {
   "cell_type": "code",
   "execution_count": 95,
   "metadata": {},
   "outputs": [],
   "source": [
    "#dependent variable - payment amount\n",
    "y = credit['default']"
   ]
  },
  {
   "cell_type": "code",
   "execution_count": 96,
   "metadata": {},
   "outputs": [],
   "source": [
    "X_train_v0, X_test_v0, y_train_v0, y_test_v0 = train_test_split(features, y, test_size=0.2)"
   ]
  },
  {
   "cell_type": "code",
   "execution_count": 97,
   "metadata": {},
   "outputs": [
    {
     "data": {
      "text/plain": [
       "((24000, 23), (6000, 23))"
      ]
     },
     "execution_count": 97,
     "metadata": {},
     "output_type": "execute_result"
    }
   ],
   "source": [
    "X_train_v0.shape, X_test_v0.shape"
   ]
  },
  {
   "cell_type": "code",
   "execution_count": 98,
   "metadata": {},
   "outputs": [
    {
     "data": {
      "text/plain": [
       "((24000,), (6000,))"
      ]
     },
     "execution_count": 98,
     "metadata": {},
     "output_type": "execute_result"
    }
   ],
   "source": [
    "y_train_v0.shape, y_test_v0.shape"
   ]
  },
  {
   "cell_type": "code",
   "execution_count": 99,
   "metadata": {},
   "outputs": [],
   "source": [
    "#scale data\n",
    "scaler = StandardScaler()\n",
    "\n",
    "# Fit on training set only.\n",
    "scaler.fit(X_train_v0)\n",
    "\n",
    "# Apply transform to both the training set and the test set.\n",
    "X_train_scaled = scaler.transform(X_train_v0)\n",
    "X_test_scaled = scaler.transform(X_test_v0)"
   ]
  },
  {
   "cell_type": "markdown",
   "metadata": {},
   "source": [
    "#### RFE"
   ]
  },
  {
   "cell_type": "code",
   "execution_count": 100,
   "metadata": {
    "scrolled": true
   },
   "outputs": [
    {
     "name": "stdout",
     "output_type": "stream",
     "text": [
      "[ True False False False  True  True False False False False False  True\n",
      "  True  True  True  True  True  True  True  True False False False]\n",
      "[ 1 12  9 11  1  1  4 10  7  8  6  1  1  1  1  1  1  1  1  1  5  3  2]\n"
     ]
    }
   ],
   "source": [
    "#RFE using random forest\n",
    "model = RandomForestClassifier(n_estimators=10)\n",
    "\n",
    "#select top 12 features\n",
    "rfe = RFE(model, 12)\n",
    "fit = rfe.fit(X_train_v0, y_train_v0)\n",
    "\n",
    "# summarize the selection of the attributes\n",
    "print(rfe.support_)\n",
    "print(rfe.ranking_)"
   ]
  },
  {
   "cell_type": "code",
   "execution_count": 101,
   "metadata": {},
   "outputs": [
    {
     "name": "stdout",
     "output_type": "stream",
     "text": [
      "Index(['LIMIT_BAL', 'AGE', 'PAY_0', 'BILL_AMT1', 'BILL_AMT2', 'BILL_AMT3',\n",
      "       'BILL_AMT4', 'BILL_AMT5', 'BILL_AMT6', 'PAY_AMT1', 'PAY_AMT2',\n",
      "       'PAY_AMT3'],\n",
      "      dtype='object')\n"
     ]
    }
   ],
   "source": [
    "cols = list(features.columns)\n",
    "\n",
    "model = RandomForestClassifier(n_estimators=10)\n",
    "\n",
    "#Initializing RFE model with random forest\n",
    "rfe = RFE(model, 12)  \n",
    "\n",
    "#Transforming data using RFE\n",
    "X_rfe = rfe.fit_transform(X_train_v0,y_train_v0) \n",
    "\n",
    "#Fitting the data to model\n",
    "model.fit(X_rfe,y_train_v0)\n",
    "\n",
    "temp = pd.Series(rfe.support_,index = cols)\n",
    "\n",
    "selected_features_rfe = temp[temp==True].index\n",
    "print(selected_features_rfe)"
   ]
  },
  {
   "cell_type": "code",
   "execution_count": 102,
   "metadata": {
    "scrolled": false
   },
   "outputs": [],
   "source": [
    "#create new df with only selected columns\n",
    "credit_RFE = pd.DataFrame(credit[selected_features_rfe])"
   ]
  },
  {
   "cell_type": "code",
   "execution_count": 103,
   "metadata": {},
   "outputs": [
    {
     "name": "stdout",
     "output_type": "stream",
     "text": [
      "<class 'pandas.core.frame.DataFrame'>\n"
     ]
    }
   ],
   "source": [
    "print(type(credit_RFE))"
   ]
  },
  {
   "cell_type": "code",
   "execution_count": 104,
   "metadata": {},
   "outputs": [
    {
     "name": "stdout",
     "output_type": "stream",
     "text": [
      "   LIMIT_BAL  AGE  PAY_0  BILL_AMT1  BILL_AMT2  BILL_AMT3  BILL_AMT4  \\\n",
      "0      20000   24      2       3913       3102        689          0   \n",
      "1     120000   26     -1       2682       1725       2682       3272   \n",
      "2      90000   34      0      29239      14027      13559      14331   \n",
      "3      50000   37      0      46990      48233      49291      28314   \n",
      "4      50000   57     -1       8617       5670      35835      20940   \n",
      "\n",
      "   BILL_AMT5  BILL_AMT6  PAY_AMT1  PAY_AMT2  PAY_AMT3  \n",
      "0          0          0         0       689         0  \n",
      "1       3455       3261         0      1000      1000  \n",
      "2      14948      15549      1518      1500      1000  \n",
      "3      28959      29547      2000      2019      1200  \n",
      "4      19146      19131      2000     36681     10000  \n"
     ]
    }
   ],
   "source": [
    "print(credit_RFE.head())"
   ]
  },
  {
   "cell_type": "code",
   "execution_count": 105,
   "metadata": {
    "scrolled": true
   },
   "outputs": [],
   "source": [
    "#after EDA, discretize age \n",
    "credit_CORR['AGE'] = pd.qcut(credit_CORR['AGE'],4)"
   ]
  },
  {
   "cell_type": "code",
   "execution_count": 106,
   "metadata": {},
   "outputs": [],
   "source": [
    "credit_RFE['AGE'] = pd.qcut(credit_RFE['AGE'],4)"
   ]
  },
  {
   "cell_type": "code",
   "execution_count": 107,
   "metadata": {},
   "outputs": [
    {
     "name": "stdout",
     "output_type": "stream",
     "text": [
      "   LIMIT_BAL  SEX  EDUCATION  MARRIAGE             AGE  PAY_0  PAY_2  PAY_3  \\\n",
      "0      20000    2          2         1  (20.999, 28.0]      2      2     -1   \n",
      "1     120000    2          2         2  (20.999, 28.0]     -1      2      0   \n",
      "2      90000    2          2         2    (28.0, 34.0]      0      0      0   \n",
      "3      50000    2          2         1    (34.0, 41.0]      0      0      0   \n",
      "4      50000    1          2         1    (41.0, 79.0]     -1      0     -1   \n",
      "\n",
      "   PAY_4  PAY_5  PAY_6  BILL_AMT1  PAY_AMT1  PAY_AMT2  PAY_AMT3  PAY_AMT4  \\\n",
      "0     -1     -2     -2       3913         0       689         0         0   \n",
      "1      0      0      2       2682         0      1000      1000      1000   \n",
      "2      0      0      0      29239      1518      1500      1000      1000   \n",
      "3      0      0      0      46990      2000      2019      1200      1100   \n",
      "4      0      0      0       8617      2000     36681     10000      9000   \n",
      "\n",
      "   PAY_AMT5  PAY_AMT6  default  \n",
      "0         0         0        1  \n",
      "1         0      2000        1  \n",
      "2      1000      5000        0  \n",
      "3      1069      1000        0  \n",
      "4       689       679        0  \n"
     ]
    }
   ],
   "source": [
    "print(credit_CORR.head())"
   ]
  },
  {
   "cell_type": "code",
   "execution_count": 108,
   "metadata": {},
   "outputs": [
    {
     "name": "stdout",
     "output_type": "stream",
     "text": [
      "   LIMIT_BAL             AGE  PAY_0  BILL_AMT1  BILL_AMT2  BILL_AMT3  \\\n",
      "0      20000  (20.999, 28.0]      2       3913       3102        689   \n",
      "1     120000  (20.999, 28.0]     -1       2682       1725       2682   \n",
      "2      90000    (28.0, 34.0]      0      29239      14027      13559   \n",
      "3      50000    (34.0, 41.0]      0      46990      48233      49291   \n",
      "4      50000    (41.0, 79.0]     -1       8617       5670      35835   \n",
      "\n",
      "   BILL_AMT4  BILL_AMT5  BILL_AMT6  PAY_AMT1  PAY_AMT2  PAY_AMT3  \n",
      "0          0          0          0         0       689         0  \n",
      "1       3272       3455       3261         0      1000      1000  \n",
      "2      14331      14948      15549      1518      1500      1000  \n",
      "3      28314      28959      29547      2000      2019      1200  \n",
      "4      20940      19146      19131      2000     36681     10000  \n"
     ]
    }
   ],
   "source": [
    "print(credit_RFE.head())"
   ]
  },
  {
   "cell_type": "code",
   "execution_count": 109,
   "metadata": {},
   "outputs": [],
   "source": [
    "#save new csv files\n",
    "credit.to_csv(\"credit_v0.csv\", header = 1, index = False) #only removed ID & renamed dv\n",
    "credit_v1.to_csv(\"credit_v1.csv\", header = 1, index = False) #removed ID, discretized age/bill/pay, renamed dv\n",
    "credit_CORR.to_csv(\"credit_CORR.csv\", header = 1, index = False) #removed ID, discretized age, renamed dv, removed CORR features\n",
    "credit_RFE.to_csv(\"credit_RFE.csv\", header = 1, index = False) #removed ID, discretized age, renamed dv, RFE datasets"
   ]
  },
  {
   "cell_type": "code",
   "execution_count": 110,
   "metadata": {},
   "outputs": [],
   "source": [
    "#open files\n",
    "credit = pd.read_csv(\"credit_v0.csv\") \n",
    "credit_v1 = pd.read_csv(\"credit_v1.csv\") \n",
    "credit_CORR = pd.read_csv(\"credit_CORR.csv\") \n",
    "credit_RFE = pd.read_csv(\"credit_RFE.csv\")"
   ]
  },
  {
   "cell_type": "code",
   "execution_count": 111,
   "metadata": {},
   "outputs": [
    {
     "data": {
      "text/html": [
       "<div>\n",
       "<style scoped>\n",
       "    .dataframe tbody tr th:only-of-type {\n",
       "        vertical-align: middle;\n",
       "    }\n",
       "\n",
       "    .dataframe tbody tr th {\n",
       "        vertical-align: top;\n",
       "    }\n",
       "\n",
       "    .dataframe thead th {\n",
       "        text-align: right;\n",
       "    }\n",
       "</style>\n",
       "<table border=\"1\" class=\"dataframe\">\n",
       "  <thead>\n",
       "    <tr style=\"text-align: right;\">\n",
       "      <th></th>\n",
       "      <th>LIMIT_BAL</th>\n",
       "      <th>SEX</th>\n",
       "      <th>EDUCATION</th>\n",
       "      <th>MARRIAGE</th>\n",
       "      <th>AGE</th>\n",
       "      <th>PAY_0</th>\n",
       "      <th>PAY_2</th>\n",
       "      <th>PAY_3</th>\n",
       "      <th>PAY_4</th>\n",
       "      <th>PAY_5</th>\n",
       "      <th>PAY_6</th>\n",
       "      <th>BILL_AMT1</th>\n",
       "      <th>BILL_AMT2</th>\n",
       "      <th>BILL_AMT3</th>\n",
       "      <th>BILL_AMT4</th>\n",
       "      <th>BILL_AMT5</th>\n",
       "      <th>BILL_AMT6</th>\n",
       "      <th>PAY_AMT1</th>\n",
       "      <th>PAY_AMT2</th>\n",
       "      <th>PAY_AMT3</th>\n",
       "      <th>PAY_AMT4</th>\n",
       "      <th>PAY_AMT5</th>\n",
       "      <th>PAY_AMT6</th>\n",
       "      <th>default</th>\n",
       "    </tr>\n",
       "  </thead>\n",
       "  <tbody>\n",
       "    <tr>\n",
       "      <th>0</th>\n",
       "      <td>20000</td>\n",
       "      <td>2</td>\n",
       "      <td>2</td>\n",
       "      <td>1</td>\n",
       "      <td>24</td>\n",
       "      <td>2</td>\n",
       "      <td>2</td>\n",
       "      <td>-1</td>\n",
       "      <td>-1</td>\n",
       "      <td>-2</td>\n",
       "      <td>-2</td>\n",
       "      <td>3913</td>\n",
       "      <td>3102</td>\n",
       "      <td>689</td>\n",
       "      <td>0</td>\n",
       "      <td>0</td>\n",
       "      <td>0</td>\n",
       "      <td>0</td>\n",
       "      <td>689</td>\n",
       "      <td>0</td>\n",
       "      <td>0</td>\n",
       "      <td>0</td>\n",
       "      <td>0</td>\n",
       "      <td>1</td>\n",
       "    </tr>\n",
       "    <tr>\n",
       "      <th>1</th>\n",
       "      <td>120000</td>\n",
       "      <td>2</td>\n",
       "      <td>2</td>\n",
       "      <td>2</td>\n",
       "      <td>26</td>\n",
       "      <td>-1</td>\n",
       "      <td>2</td>\n",
       "      <td>0</td>\n",
       "      <td>0</td>\n",
       "      <td>0</td>\n",
       "      <td>2</td>\n",
       "      <td>2682</td>\n",
       "      <td>1725</td>\n",
       "      <td>2682</td>\n",
       "      <td>3272</td>\n",
       "      <td>3455</td>\n",
       "      <td>3261</td>\n",
       "      <td>0</td>\n",
       "      <td>1000</td>\n",
       "      <td>1000</td>\n",
       "      <td>1000</td>\n",
       "      <td>0</td>\n",
       "      <td>2000</td>\n",
       "      <td>1</td>\n",
       "    </tr>\n",
       "    <tr>\n",
       "      <th>2</th>\n",
       "      <td>90000</td>\n",
       "      <td>2</td>\n",
       "      <td>2</td>\n",
       "      <td>2</td>\n",
       "      <td>34</td>\n",
       "      <td>0</td>\n",
       "      <td>0</td>\n",
       "      <td>0</td>\n",
       "      <td>0</td>\n",
       "      <td>0</td>\n",
       "      <td>0</td>\n",
       "      <td>29239</td>\n",
       "      <td>14027</td>\n",
       "      <td>13559</td>\n",
       "      <td>14331</td>\n",
       "      <td>14948</td>\n",
       "      <td>15549</td>\n",
       "      <td>1518</td>\n",
       "      <td>1500</td>\n",
       "      <td>1000</td>\n",
       "      <td>1000</td>\n",
       "      <td>1000</td>\n",
       "      <td>5000</td>\n",
       "      <td>0</td>\n",
       "    </tr>\n",
       "    <tr>\n",
       "      <th>3</th>\n",
       "      <td>50000</td>\n",
       "      <td>2</td>\n",
       "      <td>2</td>\n",
       "      <td>1</td>\n",
       "      <td>37</td>\n",
       "      <td>0</td>\n",
       "      <td>0</td>\n",
       "      <td>0</td>\n",
       "      <td>0</td>\n",
       "      <td>0</td>\n",
       "      <td>0</td>\n",
       "      <td>46990</td>\n",
       "      <td>48233</td>\n",
       "      <td>49291</td>\n",
       "      <td>28314</td>\n",
       "      <td>28959</td>\n",
       "      <td>29547</td>\n",
       "      <td>2000</td>\n",
       "      <td>2019</td>\n",
       "      <td>1200</td>\n",
       "      <td>1100</td>\n",
       "      <td>1069</td>\n",
       "      <td>1000</td>\n",
       "      <td>0</td>\n",
       "    </tr>\n",
       "    <tr>\n",
       "      <th>4</th>\n",
       "      <td>50000</td>\n",
       "      <td>1</td>\n",
       "      <td>2</td>\n",
       "      <td>1</td>\n",
       "      <td>57</td>\n",
       "      <td>-1</td>\n",
       "      <td>0</td>\n",
       "      <td>-1</td>\n",
       "      <td>0</td>\n",
       "      <td>0</td>\n",
       "      <td>0</td>\n",
       "      <td>8617</td>\n",
       "      <td>5670</td>\n",
       "      <td>35835</td>\n",
       "      <td>20940</td>\n",
       "      <td>19146</td>\n",
       "      <td>19131</td>\n",
       "      <td>2000</td>\n",
       "      <td>36681</td>\n",
       "      <td>10000</td>\n",
       "      <td>9000</td>\n",
       "      <td>689</td>\n",
       "      <td>679</td>\n",
       "      <td>0</td>\n",
       "    </tr>\n",
       "  </tbody>\n",
       "</table>\n",
       "</div>"
      ],
      "text/plain": [
       "   LIMIT_BAL  SEX  EDUCATION  MARRIAGE  AGE  PAY_0  PAY_2  PAY_3  PAY_4  \\\n",
       "0      20000    2          2         1   24      2      2     -1     -1   \n",
       "1     120000    2          2         2   26     -1      2      0      0   \n",
       "2      90000    2          2         2   34      0      0      0      0   \n",
       "3      50000    2          2         1   37      0      0      0      0   \n",
       "4      50000    1          2         1   57     -1      0     -1      0   \n",
       "\n",
       "   PAY_5  PAY_6  BILL_AMT1  BILL_AMT2  BILL_AMT3  BILL_AMT4  BILL_AMT5  \\\n",
       "0     -2     -2       3913       3102        689          0          0   \n",
       "1      0      2       2682       1725       2682       3272       3455   \n",
       "2      0      0      29239      14027      13559      14331      14948   \n",
       "3      0      0      46990      48233      49291      28314      28959   \n",
       "4      0      0       8617       5670      35835      20940      19146   \n",
       "\n",
       "   BILL_AMT6  PAY_AMT1  PAY_AMT2  PAY_AMT3  PAY_AMT4  PAY_AMT5  PAY_AMT6  \\\n",
       "0          0         0       689         0         0         0         0   \n",
       "1       3261         0      1000      1000      1000         0      2000   \n",
       "2      15549      1518      1500      1000      1000      1000      5000   \n",
       "3      29547      2000      2019      1200      1100      1069      1000   \n",
       "4      19131      2000     36681     10000      9000       689       679   \n",
       "\n",
       "   default  \n",
       "0        1  \n",
       "1        1  \n",
       "2        0  \n",
       "3        0  \n",
       "4        0  "
      ]
     },
     "execution_count": 111,
     "metadata": {},
     "output_type": "execute_result"
    }
   ],
   "source": [
    "credit.head()"
   ]
  },
  {
   "cell_type": "markdown",
   "metadata": {},
   "source": [
    "### One hot encoding for discretized dataset & age"
   ]
  },
  {
   "cell_type": "code",
   "execution_count": 112,
   "metadata": {},
   "outputs": [],
   "source": [
    "credit_v1_OHE = pd.get_dummies(credit_v1)"
   ]
  },
  {
   "cell_type": "code",
   "execution_count": 113,
   "metadata": {},
   "outputs": [
    {
     "name": "stdout",
     "output_type": "stream",
     "text": [
      "Index(['LIMIT_BAL', 'SEX', 'EDUCATION', 'MARRIAGE', 'PAY_0', 'PAY_2', 'PAY_3',\n",
      "       'PAY_4', 'PAY_5', 'PAY_6', 'default', 'AGE_(20.999, 28.0]',\n",
      "       'AGE_(28.0, 34.0]', 'AGE_(34.0, 41.0]', 'AGE_(41.0, 79.0]',\n",
      "       'BILL_AMT1_(-16558.0, 0.0]', 'BILL_AMT1_(0.0, 15000.0]',\n",
      "       'BILL_AMT1_(15000.0, 60000.0]', 'BILL_AMT1_(60000.0, 964511.0]',\n",
      "       'BILL_AMT2_(-69777.001, 0.0]', 'BILL_AMT2_(0.0, 15000.0]',\n",
      "       'BILL_AMT2_(15000.0, 60000.0]', 'BILL_AMT2_(60000.0, 983931.0]',\n",
      "       'BILL_AMT3_(-157264.001, 0.0]', 'BILL_AMT3_(0.0, 15000.0]',\n",
      "       'BILL_AMT3_(15000.0, 60000.0]', 'BILL_AMT3_(60000.0, 1664089.0]',\n",
      "       'BILL_AMT4_(-170000.001, 0.0]', 'BILL_AMT4_(0.0, 15000.0]',\n",
      "       'BILL_AMT4_(15000.0, 60000.0]', 'BILL_AMT4_(60000.0, 891586.0]',\n",
      "       'BILL_AMT5_(-81334.001, 0.0]', 'BILL_AMT5_(0.0, 15000.0]',\n",
      "       'BILL_AMT5_(15000.0, 60000.0]', 'BILL_AMT5_(60000.0, 927171.0]',\n",
      "       'BILL_AMT6_(-339603.001, 0.0]', 'BILL_AMT6_(0.0, 15000.0]',\n",
      "       'BILL_AMT6_(15000.0, 60000.0]', 'BILL_AMT6_(60000.0, 961664.0]',\n",
      "       'PAY_AMT1_(-0.001, 1000.0]', 'PAY_AMT1_(1000.0, 2100.0]',\n",
      "       'PAY_AMT1_(2100.0, 5006.0]', 'PAY_AMT1_(5006.0, 873552.0]',\n",
      "       'PAY_AMT2_(-0.001, 833.0]', 'PAY_AMT2_(2009.0, 5000.0]',\n",
      "       'PAY_AMT2_(5000.0, 1684259.0]', 'PAY_AMT2_(833.0, 2009.0]',\n",
      "       'PAY_AMT3_(-0.001, 390.0]', 'PAY_AMT3_(1800.0, 4505.0]',\n",
      "       'PAY_AMT3_(390.0, 1800.0]', 'PAY_AMT3_(4505.0, 896040.0]',\n",
      "       'PAY_AMT4_(-0.001, 296.0]', 'PAY_AMT4_(1500.0, 4013.25]',\n",
      "       'PAY_AMT4_(296.0, 1500.0]', 'PAY_AMT4_(4013.25, 621000.0]',\n",
      "       'PAY_AMT5_(-0.001, 252.5]', 'PAY_AMT5_(1500.0, 4031.5]',\n",
      "       'PAY_AMT5_(252.5, 1500.0]', 'PAY_AMT5_(4031.5, 426529.0]',\n",
      "       'PAY_AMT6_(-0.001, 117.75]', 'PAY_AMT6_(117.75, 1500.0]',\n",
      "       'PAY_AMT6_(1500.0, 4000.0]', 'PAY_AMT6_(4000.0, 528666.0]'],\n",
      "      dtype='object')\n"
     ]
    }
   ],
   "source": [
    "print(credit_v1_OHE.columns)"
   ]
  },
  {
   "cell_type": "code",
   "execution_count": 114,
   "metadata": {},
   "outputs": [],
   "source": [
    "credit_CORR_OHE = pd.get_dummies(credit_CORR)"
   ]
  },
  {
   "cell_type": "code",
   "execution_count": 115,
   "metadata": {},
   "outputs": [
    {
     "name": "stdout",
     "output_type": "stream",
     "text": [
      "Index(['LIMIT_BAL', 'SEX', 'EDUCATION', 'MARRIAGE', 'PAY_0', 'PAY_2', 'PAY_3',\n",
      "       'PAY_4', 'PAY_5', 'PAY_6', 'BILL_AMT1', 'PAY_AMT1', 'PAY_AMT2',\n",
      "       'PAY_AMT3', 'PAY_AMT4', 'PAY_AMT5', 'PAY_AMT6', 'default',\n",
      "       'AGE_(20.999, 28.0]', 'AGE_(28.0, 34.0]', 'AGE_(34.0, 41.0]',\n",
      "       'AGE_(41.0, 79.0]'],\n",
      "      dtype='object')\n"
     ]
    }
   ],
   "source": [
    "print(credit_CORR_OHE.columns)"
   ]
  },
  {
   "cell_type": "code",
   "execution_count": 116,
   "metadata": {},
   "outputs": [],
   "source": [
    "credit_RFE_OHE = pd.get_dummies(credit_RFE)"
   ]
  },
  {
   "cell_type": "code",
   "execution_count": 117,
   "metadata": {
    "scrolled": true
   },
   "outputs": [
    {
     "name": "stdout",
     "output_type": "stream",
     "text": [
      "   LIMIT_BAL  PAY_0  BILL_AMT1  BILL_AMT2  BILL_AMT3  BILL_AMT4  BILL_AMT5  \\\n",
      "0      20000      2       3913       3102        689          0          0   \n",
      "1     120000     -1       2682       1725       2682       3272       3455   \n",
      "2      90000      0      29239      14027      13559      14331      14948   \n",
      "3      50000      0      46990      48233      49291      28314      28959   \n",
      "4      50000     -1       8617       5670      35835      20940      19146   \n",
      "\n",
      "   BILL_AMT6  PAY_AMT1  PAY_AMT2  PAY_AMT3  AGE_(20.999, 28.0]  \\\n",
      "0          0         0       689         0                   1   \n",
      "1       3261         0      1000      1000                   1   \n",
      "2      15549      1518      1500      1000                   0   \n",
      "3      29547      2000      2019      1200                   0   \n",
      "4      19131      2000     36681     10000                   0   \n",
      "\n",
      "   AGE_(28.0, 34.0]  AGE_(34.0, 41.0]  AGE_(41.0, 79.0]  default  \n",
      "0                 0                 0                 0        1  \n",
      "1                 0                 0                 0        1  \n",
      "2                 1                 0                 0        0  \n",
      "3                 0                 1                 0        0  \n",
      "4                 0                 0                 1        0  \n"
     ]
    }
   ],
   "source": [
    "#RFE data set, add back default column\n",
    "credit_RFE_OHE['default'] = credit['default']\n",
    "\n",
    "print(credit_RFE_OHE.head())"
   ]
  },
  {
   "cell_type": "code",
   "execution_count": 118,
   "metadata": {},
   "outputs": [
    {
     "name": "stdout",
     "output_type": "stream",
     "text": [
      "Index(['LIMIT_BAL', 'PAY_0', 'BILL_AMT1', 'BILL_AMT2', 'BILL_AMT3',\n",
      "       'BILL_AMT4', 'BILL_AMT5', 'BILL_AMT6', 'PAY_AMT1', 'PAY_AMT2',\n",
      "       'PAY_AMT3', 'AGE_(20.999, 28.0]', 'AGE_(28.0, 34.0]',\n",
      "       'AGE_(34.0, 41.0]', 'AGE_(41.0, 79.0]', 'default'],\n",
      "      dtype='object')\n"
     ]
    }
   ],
   "source": [
    "print(credit_RFE_OHE.columns)"
   ]
  },
  {
   "cell_type": "markdown",
   "metadata": {},
   "source": [
    "## Make test/train splits"
   ]
  },
  {
   "cell_type": "code",
   "execution_count": 119,
   "metadata": {},
   "outputs": [],
   "source": [
    "#original data set - already completed as X_train_v0, X_test_v0, y_train_v0, y_test_v0"
   ]
  },
  {
   "cell_type": "code",
   "execution_count": 120,
   "metadata": {},
   "outputs": [
    {
     "name": "stdout",
     "output_type": "stream",
     "text": [
      "<class 'pandas.core.frame.DataFrame'>\n",
      "RangeIndex: 30000 entries, 0 to 29999\n",
      "Data columns (total 63 columns):\n",
      "LIMIT_BAL                         30000 non-null int64\n",
      "SEX                               30000 non-null int64\n",
      "EDUCATION                         30000 non-null int64\n",
      "MARRIAGE                          30000 non-null int64\n",
      "PAY_0                             30000 non-null int64\n",
      "PAY_2                             30000 non-null int64\n",
      "PAY_3                             30000 non-null int64\n",
      "PAY_4                             30000 non-null int64\n",
      "PAY_5                             30000 non-null int64\n",
      "PAY_6                             30000 non-null int64\n",
      "default                           30000 non-null int64\n",
      "AGE_(20.999, 28.0]                30000 non-null uint8\n",
      "AGE_(28.0, 34.0]                  30000 non-null uint8\n",
      "AGE_(34.0, 41.0]                  30000 non-null uint8\n",
      "AGE_(41.0, 79.0]                  30000 non-null uint8\n",
      "BILL_AMT1_(-16558.0, 0.0]         30000 non-null uint8\n",
      "BILL_AMT1_(0.0, 15000.0]          30000 non-null uint8\n",
      "BILL_AMT1_(15000.0, 60000.0]      30000 non-null uint8\n",
      "BILL_AMT1_(60000.0, 964511.0]     30000 non-null uint8\n",
      "BILL_AMT2_(-69777.001, 0.0]       30000 non-null uint8\n",
      "BILL_AMT2_(0.0, 15000.0]          30000 non-null uint8\n",
      "BILL_AMT2_(15000.0, 60000.0]      30000 non-null uint8\n",
      "BILL_AMT2_(60000.0, 983931.0]     30000 non-null uint8\n",
      "BILL_AMT3_(-157264.001, 0.0]      30000 non-null uint8\n",
      "BILL_AMT3_(0.0, 15000.0]          30000 non-null uint8\n",
      "BILL_AMT3_(15000.0, 60000.0]      30000 non-null uint8\n",
      "BILL_AMT3_(60000.0, 1664089.0]    30000 non-null uint8\n",
      "BILL_AMT4_(-170000.001, 0.0]      30000 non-null uint8\n",
      "BILL_AMT4_(0.0, 15000.0]          30000 non-null uint8\n",
      "BILL_AMT4_(15000.0, 60000.0]      30000 non-null uint8\n",
      "BILL_AMT4_(60000.0, 891586.0]     30000 non-null uint8\n",
      "BILL_AMT5_(-81334.001, 0.0]       30000 non-null uint8\n",
      "BILL_AMT5_(0.0, 15000.0]          30000 non-null uint8\n",
      "BILL_AMT5_(15000.0, 60000.0]      30000 non-null uint8\n",
      "BILL_AMT5_(60000.0, 927171.0]     30000 non-null uint8\n",
      "BILL_AMT6_(-339603.001, 0.0]      30000 non-null uint8\n",
      "BILL_AMT6_(0.0, 15000.0]          30000 non-null uint8\n",
      "BILL_AMT6_(15000.0, 60000.0]      30000 non-null uint8\n",
      "BILL_AMT6_(60000.0, 961664.0]     30000 non-null uint8\n",
      "PAY_AMT1_(-0.001, 1000.0]         30000 non-null uint8\n",
      "PAY_AMT1_(1000.0, 2100.0]         30000 non-null uint8\n",
      "PAY_AMT1_(2100.0, 5006.0]         30000 non-null uint8\n",
      "PAY_AMT1_(5006.0, 873552.0]       30000 non-null uint8\n",
      "PAY_AMT2_(-0.001, 833.0]          30000 non-null uint8\n",
      "PAY_AMT2_(2009.0, 5000.0]         30000 non-null uint8\n",
      "PAY_AMT2_(5000.0, 1684259.0]      30000 non-null uint8\n",
      "PAY_AMT2_(833.0, 2009.0]          30000 non-null uint8\n",
      "PAY_AMT3_(-0.001, 390.0]          30000 non-null uint8\n",
      "PAY_AMT3_(1800.0, 4505.0]         30000 non-null uint8\n",
      "PAY_AMT3_(390.0, 1800.0]          30000 non-null uint8\n",
      "PAY_AMT3_(4505.0, 896040.0]       30000 non-null uint8\n",
      "PAY_AMT4_(-0.001, 296.0]          30000 non-null uint8\n",
      "PAY_AMT4_(1500.0, 4013.25]        30000 non-null uint8\n",
      "PAY_AMT4_(296.0, 1500.0]          30000 non-null uint8\n",
      "PAY_AMT4_(4013.25, 621000.0]      30000 non-null uint8\n",
      "PAY_AMT5_(-0.001, 252.5]          30000 non-null uint8\n",
      "PAY_AMT5_(1500.0, 4031.5]         30000 non-null uint8\n",
      "PAY_AMT5_(252.5, 1500.0]          30000 non-null uint8\n",
      "PAY_AMT5_(4031.5, 426529.0]       30000 non-null uint8\n",
      "PAY_AMT6_(-0.001, 117.75]         30000 non-null uint8\n",
      "PAY_AMT6_(117.75, 1500.0]         30000 non-null uint8\n",
      "PAY_AMT6_(1500.0, 4000.0]         30000 non-null uint8\n",
      "PAY_AMT6_(4000.0, 528666.0]       30000 non-null uint8\n",
      "dtypes: int64(11), uint8(52)\n",
      "memory usage: 4.0 MB\n",
      "None\n"
     ]
    }
   ],
   "source": [
    "print(credit_v1_OHE.info())"
   ]
  },
  {
   "cell_type": "code",
   "execution_count": 121,
   "metadata": {},
   "outputs": [],
   "source": [
    "#move default to last column\n",
    "cols = list(credit_v1_OHE.columns.values) \n",
    "cols.pop(cols.index('default')) \n",
    "credit_v1_OHE = credit_v1_OHE[cols+['default']]"
   ]
  },
  {
   "cell_type": "code",
   "execution_count": 122,
   "metadata": {},
   "outputs": [
    {
     "name": "stdout",
     "output_type": "stream",
     "text": [
      "Summary of feature sample\n"
     ]
    },
    {
     "data": {
      "text/html": [
       "<div>\n",
       "<style scoped>\n",
       "    .dataframe tbody tr th:only-of-type {\n",
       "        vertical-align: middle;\n",
       "    }\n",
       "\n",
       "    .dataframe tbody tr th {\n",
       "        vertical-align: top;\n",
       "    }\n",
       "\n",
       "    .dataframe thead th {\n",
       "        text-align: right;\n",
       "    }\n",
       "</style>\n",
       "<table border=\"1\" class=\"dataframe\">\n",
       "  <thead>\n",
       "    <tr style=\"text-align: right;\">\n",
       "      <th></th>\n",
       "      <th>LIMIT_BAL</th>\n",
       "      <th>SEX</th>\n",
       "      <th>EDUCATION</th>\n",
       "      <th>MARRIAGE</th>\n",
       "      <th>PAY_0</th>\n",
       "      <th>PAY_2</th>\n",
       "      <th>PAY_3</th>\n",
       "      <th>PAY_4</th>\n",
       "      <th>PAY_5</th>\n",
       "      <th>PAY_6</th>\n",
       "      <th>AGE_(20.999, 28.0]</th>\n",
       "      <th>AGE_(28.0, 34.0]</th>\n",
       "      <th>AGE_(34.0, 41.0]</th>\n",
       "      <th>AGE_(41.0, 79.0]</th>\n",
       "      <th>BILL_AMT1_(-16558.0, 0.0]</th>\n",
       "      <th>...</th>\n",
       "      <th>PAY_AMT3_(1800.0, 4505.0]</th>\n",
       "      <th>PAY_AMT3_(390.0, 1800.0]</th>\n",
       "      <th>PAY_AMT3_(4505.0, 896040.0]</th>\n",
       "      <th>PAY_AMT4_(-0.001, 296.0]</th>\n",
       "      <th>PAY_AMT4_(1500.0, 4013.25]</th>\n",
       "      <th>PAY_AMT4_(296.0, 1500.0]</th>\n",
       "      <th>PAY_AMT4_(4013.25, 621000.0]</th>\n",
       "      <th>PAY_AMT5_(-0.001, 252.5]</th>\n",
       "      <th>PAY_AMT5_(1500.0, 4031.5]</th>\n",
       "      <th>PAY_AMT5_(252.5, 1500.0]</th>\n",
       "      <th>PAY_AMT5_(4031.5, 426529.0]</th>\n",
       "      <th>PAY_AMT6_(-0.001, 117.75]</th>\n",
       "      <th>PAY_AMT6_(117.75, 1500.0]</th>\n",
       "      <th>PAY_AMT6_(1500.0, 4000.0]</th>\n",
       "      <th>PAY_AMT6_(4000.0, 528666.0]</th>\n",
       "    </tr>\n",
       "  </thead>\n",
       "  <tbody>\n",
       "    <tr>\n",
       "      <th>0</th>\n",
       "      <td>20000</td>\n",
       "      <td>2</td>\n",
       "      <td>2</td>\n",
       "      <td>1</td>\n",
       "      <td>2</td>\n",
       "      <td>2</td>\n",
       "      <td>-1</td>\n",
       "      <td>-1</td>\n",
       "      <td>-2</td>\n",
       "      <td>-2</td>\n",
       "      <td>1</td>\n",
       "      <td>0</td>\n",
       "      <td>0</td>\n",
       "      <td>0</td>\n",
       "      <td>0</td>\n",
       "      <td>...</td>\n",
       "      <td>0</td>\n",
       "      <td>0</td>\n",
       "      <td>0</td>\n",
       "      <td>1</td>\n",
       "      <td>0</td>\n",
       "      <td>0</td>\n",
       "      <td>0</td>\n",
       "      <td>1</td>\n",
       "      <td>0</td>\n",
       "      <td>0</td>\n",
       "      <td>0</td>\n",
       "      <td>1</td>\n",
       "      <td>0</td>\n",
       "      <td>0</td>\n",
       "      <td>0</td>\n",
       "    </tr>\n",
       "    <tr>\n",
       "      <th>1</th>\n",
       "      <td>120000</td>\n",
       "      <td>2</td>\n",
       "      <td>2</td>\n",
       "      <td>2</td>\n",
       "      <td>-1</td>\n",
       "      <td>2</td>\n",
       "      <td>0</td>\n",
       "      <td>0</td>\n",
       "      <td>0</td>\n",
       "      <td>2</td>\n",
       "      <td>1</td>\n",
       "      <td>0</td>\n",
       "      <td>0</td>\n",
       "      <td>0</td>\n",
       "      <td>0</td>\n",
       "      <td>...</td>\n",
       "      <td>0</td>\n",
       "      <td>1</td>\n",
       "      <td>0</td>\n",
       "      <td>0</td>\n",
       "      <td>0</td>\n",
       "      <td>1</td>\n",
       "      <td>0</td>\n",
       "      <td>1</td>\n",
       "      <td>0</td>\n",
       "      <td>0</td>\n",
       "      <td>0</td>\n",
       "      <td>0</td>\n",
       "      <td>0</td>\n",
       "      <td>1</td>\n",
       "      <td>0</td>\n",
       "    </tr>\n",
       "    <tr>\n",
       "      <th>2</th>\n",
       "      <td>90000</td>\n",
       "      <td>2</td>\n",
       "      <td>2</td>\n",
       "      <td>2</td>\n",
       "      <td>0</td>\n",
       "      <td>0</td>\n",
       "      <td>0</td>\n",
       "      <td>0</td>\n",
       "      <td>0</td>\n",
       "      <td>0</td>\n",
       "      <td>0</td>\n",
       "      <td>1</td>\n",
       "      <td>0</td>\n",
       "      <td>0</td>\n",
       "      <td>0</td>\n",
       "      <td>...</td>\n",
       "      <td>0</td>\n",
       "      <td>1</td>\n",
       "      <td>0</td>\n",
       "      <td>0</td>\n",
       "      <td>0</td>\n",
       "      <td>1</td>\n",
       "      <td>0</td>\n",
       "      <td>0</td>\n",
       "      <td>0</td>\n",
       "      <td>1</td>\n",
       "      <td>0</td>\n",
       "      <td>0</td>\n",
       "      <td>0</td>\n",
       "      <td>0</td>\n",
       "      <td>1</td>\n",
       "    </tr>\n",
       "    <tr>\n",
       "      <th>3</th>\n",
       "      <td>50000</td>\n",
       "      <td>2</td>\n",
       "      <td>2</td>\n",
       "      <td>1</td>\n",
       "      <td>0</td>\n",
       "      <td>0</td>\n",
       "      <td>0</td>\n",
       "      <td>0</td>\n",
       "      <td>0</td>\n",
       "      <td>0</td>\n",
       "      <td>0</td>\n",
       "      <td>0</td>\n",
       "      <td>1</td>\n",
       "      <td>0</td>\n",
       "      <td>0</td>\n",
       "      <td>...</td>\n",
       "      <td>0</td>\n",
       "      <td>1</td>\n",
       "      <td>0</td>\n",
       "      <td>0</td>\n",
       "      <td>0</td>\n",
       "      <td>1</td>\n",
       "      <td>0</td>\n",
       "      <td>0</td>\n",
       "      <td>0</td>\n",
       "      <td>1</td>\n",
       "      <td>0</td>\n",
       "      <td>0</td>\n",
       "      <td>1</td>\n",
       "      <td>0</td>\n",
       "      <td>0</td>\n",
       "    </tr>\n",
       "    <tr>\n",
       "      <th>4</th>\n",
       "      <td>50000</td>\n",
       "      <td>1</td>\n",
       "      <td>2</td>\n",
       "      <td>1</td>\n",
       "      <td>-1</td>\n",
       "      <td>0</td>\n",
       "      <td>-1</td>\n",
       "      <td>0</td>\n",
       "      <td>0</td>\n",
       "      <td>0</td>\n",
       "      <td>0</td>\n",
       "      <td>0</td>\n",
       "      <td>0</td>\n",
       "      <td>1</td>\n",
       "      <td>0</td>\n",
       "      <td>...</td>\n",
       "      <td>0</td>\n",
       "      <td>0</td>\n",
       "      <td>1</td>\n",
       "      <td>0</td>\n",
       "      <td>0</td>\n",
       "      <td>0</td>\n",
       "      <td>1</td>\n",
       "      <td>0</td>\n",
       "      <td>0</td>\n",
       "      <td>1</td>\n",
       "      <td>0</td>\n",
       "      <td>0</td>\n",
       "      <td>1</td>\n",
       "      <td>0</td>\n",
       "      <td>0</td>\n",
       "    </tr>\n",
       "  </tbody>\n",
       "</table>\n",
       "<p>5 rows × 62 columns</p>\n",
       "</div>"
      ],
      "text/plain": [
       "   LIMIT_BAL  SEX  EDUCATION  MARRIAGE  PAY_0  PAY_2  PAY_3  PAY_4  PAY_5  \\\n",
       "0      20000    2          2         1      2      2     -1     -1     -2   \n",
       "1     120000    2          2         2     -1      2      0      0      0   \n",
       "2      90000    2          2         2      0      0      0      0      0   \n",
       "3      50000    2          2         1      0      0      0      0      0   \n",
       "4      50000    1          2         1     -1      0     -1      0      0   \n",
       "\n",
       "   PAY_6  AGE_(20.999, 28.0]  AGE_(28.0, 34.0]  AGE_(34.0, 41.0]  \\\n",
       "0     -2                   1                 0                 0   \n",
       "1      2                   1                 0                 0   \n",
       "2      0                   0                 1                 0   \n",
       "3      0                   0                 0                 1   \n",
       "4      0                   0                 0                 0   \n",
       "\n",
       "   AGE_(41.0, 79.0]  BILL_AMT1_(-16558.0, 0.0]  ...  \\\n",
       "0                 0                          0  ...   \n",
       "1                 0                          0  ...   \n",
       "2                 0                          0  ...   \n",
       "3                 0                          0  ...   \n",
       "4                 1                          0  ...   \n",
       "\n",
       "   PAY_AMT3_(1800.0, 4505.0]  PAY_AMT3_(390.0, 1800.0]  \\\n",
       "0                          0                         0   \n",
       "1                          0                         1   \n",
       "2                          0                         1   \n",
       "3                          0                         1   \n",
       "4                          0                         0   \n",
       "\n",
       "   PAY_AMT3_(4505.0, 896040.0]  PAY_AMT4_(-0.001, 296.0]  \\\n",
       "0                            0                         1   \n",
       "1                            0                         0   \n",
       "2                            0                         0   \n",
       "3                            0                         0   \n",
       "4                            1                         0   \n",
       "\n",
       "   PAY_AMT4_(1500.0, 4013.25]  PAY_AMT4_(296.0, 1500.0]  \\\n",
       "0                           0                         0   \n",
       "1                           0                         1   \n",
       "2                           0                         1   \n",
       "3                           0                         1   \n",
       "4                           0                         0   \n",
       "\n",
       "   PAY_AMT4_(4013.25, 621000.0]  PAY_AMT5_(-0.001, 252.5]  \\\n",
       "0                             0                         1   \n",
       "1                             0                         1   \n",
       "2                             0                         0   \n",
       "3                             0                         0   \n",
       "4                             1                         0   \n",
       "\n",
       "   PAY_AMT5_(1500.0, 4031.5]  PAY_AMT5_(252.5, 1500.0]  \\\n",
       "0                          0                         0   \n",
       "1                          0                         0   \n",
       "2                          0                         1   \n",
       "3                          0                         1   \n",
       "4                          0                         1   \n",
       "\n",
       "   PAY_AMT5_(4031.5, 426529.0]  PAY_AMT6_(-0.001, 117.75]  \\\n",
       "0                            0                          1   \n",
       "1                            0                          0   \n",
       "2                            0                          0   \n",
       "3                            0                          0   \n",
       "4                            0                          0   \n",
       "\n",
       "   PAY_AMT6_(117.75, 1500.0]  PAY_AMT6_(1500.0, 4000.0]  \\\n",
       "0                          0                          0   \n",
       "1                          0                          1   \n",
       "2                          0                          0   \n",
       "3                          1                          0   \n",
       "4                          1                          0   \n",
       "\n",
       "   PAY_AMT6_(4000.0, 528666.0]  \n",
       "0                            0  \n",
       "1                            0  \n",
       "2                            1  \n",
       "3                            0  \n",
       "4                            0  \n",
       "\n",
       "[5 rows x 62 columns]"
      ]
     },
     "execution_count": 122,
     "metadata": {},
     "output_type": "execute_result"
    }
   ],
   "source": [
    "#v1 data set\n",
    "features_v1 = credit_v1_OHE.iloc[:,0:62]\n",
    "print('Summary of feature sample')\n",
    "features_v1.head(5)"
   ]
  },
  {
   "cell_type": "code",
   "execution_count": 123,
   "metadata": {
    "scrolled": false
   },
   "outputs": [],
   "source": [
    "X_train_v1, X_test_v1, y_train_v1, y_test_v1 = train_test_split(features_v1, y, test_size=0.2)"
   ]
  },
  {
   "cell_type": "code",
   "execution_count": 124,
   "metadata": {},
   "outputs": [
    {
     "data": {
      "text/plain": [
       "((24000, 62), (24000,))"
      ]
     },
     "execution_count": 124,
     "metadata": {},
     "output_type": "execute_result"
    }
   ],
   "source": [
    "X_train_v1.shape, y_train_v1.shape"
   ]
  },
  {
   "cell_type": "code",
   "execution_count": 125,
   "metadata": {},
   "outputs": [],
   "source": [
    "#CORR data set\n",
    "#move default to last column\n",
    "cols = list(credit_CORR_OHE.columns.values) \n",
    "cols.pop(cols.index('default')) \n",
    "credit_CORR_OHE = credit_CORR_OHE[cols+['default']]"
   ]
  },
  {
   "cell_type": "code",
   "execution_count": 126,
   "metadata": {},
   "outputs": [
    {
     "name": "stdout",
     "output_type": "stream",
     "text": [
      "<class 'pandas.core.frame.DataFrame'>\n",
      "RangeIndex: 30000 entries, 0 to 29999\n",
      "Data columns (total 22 columns):\n",
      "LIMIT_BAL             30000 non-null int64\n",
      "SEX                   30000 non-null int64\n",
      "EDUCATION             30000 non-null int64\n",
      "MARRIAGE              30000 non-null int64\n",
      "PAY_0                 30000 non-null int64\n",
      "PAY_2                 30000 non-null int64\n",
      "PAY_3                 30000 non-null int64\n",
      "PAY_4                 30000 non-null int64\n",
      "PAY_5                 30000 non-null int64\n",
      "PAY_6                 30000 non-null int64\n",
      "BILL_AMT1             30000 non-null int64\n",
      "PAY_AMT1              30000 non-null int64\n",
      "PAY_AMT2              30000 non-null int64\n",
      "PAY_AMT3              30000 non-null int64\n",
      "PAY_AMT4              30000 non-null int64\n",
      "PAY_AMT5              30000 non-null int64\n",
      "PAY_AMT6              30000 non-null int64\n",
      "AGE_(20.999, 28.0]    30000 non-null uint8\n",
      "AGE_(28.0, 34.0]      30000 non-null uint8\n",
      "AGE_(34.0, 41.0]      30000 non-null uint8\n",
      "AGE_(41.0, 79.0]      30000 non-null uint8\n",
      "default               30000 non-null int64\n",
      "dtypes: int64(18), uint8(4)\n",
      "memory usage: 4.2 MB\n",
      "None\n"
     ]
    }
   ],
   "source": [
    "print(credit_CORR_OHE.info())"
   ]
  },
  {
   "cell_type": "code",
   "execution_count": 127,
   "metadata": {},
   "outputs": [
    {
     "name": "stdout",
     "output_type": "stream",
     "text": [
      "Summary of feature sample\n"
     ]
    },
    {
     "data": {
      "text/html": [
       "<div>\n",
       "<style scoped>\n",
       "    .dataframe tbody tr th:only-of-type {\n",
       "        vertical-align: middle;\n",
       "    }\n",
       "\n",
       "    .dataframe tbody tr th {\n",
       "        vertical-align: top;\n",
       "    }\n",
       "\n",
       "    .dataframe thead th {\n",
       "        text-align: right;\n",
       "    }\n",
       "</style>\n",
       "<table border=\"1\" class=\"dataframe\">\n",
       "  <thead>\n",
       "    <tr style=\"text-align: right;\">\n",
       "      <th></th>\n",
       "      <th>LIMIT_BAL</th>\n",
       "      <th>SEX</th>\n",
       "      <th>EDUCATION</th>\n",
       "      <th>MARRIAGE</th>\n",
       "      <th>PAY_0</th>\n",
       "      <th>PAY_2</th>\n",
       "      <th>PAY_3</th>\n",
       "      <th>PAY_4</th>\n",
       "      <th>PAY_5</th>\n",
       "      <th>PAY_6</th>\n",
       "      <th>BILL_AMT1</th>\n",
       "      <th>PAY_AMT1</th>\n",
       "      <th>PAY_AMT2</th>\n",
       "      <th>PAY_AMT3</th>\n",
       "      <th>PAY_AMT4</th>\n",
       "      <th>PAY_AMT5</th>\n",
       "      <th>PAY_AMT6</th>\n",
       "      <th>AGE_(20.999, 28.0]</th>\n",
       "      <th>AGE_(28.0, 34.0]</th>\n",
       "      <th>AGE_(34.0, 41.0]</th>\n",
       "      <th>AGE_(41.0, 79.0]</th>\n",
       "    </tr>\n",
       "  </thead>\n",
       "  <tbody>\n",
       "    <tr>\n",
       "      <th>0</th>\n",
       "      <td>20000</td>\n",
       "      <td>2</td>\n",
       "      <td>2</td>\n",
       "      <td>1</td>\n",
       "      <td>2</td>\n",
       "      <td>2</td>\n",
       "      <td>-1</td>\n",
       "      <td>-1</td>\n",
       "      <td>-2</td>\n",
       "      <td>-2</td>\n",
       "      <td>3913</td>\n",
       "      <td>0</td>\n",
       "      <td>689</td>\n",
       "      <td>0</td>\n",
       "      <td>0</td>\n",
       "      <td>0</td>\n",
       "      <td>0</td>\n",
       "      <td>1</td>\n",
       "      <td>0</td>\n",
       "      <td>0</td>\n",
       "      <td>0</td>\n",
       "    </tr>\n",
       "    <tr>\n",
       "      <th>1</th>\n",
       "      <td>120000</td>\n",
       "      <td>2</td>\n",
       "      <td>2</td>\n",
       "      <td>2</td>\n",
       "      <td>-1</td>\n",
       "      <td>2</td>\n",
       "      <td>0</td>\n",
       "      <td>0</td>\n",
       "      <td>0</td>\n",
       "      <td>2</td>\n",
       "      <td>2682</td>\n",
       "      <td>0</td>\n",
       "      <td>1000</td>\n",
       "      <td>1000</td>\n",
       "      <td>1000</td>\n",
       "      <td>0</td>\n",
       "      <td>2000</td>\n",
       "      <td>1</td>\n",
       "      <td>0</td>\n",
       "      <td>0</td>\n",
       "      <td>0</td>\n",
       "    </tr>\n",
       "    <tr>\n",
       "      <th>2</th>\n",
       "      <td>90000</td>\n",
       "      <td>2</td>\n",
       "      <td>2</td>\n",
       "      <td>2</td>\n",
       "      <td>0</td>\n",
       "      <td>0</td>\n",
       "      <td>0</td>\n",
       "      <td>0</td>\n",
       "      <td>0</td>\n",
       "      <td>0</td>\n",
       "      <td>29239</td>\n",
       "      <td>1518</td>\n",
       "      <td>1500</td>\n",
       "      <td>1000</td>\n",
       "      <td>1000</td>\n",
       "      <td>1000</td>\n",
       "      <td>5000</td>\n",
       "      <td>0</td>\n",
       "      <td>1</td>\n",
       "      <td>0</td>\n",
       "      <td>0</td>\n",
       "    </tr>\n",
       "    <tr>\n",
       "      <th>3</th>\n",
       "      <td>50000</td>\n",
       "      <td>2</td>\n",
       "      <td>2</td>\n",
       "      <td>1</td>\n",
       "      <td>0</td>\n",
       "      <td>0</td>\n",
       "      <td>0</td>\n",
       "      <td>0</td>\n",
       "      <td>0</td>\n",
       "      <td>0</td>\n",
       "      <td>46990</td>\n",
       "      <td>2000</td>\n",
       "      <td>2019</td>\n",
       "      <td>1200</td>\n",
       "      <td>1100</td>\n",
       "      <td>1069</td>\n",
       "      <td>1000</td>\n",
       "      <td>0</td>\n",
       "      <td>0</td>\n",
       "      <td>1</td>\n",
       "      <td>0</td>\n",
       "    </tr>\n",
       "    <tr>\n",
       "      <th>4</th>\n",
       "      <td>50000</td>\n",
       "      <td>1</td>\n",
       "      <td>2</td>\n",
       "      <td>1</td>\n",
       "      <td>-1</td>\n",
       "      <td>0</td>\n",
       "      <td>-1</td>\n",
       "      <td>0</td>\n",
       "      <td>0</td>\n",
       "      <td>0</td>\n",
       "      <td>8617</td>\n",
       "      <td>2000</td>\n",
       "      <td>36681</td>\n",
       "      <td>10000</td>\n",
       "      <td>9000</td>\n",
       "      <td>689</td>\n",
       "      <td>679</td>\n",
       "      <td>0</td>\n",
       "      <td>0</td>\n",
       "      <td>0</td>\n",
       "      <td>1</td>\n",
       "    </tr>\n",
       "  </tbody>\n",
       "</table>\n",
       "</div>"
      ],
      "text/plain": [
       "   LIMIT_BAL  SEX  EDUCATION  MARRIAGE  PAY_0  PAY_2  PAY_3  PAY_4  PAY_5  \\\n",
       "0      20000    2          2         1      2      2     -1     -1     -2   \n",
       "1     120000    2          2         2     -1      2      0      0      0   \n",
       "2      90000    2          2         2      0      0      0      0      0   \n",
       "3      50000    2          2         1      0      0      0      0      0   \n",
       "4      50000    1          2         1     -1      0     -1      0      0   \n",
       "\n",
       "   PAY_6  BILL_AMT1  PAY_AMT1  PAY_AMT2  PAY_AMT3  PAY_AMT4  PAY_AMT5  \\\n",
       "0     -2       3913         0       689         0         0         0   \n",
       "1      2       2682         0      1000      1000      1000         0   \n",
       "2      0      29239      1518      1500      1000      1000      1000   \n",
       "3      0      46990      2000      2019      1200      1100      1069   \n",
       "4      0       8617      2000     36681     10000      9000       689   \n",
       "\n",
       "   PAY_AMT6  AGE_(20.999, 28.0]  AGE_(28.0, 34.0]  AGE_(34.0, 41.0]  \\\n",
       "0         0                   1                 0                 0   \n",
       "1      2000                   1                 0                 0   \n",
       "2      5000                   0                 1                 0   \n",
       "3      1000                   0                 0                 1   \n",
       "4       679                   0                 0                 0   \n",
       "\n",
       "   AGE_(41.0, 79.0]  \n",
       "0                 0  \n",
       "1                 0  \n",
       "2                 0  \n",
       "3                 0  \n",
       "4                 1  "
      ]
     },
     "execution_count": 127,
     "metadata": {},
     "output_type": "execute_result"
    }
   ],
   "source": [
    "#CORR data set\n",
    "features_CORR = credit_CORR_OHE.iloc[:,0:21]\n",
    "print('Summary of feature sample')\n",
    "features_CORR.head(5)"
   ]
  },
  {
   "cell_type": "code",
   "execution_count": 128,
   "metadata": {},
   "outputs": [],
   "source": [
    "X_train_CORR, X_test_CORR, y_train_CORR, y_test_CORR = train_test_split(features_CORR, y, test_size=0.2)"
   ]
  },
  {
   "cell_type": "code",
   "execution_count": 129,
   "metadata": {},
   "outputs": [
    {
     "data": {
      "text/plain": [
       "((24000, 21), (6000, 21), (24000,), (6000,))"
      ]
     },
     "execution_count": 129,
     "metadata": {},
     "output_type": "execute_result"
    }
   ],
   "source": [
    "X_train_CORR.shape, X_test_CORR.shape, y_train_CORR.shape, y_test_CORR.shape"
   ]
  },
  {
   "cell_type": "code",
   "execution_count": 130,
   "metadata": {},
   "outputs": [
    {
     "name": "stdout",
     "output_type": "stream",
     "text": [
      "<class 'pandas.core.frame.DataFrame'>\n",
      "RangeIndex: 30000 entries, 0 to 29999\n",
      "Data columns (total 16 columns):\n",
      "LIMIT_BAL             30000 non-null int64\n",
      "PAY_0                 30000 non-null int64\n",
      "BILL_AMT1             30000 non-null int64\n",
      "BILL_AMT2             30000 non-null int64\n",
      "BILL_AMT3             30000 non-null int64\n",
      "BILL_AMT4             30000 non-null int64\n",
      "BILL_AMT5             30000 non-null int64\n",
      "BILL_AMT6             30000 non-null int64\n",
      "PAY_AMT1              30000 non-null int64\n",
      "PAY_AMT2              30000 non-null int64\n",
      "PAY_AMT3              30000 non-null int64\n",
      "AGE_(20.999, 28.0]    30000 non-null uint8\n",
      "AGE_(28.0, 34.0]      30000 non-null uint8\n",
      "AGE_(34.0, 41.0]      30000 non-null uint8\n",
      "AGE_(41.0, 79.0]      30000 non-null uint8\n",
      "default               30000 non-null int64\n",
      "dtypes: int64(12), uint8(4)\n",
      "memory usage: 2.9 MB\n",
      "None\n"
     ]
    }
   ],
   "source": [
    "#RFE data set\n",
    "print(credit_RFE_OHE.info())"
   ]
  },
  {
   "cell_type": "code",
   "execution_count": 131,
   "metadata": {},
   "outputs": [
    {
     "name": "stdout",
     "output_type": "stream",
     "text": [
      "Summary of feature sample\n"
     ]
    },
    {
     "data": {
      "text/html": [
       "<div>\n",
       "<style scoped>\n",
       "    .dataframe tbody tr th:only-of-type {\n",
       "        vertical-align: middle;\n",
       "    }\n",
       "\n",
       "    .dataframe tbody tr th {\n",
       "        vertical-align: top;\n",
       "    }\n",
       "\n",
       "    .dataframe thead th {\n",
       "        text-align: right;\n",
       "    }\n",
       "</style>\n",
       "<table border=\"1\" class=\"dataframe\">\n",
       "  <thead>\n",
       "    <tr style=\"text-align: right;\">\n",
       "      <th></th>\n",
       "      <th>LIMIT_BAL</th>\n",
       "      <th>PAY_0</th>\n",
       "      <th>BILL_AMT1</th>\n",
       "      <th>BILL_AMT2</th>\n",
       "      <th>BILL_AMT3</th>\n",
       "      <th>BILL_AMT4</th>\n",
       "      <th>BILL_AMT5</th>\n",
       "      <th>BILL_AMT6</th>\n",
       "      <th>PAY_AMT1</th>\n",
       "      <th>PAY_AMT2</th>\n",
       "      <th>PAY_AMT3</th>\n",
       "      <th>AGE_(20.999, 28.0]</th>\n",
       "      <th>AGE_(28.0, 34.0]</th>\n",
       "      <th>AGE_(34.0, 41.0]</th>\n",
       "      <th>AGE_(41.0, 79.0]</th>\n",
       "    </tr>\n",
       "  </thead>\n",
       "  <tbody>\n",
       "    <tr>\n",
       "      <th>0</th>\n",
       "      <td>20000</td>\n",
       "      <td>2</td>\n",
       "      <td>3913</td>\n",
       "      <td>3102</td>\n",
       "      <td>689</td>\n",
       "      <td>0</td>\n",
       "      <td>0</td>\n",
       "      <td>0</td>\n",
       "      <td>0</td>\n",
       "      <td>689</td>\n",
       "      <td>0</td>\n",
       "      <td>1</td>\n",
       "      <td>0</td>\n",
       "      <td>0</td>\n",
       "      <td>0</td>\n",
       "    </tr>\n",
       "    <tr>\n",
       "      <th>1</th>\n",
       "      <td>120000</td>\n",
       "      <td>-1</td>\n",
       "      <td>2682</td>\n",
       "      <td>1725</td>\n",
       "      <td>2682</td>\n",
       "      <td>3272</td>\n",
       "      <td>3455</td>\n",
       "      <td>3261</td>\n",
       "      <td>0</td>\n",
       "      <td>1000</td>\n",
       "      <td>1000</td>\n",
       "      <td>1</td>\n",
       "      <td>0</td>\n",
       "      <td>0</td>\n",
       "      <td>0</td>\n",
       "    </tr>\n",
       "    <tr>\n",
       "      <th>2</th>\n",
       "      <td>90000</td>\n",
       "      <td>0</td>\n",
       "      <td>29239</td>\n",
       "      <td>14027</td>\n",
       "      <td>13559</td>\n",
       "      <td>14331</td>\n",
       "      <td>14948</td>\n",
       "      <td>15549</td>\n",
       "      <td>1518</td>\n",
       "      <td>1500</td>\n",
       "      <td>1000</td>\n",
       "      <td>0</td>\n",
       "      <td>1</td>\n",
       "      <td>0</td>\n",
       "      <td>0</td>\n",
       "    </tr>\n",
       "    <tr>\n",
       "      <th>3</th>\n",
       "      <td>50000</td>\n",
       "      <td>0</td>\n",
       "      <td>46990</td>\n",
       "      <td>48233</td>\n",
       "      <td>49291</td>\n",
       "      <td>28314</td>\n",
       "      <td>28959</td>\n",
       "      <td>29547</td>\n",
       "      <td>2000</td>\n",
       "      <td>2019</td>\n",
       "      <td>1200</td>\n",
       "      <td>0</td>\n",
       "      <td>0</td>\n",
       "      <td>1</td>\n",
       "      <td>0</td>\n",
       "    </tr>\n",
       "    <tr>\n",
       "      <th>4</th>\n",
       "      <td>50000</td>\n",
       "      <td>-1</td>\n",
       "      <td>8617</td>\n",
       "      <td>5670</td>\n",
       "      <td>35835</td>\n",
       "      <td>20940</td>\n",
       "      <td>19146</td>\n",
       "      <td>19131</td>\n",
       "      <td>2000</td>\n",
       "      <td>36681</td>\n",
       "      <td>10000</td>\n",
       "      <td>0</td>\n",
       "      <td>0</td>\n",
       "      <td>0</td>\n",
       "      <td>1</td>\n",
       "    </tr>\n",
       "  </tbody>\n",
       "</table>\n",
       "</div>"
      ],
      "text/plain": [
       "   LIMIT_BAL  PAY_0  BILL_AMT1  BILL_AMT2  BILL_AMT3  BILL_AMT4  BILL_AMT5  \\\n",
       "0      20000      2       3913       3102        689          0          0   \n",
       "1     120000     -1       2682       1725       2682       3272       3455   \n",
       "2      90000      0      29239      14027      13559      14331      14948   \n",
       "3      50000      0      46990      48233      49291      28314      28959   \n",
       "4      50000     -1       8617       5670      35835      20940      19146   \n",
       "\n",
       "   BILL_AMT6  PAY_AMT1  PAY_AMT2  PAY_AMT3  AGE_(20.999, 28.0]  \\\n",
       "0          0         0       689         0                   1   \n",
       "1       3261         0      1000      1000                   1   \n",
       "2      15549      1518      1500      1000                   0   \n",
       "3      29547      2000      2019      1200                   0   \n",
       "4      19131      2000     36681     10000                   0   \n",
       "\n",
       "   AGE_(28.0, 34.0]  AGE_(34.0, 41.0]  AGE_(41.0, 79.0]  \n",
       "0                 0                 0                 0  \n",
       "1                 0                 0                 0  \n",
       "2                 1                 0                 0  \n",
       "3                 0                 1                 0  \n",
       "4                 0                 0                 1  "
      ]
     },
     "execution_count": 131,
     "metadata": {},
     "output_type": "execute_result"
    }
   ],
   "source": [
    "features_RFE = credit_RFE_OHE.iloc[:,0:15]\n",
    "print('Summary of feature sample')\n",
    "features_RFE.head(5)"
   ]
  },
  {
   "cell_type": "code",
   "execution_count": 132,
   "metadata": {},
   "outputs": [],
   "source": [
    "X_train_RFE, X_test_RFE, y_train_RFE, y_test_RFE = train_test_split(features_RFE, y, test_size=0.2)"
   ]
  },
  {
   "cell_type": "code",
   "execution_count": 133,
   "metadata": {},
   "outputs": [
    {
     "data": {
      "text/plain": [
       "((24000, 15), (6000, 15), (24000,), (6000,))"
      ]
     },
     "execution_count": 133,
     "metadata": {},
     "output_type": "execute_result"
    }
   ],
   "source": [
    "X_train_RFE.shape, X_test_RFE.shape, y_train_RFE.shape, y_test_RFE.shape"
   ]
  },
  {
   "cell_type": "markdown",
   "metadata": {},
   "source": [
    "## Modelling"
   ]
  },
  {
   "cell_type": "markdown",
   "metadata": {},
   "source": [
    "#### K-Nearest Neighbors"
   ]
  },
  {
   "cell_type": "code",
   "execution_count": 477,
   "metadata": {},
   "outputs": [
    {
     "name": "stdout",
     "output_type": "stream",
     "text": [
      "{1: 0.6903333333333334, 2: 0.7536666666666667, 3: 0.7345, 4: 0.7591666666666667, 5: 0.748, 6: 0.761, 7: 0.7545, 8: 0.7621666666666667, 9: 0.7561666666666667, 10: 0.7635, 11: 0.7585, 12: 0.7635, 13: 0.764, 14: 0.7655}\n",
      "{1: 0.3771253493148379, 2: 0.3771253493148379, 3: 0.3771253493148379, 4: 0.3771253493148379, 5: 0.3771253493148379, 6: 0.3771253493148379, 7: 0.3771253493148379, 8: 0.3771253493148379, 9: 0.3771253493148379, 10: 0.3771253493148379, 11: 0.3771253493148379, 12: 0.3771253493148379, 13: 0.3771253493148379, 14: 0.3771253493148379}\n"
     ]
    }
   ],
   "source": [
    "#original data (v0)\n",
    "\n",
    "#set k_range to try k values from 1 to 14\n",
    "k_range = range(1,15)\n",
    "\n",
    "#make a list of each accuracy (defined later) for each k\n",
    "scores_v0 = {}\n",
    "scores_v0_list = []\n",
    "\n",
    "#make a list of kappa for each k\n",
    "kappa_v0 = {}\n",
    "kappa_v0_list = []\n",
    "\n",
    "#fit data\n",
    "for k in k_range:\n",
    "    knn = KNeighborsClassifier(n_neighbors=k)\n",
    "    knn.fit(X_train_v0,y_train_v0)\n",
    "    \n",
    "    y_pred = knn.predict(X_test_v0)\n",
    "    \n",
    "    scores_v0[k] = metrics.accuracy_score(y_test_v0,y_pred)\n",
    "    scores_v0_list.append(scores[k])\n",
    "    \n",
    "    kappa_v0[k] = metrics.cohen_kappa_score(y_test_v0,y_pred_v0)\n",
    "    kappa_v0_list.append(kappa_v0[k])\n",
    "\n",
    "print(scores_v0)\n",
    "print(kappa_v0)"
   ]
  },
  {
   "cell_type": "code",
   "execution_count": 478,
   "metadata": {},
   "outputs": [
    {
     "name": "stdout",
     "output_type": "stream",
     "text": [
      "Best K-value for accuracy: 14\n",
      "Best Accuracy: 0.7751666666666667\n",
      "Best Kappa: 0.3771253493148379\n"
     ]
    }
   ],
   "source": [
    "#find key (k-value) for best accuracy\n",
    "max_key = max(scores_v0, key=lambda k: scores_v0[k])\n",
    "\n",
    "print(\"Best K-value for accuracy:\",max_key)\n",
    "print(\"Best Accuracy:\",max(scores_v0_list))\n",
    "print(\"Best Kappa:\",kappa_v0[max_key])"
   ]
  },
  {
   "cell_type": "code",
   "execution_count": 479,
   "metadata": {},
   "outputs": [
    {
     "data": {
      "image/png": "[encoded data removed]",
      "text/plain": [
       "<Figure size 432x288 with 1 Axes>"
      ]
     },
     "metadata": {},
     "output_type": "display_data"
    }
   ],
   "source": [
    "plt.plot(k_range,scores_v0_list)\n",
    "plt.plot(k_range,kappa_v0_list)\n",
    "plt.xlabel(\"K-Value\")\n",
    "plt.ylabel(\"Score\")\n",
    "plt.legend([\"Accuracy\",\"Kappa\"])\n",
    "plt.title(\"KNN score for original data set\")\n",
    "plt.show()"
   ]
  },
  {
   "cell_type": "markdown",
   "metadata": {},
   "source": [
    "Kappa is low for this model and data combination. Accuracy is not great either, since it does not do much better than probability for predicting default rate."
   ]
  },
  {
   "cell_type": "code",
   "execution_count": 480,
   "metadata": {},
   "outputs": [],
   "source": [
    "#v1 discretized data set\n",
    "scores_v1 = {}\n",
    "scores_v1_list = []\n",
    "\n",
    "kappa_v1 = {}\n",
    "kappa_v1_list = []\n",
    "\n",
    "for k in k_range:\n",
    "    knn = KNeighborsClassifier(n_neighbors=k)\n",
    "    knn.fit(X_train_v1,y_train_v1)\n",
    "    \n",
    "    y_pred_v1 = knn.predict(X_test_v1)\n",
    "    \n",
    "    scores_v1[k] = metrics.accuracy_score(y_test_v1,y_pred_v1)\n",
    "    scores_v1_list.append(scores_v1[k])\n",
    "    \n",
    "    kappa_v1[k] = metrics.cohen_kappa_score(y_test_v1,y_pred_v1)\n",
    "    kappa_v1_list.append(kappa_v1[k])"
   ]
  },
  {
   "cell_type": "code",
   "execution_count": 481,
   "metadata": {},
   "outputs": [
    {
     "name": "stdout",
     "output_type": "stream",
     "text": [
      "{1: 0.7261666666666666, 2: 0.7891666666666667, 3: 0.7776666666666666, 4: 0.7933333333333333, 5: 0.7955, 6: 0.8003333333333333, 7: 0.7996666666666666, 8: 0.7996666666666666, 9: 0.8033333333333333, 10: 0.8035, 11: 0.8008333333333333, 12: 0.8041666666666667, 13: 0.8048333333333333, 14: 0.8056666666666666}\n",
      "{1: 0.20713663887703904, 2: 0.19714280153370056, 3: 0.2751162177803016, 4: 0.22439907086344602, 5: 0.2954498039088086, 6: 0.25277946702842624, 7: 0.28930870786035223, 8: 0.24496934127448589, 9: 0.2933566139724956, 10: 0.26124980575694623, 11: 0.2728236026245692, 12: 0.25798377878865075, 13: 0.2820035717920808, 14: 0.2639296267904365}\n"
     ]
    }
   ],
   "source": [
    "print(scores_v1)\n",
    "print(kappa_v1)"
   ]
  },
  {
   "cell_type": "code",
   "execution_count": 482,
   "metadata": {
    "scrolled": true
   },
   "outputs": [
    {
     "name": "stdout",
     "output_type": "stream",
     "text": [
      "Best K-value for accuracy: 14\n",
      "Best Accuracy: 0.8056666666666666\n",
      "Best Kappa: 0.2639296267904365\n"
     ]
    }
   ],
   "source": [
    "#find key (k-value) for best accuracy\n",
    "max_key = max(scores_v1, key=lambda k: scores_v1[k])\n",
    "\n",
    "print(\"Best K-value for accuracy:\",max_key)\n",
    "print(\"Best Accuracy:\",max(scores_v1_list))\n",
    "print(\"Best Kappa:\",kappa_v1[max_key])"
   ]
  },
  {
   "cell_type": "code",
   "execution_count": 484,
   "metadata": {
    "scrolled": true
   },
   "outputs": [
    {
     "name": "stdout",
     "output_type": "stream",
     "text": [
      "[0.80462404 0.79541667 0.803125   0.79291667 0.7966243 ]\n"
     ]
    }
   ],
   "source": [
    "print(cross_val_score(knn_v1, X_train_v1, y_train_v1, cv=5))"
   ]
  },
  {
   "cell_type": "code",
   "execution_count": 483,
   "metadata": {
    "scrolled": false
   },
   "outputs": [
    {
     "data": {
      "image/png": "[encoded data removed]",
      "text/plain": [
       "<Figure size 432x288 with 1 Axes>"
      ]
     },
     "metadata": {},
     "output_type": "display_data"
    }
   ],
   "source": [
    "plt.plot(k_range,scores_v1_list)\n",
    "plt.plot(k_range,kappa_v1_list)\n",
    "plt.xlabel(\"K-Value\")\n",
    "plt.ylabel(\"Score\")\n",
    "plt.legend([\"Accuracy\",\"Kappa\"])\n",
    "plt.title(\"KNN score for discretized data set\")\n",
    "plt.show()"
   ]
  },
  {
   "cell_type": "markdown",
   "metadata": {},
   "source": [
    "Results not much better here. Let's move on to different models."
   ]
  },
  {
   "cell_type": "code",
   "execution_count": 491,
   "metadata": {},
   "outputs": [
    {
     "data": {
      "text/plain": [
       "KNeighborsClassifier(algorithm='auto', leaf_size=30, metric='minkowski',\n",
       "                     metric_params=None, n_jobs=None, n_neighbors=14, p=2,\n",
       "                     weights='uniform')"
      ]
     },
     "execution_count": 491,
     "metadata": {},
     "output_type": "execute_result"
    }
   ],
   "source": [
    "#save this classifier as it has highest accuracy for KNN\n",
    "knn_v1 = KNeighborsClassifier(n_neighbors=14)\n",
    "knn.fit(X_train_v1,y_train_v1)"
   ]
  },
  {
   "cell_type": "markdown",
   "metadata": {},
   "source": [
    "#### Random Forest"
   ]
  },
  {
   "cell_type": "markdown",
   "metadata": {},
   "source": [
    "Metrics: for random forest, let's look at precision and recall as well. For this problem, it is more important to reduce the number of false negatives (a case where someone is incorrectly classified as not a default risk, but does default). False negatives are more impactful to business versus false positive (although this is also harmful, but not as much risk as false negative).\n",
    "\n",
    "This means we should look at both accuracy and recall as primary metrics. "
   ]
  },
  {
   "cell_type": "code",
   "execution_count": 495,
   "metadata": {},
   "outputs": [
    {
     "name": "stdout",
     "output_type": "stream",
     "text": [
      "RandomForestClassifier(bootstrap=True, class_weight=None, criterion='entropy',\n",
      "                       max_depth=9, max_features='auto', max_leaf_nodes=100,\n",
      "                       min_impurity_decrease=0.0, min_impurity_split=None,\n",
      "                       min_samples_leaf=1, min_samples_split=20,\n",
      "                       min_weight_fraction_leaf=0.0, n_estimators=10,\n",
      "                       n_jobs=None, oob_score=False, random_state=None,\n",
      "                       verbose=0, warm_start=False)\n",
      "Recall: 0.3522770761576732\n"
     ]
    }
   ],
   "source": [
    "#original data\n",
    "param_grid = {'max_depth': np.arange(3, 10),\n",
    "             'criterion' : ['gini','entropy'],\n",
    "             'max_leaf_nodes': [5,10,20,100],\n",
    "             'min_samples_split': [2,5,10,20]}\n",
    "\n",
    "# create the grid\n",
    "grid_RF = GridSearchCV(RandomForestClassifier(n_estimators=10), param_grid, cv = 3, scoring='recall')\n",
    "\n",
    "#training\n",
    "grid_RF.fit(X_train_v0, y_train_v0)\n",
    "\n",
    "#print best estimator\n",
    "print(grid_RF.best_estimator_)\n",
    "\n",
    "#with its score\n",
    "print(\"Recall:\",np.abs(grid_RF.best_score_))"
   ]
  },
  {
   "cell_type": "code",
   "execution_count": 496,
   "metadata": {
    "scrolled": false
   },
   "outputs": [
    {
     "name": "stdout",
     "output_type": "stream",
     "text": [
      "Accuracy: 0.8155\n",
      "Kappa: 0.3630866420800083\n",
      "Precision: 0.7447495961227787\n",
      "Recall: 0.32695035460992905\n"
     ]
    }
   ],
   "source": [
    "rf_v0 = RandomForestClassifier(bootstrap=True, class_weight=None, criterion='gini',\n",
    "                       max_depth=9, max_features='auto', max_leaf_nodes=20,\n",
    "                       min_impurity_decrease=0.0, min_impurity_split=None,\n",
    "                       min_samples_leaf=1, min_samples_split=2,\n",
    "                       min_weight_fraction_leaf=0.0, n_estimators=10,\n",
    "                       n_jobs=None, oob_score=False, random_state=None,\n",
    "                       verbose=0, warm_start=False)\n",
    "\n",
    "rf_v0.fit(X_train_v0,y_train_v0)\n",
    "y_pred_v0 = rf_v0.predict(X_test_v0)\n",
    "\n",
    "print(\"Accuracy:\",metrics.accuracy_score(y_test_v0, y_pred_v0))\n",
    "print(\"Kappa:\",metrics.cohen_kappa_score(y_test_v0,y_pred_v0))\n",
    "print(\"Precision:\",metrics.precision_score(y_test_v0,y_pred_v0))\n",
    "print(\"Recall:\",metrics.recall_score(y_test_v0,y_pred_v0))"
   ]
  },
  {
   "cell_type": "code",
   "execution_count": 497,
   "metadata": {},
   "outputs": [
    {
     "data": {
      "text/plain": [
       "PAY_0        0.394100\n",
       "PAY_4        0.128005\n",
       "PAY_2        0.113856\n",
       "PAY_6        0.066027\n",
       "PAY_5        0.062474\n",
       "LIMIT_BAL    0.035954\n",
       "PAY_3        0.035933\n",
       "PAY_AMT1     0.034779\n",
       "PAY_AMT2     0.031453\n",
       "PAY_AMT5     0.016364\n",
       "PAY_AMT4     0.016134\n",
       "BILL_AMT5    0.010678\n",
       "BILL_AMT1    0.009898\n",
       "BILL_AMT3    0.009453\n",
       "BILL_AMT6    0.009003\n",
       "PAY_AMT3     0.008778\n",
       "BILL_AMT2    0.006474\n",
       "PAY_AMT6     0.003331\n",
       "EDUCATION    0.003027\n",
       "BILL_AMT4    0.003012\n",
       "AGE          0.001266\n",
       "MARRIAGE     0.000000\n",
       "SEX          0.000000\n",
       "dtype: float64"
      ]
     },
     "execution_count": 497,
     "metadata": {},
     "output_type": "execute_result"
    }
   ],
   "source": [
    "feature_imp = pd.Series(rf_v0.feature_importances_,index=features.columns).sort_values(ascending=False)\n",
    "feature_imp"
   ]
  },
  {
   "cell_type": "markdown",
   "metadata": {},
   "source": [
    "Payments 1,2,4 have an overwhelming influence on the model. If recall doesn't get much better, may look at modifying dataset to include these variables only."
   ]
  },
  {
   "cell_type": "code",
   "execution_count": 498,
   "metadata": {
    "scrolled": true
   },
   "outputs": [
    {
     "name": "stdout",
     "output_type": "stream",
     "text": [
      "RandomForestClassifier(bootstrap=True, class_weight=None, criterion='gini',\n",
      "                       max_depth=8, max_features='auto', max_leaf_nodes=100,\n",
      "                       min_impurity_decrease=0.0, min_impurity_split=None,\n",
      "                       min_samples_leaf=1, min_samples_split=5,\n",
      "                       min_weight_fraction_leaf=0.0, n_estimators=10,\n",
      "                       n_jobs=None, oob_score=False, random_state=None,\n",
      "                       verbose=0, warm_start=False)\n",
      "Recall: 0.32088322320544377\n"
     ]
    }
   ],
   "source": [
    "#discretized (v1) data set\n",
    "\n",
    "#training\n",
    "grid_RF.fit(X_train_v1, y_train_v1)\n",
    "\n",
    "#let's see the best estimator\n",
    "print(grid_RF.best_estimator_)\n",
    "\n",
    "#with its F1 score\n",
    "print(\"Recall:\",np.abs(grid_RF.best_score_))"
   ]
  },
  {
   "cell_type": "code",
   "execution_count": 500,
   "metadata": {},
   "outputs": [
    {
     "name": "stdout",
     "output_type": "stream",
     "text": [
      "Accuracy: 0.8126666666666666\n",
      "Kappa: 0.29745126068120986\n",
      "Precision: 0.6763005780346821\n",
      "Recall: 0.2685539403213466\n"
     ]
    }
   ],
   "source": [
    "#best estimator/model\n",
    "rf_v1 = RandomForestClassifier(bootstrap=True, class_weight=None, criterion='gini',\n",
    "                       max_depth=8, max_features='auto', max_leaf_nodes=100,\n",
    "                       min_impurity_decrease=0.0, min_impurity_split=None,\n",
    "                       min_samples_leaf=1, min_samples_split=5,\n",
    "                       min_weight_fraction_leaf=0.0, n_estimators=10,\n",
    "                       n_jobs=None, oob_score=False, random_state=None,\n",
    "                       verbose=0, warm_start=False)\n",
    "\n",
    "rf_v1.fit(X_train_v1,y_train_v1)\n",
    "y_pred_v1 = rf_v1.predict(X_test_v1)\n",
    "\n",
    "print(\"Accuracy:\",metrics.accuracy_score(y_test_v1, y_pred_v1))\n",
    "print(\"Kappa:\",metrics.cohen_kappa_score(y_test_v1,y_pred_v1))\n",
    "print(\"Precision:\",metrics.precision_score(y_test_v1,y_pred_v1))\n",
    "print(\"Recall:\",metrics.recall_score(y_test_v1,y_pred_v1))"
   ]
  },
  {
   "cell_type": "code",
   "execution_count": 501,
   "metadata": {},
   "outputs": [
    {
     "name": "stdout",
     "output_type": "stream",
     "text": [
      "RandomForestClassifier(bootstrap=True, class_weight=None, criterion='entropy',\n",
      "                       max_depth=8, max_features='auto', max_leaf_nodes=20,\n",
      "                       min_impurity_decrease=0.0, min_impurity_split=None,\n",
      "                       min_samples_leaf=1, min_samples_split=20,\n",
      "                       min_weight_fraction_leaf=0.0, n_estimators=10,\n",
      "                       n_jobs=None, oob_score=False, random_state=None,\n",
      "                       verbose=0, warm_start=False)\n",
      "Recall: 0.3544050713310145\n"
     ]
    }
   ],
   "source": [
    "#CORR data set\n",
    "\n",
    "#training\n",
    "grid_RF.fit(X_train_CORR, y_train_CORR)\n",
    "\n",
    "#let's see the best estimator\n",
    "print(grid_RF.best_estimator_)\n",
    "\n",
    "#with its F1 score\n",
    "print(\"Recall:\",np.abs(grid_RF.best_score_))"
   ]
  },
  {
   "cell_type": "code",
   "execution_count": 502,
   "metadata": {
    "scrolled": true
   },
   "outputs": [
    {
     "name": "stdout",
     "output_type": "stream",
     "text": [
      "Accuracy: 0.8213333333333334\n",
      "Kappa: 0.3811479897219766\n",
      "Precision: 0.6858345021037868\n",
      "Recall: 0.36574420344053854\n"
     ]
    }
   ],
   "source": [
    "#best estimator/model\n",
    "rf_CORR = RandomForestClassifier(bootstrap=True, class_weight=None, criterion='entropy',\n",
    "                       max_depth=9, max_features='auto', max_leaf_nodes=100,\n",
    "                       min_impurity_decrease=0.0, min_impurity_split=None,\n",
    "                       min_samples_leaf=1, min_samples_split=2,\n",
    "                       min_weight_fraction_leaf=0.0, n_estimators=10,\n",
    "                       n_jobs=None, oob_score=False, random_state=None,\n",
    "                       verbose=0, warm_start=False)\n",
    "\n",
    "rf_CORR.fit(X_train_CORR,y_train_CORR)\n",
    "y_pred_CORR = rf_CORR.predict(X_test_CORR)\n",
    "\n",
    "print(\"Accuracy:\",metrics.accuracy_score(y_test_CORR, y_pred_CORR))\n",
    "print(\"Kappa:\",metrics.cohen_kappa_score(y_test_CORR,y_pred_CORR))\n",
    "print(\"Precision:\",metrics.precision_score(y_test_CORR,y_pred_CORR))\n",
    "print(\"Recall:\",metrics.recall_score(y_test_CORR,y_pred_CORR))"
   ]
  },
  {
   "cell_type": "code",
   "execution_count": 173,
   "metadata": {
    "scrolled": true
   },
   "outputs": [
    {
     "name": "stdout",
     "output_type": "stream",
     "text": [
      "Accuracy: 0.8196666666666667\n",
      "Kappa: 0.37057880572466906\n",
      "Precision: 0.6742532005689901\n",
      "Recall: 0.3571966842501884\n"
     ]
    }
   ],
   "source": [
    "#modify to increase max_depth\n",
    "rf_CORR_2 = RandomForestClassifier(bootstrap=True, class_weight=None, criterion='entropy',\n",
    "                       max_depth=None, max_features='auto', max_leaf_nodes=100,\n",
    "                       min_impurity_decrease=0.0, min_impurity_split=None,\n",
    "                       min_samples_leaf=1, min_samples_split=2,\n",
    "                       min_weight_fraction_leaf=0.0, n_estimators=10,\n",
    "                       n_jobs=None, oob_score=False, random_state=None,\n",
    "                       verbose=0, warm_start=False)\n",
    "\n",
    "rf_CORR_2.fit(X_train_CORR,y_train_CORR)\n",
    "y_pred_2_CORR = rf_CORR_2.predict(X_test_CORR)\n",
    "\n",
    "print(\"Accuracy:\",metrics.accuracy_score(y_test_CORR, y_pred_2_CORR))\n",
    "print(\"Kappa:\",metrics.cohen_kappa_score(y_test_CORR,y_pred_2_CORR))\n",
    "print(\"Precision:\",metrics.precision_score(y_test_CORR,y_pred_2_CORR))\n",
    "print(\"Recall:\",metrics.recall_score(y_test_CORR,y_pred_2_CORR))"
   ]
  },
  {
   "cell_type": "code",
   "execution_count": 220,
   "metadata": {},
   "outputs": [
    {
     "data": {
      "text/plain": [
       "PAY_0                 0.219198\n",
       "PAY_2                 0.158947\n",
       "PAY_5                 0.114511\n",
       "PAY_3                 0.100379\n",
       "PAY_4                 0.066019\n",
       "BILL_AMT1             0.056128\n",
       "PAY_AMT1              0.051890\n",
       "LIMIT_BAL             0.046418\n",
       "PAY_AMT3              0.040192\n",
       "PAY_AMT2              0.032857\n",
       "PAY_AMT4              0.031087\n",
       "PAY_AMT6              0.026545\n",
       "PAY_AMT5              0.017745\n",
       "PAY_6                 0.016109\n",
       "EDUCATION             0.004735\n",
       "MARRIAGE              0.004675\n",
       "AGE_(28.0, 34.0]      0.003320\n",
       "SEX                   0.003304\n",
       "AGE_(41.0, 79.0]      0.002865\n",
       "AGE_(20.999, 28.0]    0.002725\n",
       "AGE_(34.0, 41.0]      0.000351\n",
       "dtype: float64"
      ]
     },
     "execution_count": 220,
     "metadata": {},
     "output_type": "execute_result"
    }
   ],
   "source": [
    "feature_imp = pd.Series(rf_CORR_2.feature_importances_,index=features_CORR.columns).sort_values(ascending=False)\n",
    "feature_imp"
   ]
  },
  {
   "cell_type": "markdown",
   "metadata": {},
   "source": [
    "Let's test a new data set using PAY_0, PAY_2, PAY_5 and PAY_3 only"
   ]
  },
  {
   "cell_type": "code",
   "execution_count": 222,
   "metadata": {},
   "outputs": [],
   "source": [
    "credit_varimp = credit[['PAY_0','PAY_2','PAY_3','PAY_5']]"
   ]
  },
  {
   "cell_type": "code",
   "execution_count": 223,
   "metadata": {},
   "outputs": [],
   "source": [
    "X_train_varimp, X_test_varimp, y_train_varimp, y_test_varimp = train_test_split(credit_varimp, y, test_size=0.2)"
   ]
  },
  {
   "cell_type": "code",
   "execution_count": 224,
   "metadata": {},
   "outputs": [
    {
     "data": {
      "text/plain": [
       "((24000, 4), (6000, 4), (24000,), (6000,))"
      ]
     },
     "execution_count": 224,
     "metadata": {},
     "output_type": "execute_result"
    }
   ],
   "source": [
    "X_train_varimp.shape, X_test_varimp.shape, y_train_varimp.shape, y_test_varimp.shape"
   ]
  },
  {
   "cell_type": "code",
   "execution_count": 226,
   "metadata": {},
   "outputs": [
    {
     "name": "stdout",
     "output_type": "stream",
     "text": [
      "Accuracy: 0.819\n",
      "Kappa: 0.37895977477856146\n",
      "Precision: 0.6790123456790124\n",
      "Recall: 0.3674832962138085\n"
     ]
    }
   ],
   "source": [
    "rf_varimp = RandomForestClassifier(bootstrap=True, class_weight=None, criterion='entropy',\n",
    "                       max_depth=None, max_features='auto', max_leaf_nodes=100,\n",
    "                       min_impurity_decrease=0.0, min_impurity_split=None,\n",
    "                       min_samples_leaf=1, min_samples_split=2,\n",
    "                       min_weight_fraction_leaf=0.0, n_estimators=10,\n",
    "                       n_jobs=None, oob_score=False, random_state=None,\n",
    "                       verbose=0, warm_start=False)\n",
    "\n",
    "rf_varimp.fit(X_train_varimp,y_train_varimp)\n",
    "y_pred_varimp = rf_varimp.predict(X_test_varimp)\n",
    "\n",
    "print(\"Accuracy:\",metrics.accuracy_score(y_test_varimp, y_pred_varimp))\n",
    "print(\"Kappa:\",metrics.cohen_kappa_score(y_test_varimp,y_pred_varimp))\n",
    "print(\"Precision:\",metrics.precision_score(y_test_varimp,y_pred_varimp))\n",
    "print(\"Recall:\",metrics.recall_score(y_test_varimp,y_pred_varimp))"
   ]
  },
  {
   "cell_type": "markdown",
   "metadata": {},
   "source": [
    "Not much improvement."
   ]
  },
  {
   "cell_type": "code",
   "execution_count": 503,
   "metadata": {},
   "outputs": [
    {
     "name": "stdout",
     "output_type": "stream",
     "text": [
      "RandomForestClassifier(bootstrap=True, class_weight=None, criterion='entropy',\n",
      "                       max_depth=9, max_features='auto', max_leaf_nodes=100,\n",
      "                       min_impurity_decrease=0.0, min_impurity_split=None,\n",
      "                       min_samples_leaf=1, min_samples_split=5,\n",
      "                       min_weight_fraction_leaf=0.0, n_estimators=10,\n",
      "                       n_jobs=None, oob_score=False, random_state=None,\n",
      "                       verbose=0, warm_start=False)\n",
      "Recall: 0.3350637035669899\n"
     ]
    }
   ],
   "source": [
    "#RFE data set\n",
    "\n",
    "#training\n",
    "grid_RF.fit(X_train_RFE, y_train_RFE)\n",
    "\n",
    "#let's see the best estimator\n",
    "print(grid_RF.best_estimator_)\n",
    "\n",
    "#with its F1 score\n",
    "print(\"Recall:\",np.abs(grid_RF.best_score_))"
   ]
  },
  {
   "cell_type": "code",
   "execution_count": 504,
   "metadata": {},
   "outputs": [
    {
     "name": "stdout",
     "output_type": "stream",
     "text": [
      "Accuracy: 0.8268333333333333\n",
      "Kappa: 0.35454051857916913\n",
      "Precision: 0.6699029126213593\n",
      "Recall: 0.33146517213771015\n"
     ]
    }
   ],
   "source": [
    "#best estimator/model\n",
    "rf_RFE = RandomForestClassifier(bootstrap=True, class_weight=None, criterion='entropy',\n",
    "                       max_depth=9, max_features='auto', max_leaf_nodes=100,\n",
    "                       min_impurity_decrease=0.0, min_impurity_split=None,\n",
    "                       min_samples_leaf=1, min_samples_split=5,\n",
    "                       min_weight_fraction_leaf=0.0, n_estimators=10,\n",
    "                       n_jobs=None, oob_score=False, random_state=None,\n",
    "                       verbose=0, warm_start=False)\n",
    "\n",
    "rf_RFE.fit(X_train_RFE,y_train_RFE)\n",
    "y_pred_RFE = rf_RFE.predict(X_test_RFE)\n",
    "\n",
    "print(\"Accuracy:\",metrics.accuracy_score(y_test_RFE, y_pred_RFE))\n",
    "print(\"Kappa:\",metrics.cohen_kappa_score(y_test_RFE,y_pred_RFE))\n",
    "print(\"Precision:\",metrics.precision_score(y_test_RFE,y_pred_RFE))\n",
    "print(\"Recall:\",metrics.recall_score(y_test_RFE,y_pred_RFE))"
   ]
  },
  {
   "cell_type": "markdown",
   "metadata": {},
   "source": [
    "#### Decision Tree"
   ]
  },
  {
   "cell_type": "code",
   "execution_count": 507,
   "metadata": {},
   "outputs": [
    {
     "name": "stdout",
     "output_type": "stream",
     "text": [
      "DecisionTreeClassifier(class_weight=None, criterion='gini', max_depth=6,\n",
      "                       max_features=None, max_leaf_nodes=100,\n",
      "                       min_impurity_decrease=0.0, min_impurity_split=None,\n",
      "                       min_samples_leaf=1, min_samples_split=2,\n",
      "                       min_weight_fraction_leaf=0.0, presort=False,\n",
      "                       random_state=None, splitter='best')\n",
      "Recall: 0.3666283964791427\n"
     ]
    }
   ],
   "source": [
    "#original data set\n",
    "\n",
    "#use same grid as RF classifier\n",
    "\n",
    "# create the grid\n",
    "grid_tree = GridSearchCV(DecisionTreeClassifier(), param_grid, cv = 3, scoring='recall')\n",
    "\n",
    "#training\n",
    "grid_tree.fit(X_train_v0, y_train_v0)\n",
    "\n",
    "#print best estimator\n",
    "print(grid_tree.best_estimator_)\n",
    "\n",
    "#with its score\n",
    "print(\"Recall:\",np.abs(grid_tree.best_score_))"
   ]
  },
  {
   "cell_type": "code",
   "execution_count": 509,
   "metadata": {},
   "outputs": [
    {
     "name": "stdout",
     "output_type": "stream",
     "text": [
      "Accuracy: 0.815\n",
      "Kappa: 0.3771253493148379\n",
      "Precision: 0.7136752136752137\n",
      "Recall: 0.3553191489361702\n"
     ]
    }
   ],
   "source": [
    "tree_v0 = DecisionTreeClassifier(class_weight=None, criterion='gini', max_depth=6,\n",
    "                       max_features=None, max_leaf_nodes=100,\n",
    "                       min_impurity_decrease=0.0, min_impurity_split=None,\n",
    "                       min_samples_leaf=1, min_samples_split=2,\n",
    "                       min_weight_fraction_leaf=0.0, presort=False,\n",
    "                       random_state=None, splitter='best')\n",
    "\n",
    "tree_v0.fit(X_train_v0,y_train_v0)\n",
    "y_pred_v0 = tree_v0.predict(X_test_v0)\n",
    "\n",
    "\n",
    "print(\"Accuracy:\",metrics.accuracy_score(y_test_v0, y_pred_v0))\n",
    "print(\"Kappa:\",metrics.cohen_kappa_score(y_test_v0,y_pred_v0))\n",
    "print(\"Precision:\",metrics.precision_score(y_test_v0,y_pred_v0))\n",
    "print(\"Recall:\",metrics.recall_score(y_test_v0,y_pred_v0))"
   ]
  },
  {
   "cell_type": "code",
   "execution_count": 510,
   "metadata": {},
   "outputs": [
    {
     "name": "stdout",
     "output_type": "stream",
     "text": [
      "DecisionTreeClassifier(class_weight=None, criterion='gini', max_depth=3,\n",
      "                       max_features=None, max_leaf_nodes=5,\n",
      "                       min_impurity_decrease=0.0, min_impurity_split=None,\n",
      "                       min_samples_leaf=1, min_samples_split=2,\n",
      "                       min_weight_fraction_leaf=0.0, presort=False,\n",
      "                       random_state=None, splitter='best')\n",
      "Recall: 0.35954001841863675\n"
     ]
    }
   ],
   "source": [
    "#discretized data set\n",
    "\n",
    "#use same grid as RF classifier\n",
    "\n",
    "# create the grid\n",
    "grid_tree = GridSearchCV(DecisionTreeClassifier(), param_grid, cv = 3, scoring='recall')\n",
    "\n",
    "#training\n",
    "grid_tree.fit(X_train_v1, y_train_v1)\n",
    "\n",
    "#print best estimator\n",
    "print(grid_tree.best_estimator_)\n",
    "\n",
    "#with its score\n",
    "print(\"Recall:\",np.abs(grid_tree.best_score_))"
   ]
  },
  {
   "cell_type": "code",
   "execution_count": 174,
   "metadata": {},
   "outputs": [
    {
     "name": "stdout",
     "output_type": "stream",
     "text": [
      "Accuracy: 0.8223333333333334\n",
      "Kappa: 0.3754808875279745\n",
      "Precision: 0.6690140845070423\n",
      "Recall: 0.36370597243491576\n"
     ]
    }
   ],
   "source": [
    "tree_v1 = DecisionTreeClassifier(class_weight=None, criterion='gini', max_depth=3,\n",
    "                       max_features=None, max_leaf_nodes=5,\n",
    "                       min_impurity_decrease=0.0, min_impurity_split=None,\n",
    "                       min_samples_leaf=1, min_samples_split=2,\n",
    "                       min_weight_fraction_leaf=0.0, presort=False,\n",
    "                       random_state=None, splitter='best')\n",
    "\n",
    "tree_v1.fit(X_train_v1,y_train_v1)\n",
    "y_pred_treev1 = tree_v1.predict(X_test_v1)\n",
    "\n",
    "print(\"Accuracy:\",metrics.accuracy_score(y_test_v1, y_pred_v1))\n",
    "print(\"Kappa:\",metrics.cohen_kappa_score(y_test_v1,y_pred_v1))\n",
    "print(\"Precision:\",metrics.precision_score(y_test_v1,y_pred_v1))\n",
    "print(\"Recall:\",metrics.recall_score(y_test_v1,y_pred_v1))"
   ]
  },
  {
   "cell_type": "code",
   "execution_count": 512,
   "metadata": {},
   "outputs": [
    {
     "name": "stdout",
     "output_type": "stream",
     "text": [
      "DecisionTreeClassifier(class_weight=None, criterion='gini', max_depth=9,\n",
      "                       max_features=None, max_leaf_nodes=100,\n",
      "                       min_impurity_decrease=0.0, min_impurity_split=None,\n",
      "                       min_samples_leaf=1, min_samples_split=2,\n",
      "                       min_weight_fraction_leaf=0.0, presort=False,\n",
      "                       random_state=None, splitter='best')\n",
      "Recall: 0.36988109605540354\n"
     ]
    }
   ],
   "source": [
    "#CORR data set\n",
    "#training\n",
    "grid_tree.fit(X_train_CORR, y_train_CORR)\n",
    "\n",
    "#print best estimator\n",
    "print(grid_tree.best_estimator_)\n",
    "\n",
    "#with its score\n",
    "print(\"Recall:\",np.abs(grid_tree.best_score_))"
   ]
  },
  {
   "cell_type": "code",
   "execution_count": 513,
   "metadata": {
    "scrolled": true
   },
   "outputs": [
    {
     "name": "stdout",
     "output_type": "stream",
     "text": [
      "Accuracy: 0.818\n",
      "Kappa: 0.3597679842951633\n",
      "Precision: 0.6842105263157895\n",
      "Recall: 0.3403141361256545\n"
     ]
    }
   ],
   "source": [
    "tree_CORR = DecisionTreeClassifier(class_weight=None, criterion='gini', max_depth=3,\n",
    "                       max_features=None, max_leaf_nodes=5,\n",
    "                       min_impurity_decrease=0.0, min_impurity_split=None,\n",
    "                       min_samples_leaf=1, min_samples_split=2,\n",
    "                       min_weight_fraction_leaf=0.0, presort=False,\n",
    "                       random_state=None, splitter='best')\n",
    "\n",
    "tree_CORR.fit(X_train_CORR,y_train_CORR)\n",
    "y_pred_CORR = tree_CORR.predict(X_test_CORR)\n",
    "\n",
    "print(\"Accuracy:\",metrics.accuracy_score(y_test_CORR, y_pred_CORR))\n",
    "print(\"Kappa:\",metrics.cohen_kappa_score(y_test_CORR,y_pred_CORR))\n",
    "print(\"Precision:\",metrics.precision_score(y_test_CORR,y_pred_CORR))\n",
    "print(\"Recall:\",metrics.recall_score(y_test_CORR,y_pred_CORR))"
   ]
  },
  {
   "cell_type": "markdown",
   "metadata": {
    "scrolled": true
   },
   "source": [
    "Not worth more analysis; decision trees perform very similary to RF."
   ]
  },
  {
   "cell_type": "markdown",
   "metadata": {},
   "source": [
    "#### Support Vector Machine"
   ]
  },
  {
   "cell_type": "code",
   "execution_count": 168,
   "metadata": {
    "scrolled": true
   },
   "outputs": [
    {
     "ename": "KeyboardInterrupt",
     "evalue": "",
     "output_type": "error",
     "traceback": [
      "\u001b[1;31m---------------------------------------------------------------------------\u001b[0m",
      "\u001b[1;31mKeyboardInterrupt\u001b[0m                         Traceback (most recent call last)",
      "\u001b[1;32m<ipython-input-168-e9e9b685a58b>\u001b[0m in \u001b[0;36m<module>\u001b[1;34m\u001b[0m\n\u001b[0;32m     10\u001b[0m \u001b[1;33m\u001b[0m\u001b[0m\n\u001b[0;32m     11\u001b[0m \u001b[1;31m#training\u001b[0m\u001b[1;33m\u001b[0m\u001b[1;33m\u001b[0m\u001b[1;33m\u001b[0m\u001b[0m\n\u001b[1;32m---> 12\u001b[1;33m \u001b[0mgrid_SVM\u001b[0m\u001b[1;33m.\u001b[0m\u001b[0mfit\u001b[0m\u001b[1;33m(\u001b[0m\u001b[0mX_train_v0\u001b[0m\u001b[1;33m,\u001b[0m \u001b[0my_train_v0\u001b[0m\u001b[1;33m)\u001b[0m\u001b[1;33m\u001b[0m\u001b[1;33m\u001b[0m\u001b[0m\n\u001b[0m\u001b[0;32m     13\u001b[0m \u001b[1;33m\u001b[0m\u001b[0m\n\u001b[0;32m     14\u001b[0m \u001b[1;31m#print best estimator\u001b[0m\u001b[1;33m\u001b[0m\u001b[1;33m\u001b[0m\u001b[1;33m\u001b[0m\u001b[0m\n",
      "\u001b[1;32m~\\AppData\\Local\\Continuum\\anaconda3\\lib\\site-packages\\dask_ml\\model_selection\\_search.py\u001b[0m in \u001b[0;36mfit\u001b[1;34m(self, X, y, groups, **fit_params)\u001b[0m\n\u001b[0;32m   1260\u001b[0m             \u001b[0mout\u001b[0m \u001b[1;33m=\u001b[0m \u001b[1;33m[\u001b[0m\u001b[0mresult_map\u001b[0m\u001b[1;33m[\u001b[0m\u001b[0mk\u001b[0m\u001b[1;33m]\u001b[0m \u001b[1;32mfor\u001b[0m \u001b[0mk\u001b[0m \u001b[1;32min\u001b[0m \u001b[0mkeys\u001b[0m\u001b[1;33m]\u001b[0m\u001b[1;33m\u001b[0m\u001b[1;33m\u001b[0m\u001b[0m\n\u001b[0;32m   1261\u001b[0m         \u001b[1;32melse\u001b[0m\u001b[1;33m:\u001b[0m\u001b[1;33m\u001b[0m\u001b[1;33m\u001b[0m\u001b[0m\n\u001b[1;32m-> 1262\u001b[1;33m             \u001b[0mout\u001b[0m \u001b[1;33m=\u001b[0m \u001b[0mscheduler\u001b[0m\u001b[1;33m(\u001b[0m\u001b[0mdsk\u001b[0m\u001b[1;33m,\u001b[0m \u001b[0mkeys\u001b[0m\u001b[1;33m,\u001b[0m \u001b[0mnum_workers\u001b[0m\u001b[1;33m=\u001b[0m\u001b[0mn_jobs\u001b[0m\u001b[1;33m)\u001b[0m\u001b[1;33m\u001b[0m\u001b[1;33m\u001b[0m\u001b[0m\n\u001b[0m\u001b[0;32m   1263\u001b[0m \u001b[1;33m\u001b[0m\u001b[0m\n\u001b[0;32m   1264\u001b[0m         \u001b[1;32mif\u001b[0m \u001b[0mself\u001b[0m\u001b[1;33m.\u001b[0m\u001b[0miid\u001b[0m\u001b[1;33m:\u001b[0m\u001b[1;33m\u001b[0m\u001b[1;33m\u001b[0m\u001b[0m\n",
      "\u001b[1;32m~\\AppData\\Local\\Continuum\\anaconda3\\lib\\site-packages\\dask\\threaded.py\u001b[0m in \u001b[0;36mget\u001b[1;34m(dsk, result, cache, num_workers, pool, **kwargs)\u001b[0m\n\u001b[0;32m     80\u001b[0m         \u001b[0mget_id\u001b[0m\u001b[1;33m=\u001b[0m\u001b[0m_thread_get_id\u001b[0m\u001b[1;33m,\u001b[0m\u001b[1;33m\u001b[0m\u001b[1;33m\u001b[0m\u001b[0m\n\u001b[0;32m     81\u001b[0m         \u001b[0mpack_exception\u001b[0m\u001b[1;33m=\u001b[0m\u001b[0mpack_exception\u001b[0m\u001b[1;33m,\u001b[0m\u001b[1;33m\u001b[0m\u001b[1;33m\u001b[0m\u001b[0m\n\u001b[1;32m---> 82\u001b[1;33m         \u001b[1;33m**\u001b[0m\u001b[0mkwargs\u001b[0m\u001b[1;33m\u001b[0m\u001b[1;33m\u001b[0m\u001b[0m\n\u001b[0m\u001b[0;32m     83\u001b[0m     )\n\u001b[0;32m     84\u001b[0m \u001b[1;33m\u001b[0m\u001b[0m\n",
      "\u001b[1;32m~\\AppData\\Local\\Continuum\\anaconda3\\lib\\site-packages\\dask\\local.py\u001b[0m in \u001b[0;36mget_async\u001b[1;34m(apply_async, num_workers, dsk, result, cache, get_id, rerun_exceptions_locally, pack_exception, raise_exception, callbacks, dumps, loads, **kwargs)\u001b[0m\n\u001b[0;32m    478\u001b[0m             \u001b[1;31m# Main loop, wait on tasks to finish, insert new ones\u001b[0m\u001b[1;33m\u001b[0m\u001b[1;33m\u001b[0m\u001b[1;33m\u001b[0m\u001b[0m\n\u001b[0;32m    479\u001b[0m             \u001b[1;32mwhile\u001b[0m \u001b[0mstate\u001b[0m\u001b[1;33m[\u001b[0m\u001b[1;34m\"waiting\"\u001b[0m\u001b[1;33m]\u001b[0m \u001b[1;32mor\u001b[0m \u001b[0mstate\u001b[0m\u001b[1;33m[\u001b[0m\u001b[1;34m\"ready\"\u001b[0m\u001b[1;33m]\u001b[0m \u001b[1;32mor\u001b[0m \u001b[0mstate\u001b[0m\u001b[1;33m[\u001b[0m\u001b[1;34m\"running\"\u001b[0m\u001b[1;33m]\u001b[0m\u001b[1;33m:\u001b[0m\u001b[1;33m\u001b[0m\u001b[1;33m\u001b[0m\u001b[0m\n\u001b[1;32m--> 480\u001b[1;33m                 \u001b[0mkey\u001b[0m\u001b[1;33m,\u001b[0m \u001b[0mres_info\u001b[0m\u001b[1;33m,\u001b[0m \u001b[0mfailed\u001b[0m \u001b[1;33m=\u001b[0m \u001b[0mqueue_get\u001b[0m\u001b[1;33m(\u001b[0m\u001b[0mqueue\u001b[0m\u001b[1;33m)\u001b[0m\u001b[1;33m\u001b[0m\u001b[1;33m\u001b[0m\u001b[0m\n\u001b[0m\u001b[0;32m    481\u001b[0m                 \u001b[1;32mif\u001b[0m \u001b[0mfailed\u001b[0m\u001b[1;33m:\u001b[0m\u001b[1;33m\u001b[0m\u001b[1;33m\u001b[0m\u001b[0m\n\u001b[0;32m    482\u001b[0m                     \u001b[0mexc\u001b[0m\u001b[1;33m,\u001b[0m \u001b[0mtb\u001b[0m \u001b[1;33m=\u001b[0m \u001b[0mloads\u001b[0m\u001b[1;33m(\u001b[0m\u001b[0mres_info\u001b[0m\u001b[1;33m)\u001b[0m\u001b[1;33m\u001b[0m\u001b[1;33m\u001b[0m\u001b[0m\n",
      "\u001b[1;32m~\\AppData\\Local\\Continuum\\anaconda3\\lib\\site-packages\\dask\\local.py\u001b[0m in \u001b[0;36mqueue_get\u001b[1;34m(q)\u001b[0m\n\u001b[0;32m    134\u001b[0m         \u001b[1;32mwhile\u001b[0m \u001b[1;32mTrue\u001b[0m\u001b[1;33m:\u001b[0m\u001b[1;33m\u001b[0m\u001b[1;33m\u001b[0m\u001b[0m\n\u001b[0;32m    135\u001b[0m             \u001b[1;32mtry\u001b[0m\u001b[1;33m:\u001b[0m\u001b[1;33m\u001b[0m\u001b[1;33m\u001b[0m\u001b[0m\n\u001b[1;32m--> 136\u001b[1;33m                 \u001b[1;32mreturn\u001b[0m \u001b[0mq\u001b[0m\u001b[1;33m.\u001b[0m\u001b[0mget\u001b[0m\u001b[1;33m(\u001b[0m\u001b[0mblock\u001b[0m\u001b[1;33m=\u001b[0m\u001b[1;32mTrue\u001b[0m\u001b[1;33m,\u001b[0m \u001b[0mtimeout\u001b[0m\u001b[1;33m=\u001b[0m\u001b[1;36m0.1\u001b[0m\u001b[1;33m)\u001b[0m\u001b[1;33m\u001b[0m\u001b[1;33m\u001b[0m\u001b[0m\n\u001b[0m\u001b[0;32m    137\u001b[0m             \u001b[1;32mexcept\u001b[0m \u001b[0mEmpty\u001b[0m\u001b[1;33m:\u001b[0m\u001b[1;33m\u001b[0m\u001b[1;33m\u001b[0m\u001b[0m\n\u001b[0;32m    138\u001b[0m                 \u001b[1;32mpass\u001b[0m\u001b[1;33m\u001b[0m\u001b[1;33m\u001b[0m\u001b[0m\n",
      "\u001b[1;32m~\\AppData\\Local\\Continuum\\anaconda3\\lib\\queue.py\u001b[0m in \u001b[0;36mget\u001b[1;34m(self, block, timeout)\u001b[0m\n\u001b[0;32m    177\u001b[0m                     \u001b[1;32mif\u001b[0m \u001b[0mremaining\u001b[0m \u001b[1;33m<=\u001b[0m \u001b[1;36m0.0\u001b[0m\u001b[1;33m:\u001b[0m\u001b[1;33m\u001b[0m\u001b[1;33m\u001b[0m\u001b[0m\n\u001b[0;32m    178\u001b[0m                         \u001b[1;32mraise\u001b[0m \u001b[0mEmpty\u001b[0m\u001b[1;33m\u001b[0m\u001b[1;33m\u001b[0m\u001b[0m\n\u001b[1;32m--> 179\u001b[1;33m                     \u001b[0mself\u001b[0m\u001b[1;33m.\u001b[0m\u001b[0mnot_empty\u001b[0m\u001b[1;33m.\u001b[0m\u001b[0mwait\u001b[0m\u001b[1;33m(\u001b[0m\u001b[0mremaining\u001b[0m\u001b[1;33m)\u001b[0m\u001b[1;33m\u001b[0m\u001b[1;33m\u001b[0m\u001b[0m\n\u001b[0m\u001b[0;32m    180\u001b[0m             \u001b[0mitem\u001b[0m \u001b[1;33m=\u001b[0m \u001b[0mself\u001b[0m\u001b[1;33m.\u001b[0m\u001b[0m_get\u001b[0m\u001b[1;33m(\u001b[0m\u001b[1;33m)\u001b[0m\u001b[1;33m\u001b[0m\u001b[1;33m\u001b[0m\u001b[0m\n\u001b[0;32m    181\u001b[0m             \u001b[0mself\u001b[0m\u001b[1;33m.\u001b[0m\u001b[0mnot_full\u001b[0m\u001b[1;33m.\u001b[0m\u001b[0mnotify\u001b[0m\u001b[1;33m(\u001b[0m\u001b[1;33m)\u001b[0m\u001b[1;33m\u001b[0m\u001b[1;33m\u001b[0m\u001b[0m\n",
      "\u001b[1;32m~\\AppData\\Local\\Continuum\\anaconda3\\lib\\threading.py\u001b[0m in \u001b[0;36mwait\u001b[1;34m(self, timeout)\u001b[0m\n\u001b[0;32m    298\u001b[0m             \u001b[1;32melse\u001b[0m\u001b[1;33m:\u001b[0m\u001b[1;33m\u001b[0m\u001b[1;33m\u001b[0m\u001b[0m\n\u001b[0;32m    299\u001b[0m                 \u001b[1;32mif\u001b[0m \u001b[0mtimeout\u001b[0m \u001b[1;33m>\u001b[0m \u001b[1;36m0\u001b[0m\u001b[1;33m:\u001b[0m\u001b[1;33m\u001b[0m\u001b[1;33m\u001b[0m\u001b[0m\n\u001b[1;32m--> 300\u001b[1;33m                     \u001b[0mgotit\u001b[0m \u001b[1;33m=\u001b[0m \u001b[0mwaiter\u001b[0m\u001b[1;33m.\u001b[0m\u001b[0macquire\u001b[0m\u001b[1;33m(\u001b[0m\u001b[1;32mTrue\u001b[0m\u001b[1;33m,\u001b[0m \u001b[0mtimeout\u001b[0m\u001b[1;33m)\u001b[0m\u001b[1;33m\u001b[0m\u001b[1;33m\u001b[0m\u001b[0m\n\u001b[0m\u001b[0;32m    301\u001b[0m                 \u001b[1;32melse\u001b[0m\u001b[1;33m:\u001b[0m\u001b[1;33m\u001b[0m\u001b[1;33m\u001b[0m\u001b[0m\n\u001b[0;32m    302\u001b[0m                     \u001b[0mgotit\u001b[0m \u001b[1;33m=\u001b[0m \u001b[0mwaiter\u001b[0m\u001b[1;33m.\u001b[0m\u001b[0macquire\u001b[0m\u001b[1;33m(\u001b[0m\u001b[1;32mFalse\u001b[0m\u001b[1;33m)\u001b[0m\u001b[1;33m\u001b[0m\u001b[1;33m\u001b[0m\u001b[0m\n",
      "\u001b[1;31mKeyboardInterrupt\u001b[0m: "
     ]
    }
   ],
   "source": [
    "#original data set\n",
    "\n",
    "#create new grid for SVM - took too long to run\n",
    "'''param_grid_SVM = {'C': [0.1,1,10],\n",
    "                  'kernel': ['linear','rbf'],\n",
    "                  'gamma': [1,0.1,0.001]}\n",
    "\n",
    "# create the grid\n",
    "grid_SVM = dcv.GridSearchCV(SVC(), param_grid_SVM, cv = 3, scoring='recall', n_jobs=-1)\n",
    "\n",
    "#training        \n",
    "grid_SVM.fit(X_train_v0, y_train_v0)\n",
    "\n",
    "#print best estimator\n",
    "print(grid_SVM.best_estimator_)\n",
    "\n",
    "#with its score\n",
    "print(\"Recall:\",np.abs(grid_SVM.best_score_))'''"
   ]
  },
  {
   "cell_type": "code",
   "execution_count": 137,
   "metadata": {},
   "outputs": [
    {
     "name": "stdout",
     "output_type": "stream",
     "text": [
      "Accuracy: 0.7806666666666666\n",
      "Kappa: 0.012317264308953746\n",
      "Precision: 0.4838709677419355\n",
      "Recall: 0.011406844106463879\n"
     ]
    }
   ],
   "source": [
    "SVM = SVC(gamma='auto')\n",
    "\n",
    "SVM.fit(X_train_v0,y_train_v0)\n",
    "\n",
    "y_pred_v0 = SVM.predict(X_test_v0)\n",
    "\n",
    "print(\"Accuracy:\",metrics.accuracy_score(y_test_v0, y_pred_v0))\n",
    "print(\"Kappa:\",metrics.cohen_kappa_score(y_test_v0,y_pred_v0))\n",
    "print(\"Precision:\",metrics.precision_score(y_test_v0,y_pred_v0))\n",
    "print(\"Recall:\",metrics.recall_score(y_test_v0,y_pred_v0))"
   ]
  },
  {
   "cell_type": "code",
   "execution_count": 138,
   "metadata": {},
   "outputs": [
    {
     "name": "stdout",
     "output_type": "stream",
     "text": [
      "Accuracy: 0.8115\n",
      "Kappa: 0.3025616317221198\n",
      "Precision: 0.6565295169946332\n",
      "Recall: 0.28101071975497705\n"
     ]
    }
   ],
   "source": [
    "#discretized data set\n",
    "SVM.fit(X_train_v1,y_train_v1)\n",
    "\n",
    "y_pred_v1 = SVM.predict(X_test_v1)\n",
    "\n",
    "print(\"Accuracy:\",metrics.accuracy_score(y_test_v1, y_pred_v1))\n",
    "print(\"Kappa:\",metrics.cohen_kappa_score(y_test_v1,y_pred_v1))\n",
    "print(\"Precision:\",metrics.precision_score(y_test_v1,y_pred_v1))\n",
    "print(\"Recall:\",metrics.recall_score(y_test_v1,y_pred_v1))"
   ]
  },
  {
   "cell_type": "code",
   "execution_count": 139,
   "metadata": {},
   "outputs": [
    {
     "name": "stdout",
     "output_type": "stream",
     "text": [
      "Accuracy: 0.7805\n",
      "Kappa: 0.023943160932034302\n",
      "Precision: 0.625\n",
      "Recall: 0.018839487565938208\n"
     ]
    }
   ],
   "source": [
    "#CORR data set\n",
    "SVM.fit(X_train_CORR,y_train_CORR)\n",
    "\n",
    "y_pred_CORR = SVM.predict(X_test_CORR)\n",
    "\n",
    "print(\"Accuracy:\",metrics.accuracy_score(y_test_CORR, y_pred_CORR))\n",
    "print(\"Kappa:\",metrics.cohen_kappa_score(y_test_CORR,y_pred_CORR))\n",
    "print(\"Precision:\",metrics.precision_score(y_test_CORR,y_pred_CORR))\n",
    "print(\"Recall:\",metrics.recall_score(y_test_CORR,y_pred_CORR))"
   ]
  },
  {
   "cell_type": "code",
   "execution_count": 140,
   "metadata": {},
   "outputs": [
    {
     "name": "stdout",
     "output_type": "stream",
     "text": [
      "Accuracy: 0.7881666666666667\n",
      "Kappa: 0.018191649607972038\n",
      "Precision: 0.5588235294117647\n",
      "Recall: 0.014901960784313726\n"
     ]
    }
   ],
   "source": [
    "#RFE data set\n",
    "SVM.fit(X_train_RFE,y_train_RFE)\n",
    "\n",
    "y_pred_RFE = SVM.predict(X_test_RFE)\n",
    "\n",
    "print(\"Accuracy:\",metrics.accuracy_score(y_test_RFE, y_pred_RFE))\n",
    "print(\"Kappa:\",metrics.cohen_kappa_score(y_test_RFE,y_pred_RFE))\n",
    "print(\"Precision:\",metrics.precision_score(y_test_RFE,y_pred_RFE))\n",
    "print(\"Recall:\",metrics.recall_score(y_test_RFE,y_pred_RFE))"
   ]
  },
  {
   "cell_type": "markdown",
   "metadata": {},
   "source": [
    "#### Logistic Regression"
   ]
  },
  {
   "cell_type": "code",
   "execution_count": 142,
   "metadata": {},
   "outputs": [
    {
     "name": "stdout",
     "output_type": "stream",
     "text": [
      "Accuracy: 0.7808333333333334\n",
      "Recall: 0.0\n"
     ]
    }
   ],
   "source": [
    "#original data set\n",
    "log = LogisticRegression(solver='liblinear')\n",
    "log.fit(X_train_v0,y_train_v0)\n",
    "y_pred_v0 = log.predict(X_test_v0)\n",
    "\n",
    "print(\"Accuracy:\",metrics.accuracy_score(y_test_v0, y_pred_v0))\n",
    "print(\"Recall:\", metrics.recall_score(y_test_v0,y_pred_v0))"
   ]
  },
  {
   "cell_type": "code",
   "execution_count": 143,
   "metadata": {},
   "outputs": [
    {
     "name": "stdout",
     "output_type": "stream",
     "text": [
      "Accuracy: 0.7823333333333333\n",
      "Recall: 0.0\n"
     ]
    }
   ],
   "source": [
    "#discretized data set\n",
    "log.fit(X_train_v1,y_train_v1)\n",
    "y_pred_log_v1 = log.predict(X_test_v1)\n",
    "\n",
    "print(\"Accuracy:\",metrics.accuracy_score(y_test_v1, y_pred_log_v1))\n",
    "print(\"Recall:\",metrics.recall_score(y_test_v1,y_pred_log_v1))"
   ]
  },
  {
   "cell_type": "markdown",
   "metadata": {},
   "source": [
    "#### Gradient Boosted"
   ]
  },
  {
   "cell_type": "code",
   "execution_count": 148,
   "metadata": {
    "scrolled": true
   },
   "outputs": [
    {
     "name": "stdout",
     "output_type": "stream",
     "text": [
      "GradientBoostingClassifier(criterion='friedman_mse', init=None,\n",
      "                           learning_rate=0.1, loss='deviance', max_depth=3,\n",
      "                           max_features=None, max_leaf_nodes=None,\n",
      "                           min_impurity_decrease=0.0, min_impurity_split=None,\n",
      "                           min_samples_leaf=1, min_samples_split=2,\n",
      "                           min_weight_fraction_leaf=0.0, n_estimators=300,\n",
      "                           n_iter_no_change=None, presort='auto',\n",
      "                           random_state=None, subsample=1.0, tol=0.0001,\n",
      "                           validation_fraction=0.1, verbose=0,\n",
      "                           warm_start=False)\n",
      "Recall: 0.37023111730076586\n"
     ]
    }
   ],
   "source": [
    "#set parameters for GBM\n",
    "param_grid_GBM = {'n_estimators': [100,200,300],\n",
    "                  'loss': ['deviance','exponential']}\n",
    "\n",
    "# create the grid\n",
    "grid_GBM = dcv.GridSearchCV(GradientBoostingClassifier(), param_grid_GBM, cv = 3, scoring='recall')\n",
    "\n",
    "#training        \n",
    "grid_GBM.fit(X_train_v0, y_train_v0)\n",
    "\n",
    "#print best estimator\n",
    "print(grid_GBM.best_estimator_)\n",
    "\n",
    "#with its score\n",
    "print(\"Recall:\",np.abs(grid_GBM.best_score_))"
   ]
  },
  {
   "cell_type": "code",
   "execution_count": 172,
   "metadata": {},
   "outputs": [
    {
     "name": "stdout",
     "output_type": "stream",
     "text": [
      "Accuracy: 0.7025\n",
      "Kappa: 0.04541711083144084\n",
      "Precision: 0.26214574898785425\n",
      "Recall: 0.19695817490494297\n"
     ]
    }
   ],
   "source": [
    "GBM_v0 = GradientBoostingClassifier(criterion='friedman_mse', init=None,\n",
    "                           learning_rate=0.1, loss='deviance', max_depth=3,\n",
    "                           max_features=None, max_leaf_nodes=None,\n",
    "                           min_impurity_decrease=0.0, min_impurity_split=None,\n",
    "                           min_samples_leaf=1, min_samples_split=2,\n",
    "                           min_weight_fraction_leaf=0.0, n_estimators=300,\n",
    "                           n_iter_no_change=None, presort='auto',\n",
    "                           random_state=None, subsample=1.0, tol=0.0001,\n",
    "                           validation_fraction=0.1, verbose=0,\n",
    "                           warm_start=False)\n",
    "GBM_v0.fit(X_train_v0,y_train_v0)\n",
    "y_pred_GBMv0 = GBM_v0.predict(X_test_v0)\n",
    "\n",
    "\n",
    "print(\"Accuracy:\",metrics.accuracy_score(y_test_v0, y_pred_v0))\n",
    "print(\"Kappa:\",metrics.cohen_kappa_score(y_test_v0,y_pred_v0))\n",
    "print(\"Precision:\",metrics.precision_score(y_test_v0,y_pred_v0))\n",
    "print(\"Recall:\",metrics.recall_score(y_test_v0,y_pred_v0))"
   ]
  },
  {
   "cell_type": "code",
   "execution_count": 150,
   "metadata": {},
   "outputs": [
    {
     "name": "stdout",
     "output_type": "stream",
     "text": [
      "GradientBoostingClassifier(criterion='friedman_mse', init=None,\n",
      "                           learning_rate=0.1, loss='deviance', max_depth=3,\n",
      "                           max_features=None, max_leaf_nodes=None,\n",
      "                           min_impurity_decrease=0.0, min_impurity_split=None,\n",
      "                           min_samples_leaf=1, min_samples_split=2,\n",
      "                           min_weight_fraction_leaf=0.0, n_estimators=300,\n",
      "                           n_iter_no_change=None, presort='auto',\n",
      "                           random_state=None, subsample=1.0, tol=0.0001,\n",
      "                           validation_fraction=0.1, verbose=0,\n",
      "                           warm_start=False)\n",
      "Recall: 0.37523433955110846\n"
     ]
    }
   ],
   "source": [
    "#training        \n",
    "grid_GBM.fit(X_train_v1, y_train_v1)\n",
    "\n",
    "#print best estimator\n",
    "print(grid_GBM.best_estimator_)\n",
    "\n",
    "#with its score\n",
    "print(\"Recall:\",np.abs(grid_GBM.best_score_))"
   ]
  },
  {
   "cell_type": "code",
   "execution_count": 162,
   "metadata": {},
   "outputs": [
    {
     "name": "stdout",
     "output_type": "stream",
     "text": [
      "Accuracy: 0.8223333333333334\n",
      "Kappa: 0.3754808875279745\n",
      "Precision: 0.6690140845070423\n",
      "Recall: 0.36370597243491576\n"
     ]
    }
   ],
   "source": [
    "GBM_v1 = GradientBoostingClassifier(criterion='friedman_mse', init=None,\n",
    "                           learning_rate=0.1, loss='deviance', max_depth=3,\n",
    "                           max_features=None, max_leaf_nodes=None,\n",
    "                           min_impurity_decrease=0.0, min_impurity_split=None,\n",
    "                           min_samples_leaf=1, min_samples_split=2,\n",
    "                           min_weight_fraction_leaf=0.0, n_estimators=300,\n",
    "                           n_iter_no_change=None, presort='auto',\n",
    "                           random_state=None, subsample=1.0, tol=0.0001,\n",
    "                           validation_fraction=0.1, verbose=0,\n",
    "                           warm_start=False)\n",
    "\n",
    "GBM_v1.fit(X_train_v1,y_train_v1)\n",
    "y_pred_v1 = GBM_v1.predict(X_test_v1)\n",
    "\n",
    "print(\"Accuracy:\",metrics.accuracy_score(y_test_v1, y_pred_v1))\n",
    "print(\"Kappa:\",metrics.cohen_kappa_score(y_test_v1,y_pred_v1))\n",
    "print(\"Precision:\",metrics.precision_score(y_test_v1,y_pred_v1))\n",
    "print(\"Recall:\",metrics.recall_score(y_test_v1,y_pred_v1))"
   ]
  },
  {
   "cell_type": "code",
   "execution_count": 163,
   "metadata": {},
   "outputs": [
    {
     "name": "stdout",
     "output_type": "stream",
     "text": [
      "GradientBoostingClassifier(criterion='friedman_mse', init=None,\n",
      "                           learning_rate=0.1, loss='deviance', max_depth=3,\n",
      "                           max_features=None, max_leaf_nodes=None,\n",
      "                           min_impurity_decrease=0.0, min_impurity_split=None,\n",
      "                           min_samples_leaf=1, min_samples_split=2,\n",
      "                           min_weight_fraction_leaf=0.0, n_estimators=300,\n",
      "                           n_iter_no_change=None, presort='auto',\n",
      "                           random_state=None, subsample=1.0, tol=0.0001,\n",
      "                           validation_fraction=0.1, verbose=0,\n",
      "                           warm_start=False)\n",
      "Recall: 0.3678650017991375\n"
     ]
    }
   ],
   "source": [
    "#training        \n",
    "grid_GBM.fit(X_train_CORR, y_train_CORR)\n",
    "\n",
    "#print best estimator\n",
    "print(grid_GBM.best_estimator_)\n",
    "\n",
    "#with its score\n",
    "print(\"Recall:\",np.abs(grid_GBM.best_score_))"
   ]
  },
  {
   "cell_type": "code",
   "execution_count": 165,
   "metadata": {},
   "outputs": [
    {
     "name": "stdout",
     "output_type": "stream",
     "text": [
      "Accuracy: 0.8215\n",
      "Kappa: 0.38750860690519706\n",
      "Precision: 0.6693121693121693\n",
      "Recall: 0.3813112283345893\n"
     ]
    }
   ],
   "source": [
    "GBM_CORR = GradientBoostingClassifier(criterion='friedman_mse', init=None,\n",
    "                           learning_rate=0.1, loss='deviance', max_depth=3,\n",
    "                           max_features=None, max_leaf_nodes=None,\n",
    "                           min_impurity_decrease=0.0, min_impurity_split=None,\n",
    "                           min_samples_leaf=1, min_samples_split=2,\n",
    "                           min_weight_fraction_leaf=0.0, n_estimators=300,\n",
    "                           n_iter_no_change=None, presort='auto',\n",
    "                           random_state=None, subsample=1.0, tol=0.0001,\n",
    "                           validation_fraction=0.1, verbose=0,\n",
    "                           warm_start=False)\n",
    "\n",
    "GBM_CORR.fit(X_train_CORR,y_train_CORR)\n",
    "y_pred_CORR = GBM_CORR.predict(X_test_CORR)\n",
    "\n",
    "print(\"Accuracy:\",metrics.accuracy_score(y_test_CORR, y_pred_CORR))\n",
    "print(\"Kappa:\",metrics.cohen_kappa_score(y_test_CORR,y_pred_CORR))\n",
    "print(\"Precision:\",metrics.precision_score(y_test_CORR,y_pred_CORR))\n",
    "print(\"Recall:\",metrics.recall_score(y_test_CORR,y_pred_CORR))"
   ]
  },
  {
   "cell_type": "code",
   "execution_count": 166,
   "metadata": {},
   "outputs": [
    {
     "name": "stdout",
     "output_type": "stream",
     "text": [
      "GradientBoostingClassifier(criterion='friedman_mse', init=None,\n",
      "                           learning_rate=0.1, loss='deviance', max_depth=3,\n",
      "                           max_features=None, max_leaf_nodes=None,\n",
      "                           min_impurity_decrease=0.0, min_impurity_split=None,\n",
      "                           min_samples_leaf=1, min_samples_split=2,\n",
      "                           min_weight_fraction_leaf=0.0, n_estimators=300,\n",
      "                           n_iter_no_change=None, presort='auto',\n",
      "                           random_state=None, subsample=1.0, tol=0.0001,\n",
      "                           validation_fraction=0.1, verbose=0,\n",
      "                           warm_start=False)\n",
      "Recall: 0.3497481813094572\n"
     ]
    }
   ],
   "source": [
    "#training        \n",
    "grid_GBM.fit(X_train_RFE, y_train_RFE)\n",
    "\n",
    "#print best estimator\n",
    "print(grid_GBM.best_estimator_)\n",
    "\n",
    "#with its score\n",
    "print(\"Recall:\",np.abs(grid_GBM.best_score_))"
   ]
  },
  {
   "cell_type": "code",
   "execution_count": 167,
   "metadata": {},
   "outputs": [
    {
     "name": "stdout",
     "output_type": "stream",
     "text": [
      "Accuracy: 0.8245\n",
      "Kappa: 0.37184955409073284\n",
      "Precision: 0.6590257879656161\n",
      "Recall: 0.3607843137254902\n"
     ]
    }
   ],
   "source": [
    "GBM_RFE = GradientBoostingClassifier(criterion='friedman_mse', init=None,\n",
    "                           learning_rate=0.1, loss='deviance', max_depth=3,\n",
    "                           max_features=None, max_leaf_nodes=None,\n",
    "                           min_impurity_decrease=0.0, min_impurity_split=None,\n",
    "                           min_samples_leaf=1, min_samples_split=2,\n",
    "                           min_weight_fraction_leaf=0.0, n_estimators=300,\n",
    "                           n_iter_no_change=None, presort='auto',\n",
    "                           random_state=None, subsample=1.0, tol=0.0001,\n",
    "                           validation_fraction=0.1, verbose=0,\n",
    "                           warm_start=False)\n",
    "\n",
    "GBM_RFE.fit(X_train_RFE,y_train_RFE)\n",
    "y_pred_RFE = GBM_RFE.predict(X_test_RFE)\n",
    "\n",
    "print(\"Accuracy:\",metrics.accuracy_score(y_test_RFE, y_pred_RFE))\n",
    "print(\"Kappa:\",metrics.cohen_kappa_score(y_test_RFE,y_pred_RFE))\n",
    "print(\"Precision:\",metrics.precision_score(y_test_RFE,y_pred_RFE))\n",
    "print(\"Recall:\",metrics.recall_score(y_test_RFE,y_pred_RFE))"
   ]
  },
  {
   "cell_type": "markdown",
   "metadata": {},
   "source": [
    "#### Neural Network"
   ]
  },
  {
   "cell_type": "code",
   "execution_count": 156,
   "metadata": {},
   "outputs": [
    {
     "name": "stdout",
     "output_type": "stream",
     "text": [
      "Accuracy: 0.7025\n",
      "Recall: 0.19695817490494297\n"
     ]
    }
   ],
   "source": [
    "#original data set\n",
    "MLP = MLPClassifier(solver='lbfgs')\n",
    "MLP.fit(X_train_v0,y_train_v0)\n",
    "y_pred_v0 = MLP.predict(X_test_v0)\n",
    "\n",
    "print(\"Accuracy:\",metrics.accuracy_score(y_test_v0, y_pred_v0))\n",
    "print(\"Recall:\", metrics.recall_score(y_test_v0,y_pred_v0))"
   ]
  },
  {
   "cell_type": "markdown",
   "metadata": {},
   "source": [
    "Best performing models in terms of accuracy and recall:<br><br>\n",
    "RandomForest with CORR data set (rf_CORR_2; y_pred_2_CORR)<br>\n",
    "DecisionTree with v1 data set (tree_v1; y_pred_v1)<br>\n",
    "GBM with original data set (GBM_v0; y_pred_GBMv0)"
   ]
  },
  {
   "cell_type": "markdown",
   "metadata": {},
   "source": [
    "### Compare Models"
   ]
  },
  {
   "cell_type": "code",
   "execution_count": 194,
   "metadata": {},
   "outputs": [],
   "source": [
    "RF_cm = confusion_matrix(y_test_CORR,y_pred_2_CORR)\n",
    "tree_cm = confusion_matrix(y_test_v1,y_pred_treev1)\n",
    "GBM_cm = confusion_matrix(y_test_v0,y_pred_GBMv0)"
   ]
  },
  {
   "cell_type": "code",
   "execution_count": 195,
   "metadata": {
    "scrolled": true
   },
   "outputs": [
    {
     "data": {
      "text/plain": [
       "array([[4444,  229],\n",
       "       [ 853,  474]], dtype=int64)"
      ]
     },
     "execution_count": 195,
     "metadata": {},
     "output_type": "execute_result"
    }
   ],
   "source": [
    "RF_cm"
   ]
  },
  {
   "cell_type": "code",
   "execution_count": 213,
   "metadata": {},
   "outputs": [
    {
     "name": "stdout",
     "output_type": "stream",
     "text": [
      "Accuracy: 0.8196666666666667\n",
      "Kappa: 0.37057880572466906\n",
      "Precision: 0.6742532005689901\n",
      "Recall: 0.3571966842501884\n"
     ]
    }
   ],
   "source": [
    "#print RF metrics again\n",
    "print(\"Accuracy:\",metrics.accuracy_score(y_test_CORR, y_pred_2_CORR))\n",
    "print(\"Kappa:\",metrics.cohen_kappa_score(y_test_CORR,y_pred_2_CORR))\n",
    "print(\"Precision:\",metrics.precision_score(y_test_CORR,y_pred_2_CORR))\n",
    "print(\"Recall:\",metrics.recall_score(y_test_CORR,y_pred_2_CORR))"
   ]
  },
  {
   "cell_type": "code",
   "execution_count": 215,
   "metadata": {},
   "outputs": [
    {
     "data": {
      "text/plain": [
       "[Text(0, 0.5, 'Not Default'), Text(0, 1.5, 'Default')]"
      ]
     },
     "execution_count": 215,
     "metadata": {},
     "output_type": "execute_result"
    },
    {
     "data": {
      "image/png": "[encoded data removed]",
      "text/plain": [
       "<Figure size 432x288 with 2 Axes>"
      ]
     },
     "metadata": {
      "needs_background": "light"
     },
     "output_type": "display_data"
    }
   ],
   "source": [
    "ax = plt.subplot()\n",
    "sns.heatmap(RF_cm, annot=True, ax = ax, fmt='g', cmap='Blues') #annot=True to annotate cells, fmt='g' to remove sci notation\n",
    "\n",
    "# labels, title and ticks\n",
    "ax.set_xlabel('Predicted labels')\n",
    "ax.set_ylabel('True labels')\n",
    "ax.set_title('Confusion Matrix')\n",
    "ax.xaxis.set_ticklabels(['Not Default', 'Default'])\n",
    "ax.yaxis.set_ticklabels(['Not Default', 'Default'])"
   ]
  },
  {
   "cell_type": "code",
   "execution_count": 216,
   "metadata": {},
   "outputs": [
    {
     "data": {
      "text/plain": [
       "[Text(0, 0.5, 'Not Default'), Text(0, 1.5, 'Default')]"
      ]
     },
     "execution_count": 216,
     "metadata": {},
     "output_type": "execute_result"
    },
    {
     "data": {
      "image/png": "[encoded data removed]",
      "text/plain": [
       "<Figure size 432x288 with 2 Axes>"
      ]
     },
     "metadata": {
      "needs_background": "light"
     },
     "output_type": "display_data"
    }
   ],
   "source": [
    "ax = plt.subplot()\n",
    "sns.heatmap(tree_cm, annot=True, ax = ax, fmt='g', cmap='Blues') #annot=True to annotate cells, fmt='g' to remove sci notation\n",
    "\n",
    "# labels, title and ticks\n",
    "ax.set_xlabel('Predicted labels')\n",
    "ax.set_ylabel('True labels')\n",
    "ax.set_title('Confusion Matrix')\n",
    "ax.xaxis.set_ticklabels(['Not Default', 'Default'])\n",
    "ax.yaxis.set_ticklabels(['Not Default', 'Default'])"
   ]
  },
  {
   "cell_type": "code",
   "execution_count": 217,
   "metadata": {},
   "outputs": [
    {
     "data": {
      "text/plain": [
       "[Text(0, 0.5, 'Not Default'), Text(0, 1.5, 'Default')]"
      ]
     },
     "execution_count": 217,
     "metadata": {},
     "output_type": "execute_result"
    },
    {
     "data": {
      "image/png": "[encoded data removed]",
      "text/plain": [
       "<Figure size 432x288 with 2 Axes>"
      ]
     },
     "metadata": {
      "needs_background": "light"
     },
     "output_type": "display_data"
    }
   ],
   "source": [
    "ax = plt.subplot()\n",
    "sns.heatmap(GBM_cm, annot=True, ax = ax, fmt='g', cmap='Blues') #annot=True to annotate cells, fmt='g' to remove sci notation\n",
    "\n",
    "# labels, title and ticks\n",
    "ax.set_xlabel('Predicted labels')\n",
    "ax.set_ylabel('True labels')\n",
    "ax.set_title('Confusion Matrix')\n",
    "ax.xaxis.set_ticklabels(['Not Default', 'Default'])\n",
    "ax.yaxis.set_ticklabels(['Not Default', 'Default'])"
   ]
  },
  {
   "cell_type": "markdown",
   "metadata": {},
   "source": [
    "All three models perform pretty similarly with regards to accuracy, precision, and recall. None are all that great for what we need, however. Let's go back and increase cv to 10 to see if there's any improvement."
   ]
  },
  {
   "cell_type": "code",
   "execution_count": 232,
   "metadata": {},
   "outputs": [
    {
     "name": "stdout",
     "output_type": "stream",
     "text": [
      "RF with 10-fold CV: [0.82507289 0.82458333 0.82       0.8225     0.81333333 0.81875\n",
      " 0.81       0.81208333 0.82375    0.82451021]\n",
      "Decision Tree with 10-fold CV: [0.81875    0.82       0.8225     0.81166667 0.82125    0.815\n",
      " 0.82708333 0.81958333 0.815      0.82375   ]\n",
      "GBM with 10-fold CV: [0.82299042 0.81458333 0.81875    0.82166667 0.81       0.815\n",
      " 0.82916667 0.81791667 0.82041667 0.81533972]\n"
     ]
    }
   ],
   "source": [
    "print(\"RF with 10-fold CV:\",cross_val_score(rf_CORR_2,X_train_CORR,y_train_CORR, cv=10))\n",
    "print(\"Decision Tree with 10-fold CV:\",cross_val_score(tree_v1,X_train_v1,y_train_v1, cv=10))\n",
    "print(\"GBM with 10-fold CV:\",cross_val_score(GBM_v0,X_train_v0,y_train_v0, cv=10))"
   ]
  }
 ],
 "metadata": {
  "kernelspec": {
   "display_name": "Python 3",
   "language": "python",
   "name": "python3"
  },
  "language_info": {
   "codemirror_mode": {
    "name": "ipython",
    "version": 3
   },
   "file_extension": ".py",
   "mimetype": "text/x-python",
   "name": "python",
   "nbconvert_exporter": "python",
   "pygments_lexer": "ipython3",
   "version": "3.7.3"
  }
 },
 "nbformat": 4,
 "nbformat_minor": 2
}
