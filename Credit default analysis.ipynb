{
 "cells": [
  {
   "cell_type": "markdown",
   "metadata": {},
   "source": [
    "##  Classification pipeline\n",
    "\n",
    "### Last update: 9/9/19\n",
    "### File: C:\\Users\\megan\\OneDrive\\Data_Analytics\\C5T2_3\\Credit-default-analysis\n",
    "### Project Name: Credit Default Analysis"
   ]
  },
  {
   "cell_type": "code",
   "execution_count": 2,
   "metadata": {},
   "outputs": [],
   "source": [
    "#Import libraries and modules\n",
    "\n",
    "# data analysis and wrangling\n",
    "import pandas as pd\n",
    "import numpy as np\n",
    "import random as rnd\n",
    "from scipy import stats\n",
    "\n",
    "# visualization\n",
    "import seaborn as sns\n",
    "from matplotlib import pyplot as plt\n",
    "import plotly\n",
    "import plotly.tools as tls\n",
    "%matplotlib inline\n",
    "\n",
    "# machine learning\n",
    "from sklearn.feature_selection import RFE, f_regression\n",
    "from sklearn.preprocessing import StandardScaler\n",
    "from sklearn.linear_model import LogisticRegression\n",
    "from sklearn.svm import SVC, LinearSVC\n",
    "from sklearn.ensemble import RandomForestClassifier, GradientBoostingClassifier\n",
    "from sklearn.neighbors import KNeighborsClassifier\n",
    "from sklearn.gaussian_process import GaussianProcessClassifier\n",
    "from sklearn.model_selection import train_test_split, cross_val_score, cross_val_predict\n",
    "from sklearn.tree import DecisionTreeClassifier\n",
    "from sklearn.decomposition import PCA\n",
    "from sklearn.preprocessing import OneHotEncoder\n",
    "from sklearn import metrics\n",
    "#from sklearn.metrics import confusion_matrix\n",
    "from pandas_ml import ConfusionMatrix\n",
    "from sklearn.neural_network import MLPClassifier\n",
    "#from sklearn.model_selection import GridSearchCV\n",
    "import dask_ml.model_selection as dcv\n",
    "\n",
    "pd.options.display.max_columns = 30"
   ]
  },
  {
   "cell_type": "code",
   "execution_count": 3,
   "metadata": {},
   "outputs": [
    {
     "ename": "FileNotFoundError",
     "evalue": "[Errno 2] File b'default of credit card clients.csv' does not exist: b'default of credit card clients.csv'",
     "output_type": "error",
     "traceback": [
      "\u001b[1;31m---------------------------------------------------------------------------\u001b[0m",
      "\u001b[1;31mFileNotFoundError\u001b[0m                         Traceback (most recent call last)",
      "\u001b[1;32m<ipython-input-3-9042a1562e5b>\u001b[0m in \u001b[0;36m<module>\u001b[1;34m\u001b[0m\n\u001b[0;32m      2\u001b[0m \u001b[1;33m\u001b[0m\u001b[0m\n\u001b[0;32m      3\u001b[0m \u001b[1;31m#load train/existing data (dataset1)\u001b[0m\u001b[1;33m\u001b[0m\u001b[1;33m\u001b[0m\u001b[1;33m\u001b[0m\u001b[0m\n\u001b[1;32m----> 4\u001b[1;33m \u001b[0mcredit\u001b[0m \u001b[1;33m=\u001b[0m \u001b[0mpd\u001b[0m\u001b[1;33m.\u001b[0m\u001b[0mread_csv\u001b[0m\u001b[1;33m(\u001b[0m\u001b[1;34m'default of credit card clients.csv'\u001b[0m\u001b[1;33m,\u001b[0m \u001b[0mheader\u001b[0m \u001b[1;33m=\u001b[0m \u001b[1;36m1\u001b[0m\u001b[1;33m)\u001b[0m\u001b[1;33m\u001b[0m\u001b[1;33m\u001b[0m\u001b[0m\n\u001b[0m\u001b[0;32m      5\u001b[0m \u001b[1;33m\u001b[0m\u001b[0m\n\u001b[0;32m      6\u001b[0m \u001b[1;31m#load predict/new data (dataset2)\u001b[0m\u001b[1;33m\u001b[0m\u001b[1;33m\u001b[0m\u001b[1;33m\u001b[0m\u001b[0m\n",
      "\u001b[1;32m~\\AppData\\Local\\Continuum\\anaconda3\\lib\\site-packages\\pandas\\io\\parsers.py\u001b[0m in \u001b[0;36mparser_f\u001b[1;34m(filepath_or_buffer, sep, delimiter, header, names, index_col, usecols, squeeze, prefix, mangle_dupe_cols, dtype, engine, converters, true_values, false_values, skipinitialspace, skiprows, skipfooter, nrows, na_values, keep_default_na, na_filter, verbose, skip_blank_lines, parse_dates, infer_datetime_format, keep_date_col, date_parser, dayfirst, iterator, chunksize, compression, thousands, decimal, lineterminator, quotechar, quoting, doublequote, escapechar, comment, encoding, dialect, tupleize_cols, error_bad_lines, warn_bad_lines, delim_whitespace, low_memory, memory_map, float_precision)\u001b[0m\n\u001b[0;32m    700\u001b[0m                     skip_blank_lines=skip_blank_lines)\n\u001b[0;32m    701\u001b[0m \u001b[1;33m\u001b[0m\u001b[0m\n\u001b[1;32m--> 702\u001b[1;33m         \u001b[1;32mreturn\u001b[0m \u001b[0m_read\u001b[0m\u001b[1;33m(\u001b[0m\u001b[0mfilepath_or_buffer\u001b[0m\u001b[1;33m,\u001b[0m \u001b[0mkwds\u001b[0m\u001b[1;33m)\u001b[0m\u001b[1;33m\u001b[0m\u001b[1;33m\u001b[0m\u001b[0m\n\u001b[0m\u001b[0;32m    703\u001b[0m \u001b[1;33m\u001b[0m\u001b[0m\n\u001b[0;32m    704\u001b[0m     \u001b[0mparser_f\u001b[0m\u001b[1;33m.\u001b[0m\u001b[0m__name__\u001b[0m \u001b[1;33m=\u001b[0m \u001b[0mname\u001b[0m\u001b[1;33m\u001b[0m\u001b[1;33m\u001b[0m\u001b[0m\n",
      "\u001b[1;32m~\\AppData\\Local\\Continuum\\anaconda3\\lib\\site-packages\\pandas\\io\\parsers.py\u001b[0m in \u001b[0;36m_read\u001b[1;34m(filepath_or_buffer, kwds)\u001b[0m\n\u001b[0;32m    427\u001b[0m \u001b[1;33m\u001b[0m\u001b[0m\n\u001b[0;32m    428\u001b[0m     \u001b[1;31m# Create the parser.\u001b[0m\u001b[1;33m\u001b[0m\u001b[1;33m\u001b[0m\u001b[1;33m\u001b[0m\u001b[0m\n\u001b[1;32m--> 429\u001b[1;33m     \u001b[0mparser\u001b[0m \u001b[1;33m=\u001b[0m \u001b[0mTextFileReader\u001b[0m\u001b[1;33m(\u001b[0m\u001b[0mfilepath_or_buffer\u001b[0m\u001b[1;33m,\u001b[0m \u001b[1;33m**\u001b[0m\u001b[0mkwds\u001b[0m\u001b[1;33m)\u001b[0m\u001b[1;33m\u001b[0m\u001b[1;33m\u001b[0m\u001b[0m\n\u001b[0m\u001b[0;32m    430\u001b[0m \u001b[1;33m\u001b[0m\u001b[0m\n\u001b[0;32m    431\u001b[0m     \u001b[1;32mif\u001b[0m \u001b[0mchunksize\u001b[0m \u001b[1;32mor\u001b[0m \u001b[0miterator\u001b[0m\u001b[1;33m:\u001b[0m\u001b[1;33m\u001b[0m\u001b[1;33m\u001b[0m\u001b[0m\n",
      "\u001b[1;32m~\\AppData\\Local\\Continuum\\anaconda3\\lib\\site-packages\\pandas\\io\\parsers.py\u001b[0m in \u001b[0;36m__init__\u001b[1;34m(self, f, engine, **kwds)\u001b[0m\n\u001b[0;32m    893\u001b[0m             \u001b[0mself\u001b[0m\u001b[1;33m.\u001b[0m\u001b[0moptions\u001b[0m\u001b[1;33m[\u001b[0m\u001b[1;34m'has_index_names'\u001b[0m\u001b[1;33m]\u001b[0m \u001b[1;33m=\u001b[0m \u001b[0mkwds\u001b[0m\u001b[1;33m[\u001b[0m\u001b[1;34m'has_index_names'\u001b[0m\u001b[1;33m]\u001b[0m\u001b[1;33m\u001b[0m\u001b[1;33m\u001b[0m\u001b[0m\n\u001b[0;32m    894\u001b[0m \u001b[1;33m\u001b[0m\u001b[0m\n\u001b[1;32m--> 895\u001b[1;33m         \u001b[0mself\u001b[0m\u001b[1;33m.\u001b[0m\u001b[0m_make_engine\u001b[0m\u001b[1;33m(\u001b[0m\u001b[0mself\u001b[0m\u001b[1;33m.\u001b[0m\u001b[0mengine\u001b[0m\u001b[1;33m)\u001b[0m\u001b[1;33m\u001b[0m\u001b[1;33m\u001b[0m\u001b[0m\n\u001b[0m\u001b[0;32m    896\u001b[0m \u001b[1;33m\u001b[0m\u001b[0m\n\u001b[0;32m    897\u001b[0m     \u001b[1;32mdef\u001b[0m \u001b[0mclose\u001b[0m\u001b[1;33m(\u001b[0m\u001b[0mself\u001b[0m\u001b[1;33m)\u001b[0m\u001b[1;33m:\u001b[0m\u001b[1;33m\u001b[0m\u001b[1;33m\u001b[0m\u001b[0m\n",
      "\u001b[1;32m~\\AppData\\Local\\Continuum\\anaconda3\\lib\\site-packages\\pandas\\io\\parsers.py\u001b[0m in \u001b[0;36m_make_engine\u001b[1;34m(self, engine)\u001b[0m\n\u001b[0;32m   1120\u001b[0m     \u001b[1;32mdef\u001b[0m \u001b[0m_make_engine\u001b[0m\u001b[1;33m(\u001b[0m\u001b[0mself\u001b[0m\u001b[1;33m,\u001b[0m \u001b[0mengine\u001b[0m\u001b[1;33m=\u001b[0m\u001b[1;34m'c'\u001b[0m\u001b[1;33m)\u001b[0m\u001b[1;33m:\u001b[0m\u001b[1;33m\u001b[0m\u001b[1;33m\u001b[0m\u001b[0m\n\u001b[0;32m   1121\u001b[0m         \u001b[1;32mif\u001b[0m \u001b[0mengine\u001b[0m \u001b[1;33m==\u001b[0m \u001b[1;34m'c'\u001b[0m\u001b[1;33m:\u001b[0m\u001b[1;33m\u001b[0m\u001b[1;33m\u001b[0m\u001b[0m\n\u001b[1;32m-> 1122\u001b[1;33m             \u001b[0mself\u001b[0m\u001b[1;33m.\u001b[0m\u001b[0m_engine\u001b[0m \u001b[1;33m=\u001b[0m \u001b[0mCParserWrapper\u001b[0m\u001b[1;33m(\u001b[0m\u001b[0mself\u001b[0m\u001b[1;33m.\u001b[0m\u001b[0mf\u001b[0m\u001b[1;33m,\u001b[0m \u001b[1;33m**\u001b[0m\u001b[0mself\u001b[0m\u001b[1;33m.\u001b[0m\u001b[0moptions\u001b[0m\u001b[1;33m)\u001b[0m\u001b[1;33m\u001b[0m\u001b[1;33m\u001b[0m\u001b[0m\n\u001b[0m\u001b[0;32m   1123\u001b[0m         \u001b[1;32melse\u001b[0m\u001b[1;33m:\u001b[0m\u001b[1;33m\u001b[0m\u001b[1;33m\u001b[0m\u001b[0m\n\u001b[0;32m   1124\u001b[0m             \u001b[1;32mif\u001b[0m \u001b[0mengine\u001b[0m \u001b[1;33m==\u001b[0m \u001b[1;34m'python'\u001b[0m\u001b[1;33m:\u001b[0m\u001b[1;33m\u001b[0m\u001b[1;33m\u001b[0m\u001b[0m\n",
      "\u001b[1;32m~\\AppData\\Local\\Continuum\\anaconda3\\lib\\site-packages\\pandas\\io\\parsers.py\u001b[0m in \u001b[0;36m__init__\u001b[1;34m(self, src, **kwds)\u001b[0m\n\u001b[0;32m   1851\u001b[0m         \u001b[0mkwds\u001b[0m\u001b[1;33m[\u001b[0m\u001b[1;34m'usecols'\u001b[0m\u001b[1;33m]\u001b[0m \u001b[1;33m=\u001b[0m \u001b[0mself\u001b[0m\u001b[1;33m.\u001b[0m\u001b[0musecols\u001b[0m\u001b[1;33m\u001b[0m\u001b[1;33m\u001b[0m\u001b[0m\n\u001b[0;32m   1852\u001b[0m \u001b[1;33m\u001b[0m\u001b[0m\n\u001b[1;32m-> 1853\u001b[1;33m         \u001b[0mself\u001b[0m\u001b[1;33m.\u001b[0m\u001b[0m_reader\u001b[0m \u001b[1;33m=\u001b[0m \u001b[0mparsers\u001b[0m\u001b[1;33m.\u001b[0m\u001b[0mTextReader\u001b[0m\u001b[1;33m(\u001b[0m\u001b[0msrc\u001b[0m\u001b[1;33m,\u001b[0m \u001b[1;33m**\u001b[0m\u001b[0mkwds\u001b[0m\u001b[1;33m)\u001b[0m\u001b[1;33m\u001b[0m\u001b[1;33m\u001b[0m\u001b[0m\n\u001b[0m\u001b[0;32m   1854\u001b[0m         \u001b[0mself\u001b[0m\u001b[1;33m.\u001b[0m\u001b[0munnamed_cols\u001b[0m \u001b[1;33m=\u001b[0m \u001b[0mself\u001b[0m\u001b[1;33m.\u001b[0m\u001b[0m_reader\u001b[0m\u001b[1;33m.\u001b[0m\u001b[0munnamed_cols\u001b[0m\u001b[1;33m\u001b[0m\u001b[1;33m\u001b[0m\u001b[0m\n\u001b[0;32m   1855\u001b[0m \u001b[1;33m\u001b[0m\u001b[0m\n",
      "\u001b[1;32mpandas/_libs/parsers.pyx\u001b[0m in \u001b[0;36mpandas._libs.parsers.TextReader.__cinit__\u001b[1;34m()\u001b[0m\n",
      "\u001b[1;32mpandas/_libs/parsers.pyx\u001b[0m in \u001b[0;36mpandas._libs.parsers.TextReader._setup_parser_source\u001b[1;34m()\u001b[0m\n",
      "\u001b[1;31mFileNotFoundError\u001b[0m: [Errno 2] File b'default of credit card clients.csv' does not exist: b'default of credit card clients.csv'"
     ]
    }
   ],
   "source": [
    "#import data\n",
    "\n",
    "#load train/existing data (dataset1)\n",
    "credit = pd.read_csv('default of credit card clients.csv', header = 1)\n",
    "\n",
    "#load predict/new data (dataset2)"
   ]
  },
  {
   "cell_type": "markdown",
   "metadata": {},
   "source": [
    "### Data Pre-Processing"
   ]
  },
  {
   "cell_type": "code",
   "execution_count": null,
   "metadata": {},
   "outputs": [],
   "source": [
    "#check for missing data\n",
    "print(credit.isnull().values.any())"
   ]
  },
  {
   "cell_type": "code",
   "execution_count": null,
   "metadata": {},
   "outputs": [],
   "source": [
    "credit.head()"
   ]
  },
  {
   "cell_type": "code",
   "execution_count": null,
   "metadata": {
    "scrolled": false
   },
   "outputs": [],
   "source": [
    "credit.describe()"
   ]
  },
  {
   "cell_type": "code",
   "execution_count": null,
   "metadata": {},
   "outputs": [],
   "source": [
    "credit.columns"
   ]
  },
  {
   "cell_type": "code",
   "execution_count": null,
   "metadata": {},
   "outputs": [],
   "source": [
    "credit['SEX'].value_counts()"
   ]
  },
  {
   "cell_type": "code",
   "execution_count": null,
   "metadata": {},
   "outputs": [],
   "source": [
    "18112 / 30000"
   ]
  },
  {
   "cell_type": "code",
   "execution_count": null,
   "metadata": {},
   "outputs": [],
   "source": [
    "11888 / 30000"
   ]
  },
  {
   "cell_type": "code",
   "execution_count": null,
   "metadata": {},
   "outputs": [],
   "source": [
    "credit['default payment next month'].value_counts()"
   ]
  },
  {
   "cell_type": "code",
   "execution_count": null,
   "metadata": {},
   "outputs": [],
   "source": [
    "23364 / 30000"
   ]
  },
  {
   "cell_type": "markdown",
   "metadata": {},
   "source": [
    "About 78% percent of the population is no for default; About 22% is yes for default"
   ]
  },
  {
   "cell_type": "code",
   "execution_count": null,
   "metadata": {},
   "outputs": [],
   "source": [
    "credit.info()"
   ]
  },
  {
   "cell_type": "markdown",
   "metadata": {},
   "source": [
    "All variables are listed as integers in dataset. Need to change sex, education, and marriage to category after exploratory data analysis is done."
   ]
  },
  {
   "cell_type": "code",
   "execution_count": null,
   "metadata": {},
   "outputs": [],
   "source": [
    "credit = credit.drop(columns=['ID'])"
   ]
  },
  {
   "cell_type": "code",
   "execution_count": null,
   "metadata": {},
   "outputs": [],
   "source": [
    "credit.rename(columns={\"default payment next month\": \"default\"}, inplace = True)"
   ]
  },
  {
   "cell_type": "code",
   "execution_count": null,
   "metadata": {
    "scrolled": true
   },
   "outputs": [],
   "source": [
    "credit.head()"
   ]
  },
  {
   "cell_type": "code",
   "execution_count": null,
   "metadata": {},
   "outputs": [],
   "source": [
    "credit['EDUCATION'].value_counts()"
   ]
  },
  {
   "cell_type": "code",
   "execution_count": null,
   "metadata": {},
   "outputs": [],
   "source": [
    "#group education levels 4,5,6 into single group 4 \n",
    "#NOTE for future analysis, it would help to understand what 4,5,6 are\n",
    "credit['EDUCATION'] = credit['EDUCATION'].replace([4, 5, 6], 4)"
   ]
  },
  {
   "cell_type": "code",
   "execution_count": null,
   "metadata": {},
   "outputs": [],
   "source": [
    "#check recode\n",
    "credit['EDUCATION'].value_counts()"
   ]
  },
  {
   "cell_type": "code",
   "execution_count": null,
   "metadata": {
    "scrolled": true
   },
   "outputs": [],
   "source": [
    "#check negative amounts for bill statements to see if they make sense\n",
    "credit.nsmallest(10, 'BILL_AMT6')"
   ]
  },
  {
   "cell_type": "code",
   "execution_count": null,
   "metadata": {},
   "outputs": [],
   "source": [
    "#check outliers - done with EDA below"
   ]
  },
  {
   "cell_type": "code",
   "execution_count": null,
   "metadata": {},
   "outputs": [],
   "source": [
    "#several rows with 0's across payment amt and bill amt. check how many\n",
    "zero = (credit[(credit.PAY_AMT1 == 0) & (credit.PAY_AMT2 == 0) & (credit.PAY_AMT3 == 0) & (credit.PAY_AMT4 == 0) & \\\n",
    "             (credit.PAY_AMT5 == 0) & (credit.PAY_AMT6 == 0) & (credit.BILL_AMT1 ==0) & (credit.BILL_AMT2 ==0) & \\\n",
    "                   (credit.BILL_AMT3 == 0) & (credit.BILL_AMT4 == 0) & (credit.BILL_AMT5 == 0) & (credit.BILL_AMT6 == 0)])"
   ]
  },
  {
   "cell_type": "code",
   "execution_count": null,
   "metadata": {},
   "outputs": [],
   "source": [
    "print(zero.count())"
   ]
  },
  {
   "cell_type": "markdown",
   "metadata": {},
   "source": [
    "There are a total of 795 rows where BOTH the bill amount and payment amount are zero. Assuming these are 0 balances with no usage."
   ]
  },
  {
   "cell_type": "markdown",
   "metadata": {},
   "source": [
    "### Exploratory Data Analysis"
   ]
  },
  {
   "cell_type": "code",
   "execution_count": null,
   "metadata": {},
   "outputs": [],
   "source": [
    "sns.set(style=\"darkgrid\")"
   ]
  },
  {
   "cell_type": "code",
   "execution_count": null,
   "metadata": {},
   "outputs": [],
   "source": [
    "header = credit.dtypes.index\n",
    "print(header)"
   ]
  },
  {
   "cell_type": "code",
   "execution_count": null,
   "metadata": {},
   "outputs": [],
   "source": [
    "#visualize distributions\n",
    "plt.hist(credit['LIMIT_BAL'])\n",
    "plt.show()"
   ]
  },
  {
   "cell_type": "code",
   "execution_count": null,
   "metadata": {},
   "outputs": [],
   "source": [
    "credit['SEX'].value_counts()"
   ]
  },
  {
   "cell_type": "code",
   "execution_count": null,
   "metadata": {},
   "outputs": [],
   "source": [
    "fg = sns.catplot('SEX', data=credit, kind='count', aspect=1.5)\n",
    "fg.set_xlabels('SEX')"
   ]
  },
  {
   "cell_type": "markdown",
   "metadata": {},
   "source": [
    "There are 1.5 more females in this dataset than males."
   ]
  },
  {
   "cell_type": "code",
   "execution_count": null,
   "metadata": {},
   "outputs": [],
   "source": [
    "g = sns.catplot('EDUCATION', data=credit, kind='count', aspect=1)\n",
    "g.set_xlabels('EDUCATION')"
   ]
  },
  {
   "cell_type": "markdown",
   "metadata": {},
   "source": [
    "There are only 14 people in the '0' education category. The others are grouped into category 4, which is still small compared to the others."
   ]
  },
  {
   "cell_type": "code",
   "execution_count": null,
   "metadata": {},
   "outputs": [],
   "source": [
    "sns.catplot('MARRIAGE', data=credit, kind='count', aspect=1)"
   ]
  },
  {
   "cell_type": "markdown",
   "metadata": {},
   "source": [
    "Vast majority of customers are either married (1) or single (2)."
   ]
  },
  {
   "cell_type": "code",
   "execution_count": null,
   "metadata": {},
   "outputs": [],
   "source": [
    "# Number of men and women in each of the education levels\n",
    "credit.groupby(['SEX', 'EDUCATION'])['SEX'].count()"
   ]
  },
  {
   "cell_type": "code",
   "execution_count": null,
   "metadata": {},
   "outputs": [],
   "source": [
    "sns.catplot('EDUCATION', data=credit, hue='SEX', kind='count', aspect=1.5)"
   ]
  },
  {
   "cell_type": "markdown",
   "metadata": {},
   "source": [
    "Distribution seems to fit the 1.5x females versus males. Females are higher in every education level and they trend similarly."
   ]
  },
  {
   "cell_type": "code",
   "execution_count": null,
   "metadata": {},
   "outputs": [],
   "source": [
    "# Number of men and women in each of the education levels\n",
    "credit.groupby(['EDUCATION', 'MARRIAGE'])['EDUCATION'].count()"
   ]
  },
  {
   "cell_type": "code",
   "execution_count": null,
   "metadata": {},
   "outputs": [],
   "source": [
    "sns.catplot('MARRIAGE', data=credit, hue='EDUCATION', kind='count', aspect=1.5)"
   ]
  },
  {
   "cell_type": "markdown",
   "metadata": {},
   "source": [
    "There are approx the same number of married (2) and single (1) people with university (2) education. There are much less married (2) people with graduate school (1) compared to single people."
   ]
  },
  {
   "cell_type": "code",
   "execution_count": null,
   "metadata": {},
   "outputs": [],
   "source": [
    "sns.catplot('MARRIAGE', data=credit, hue='SEX', kind='count', aspect=1.5)"
   ]
  },
  {
   "cell_type": "code",
   "execution_count": null,
   "metadata": {},
   "outputs": [],
   "source": [
    "#distribution of age by marriage\n",
    "fig = sns.FacetGrid(credit, hue='MARRIAGE', aspect=4)\n",
    "fig.map(sns.kdeplot, 'AGE', shade=True)\n",
    "oldest = credit['AGE'].max()\n",
    "fig.set(xlim=(0,oldest))\n",
    "fig.set(title='Distribution of Age Grouped by Marriage')\n",
    "fig.add_legend()"
   ]
  },
  {
   "cell_type": "markdown",
   "metadata": {},
   "source": [
    "As expected, the majority of the single (2) customers are also the youngest."
   ]
  },
  {
   "cell_type": "code",
   "execution_count": null,
   "metadata": {},
   "outputs": [],
   "source": [
    "#distribution of age by education\n",
    "fig2 = sns.FacetGrid(credit, hue='EDUCATION', aspect=4)\n",
    "fig2.map(sns.kdeplot, 'AGE', shade=True)\n",
    "oldest = credit['AGE'].max()\n",
    "fig2.set(xlim=(0,oldest))\n",
    "fig2.set(title='Distribution of Age Grouped by Education Level')\n",
    "fig2.add_legend()"
   ]
  },
  {
   "cell_type": "markdown",
   "metadata": {},
   "source": [
    "Also interesting that those with graduate schooling (1) also tend to be younger. More younger people have university (2)education vs the older population tend to have just high school (3) level."
   ]
  },
  {
   "cell_type": "code",
   "execution_count": null,
   "metadata": {},
   "outputs": [],
   "source": [
    "plt.hist(credit['PAY_0'])\n",
    "plt.show()"
   ]
  },
  {
   "cell_type": "markdown",
   "metadata": {},
   "source": [
    "There appear to be outliers in this group at the 7 month mark. Let's look closer at the actual values."
   ]
  },
  {
   "cell_type": "code",
   "execution_count": null,
   "metadata": {
    "scrolled": true
   },
   "outputs": [],
   "source": [
    "credit['PAY_0'].value_counts()"
   ]
  },
  {
   "cell_type": "code",
   "execution_count": null,
   "metadata": {},
   "outputs": [],
   "source": [
    "A = credit['PAY_0']\n",
    "plt.boxplot(A,0,'gD')\n",
    "plt.show()"
   ]
  },
  {
   "cell_type": "markdown",
   "metadata": {},
   "source": [
    "Technically there are outlier values, but because they range from 2-8 and there is a significant number of them, they will not be removed. Logically, one would think delaying payment would be a significant factor on default risk."
   ]
  },
  {
   "cell_type": "code",
   "execution_count": null,
   "metadata": {},
   "outputs": [],
   "source": [
    "# Review if sex relates to payment delays\n",
    "credit.groupby(['PAY_0', 'SEX'])['PAY_0'].count()"
   ]
  },
  {
   "cell_type": "code",
   "execution_count": null,
   "metadata": {},
   "outputs": [],
   "source": [
    "sns.catplot('PAY_0', data=credit, hue='SEX', kind='count', aspect=1.5)"
   ]
  },
  {
   "cell_type": "code",
   "execution_count": null,
   "metadata": {},
   "outputs": [],
   "source": [
    "sns.catplot('PAY_0', data=credit, hue='EDUCATION', kind='count', aspect=1.5)"
   ]
  },
  {
   "cell_type": "code",
   "execution_count": null,
   "metadata": {},
   "outputs": [],
   "source": [
    "sns.catplot('PAY_0', data=credit, hue='MARRIAGE', kind='count', aspect=1.5)"
   ]
  },
  {
   "cell_type": "code",
   "execution_count": null,
   "metadata": {},
   "outputs": [],
   "source": [
    "plt.hist(credit['PAY_2'])\n",
    "plt.show()"
   ]
  },
  {
   "cell_type": "code",
   "execution_count": null,
   "metadata": {},
   "outputs": [],
   "source": [
    "credit['PAY_2'].value_counts()"
   ]
  },
  {
   "cell_type": "code",
   "execution_count": null,
   "metadata": {},
   "outputs": [],
   "source": [
    "plt.hist(credit['PAY_3'])\n",
    "plt.show()"
   ]
  },
  {
   "cell_type": "code",
   "execution_count": null,
   "metadata": {},
   "outputs": [],
   "source": [
    "credit['PAY_3'].value_counts()"
   ]
  },
  {
   "cell_type": "code",
   "execution_count": null,
   "metadata": {},
   "outputs": [],
   "source": [
    "plt.hist(credit['PAY_4'])\n",
    "plt.show()"
   ]
  },
  {
   "cell_type": "code",
   "execution_count": null,
   "metadata": {},
   "outputs": [],
   "source": [
    "credit['PAY_4'].value_counts()"
   ]
  },
  {
   "cell_type": "code",
   "execution_count": null,
   "metadata": {},
   "outputs": [],
   "source": [
    "plt.hist(credit['PAY_5'])\n",
    "plt.show()"
   ]
  },
  {
   "cell_type": "code",
   "execution_count": null,
   "metadata": {},
   "outputs": [],
   "source": [
    "credit['PAY_5'].value_counts()"
   ]
  },
  {
   "cell_type": "code",
   "execution_count": null,
   "metadata": {},
   "outputs": [],
   "source": [
    "plt.hist(credit['PAY_6'])\n",
    "plt.show()"
   ]
  },
  {
   "cell_type": "code",
   "execution_count": null,
   "metadata": {},
   "outputs": [],
   "source": [
    "credit['PAY_6'].value_counts()"
   ]
  },
  {
   "cell_type": "markdown",
   "metadata": {},
   "source": [
    "All of the payment columns show a highly left-skewed distribution, with 0 (no delay) being dominating group every time. Depending on model used will need to normalize later."
   ]
  },
  {
   "cell_type": "code",
   "execution_count": null,
   "metadata": {},
   "outputs": [],
   "source": [
    "plt.hist(credit['BILL_AMT1'],4)\n",
    "print(credit.BILL_AMT1.min())\n",
    "print(credit.BILL_AMT1.max())"
   ]
  },
  {
   "cell_type": "code",
   "execution_count": null,
   "metadata": {},
   "outputs": [],
   "source": [
    "#who had the lowest bill?\n",
    "credit[credit.BILL_AMT1 == -165580]"
   ]
  },
  {
   "cell_type": "markdown",
   "metadata": {},
   "source": [
    "For first month tracked, a 37 year old, college educated, married male had the lowest bill (as a credit)"
   ]
  },
  {
   "cell_type": "code",
   "execution_count": null,
   "metadata": {},
   "outputs": [],
   "source": [
    "#who had the highest bill?\n",
    "credit[credit.BILL_AMT1 == 964511]"
   ]
  },
  {
   "cell_type": "markdown",
   "metadata": {},
   "source": [
    "For the first month tracked, a 47 year old, graduate school, married female had the highest bill."
   ]
  },
  {
   "cell_type": "code",
   "execution_count": null,
   "metadata": {},
   "outputs": [],
   "source": [
    "plt.hist(credit['BILL_AMT6'],4)\n",
    "print(credit.BILL_AMT6.min())\n",
    "print(credit.BILL_AMT6.max())"
   ]
  },
  {
   "cell_type": "code",
   "execution_count": null,
   "metadata": {},
   "outputs": [],
   "source": [
    "#are the same people the min/max for the sixth month?\n",
    "credit[(credit.BILL_AMT6 == -339603) | (credit.BILL_AMT6 == 961664)]"
   ]
  },
  {
   "cell_type": "markdown",
   "metadata": {},
   "source": [
    "The person with the highest bill is the same. New person for lowest bill (33 y/o single male).<br>\n",
    "Interesting to note that person with lowest bill defaults, person with highest bill does not."
   ]
  },
  {
   "cell_type": "code",
   "execution_count": null,
   "metadata": {},
   "outputs": [],
   "source": [
    "plt.hist(credit['PAY_AMT1'],6)\n",
    "print(credit.PAY_AMT1.min())\n",
    "print(credit.PAY_AMT1.max())"
   ]
  },
  {
   "cell_type": "code",
   "execution_count": null,
   "metadata": {},
   "outputs": [],
   "source": [
    "plt.hist(credit['PAY_AMT6'],6)\n",
    "print(credit.PAY_AMT6.min())\n",
    "print(credit.PAY_AMT6.max())"
   ]
  },
  {
   "cell_type": "code",
   "execution_count": null,
   "metadata": {},
   "outputs": [],
   "source": [
    "#calculate ratio of last bill amount to limit balance\n",
    "ratio = credit.PAY_AMT6 / credit.LIMIT_BAL"
   ]
  },
  {
   "cell_type": "code",
   "execution_count": null,
   "metadata": {},
   "outputs": [],
   "source": [
    "plt.hist(ratio)\n",
    "plt.show()"
   ]
  },
  {
   "cell_type": "code",
   "execution_count": null,
   "metadata": {},
   "outputs": [],
   "source": [
    "plt.hist(credit['default'])\n",
    "plt.show()"
   ]
  },
  {
   "cell_type": "code",
   "execution_count": null,
   "metadata": {},
   "outputs": [],
   "source": [
    "# Linear plot of age vs. default rate\n",
    "sns.lmplot('AGE', 'default', data=credit)"
   ]
  },
  {
   "cell_type": "markdown",
   "metadata": {},
   "source": [
    "Not a large difference by age, although the older you are the very slightly higher chance that you'll default."
   ]
  },
  {
   "cell_type": "code",
   "execution_count": null,
   "metadata": {},
   "outputs": [],
   "source": [
    "# default vs. Age grouped by Sex\n",
    "sns.lmplot('AGE', 'default', data=credit, col='SEX')"
   ]
  },
  {
   "cell_type": "code",
   "execution_count": null,
   "metadata": {},
   "outputs": [],
   "source": [
    "# default vs. sex\n",
    "sns.countplot(x=\"SEX\", hue=\"default\", data=credit)"
   ]
  },
  {
   "cell_type": "code",
   "execution_count": null,
   "metadata": {},
   "outputs": [],
   "source": [
    "# default vs. Age grouped by Sex\n",
    "sns.countplot('EDUCATION', hue='default', data=credit)"
   ]
  },
  {
   "cell_type": "code",
   "execution_count": null,
   "metadata": {},
   "outputs": [],
   "source": [
    "credit.groupby(['EDUCATION', 'default'])['EDUCATION'].count()"
   ]
  },
  {
   "cell_type": "markdown",
   "metadata": {},
   "source": [
    "Education level 3 has the highest proportion of clients that default."
   ]
  },
  {
   "cell_type": "code",
   "execution_count": null,
   "metadata": {},
   "outputs": [],
   "source": [
    "credit.groupby(['MARRIAGE', 'default'])['MARRIAGE'].count()"
   ]
  },
  {
   "cell_type": "markdown",
   "metadata": {},
   "source": [
    "Overall, for each marriage group, there is a higher proportion of customers that do NOT default."
   ]
  },
  {
   "cell_type": "code",
   "execution_count": null,
   "metadata": {},
   "outputs": [],
   "source": [
    "#payment amount versus default\n",
    "sns.lmplot('PAY_AMT1', 'default', data=credit)"
   ]
  },
  {
   "cell_type": "markdown",
   "metadata": {},
   "source": [
    "The higher the payment amount, the lower the chance of default."
   ]
  },
  {
   "cell_type": "code",
   "execution_count": null,
   "metadata": {},
   "outputs": [],
   "source": [
    "#limit balance versus default\n",
    "sns.lmplot('LIMIT_BAL', 'default', data=credit)"
   ]
  },
  {
   "cell_type": "markdown",
   "metadata": {},
   "source": [
    "The higher the limit balance, the lower the chance of default"
   ]
  },
  {
   "cell_type": "code",
   "execution_count": null,
   "metadata": {},
   "outputs": [],
   "source": [
    "#bill amount versus default\n",
    "sns.lmplot('BILL_AMT1', 'default', data=credit)"
   ]
  },
  {
   "cell_type": "code",
   "execution_count": null,
   "metadata": {},
   "outputs": [],
   "source": [
    "#bill amount versus default\n",
    "sns.countplot('PAY_6', hue='default', data=credit)"
   ]
  },
  {
   "cell_type": "code",
   "execution_count": null,
   "metadata": {
    "scrolled": true
   },
   "outputs": [],
   "source": [
    "sns.catplot('PAY_6', 'default', kind='violin', data=credit)"
   ]
  },
  {
   "cell_type": "markdown",
   "metadata": {},
   "source": [
    "Even those customers that paid in full, didn't consume, or used revolving credit in the sixth month still had a small rate of default."
   ]
  },
  {
   "cell_type": "code",
   "execution_count": null,
   "metadata": {},
   "outputs": [],
   "source": [
    "#discretize age for new dataset\n",
    "credit_v1 = credit.copy()\n",
    "credit_v1['AGE'] = pd.qcut(credit_v1['AGE'],4)\n",
    "credit_v1['AGE'].value_counts()\n",
    "\n",
    "#bins = pd.IntervalIndex.from_tuples([(20.999, 34), (34, 49), (49, 60), (60, 79)])\n",
    "#credit_v1['AGE'] = pd.cut(credit_v1['AGE'],bins)\n",
    "#credit_v1['AGE'].value_counts()"
   ]
  },
  {
   "cell_type": "code",
   "execution_count": null,
   "metadata": {},
   "outputs": [],
   "source": [
    "#update new dataset with discretization for bill and payment amounts \n",
    "#plt.hist(credit['BILL_AMT1'])\n",
    "#credit_v1 = credit.copy()\n",
    "#plt.show()\n",
    "bins = pd.IntervalIndex.from_tuples([(-16558, 0), (0, 15000), (15000, 60000), (60000, 964511.0)])\n",
    "credit_v1['BILL_AMT1'] = pd.cut(credit_v1['BILL_AMT1'],bins)\n",
    "credit_v1['BILL_AMT1'].value_counts()"
   ]
  },
  {
   "cell_type": "code",
   "execution_count": null,
   "metadata": {},
   "outputs": [],
   "source": [
    "#plt.hist(credit['BILL_AMT2'])\n",
    "#plt.show()\n",
    "#credit_v1 = credit.copy()\n",
    "bins = pd.IntervalIndex.from_tuples([(-69777.001, 0), (0, 15000), (15000, 60000), (60000, 983931.0)])\n",
    "credit_v1['BILL_AMT2'] = pd.cut(credit_v1['BILL_AMT2'],bins)\n",
    "credit_v1['BILL_AMT2'].value_counts()"
   ]
  },
  {
   "cell_type": "code",
   "execution_count": null,
   "metadata": {},
   "outputs": [],
   "source": [
    "#plt.hist(credit['BILL_AMT3'])\n",
    "#plt.show()\n",
    "#credit_v1 = credit.copy()\n",
    "bins = pd.IntervalIndex.from_tuples([(-157264.001, 0), (0, 15000), (15000, 60000), (60000, 1664089.0)])\n",
    "credit_v1['BILL_AMT3'] = pd.cut(credit_v1['BILL_AMT3'],bins)\n",
    "credit_v1['BILL_AMT3'].value_counts()"
   ]
  },
  {
   "cell_type": "code",
   "execution_count": null,
   "metadata": {},
   "outputs": [],
   "source": [
    "#credit_v1 = credit.copy()\n",
    "bins = pd.IntervalIndex.from_tuples([(-170000.001, 0), (0, 15000), (15000, 60000), (60000, 891586.0)])\n",
    "#credit_v1['BILL_AMT4'] = pd.qcut(credit_v1['BILL_AMT4'],5)\n",
    "credit_v1['BILL_AMT4'] = pd.cut(credit_v1['BILL_AMT4'],bins)\n",
    "credit_v1['BILL_AMT4'].value_counts()"
   ]
  },
  {
   "cell_type": "code",
   "execution_count": null,
   "metadata": {},
   "outputs": [],
   "source": [
    "#credit_v1 = credit.copy()\n",
    "bins = pd.IntervalIndex.from_tuples([(-81334.001, 0), (0, 15000), (15000, 60000), (60000, 927171.0)])\n",
    "#credit_v1['BILL_AMT5'] = pd.qcut(credit_v1['BILL_AMT5'],5)\n",
    "credit_v1['BILL_AMT5'] = pd.cut(credit_v1['BILL_AMT5'],bins)\n",
    "credit_v1['BILL_AMT5'].value_counts()"
   ]
  },
  {
   "cell_type": "code",
   "execution_count": null,
   "metadata": {
    "scrolled": true
   },
   "outputs": [],
   "source": [
    "#credit_v1 = credit.copy()\n",
    "bins = pd.IntervalIndex.from_tuples([(-339603.001, 0), (0, 15000), (15000, 60000), (60000, 961664.0)])\n",
    "#credit_v1['BILL_AMT6'] = pd.qcut(credit_v1['BILL_AMT6'],5)\n",
    "credit_v1['BILL_AMT6'] = pd.cut(credit_v1['BILL_AMT6'],bins)\n",
    "credit_v1['BILL_AMT6'].value_counts()"
   ]
  },
  {
   "cell_type": "code",
   "execution_count": null,
   "metadata": {},
   "outputs": [],
   "source": [
    "#credit_v1 = credit.copy()\n",
    "credit_v1['PAY_AMT1'] = pd.qcut(credit_v1['PAY_AMT1'],4)\n",
    "credit_v1['PAY_AMT1'].value_counts()"
   ]
  },
  {
   "cell_type": "code",
   "execution_count": null,
   "metadata": {
    "scrolled": true
   },
   "outputs": [],
   "source": [
    "#credit_v1 = credit.copy()\n",
    "credit_v1['PAY_AMT2'] = pd.qcut(credit_v1['PAY_AMT2'],4)\n",
    "credit_v1['PAY_AMT2'].value_counts()"
   ]
  },
  {
   "cell_type": "code",
   "execution_count": null,
   "metadata": {},
   "outputs": [],
   "source": [
    "#credit_v1 = credit.copy()\n",
    "credit_v1['PAY_AMT3'] = pd.qcut(credit_v1['PAY_AMT3'],4)\n",
    "credit_v1['PAY_AMT3'].value_counts()"
   ]
  },
  {
   "cell_type": "code",
   "execution_count": null,
   "metadata": {},
   "outputs": [],
   "source": [
    "#credit_v1 = credit.copy()\n",
    "credit_v1['PAY_AMT4'] = pd.qcut(credit_v1['PAY_AMT4'],4)\n",
    "credit_v1['PAY_AMT4'].value_counts()"
   ]
  },
  {
   "cell_type": "code",
   "execution_count": null,
   "metadata": {
    "scrolled": true
   },
   "outputs": [],
   "source": [
    "#credit_v1 = credit.copy()\n",
    "credit_v1['PAY_AMT5'] = pd.qcut(credit_v1['PAY_AMT5'],4)\n",
    "credit_v1['PAY_AMT5'].value_counts()"
   ]
  },
  {
   "cell_type": "code",
   "execution_count": null,
   "metadata": {
    "scrolled": true
   },
   "outputs": [],
   "source": [
    "#credit_v1 = credit.copy()\n",
    "credit_v1['PAY_AMT6'] = pd.qcut(credit_v1['PAY_AMT6'],4)\n",
    "credit_v1['PAY_AMT6'].value_counts()"
   ]
  },
  {
   "cell_type": "markdown",
   "metadata": {},
   "source": [
    "### Feature Engineering"
   ]
  },
  {
   "cell_type": "code",
   "execution_count": null,
   "metadata": {
    "scrolled": true
   },
   "outputs": [],
   "source": [
    "#Correlation checks\n",
    "corrMat = credit.corr()\n",
    "print(corrMat)"
   ]
  },
  {
   "cell_type": "code",
   "execution_count": null,
   "metadata": {},
   "outputs": [],
   "source": [
    "# Create correlation matrix with absolute values only\n",
    "corr_matrix_abs = credit.corr().abs()\n",
    "\n",
    "# Select upper triangle of correlation matrix\n",
    "upper = corr_matrix_abs.where(np.triu(np.ones(corr_matrix_abs.shape), k=1).astype(np.bool))\n",
    "\n",
    "# Find features with correlation greater than 0.9\n",
    "to_drop = [column for column in upper.columns if any(upper[column] > 0.9)]\n",
    "print(to_drop)"
   ]
  },
  {
   "cell_type": "code",
   "execution_count": null,
   "metadata": {},
   "outputs": [],
   "source": [
    "credit_CORR = credit.drop(columns=['BILL_AMT2','BILL_AMT3','BILL_AMT4','BILL_AMT5','BILL_AMT6'])"
   ]
  },
  {
   "cell_type": "code",
   "execution_count": null,
   "metadata": {
    "scrolled": true
   },
   "outputs": [],
   "source": [
    "credit.describe()"
   ]
  },
  {
   "cell_type": "code",
   "execution_count": null,
   "metadata": {},
   "outputs": [],
   "source": [
    "#split data into test and training set for feature engineering\n",
    "\n",
    "features = credit.iloc[:,0:23]\n",
    "print('Summary of feature sample')\n",
    "features.head(5)"
   ]
  },
  {
   "cell_type": "code",
   "execution_count": null,
   "metadata": {},
   "outputs": [],
   "source": [
    "#dependent variable - payment amount\n",
    "y = credit['default']"
   ]
  },
  {
   "cell_type": "code",
   "execution_count": null,
   "metadata": {},
   "outputs": [],
   "source": [
    "X_train_v0, X_test_v0, y_train_v0, y_test_v0 = train_test_split(features, y, test_size=0.2)"
   ]
  },
  {
   "cell_type": "code",
   "execution_count": null,
   "metadata": {},
   "outputs": [],
   "source": [
    "X_train_v0.shape, X_test_v0.shape"
   ]
  },
  {
   "cell_type": "code",
   "execution_count": null,
   "metadata": {},
   "outputs": [],
   "source": [
    "y_train_v0.shape, y_test_v0.shape"
   ]
  },
  {
   "cell_type": "code",
   "execution_count": null,
   "metadata": {},
   "outputs": [],
   "source": [
    "#scale data\n",
    "scaler = StandardScaler()\n",
    "\n",
    "# Fit on training set only.\n",
    "scaler.fit(X_train_v0)\n",
    "\n",
    "# Apply transform to both the training set and the test set.\n",
    "X_train_scaled = scaler.transform(X_train_v0)\n",
    "X_test_scaled = scaler.transform(X_test_v0)"
   ]
  },
  {
   "cell_type": "markdown",
   "metadata": {},
   "source": [
    "#### RFE"
   ]
  },
  {
   "cell_type": "code",
   "execution_count": null,
   "metadata": {
    "scrolled": true
   },
   "outputs": [],
   "source": [
    "#RFE using random forest\n",
    "model = RandomForestClassifier(n_estimators=10)\n",
    "\n",
    "#select top 12 features\n",
    "rfe = RFE(model, 12)\n",
    "fit = rfe.fit(X_train_v0, y_train_v0)\n",
    "\n",
    "# summarize the selection of the attributes\n",
    "print(rfe.support_)\n",
    "print(rfe.ranking_)"
   ]
  },
  {
   "cell_type": "code",
   "execution_count": null,
   "metadata": {},
   "outputs": [],
   "source": [
    "cols = list(features.columns)\n",
    "\n",
    "model = RandomForestClassifier(n_estimators=10)\n",
    "\n",
    "#Initializing RFE model with random forest\n",
    "rfe = RFE(model, 12)  \n",
    "\n",
    "#Transforming data using RFE\n",
    "X_rfe = rfe.fit_transform(X_train_v0,y_train_v0) \n",
    "\n",
    "#Fitting the data to model\n",
    "model.fit(X_rfe,y_train_v0)\n",
    "\n",
    "temp = pd.Series(rfe.support_,index = cols)\n",
    "\n",
    "selected_features_rfe = temp[temp==True].index\n",
    "print(selected_features_rfe)"
   ]
  },
  {
   "cell_type": "code",
   "execution_count": null,
   "metadata": {
    "scrolled": false
   },
   "outputs": [],
   "source": [
    "#create new df with only selected columns\n",
    "credit_RFE = pd.DataFrame(credit[selected_features_rfe])"
   ]
  },
  {
   "cell_type": "code",
   "execution_count": null,
   "metadata": {},
   "outputs": [],
   "source": [
    "print(type(credit_RFE))"
   ]
  },
  {
   "cell_type": "code",
   "execution_count": null,
   "metadata": {},
   "outputs": [],
   "source": [
    "print(credit_RFE.head())"
   ]
  },
  {
   "cell_type": "code",
   "execution_count": null,
   "metadata": {
    "scrolled": true
   },
   "outputs": [],
   "source": [
    "#after EDA, discretize age \n",
    "credit_CORR['AGE'] = pd.qcut(credit_CORR['AGE'],4)"
   ]
  },
  {
   "cell_type": "code",
   "execution_count": null,
   "metadata": {},
   "outputs": [],
   "source": [
    "credit_RFE['AGE'] = pd.qcut(credit_RFE['AGE'],4)"
   ]
  },
  {
   "cell_type": "code",
   "execution_count": null,
   "metadata": {},
   "outputs": [],
   "source": [
    "print(credit_CORR.head())"
   ]
  },
  {
   "cell_type": "code",
   "execution_count": null,
   "metadata": {},
   "outputs": [],
   "source": [
    "print(credit_RFE.head())"
   ]
  },
  {
   "cell_type": "code",
   "execution_count": null,
   "metadata": {},
   "outputs": [],
   "source": [
    "#save new csv files\n",
    "credit.to_csv(\"credit_v0.csv\", header = 1, index = False) #only removed ID & renamed dv\n",
    "credit_v1.to_csv(\"credit_v1.csv\", header = 1, index = False) #removed ID, discretized age/bill/pay, renamed dv\n",
    "credit_CORR.to_csv(\"credit_CORR.csv\", header = 1, index = False) #removed ID, discretized age, renamed dv, removed CORR features\n",
    "credit_RFE.to_csv(\"credit_RFE.csv\", header = 1, index = False) #removed ID, discretized age, renamed dv, RFE datasets"
   ]
  },
  {
   "cell_type": "code",
   "execution_count": null,
   "metadata": {},
   "outputs": [],
   "source": [
    "#open files\n",
    "credit = pd.read_csv(\"credit_v0.csv\") \n",
    "credit_v1 = pd.read_csv(\"credit_v1.csv\") \n",
    "credit_CORR = pd.read_csv(\"credit_CORR.csv\") \n",
    "credit_RFE = pd.read_csv(\"credit_RFE.csv\")"
   ]
  },
  {
   "cell_type": "code",
   "execution_count": null,
   "metadata": {},
   "outputs": [],
   "source": [
    "credit.head()"
   ]
  },
  {
   "cell_type": "markdown",
   "metadata": {},
   "source": [
    "### One hot encoding for discretized dataset & age"
   ]
  },
  {
   "cell_type": "code",
   "execution_count": null,
   "metadata": {},
   "outputs": [],
   "source": [
    "credit_v1_OHE = pd.get_dummies(credit_v1)"
   ]
  },
  {
   "cell_type": "code",
   "execution_count": null,
   "metadata": {},
   "outputs": [],
   "source": [
    "print(credit_v1_OHE.columns)"
   ]
  },
  {
   "cell_type": "code",
   "execution_count": null,
   "metadata": {},
   "outputs": [],
   "source": [
    "credit_CORR_OHE = pd.get_dummies(credit_CORR)"
   ]
  },
  {
   "cell_type": "code",
   "execution_count": null,
   "metadata": {},
   "outputs": [],
   "source": [
    "print(credit_CORR_OHE.columns)"
   ]
  },
  {
   "cell_type": "code",
   "execution_count": null,
   "metadata": {},
   "outputs": [],
   "source": [
    "credit_RFE_OHE = pd.get_dummies(credit_RFE)"
   ]
  },
  {
   "cell_type": "code",
   "execution_count": null,
   "metadata": {
    "scrolled": true
   },
   "outputs": [],
   "source": [
    "#RFE data set, add back default column\n",
    "credit_RFE_OHE['default'] = credit['default']\n",
    "\n",
    "print(credit_RFE_OHE.head())"
   ]
  },
  {
   "cell_type": "code",
   "execution_count": null,
   "metadata": {},
   "outputs": [],
   "source": [
    "print(credit_RFE_OHE.columns)"
   ]
  },
  {
   "cell_type": "markdown",
   "metadata": {},
   "source": [
    "## Make test/train splits"
   ]
  },
  {
   "cell_type": "code",
   "execution_count": null,
   "metadata": {},
   "outputs": [],
   "source": [
    "#original data set - already completed as X_train_v0, X_test_v0, y_train_v0, y_test_v0"
   ]
  },
  {
   "cell_type": "code",
   "execution_count": null,
   "metadata": {},
   "outputs": [],
   "source": [
    "print(credit_v1_OHE.info())"
   ]
  },
  {
   "cell_type": "code",
   "execution_count": null,
   "metadata": {},
   "outputs": [],
   "source": [
    "#move default to last column\n",
    "cols = list(credit_v1_OHE.columns.values) \n",
    "cols.pop(cols.index('default')) \n",
    "credit_v1_OHE = credit_v1_OHE[cols+['default']]"
   ]
  },
  {
   "cell_type": "code",
   "execution_count": null,
   "metadata": {},
   "outputs": [],
   "source": [
    "#v1 data set\n",
    "features_v1 = credit_v1_OHE.iloc[:,0:62]\n",
    "print('Summary of feature sample')\n",
    "features_v1.head(5)"
   ]
  },
  {
   "cell_type": "code",
   "execution_count": null,
   "metadata": {
    "scrolled": false
   },
   "outputs": [],
   "source": [
    "X_train_v1, X_test_v1, y_train_v1, y_test_v1 = train_test_split(features_v1, y, test_size=0.2)"
   ]
  },
  {
   "cell_type": "code",
   "execution_count": null,
   "metadata": {},
   "outputs": [],
   "source": [
    "X_train_v1.shape, y_train_v1.shape"
   ]
  },
  {
   "cell_type": "code",
   "execution_count": null,
   "metadata": {},
   "outputs": [],
   "source": [
    "#CORR data set\n",
    "#move default to last column\n",
    "cols = list(credit_CORR_OHE.columns.values) \n",
    "cols.pop(cols.index('default')) \n",
    "credit_CORR_OHE = credit_CORR_OHE[cols+['default']]"
   ]
  },
  {
   "cell_type": "code",
   "execution_count": null,
   "metadata": {},
   "outputs": [],
   "source": [
    "print(credit_CORR_OHE.info())"
   ]
  },
  {
   "cell_type": "code",
   "execution_count": null,
   "metadata": {},
   "outputs": [],
   "source": [
    "#CORR data set\n",
    "features_CORR = credit_CORR_OHE.iloc[:,0:21]\n",
    "print('Summary of feature sample')\n",
    "features_CORR.head(5)"
   ]
  },
  {
   "cell_type": "code",
   "execution_count": null,
   "metadata": {},
   "outputs": [],
   "source": [
    "X_train_CORR, X_test_CORR, y_train_CORR, y_test_CORR = train_test_split(features_CORR, y, test_size=0.2)"
   ]
  },
  {
   "cell_type": "code",
   "execution_count": null,
   "metadata": {},
   "outputs": [],
   "source": [
    "X_train_CORR.shape, X_test_CORR.shape, y_train_CORR.shape, y_test_CORR.shape"
   ]
  },
  {
   "cell_type": "code",
   "execution_count": null,
   "metadata": {},
   "outputs": [],
   "source": [
    "#RFE data set\n",
    "print(credit_RFE_OHE.info())"
   ]
  },
  {
   "cell_type": "code",
   "execution_count": null,
   "metadata": {},
   "outputs": [],
   "source": [
    "features_RFE = credit_RFE_OHE.iloc[:,0:15]\n",
    "print('Summary of feature sample')\n",
    "features_RFE.head(5)"
   ]
  },
  {
   "cell_type": "code",
   "execution_count": null,
   "metadata": {},
   "outputs": [],
   "source": [
    "X_train_RFE, X_test_RFE, y_train_RFE, y_test_RFE = train_test_split(features_RFE, y, test_size=0.2)"
   ]
  },
  {
   "cell_type": "code",
   "execution_count": null,
   "metadata": {},
   "outputs": [],
   "source": [
    "X_train_RFE.shape, X_test_RFE.shape, y_train_RFE.shape, y_test_RFE.shape"
   ]
  },
  {
   "cell_type": "markdown",
   "metadata": {},
   "source": [
    "## Modelling"
   ]
  },
  {
   "cell_type": "markdown",
   "metadata": {},
   "source": [
    "#### K-Nearest Neighbors"
   ]
  },
  {
   "cell_type": "code",
   "execution_count": 477,
   "metadata": {},
   "outputs": [
    {
     "name": "stdout",
     "output_type": "stream",
     "text": [
      "{1: 0.6903333333333334, 2: 0.7536666666666667, 3: 0.7345, 4: 0.7591666666666667, 5: 0.748, 6: 0.761, 7: 0.7545, 8: 0.7621666666666667, 9: 0.7561666666666667, 10: 0.7635, 11: 0.7585, 12: 0.7635, 13: 0.764, 14: 0.7655}\n",
      "{1: 0.3771253493148379, 2: 0.3771253493148379, 3: 0.3771253493148379, 4: 0.3771253493148379, 5: 0.3771253493148379, 6: 0.3771253493148379, 7: 0.3771253493148379, 8: 0.3771253493148379, 9: 0.3771253493148379, 10: 0.3771253493148379, 11: 0.3771253493148379, 12: 0.3771253493148379, 13: 0.3771253493148379, 14: 0.3771253493148379}\n"
     ]
    }
   ],
   "source": [
    "#original data (v0)\n",
    "\n",
    "#set k_range to try k values from 1 to 14\n",
    "k_range = range(1,15)\n",
    "\n",
    "#make a list of each accuracy (defined later) for each k\n",
    "scores_v0 = {}\n",
    "scores_v0_list = []\n",
    "\n",
    "#make a list of kappa for each k\n",
    "kappa_v0 = {}\n",
    "kappa_v0_list = []\n",
    "\n",
    "#fit data\n",
    "for k in k_range:\n",
    "    knn = KNeighborsClassifier(n_neighbors=k)\n",
    "    knn.fit(X_train_v0,y_train_v0)\n",
    "    \n",
    "    y_pred = knn.predict(X_test_v0)\n",
    "    \n",
    "    scores_v0[k] = metrics.accuracy_score(y_test_v0,y_pred)\n",
    "    scores_v0_list.append(scores[k])\n",
    "    \n",
    "    kappa_v0[k] = metrics.cohen_kappa_score(y_test_v0,y_pred_v0)\n",
    "    kappa_v0_list.append(kappa_v0[k])\n",
    "\n",
    "print(scores_v0)\n",
    "print(kappa_v0)"
   ]
  },
  {
   "cell_type": "code",
   "execution_count": 478,
   "metadata": {},
   "outputs": [
    {
     "name": "stdout",
     "output_type": "stream",
     "text": [
      "Best K-value for accuracy: 14\n",
      "Best Accuracy: 0.7751666666666667\n",
      "Best Kappa: 0.3771253493148379\n"
     ]
    }
   ],
   "source": [
    "#find key (k-value) for best accuracy\n",
    "max_key = max(scores_v0, key=lambda k: scores_v0[k])\n",
    "\n",
    "print(\"Best K-value for accuracy:\",max_key)\n",
    "print(\"Best Accuracy:\",max(scores_v0_list))\n",
    "print(\"Best Kappa:\",kappa_v0[max_key])"
   ]
  },
  {
   "cell_type": "code",
   "execution_count": 479,
   "metadata": {},
   "outputs": [
    {
     "data": {
      "image/png": "[encoded data removed]",
      "text/plain": [
       "<Figure size 432x288 with 1 Axes>"
      ]
     },
     "metadata": {},
     "output_type": "display_data"
    }
   ],
   "source": [
    "plt.plot(k_range,scores_v0_list)\n",
    "plt.plot(k_range,kappa_v0_list)\n",
    "plt.xlabel(\"K-Value\")\n",
    "plt.ylabel(\"Score\")\n",
    "plt.legend([\"Accuracy\",\"Kappa\"])\n",
    "plt.title(\"KNN score for original data set\")\n",
    "plt.show()"
   ]
  },
  {
   "cell_type": "markdown",
   "metadata": {},
   "source": [
    "Kappa is low for this model and data combination. Accuracy is not great either, since it does not do much better than probability for predicting default rate."
   ]
  },
  {
   "cell_type": "code",
   "execution_count": 480,
   "metadata": {},
   "outputs": [],
   "source": [
    "#v1 discretized data set\n",
    "scores_v1 = {}\n",
    "scores_v1_list = []\n",
    "\n",
    "kappa_v1 = {}\n",
    "kappa_v1_list = []\n",
    "\n",
    "for k in k_range:\n",
    "    knn = KNeighborsClassifier(n_neighbors=k)\n",
    "    knn.fit(X_train_v1,y_train_v1)\n",
    "    \n",
    "    y_pred_v1 = knn.predict(X_test_v1)\n",
    "    \n",
    "    scores_v1[k] = metrics.accuracy_score(y_test_v1,y_pred_v1)\n",
    "    scores_v1_list.append(scores_v1[k])\n",
    "    \n",
    "    kappa_v1[k] = metrics.cohen_kappa_score(y_test_v1,y_pred_v1)\n",
    "    kappa_v1_list.append(kappa_v1[k])"
   ]
  },
  {
   "cell_type": "code",
   "execution_count": 481,
   "metadata": {},
   "outputs": [
    {
     "name": "stdout",
     "output_type": "stream",
     "text": [
      "{1: 0.7261666666666666, 2: 0.7891666666666667, 3: 0.7776666666666666, 4: 0.7933333333333333, 5: 0.7955, 6: 0.8003333333333333, 7: 0.7996666666666666, 8: 0.7996666666666666, 9: 0.8033333333333333, 10: 0.8035, 11: 0.8008333333333333, 12: 0.8041666666666667, 13: 0.8048333333333333, 14: 0.8056666666666666}\n",
      "{1: 0.20713663887703904, 2: 0.19714280153370056, 3: 0.2751162177803016, 4: 0.22439907086344602, 5: 0.2954498039088086, 6: 0.25277946702842624, 7: 0.28930870786035223, 8: 0.24496934127448589, 9: 0.2933566139724956, 10: 0.26124980575694623, 11: 0.2728236026245692, 12: 0.25798377878865075, 13: 0.2820035717920808, 14: 0.2639296267904365}\n"
     ]
    }
   ],
   "source": [
    "print(scores_v1)\n",
    "print(kappa_v1)"
   ]
  },
  {
   "cell_type": "code",
   "execution_count": 482,
   "metadata": {
    "scrolled": true
   },
   "outputs": [
    {
     "name": "stdout",
     "output_type": "stream",
     "text": [
      "Best K-value for accuracy: 14\n",
      "Best Accuracy: 0.8056666666666666\n",
      "Best Kappa: 0.2639296267904365\n"
     ]
    }
   ],
   "source": [
    "#find key (k-value) for best accuracy\n",
    "max_key = max(scores_v1, key=lambda k: scores_v1[k])\n",
    "\n",
    "print(\"Best K-value for accuracy:\",max_key)\n",
    "print(\"Best Accuracy:\",max(scores_v1_list))\n",
    "print(\"Best Kappa:\",kappa_v1[max_key])"
   ]
  },
  {
   "cell_type": "code",
   "execution_count": 484,
   "metadata": {
    "scrolled": true
   },
   "outputs": [
    {
     "name": "stdout",
     "output_type": "stream",
     "text": [
      "[0.80462404 0.79541667 0.803125   0.79291667 0.7966243 ]\n"
     ]
    }
   ],
   "source": [
    "print(cross_val_score(knn_v1, X_train_v1, y_train_v1, cv=5))"
   ]
  },
  {
   "cell_type": "code",
   "execution_count": 483,
   "metadata": {
    "scrolled": false
   },
   "outputs": [
    {
     "data": {
      "image/png": "[encoded data removed]",
      "text/plain": [
       "<Figure size 432x288 with 1 Axes>"
      ]
     },
     "metadata": {},
     "output_type": "display_data"
    }
   ],
   "source": [
    "plt.plot(k_range,scores_v1_list)\n",
    "plt.plot(k_range,kappa_v1_list)\n",
    "plt.xlabel(\"K-Value\")\n",
    "plt.ylabel(\"Score\")\n",
    "plt.legend([\"Accuracy\",\"Kappa\"])\n",
    "plt.title(\"KNN score for discretized data set\")\n",
    "plt.show()"
   ]
  },
  {
   "cell_type": "markdown",
   "metadata": {},
   "source": [
    "Results not much better here. Let's move on to different models."
   ]
  },
  {
   "cell_type": "code",
   "execution_count": 491,
   "metadata": {},
   "outputs": [
    {
     "data": {
      "text/plain": [
       "KNeighborsClassifier(algorithm='auto', leaf_size=30, metric='minkowski',\n",
       "                     metric_params=None, n_jobs=None, n_neighbors=14, p=2,\n",
       "                     weights='uniform')"
      ]
     },
     "execution_count": 491,
     "metadata": {},
     "output_type": "execute_result"
    }
   ],
   "source": [
    "#save this classifier as it has highest accuracy for KNN\n",
    "knn_v1 = KNeighborsClassifier(n_neighbors=14)\n",
    "knn.fit(X_train_v1,y_train_v1)"
   ]
  },
  {
   "cell_type": "markdown",
   "metadata": {},
   "source": [
    "#### Random Forest"
   ]
  },
  {
   "cell_type": "markdown",
   "metadata": {},
   "source": [
    "Metrics: for random forest, let's look at precision and recall as well. For this problem, it is more important to reduce the number of false negatives (a case where someone is incorrectly classified as not a default risk, but does default). False negatives are more impactful to business versus false positive (although this is also harmful, but not as much risk as false negative).\n",
    "\n",
    "This means we should look at both accuracy and recall as primary metrics. "
   ]
  },
  {
   "cell_type": "code",
   "execution_count": 495,
   "metadata": {},
   "outputs": [
    {
     "name": "stdout",
     "output_type": "stream",
     "text": [
      "RandomForestClassifier(bootstrap=True, class_weight=None, criterion='entropy',\n",
      "                       max_depth=9, max_features='auto', max_leaf_nodes=100,\n",
      "                       min_impurity_decrease=0.0, min_impurity_split=None,\n",
      "                       min_samples_leaf=1, min_samples_split=20,\n",
      "                       min_weight_fraction_leaf=0.0, n_estimators=10,\n",
      "                       n_jobs=None, oob_score=False, random_state=None,\n",
      "                       verbose=0, warm_start=False)\n",
      "Recall: 0.3522770761576732\n"
     ]
    }
   ],
   "source": [
    "#original data\n",
    "param_grid = {'max_depth': np.arange(3, 10),\n",
    "             'criterion' : ['gini','entropy'],\n",
    "             'max_leaf_nodes': [5,10,20,100],\n",
    "             'min_samples_split': [2,5,10,20]}\n",
    "\n",
    "# create the grid\n",
    "grid_RF = GridSearchCV(RandomForestClassifier(n_estimators=10), param_grid, cv = 3, scoring='recall')\n",
    "\n",
    "#training\n",
    "grid_RF.fit(X_train_v0, y_train_v0)\n",
    "\n",
    "#print best estimator\n",
    "print(grid_RF.best_estimator_)\n",
    "\n",
    "#with its score\n",
    "print(\"Recall:\",np.abs(grid_RF.best_score_))"
   ]
  },
  {
   "cell_type": "code",
   "execution_count": 496,
   "metadata": {
    "scrolled": false
   },
   "outputs": [
    {
     "name": "stdout",
     "output_type": "stream",
     "text": [
      "Accuracy: 0.8155\n",
      "Kappa: 0.3630866420800083\n",
      "Precision: 0.7447495961227787\n",
      "Recall: 0.32695035460992905\n"
     ]
    }
   ],
   "source": [
    "rf_v0 = RandomForestClassifier(bootstrap=True, class_weight=None, criterion='gini',\n",
    "                       max_depth=9, max_features='auto', max_leaf_nodes=20,\n",
    "                       min_impurity_decrease=0.0, min_impurity_split=None,\n",
    "                       min_samples_leaf=1, min_samples_split=2,\n",
    "                       min_weight_fraction_leaf=0.0, n_estimators=10,\n",
    "                       n_jobs=None, oob_score=False, random_state=None,\n",
    "                       verbose=0, warm_start=False)\n",
    "\n",
    "rf_v0.fit(X_train_v0,y_train_v0)\n",
    "y_pred_v0 = rf_v0.predict(X_test_v0)\n",
    "\n",
    "print(\"Accuracy:\",metrics.accuracy_score(y_test_v0, y_pred_v0))\n",
    "print(\"Kappa:\",metrics.cohen_kappa_score(y_test_v0,y_pred_v0))\n",
    "print(\"Precision:\",metrics.precision_score(y_test_v0,y_pred_v0))\n",
    "print(\"Recall:\",metrics.recall_score(y_test_v0,y_pred_v0))"
   ]
  },
  {
   "cell_type": "code",
   "execution_count": 497,
   "metadata": {},
   "outputs": [
    {
     "data": {
      "text/plain": [
       "PAY_0        0.394100\n",
       "PAY_4        0.128005\n",
       "PAY_2        0.113856\n",
       "PAY_6        0.066027\n",
       "PAY_5        0.062474\n",
       "LIMIT_BAL    0.035954\n",
       "PAY_3        0.035933\n",
       "PAY_AMT1     0.034779\n",
       "PAY_AMT2     0.031453\n",
       "PAY_AMT5     0.016364\n",
       "PAY_AMT4     0.016134\n",
       "BILL_AMT5    0.010678\n",
       "BILL_AMT1    0.009898\n",
       "BILL_AMT3    0.009453\n",
       "BILL_AMT6    0.009003\n",
       "PAY_AMT3     0.008778\n",
       "BILL_AMT2    0.006474\n",
       "PAY_AMT6     0.003331\n",
       "EDUCATION    0.003027\n",
       "BILL_AMT4    0.003012\n",
       "AGE          0.001266\n",
       "MARRIAGE     0.000000\n",
       "SEX          0.000000\n",
       "dtype: float64"
      ]
     },
     "execution_count": 497,
     "metadata": {},
     "output_type": "execute_result"
    }
   ],
   "source": [
    "feature_imp = pd.Series(rf_v0.feature_importances_,index=features.columns).sort_values(ascending=False)\n",
    "feature_imp"
   ]
  },
  {
   "cell_type": "markdown",
   "metadata": {},
   "source": [
    "Payments 1,2,4 have an overwhelming influence on the model. If recall doesn't get much better, may look at modifying dataset to include these variables only."
   ]
  },
  {
   "cell_type": "code",
   "execution_count": 498,
   "metadata": {
    "scrolled": true
   },
   "outputs": [
    {
     "name": "stdout",
     "output_type": "stream",
     "text": [
      "RandomForestClassifier(bootstrap=True, class_weight=None, criterion='gini',\n",
      "                       max_depth=8, max_features='auto', max_leaf_nodes=100,\n",
      "                       min_impurity_decrease=0.0, min_impurity_split=None,\n",
      "                       min_samples_leaf=1, min_samples_split=5,\n",
      "                       min_weight_fraction_leaf=0.0, n_estimators=10,\n",
      "                       n_jobs=None, oob_score=False, random_state=None,\n",
      "                       verbose=0, warm_start=False)\n",
      "Recall: 0.32088322320544377\n"
     ]
    }
   ],
   "source": [
    "#discretized (v1) data set\n",
    "\n",
    "#training\n",
    "grid_RF.fit(X_train_v1, y_train_v1)\n",
    "\n",
    "#let's see the best estimator\n",
    "print(grid_RF.best_estimator_)\n",
    "\n",
    "#with its F1 score\n",
    "print(\"Recall:\",np.abs(grid_RF.best_score_))"
   ]
  },
  {
   "cell_type": "code",
   "execution_count": 500,
   "metadata": {},
   "outputs": [
    {
     "name": "stdout",
     "output_type": "stream",
     "text": [
      "Accuracy: 0.8126666666666666\n",
      "Kappa: 0.29745126068120986\n",
      "Precision: 0.6763005780346821\n",
      "Recall: 0.2685539403213466\n"
     ]
    }
   ],
   "source": [
    "#best estimator/model\n",
    "rf_v1 = RandomForestClassifier(bootstrap=True, class_weight=None, criterion='gini',\n",
    "                       max_depth=8, max_features='auto', max_leaf_nodes=100,\n",
    "                       min_impurity_decrease=0.0, min_impurity_split=None,\n",
    "                       min_samples_leaf=1, min_samples_split=5,\n",
    "                       min_weight_fraction_leaf=0.0, n_estimators=10,\n",
    "                       n_jobs=None, oob_score=False, random_state=None,\n",
    "                       verbose=0, warm_start=False)\n",
    "\n",
    "rf_v1.fit(X_train_v1,y_train_v1)\n",
    "y_pred_v1 = rf_v1.predict(X_test_v1)\n",
    "\n",
    "print(\"Accuracy:\",metrics.accuracy_score(y_test_v1, y_pred_v1))\n",
    "print(\"Kappa:\",metrics.cohen_kappa_score(y_test_v1,y_pred_v1))\n",
    "print(\"Precision:\",metrics.precision_score(y_test_v1,y_pred_v1))\n",
    "print(\"Recall:\",metrics.recall_score(y_test_v1,y_pred_v1))"
   ]
  },
  {
   "cell_type": "code",
   "execution_count": 501,
   "metadata": {},
   "outputs": [
    {
     "name": "stdout",
     "output_type": "stream",
     "text": [
      "RandomForestClassifier(bootstrap=True, class_weight=None, criterion='entropy',\n",
      "                       max_depth=8, max_features='auto', max_leaf_nodes=20,\n",
      "                       min_impurity_decrease=0.0, min_impurity_split=None,\n",
      "                       min_samples_leaf=1, min_samples_split=20,\n",
      "                       min_weight_fraction_leaf=0.0, n_estimators=10,\n",
      "                       n_jobs=None, oob_score=False, random_state=None,\n",
      "                       verbose=0, warm_start=False)\n",
      "Recall: 0.3544050713310145\n"
     ]
    }
   ],
   "source": [
    "#CORR data set\n",
    "\n",
    "#training\n",
    "grid_RF.fit(X_train_CORR, y_train_CORR)\n",
    "\n",
    "#let's see the best estimator\n",
    "print(grid_RF.best_estimator_)\n",
    "\n",
    "#with its F1 score\n",
    "print(\"Recall:\",np.abs(grid_RF.best_score_))"
   ]
  },
  {
   "cell_type": "code",
   "execution_count": 502,
   "metadata": {
    "scrolled": true
   },
   "outputs": [
    {
     "name": "stdout",
     "output_type": "stream",
     "text": [
      "Accuracy: 0.8213333333333334\n",
      "Kappa: 0.3811479897219766\n",
      "Precision: 0.6858345021037868\n",
      "Recall: 0.36574420344053854\n"
     ]
    }
   ],
   "source": [
    "#best estimator/model\n",
    "rf_CORR = RandomForestClassifier(bootstrap=True, class_weight=None, criterion='entropy',\n",
    "                       max_depth=9, max_features='auto', max_leaf_nodes=100,\n",
    "                       min_impurity_decrease=0.0, min_impurity_split=None,\n",
    "                       min_samples_leaf=1, min_samples_split=2,\n",
    "                       min_weight_fraction_leaf=0.0, n_estimators=10,\n",
    "                       n_jobs=None, oob_score=False, random_state=None,\n",
    "                       verbose=0, warm_start=False)\n",
    "\n",
    "rf_CORR.fit(X_train_CORR,y_train_CORR)\n",
    "y_pred_CORR = rf_CORR.predict(X_test_CORR)\n",
    "\n",
    "print(\"Accuracy:\",metrics.accuracy_score(y_test_CORR, y_pred_CORR))\n",
    "print(\"Kappa:\",metrics.cohen_kappa_score(y_test_CORR,y_pred_CORR))\n",
    "print(\"Precision:\",metrics.precision_score(y_test_CORR,y_pred_CORR))\n",
    "print(\"Recall:\",metrics.recall_score(y_test_CORR,y_pred_CORR))"
   ]
  },
  {
   "cell_type": "code",
   "execution_count": 173,
   "metadata": {
    "scrolled": true
   },
   "outputs": [
    {
     "name": "stdout",
     "output_type": "stream",
     "text": [
      "Accuracy: 0.8196666666666667\n",
      "Kappa: 0.37057880572466906\n",
      "Precision: 0.6742532005689901\n",
      "Recall: 0.3571966842501884\n"
     ]
    }
   ],
   "source": [
    "#modify to increase max_depth\n",
    "rf_CORR_2 = RandomForestClassifier(bootstrap=True, class_weight=None, criterion='entropy',\n",
    "                       max_depth=None, max_features='auto', max_leaf_nodes=100,\n",
    "                       min_impurity_decrease=0.0, min_impurity_split=None,\n",
    "                       min_samples_leaf=1, min_samples_split=2,\n",
    "                       min_weight_fraction_leaf=0.0, n_estimators=10,\n",
    "                       n_jobs=None, oob_score=False, random_state=None,\n",
    "                       verbose=0, warm_start=False)\n",
    "\n",
    "rf_CORR_2.fit(X_train_CORR,y_train_CORR)\n",
    "y_pred_2_CORR = rf_CORR_2.predict(X_test_CORR)\n",
    "\n",
    "print(\"Accuracy:\",metrics.accuracy_score(y_test_CORR, y_pred_2_CORR))\n",
    "print(\"Kappa:\",metrics.cohen_kappa_score(y_test_CORR,y_pred_2_CORR))\n",
    "print(\"Precision:\",metrics.precision_score(y_test_CORR,y_pred_2_CORR))\n",
    "print(\"Recall:\",metrics.recall_score(y_test_CORR,y_pred_2_CORR))"
   ]
  },
  {
   "cell_type": "code",
   "execution_count": 220,
   "metadata": {},
   "outputs": [
    {
     "data": {
      "text/plain": [
       "PAY_0                 0.219198\n",
       "PAY_2                 0.158947\n",
       "PAY_5                 0.114511\n",
       "PAY_3                 0.100379\n",
       "PAY_4                 0.066019\n",
       "BILL_AMT1             0.056128\n",
       "PAY_AMT1              0.051890\n",
       "LIMIT_BAL             0.046418\n",
       "PAY_AMT3              0.040192\n",
       "PAY_AMT2              0.032857\n",
       "PAY_AMT4              0.031087\n",
       "PAY_AMT6              0.026545\n",
       "PAY_AMT5              0.017745\n",
       "PAY_6                 0.016109\n",
       "EDUCATION             0.004735\n",
       "MARRIAGE              0.004675\n",
       "AGE_(28.0, 34.0]      0.003320\n",
       "SEX                   0.003304\n",
       "AGE_(41.0, 79.0]      0.002865\n",
       "AGE_(20.999, 28.0]    0.002725\n",
       "AGE_(34.0, 41.0]      0.000351\n",
       "dtype: float64"
      ]
     },
     "execution_count": 220,
     "metadata": {},
     "output_type": "execute_result"
    }
   ],
   "source": [
    "feature_imp = pd.Series(rf_CORR_2.feature_importances_,index=features_CORR.columns).sort_values(ascending=False)\n",
    "feature_imp"
   ]
  },
  {
   "cell_type": "markdown",
   "metadata": {},
   "source": [
    "Let's test a new data set using PAY_0, PAY_2, PAY_5 and PAY_3 only"
   ]
  },
  {
   "cell_type": "code",
   "execution_count": 222,
   "metadata": {},
   "outputs": [],
   "source": [
    "credit_varimp = credit[['PAY_0','PAY_2','PAY_3','PAY_5']]"
   ]
  },
  {
   "cell_type": "code",
   "execution_count": 223,
   "metadata": {},
   "outputs": [],
   "source": [
    "X_train_varimp, X_test_varimp, y_train_varimp, y_test_varimp = train_test_split(credit_varimp, y, test_size=0.2)"
   ]
  },
  {
   "cell_type": "code",
   "execution_count": 224,
   "metadata": {},
   "outputs": [
    {
     "data": {
      "text/plain": [
       "((24000, 4), (6000, 4), (24000,), (6000,))"
      ]
     },
     "execution_count": 224,
     "metadata": {},
     "output_type": "execute_result"
    }
   ],
   "source": [
    "X_train_varimp.shape, X_test_varimp.shape, y_train_varimp.shape, y_test_varimp.shape"
   ]
  },
  {
   "cell_type": "code",
   "execution_count": 226,
   "metadata": {},
   "outputs": [
    {
     "name": "stdout",
     "output_type": "stream",
     "text": [
      "Accuracy: 0.819\n",
      "Kappa: 0.37895977477856146\n",
      "Precision: 0.6790123456790124\n",
      "Recall: 0.3674832962138085\n"
     ]
    }
   ],
   "source": [
    "rf_varimp = RandomForestClassifier(bootstrap=True, class_weight=None, criterion='entropy',\n",
    "                       max_depth=None, max_features='auto', max_leaf_nodes=100,\n",
    "                       min_impurity_decrease=0.0, min_impurity_split=None,\n",
    "                       min_samples_leaf=1, min_samples_split=2,\n",
    "                       min_weight_fraction_leaf=0.0, n_estimators=10,\n",
    "                       n_jobs=None, oob_score=False, random_state=None,\n",
    "                       verbose=0, warm_start=False)\n",
    "\n",
    "rf_varimp.fit(X_train_varimp,y_train_varimp)\n",
    "y_pred_varimp = rf_varimp.predict(X_test_varimp)\n",
    "\n",
    "print(\"Accuracy:\",metrics.accuracy_score(y_test_varimp, y_pred_varimp))\n",
    "print(\"Kappa:\",metrics.cohen_kappa_score(y_test_varimp,y_pred_varimp))\n",
    "print(\"Precision:\",metrics.precision_score(y_test_varimp,y_pred_varimp))\n",
    "print(\"Recall:\",metrics.recall_score(y_test_varimp,y_pred_varimp))"
   ]
  },
  {
   "cell_type": "markdown",
   "metadata": {},
   "source": [
    "Not much improvement."
   ]
  },
  {
   "cell_type": "code",
   "execution_count": 503,
   "metadata": {},
   "outputs": [
    {
     "name": "stdout",
     "output_type": "stream",
     "text": [
      "RandomForestClassifier(bootstrap=True, class_weight=None, criterion='entropy',\n",
      "                       max_depth=9, max_features='auto', max_leaf_nodes=100,\n",
      "                       min_impurity_decrease=0.0, min_impurity_split=None,\n",
      "                       min_samples_leaf=1, min_samples_split=5,\n",
      "                       min_weight_fraction_leaf=0.0, n_estimators=10,\n",
      "                       n_jobs=None, oob_score=False, random_state=None,\n",
      "                       verbose=0, warm_start=False)\n",
      "Recall: 0.3350637035669899\n"
     ]
    }
   ],
   "source": [
    "#RFE data set\n",
    "\n",
    "#training\n",
    "grid_RF.fit(X_train_RFE, y_train_RFE)\n",
    "\n",
    "#let's see the best estimator\n",
    "print(grid_RF.best_estimator_)\n",
    "\n",
    "#with its F1 score\n",
    "print(\"Recall:\",np.abs(grid_RF.best_score_))"
   ]
  },
  {
   "cell_type": "code",
   "execution_count": 504,
   "metadata": {},
   "outputs": [
    {
     "name": "stdout",
     "output_type": "stream",
     "text": [
      "Accuracy: 0.8268333333333333\n",
      "Kappa: 0.35454051857916913\n",
      "Precision: 0.6699029126213593\n",
      "Recall: 0.33146517213771015\n"
     ]
    }
   ],
   "source": [
    "#best estimator/model\n",
    "rf_RFE = RandomForestClassifier(bootstrap=True, class_weight=None, criterion='entropy',\n",
    "                       max_depth=9, max_features='auto', max_leaf_nodes=100,\n",
    "                       min_impurity_decrease=0.0, min_impurity_split=None,\n",
    "                       min_samples_leaf=1, min_samples_split=5,\n",
    "                       min_weight_fraction_leaf=0.0, n_estimators=10,\n",
    "                       n_jobs=None, oob_score=False, random_state=None,\n",
    "                       verbose=0, warm_start=False)\n",
    "\n",
    "rf_RFE.fit(X_train_RFE,y_train_RFE)\n",
    "y_pred_RFE = rf_RFE.predict(X_test_RFE)\n",
    "\n",
    "print(\"Accuracy:\",metrics.accuracy_score(y_test_RFE, y_pred_RFE))\n",
    "print(\"Kappa:\",metrics.cohen_kappa_score(y_test_RFE,y_pred_RFE))\n",
    "print(\"Precision:\",metrics.precision_score(y_test_RFE,y_pred_RFE))\n",
    "print(\"Recall:\",metrics.recall_score(y_test_RFE,y_pred_RFE))"
   ]
  },
  {
   "cell_type": "markdown",
   "metadata": {},
   "source": [
    "#### Decision Tree"
   ]
  },
  {
   "cell_type": "code",
   "execution_count": 507,
   "metadata": {},
   "outputs": [
    {
     "name": "stdout",
     "output_type": "stream",
     "text": [
      "DecisionTreeClassifier(class_weight=None, criterion='gini', max_depth=6,\n",
      "                       max_features=None, max_leaf_nodes=100,\n",
      "                       min_impurity_decrease=0.0, min_impurity_split=None,\n",
      "                       min_samples_leaf=1, min_samples_split=2,\n",
      "                       min_weight_fraction_leaf=0.0, presort=False,\n",
      "                       random_state=None, splitter='best')\n",
      "Recall: 0.3666283964791427\n"
     ]
    }
   ],
   "source": [
    "#original data set\n",
    "\n",
    "#use same grid as RF classifier\n",
    "\n",
    "# create the grid\n",
    "grid_tree = GridSearchCV(DecisionTreeClassifier(), param_grid, cv = 3, scoring='recall')\n",
    "\n",
    "#training\n",
    "grid_tree.fit(X_train_v0, y_train_v0)\n",
    "\n",
    "#print best estimator\n",
    "print(grid_tree.best_estimator_)\n",
    "\n",
    "#with its score\n",
    "print(\"Recall:\",np.abs(grid_tree.best_score_))"
   ]
  },
  {
   "cell_type": "code",
   "execution_count": 509,
   "metadata": {},
   "outputs": [
    {
     "name": "stdout",
     "output_type": "stream",
     "text": [
      "Accuracy: 0.815\n",
      "Kappa: 0.3771253493148379\n",
      "Precision: 0.7136752136752137\n",
      "Recall: 0.3553191489361702\n"
     ]
    }
   ],
   "source": [
    "tree_v0 = DecisionTreeClassifier(class_weight=None, criterion='gini', max_depth=6,\n",
    "                       max_features=None, max_leaf_nodes=100,\n",
    "                       min_impurity_decrease=0.0, min_impurity_split=None,\n",
    "                       min_samples_leaf=1, min_samples_split=2,\n",
    "                       min_weight_fraction_leaf=0.0, presort=False,\n",
    "                       random_state=None, splitter='best')\n",
    "\n",
    "tree_v0.fit(X_train_v0,y_train_v0)\n",
    "y_pred_v0 = tree_v0.predict(X_test_v0)\n",
    "\n",
    "\n",
    "print(\"Accuracy:\",metrics.accuracy_score(y_test_v0, y_pred_v0))\n",
    "print(\"Kappa:\",metrics.cohen_kappa_score(y_test_v0,y_pred_v0))\n",
    "print(\"Precision:\",metrics.precision_score(y_test_v0,y_pred_v0))\n",
    "print(\"Recall:\",metrics.recall_score(y_test_v0,y_pred_v0))"
   ]
  },
  {
   "cell_type": "code",
   "execution_count": 510,
   "metadata": {},
   "outputs": [
    {
     "name": "stdout",
     "output_type": "stream",
     "text": [
      "DecisionTreeClassifier(class_weight=None, criterion='gini', max_depth=3,\n",
      "                       max_features=None, max_leaf_nodes=5,\n",
      "                       min_impurity_decrease=0.0, min_impurity_split=None,\n",
      "                       min_samples_leaf=1, min_samples_split=2,\n",
      "                       min_weight_fraction_leaf=0.0, presort=False,\n",
      "                       random_state=None, splitter='best')\n",
      "Recall: 0.35954001841863675\n"
     ]
    }
   ],
   "source": [
    "#discretized data set\n",
    "\n",
    "#use same grid as RF classifier\n",
    "\n",
    "# create the grid\n",
    "grid_tree = GridSearchCV(DecisionTreeClassifier(), param_grid, cv = 3, scoring='recall')\n",
    "\n",
    "#training\n",
    "grid_tree.fit(X_train_v1, y_train_v1)\n",
    "\n",
    "#print best estimator\n",
    "print(grid_tree.best_estimator_)\n",
    "\n",
    "#with its score\n",
    "print(\"Recall:\",np.abs(grid_tree.best_score_))"
   ]
  },
  {
   "cell_type": "code",
   "execution_count": 174,
   "metadata": {},
   "outputs": [
    {
     "name": "stdout",
     "output_type": "stream",
     "text": [
      "Accuracy: 0.8223333333333334\n",
      "Kappa: 0.3754808875279745\n",
      "Precision: 0.6690140845070423\n",
      "Recall: 0.36370597243491576\n"
     ]
    }
   ],
   "source": [
    "tree_v1 = DecisionTreeClassifier(class_weight=None, criterion='gini', max_depth=3,\n",
    "                       max_features=None, max_leaf_nodes=5,\n",
    "                       min_impurity_decrease=0.0, min_impurity_split=None,\n",
    "                       min_samples_leaf=1, min_samples_split=2,\n",
    "                       min_weight_fraction_leaf=0.0, presort=False,\n",
    "                       random_state=None, splitter='best')\n",
    "\n",
    "tree_v1.fit(X_train_v1,y_train_v1)\n",
    "y_pred_treev1 = tree_v1.predict(X_test_v1)\n",
    "\n",
    "print(\"Accuracy:\",metrics.accuracy_score(y_test_v1, y_pred_v1))\n",
    "print(\"Kappa:\",metrics.cohen_kappa_score(y_test_v1,y_pred_v1))\n",
    "print(\"Precision:\",metrics.precision_score(y_test_v1,y_pred_v1))\n",
    "print(\"Recall:\",metrics.recall_score(y_test_v1,y_pred_v1))"
   ]
  },
  {
   "cell_type": "code",
   "execution_count": 512,
   "metadata": {},
   "outputs": [
    {
     "name": "stdout",
     "output_type": "stream",
     "text": [
      "DecisionTreeClassifier(class_weight=None, criterion='gini', max_depth=9,\n",
      "                       max_features=None, max_leaf_nodes=100,\n",
      "                       min_impurity_decrease=0.0, min_impurity_split=None,\n",
      "                       min_samples_leaf=1, min_samples_split=2,\n",
      "                       min_weight_fraction_leaf=0.0, presort=False,\n",
      "                       random_state=None, splitter='best')\n",
      "Recall: 0.36988109605540354\n"
     ]
    }
   ],
   "source": [
    "#CORR data set\n",
    "#training\n",
    "grid_tree.fit(X_train_CORR, y_train_CORR)\n",
    "\n",
    "#print best estimator\n",
    "print(grid_tree.best_estimator_)\n",
    "\n",
    "#with its score\n",
    "print(\"Recall:\",np.abs(grid_tree.best_score_))"
   ]
  },
  {
   "cell_type": "code",
   "execution_count": 513,
   "metadata": {
    "scrolled": true
   },
   "outputs": [
    {
     "name": "stdout",
     "output_type": "stream",
     "text": [
      "Accuracy: 0.818\n",
      "Kappa: 0.3597679842951633\n",
      "Precision: 0.6842105263157895\n",
      "Recall: 0.3403141361256545\n"
     ]
    }
   ],
   "source": [
    "tree_CORR = DecisionTreeClassifier(class_weight=None, criterion='gini', max_depth=3,\n",
    "                       max_features=None, max_leaf_nodes=5,\n",
    "                       min_impurity_decrease=0.0, min_impurity_split=None,\n",
    "                       min_samples_leaf=1, min_samples_split=2,\n",
    "                       min_weight_fraction_leaf=0.0, presort=False,\n",
    "                       random_state=None, splitter='best')\n",
    "\n",
    "tree_CORR.fit(X_train_CORR,y_train_CORR)\n",
    "y_pred_CORR = tree_CORR.predict(X_test_CORR)\n",
    "\n",
    "print(\"Accuracy:\",metrics.accuracy_score(y_test_CORR, y_pred_CORR))\n",
    "print(\"Kappa:\",metrics.cohen_kappa_score(y_test_CORR,y_pred_CORR))\n",
    "print(\"Precision:\",metrics.precision_score(y_test_CORR,y_pred_CORR))\n",
    "print(\"Recall:\",metrics.recall_score(y_test_CORR,y_pred_CORR))"
   ]
  },
  {
   "cell_type": "markdown",
   "metadata": {
    "scrolled": true
   },
   "source": [
    "Not worth more analysis; decision trees perform very similary to RF."
   ]
  },
  {
   "cell_type": "markdown",
   "metadata": {},
   "source": [
    "#### Support Vector Machine"
   ]
  },
  {
   "cell_type": "code",
   "execution_count": 168,
   "metadata": {
    "scrolled": true
   },
   "outputs": [
    {
     "ename": "KeyboardInterrupt",
     "evalue": "",
     "output_type": "error",
     "traceback": [
      "\u001b[1;31m---------------------------------------------------------------------------\u001b[0m",
      "\u001b[1;31mKeyboardInterrupt\u001b[0m                         Traceback (most recent call last)",
      "\u001b[1;32m<ipython-input-168-e9e9b685a58b>\u001b[0m in \u001b[0;36m<module>\u001b[1;34m\u001b[0m\n\u001b[0;32m     10\u001b[0m \u001b[1;33m\u001b[0m\u001b[0m\n\u001b[0;32m     11\u001b[0m \u001b[1;31m#training\u001b[0m\u001b[1;33m\u001b[0m\u001b[1;33m\u001b[0m\u001b[1;33m\u001b[0m\u001b[0m\n\u001b[1;32m---> 12\u001b[1;33m \u001b[0mgrid_SVM\u001b[0m\u001b[1;33m.\u001b[0m\u001b[0mfit\u001b[0m\u001b[1;33m(\u001b[0m\u001b[0mX_train_v0\u001b[0m\u001b[1;33m,\u001b[0m \u001b[0my_train_v0\u001b[0m\u001b[1;33m)\u001b[0m\u001b[1;33m\u001b[0m\u001b[1;33m\u001b[0m\u001b[0m\n\u001b[0m\u001b[0;32m     13\u001b[0m \u001b[1;33m\u001b[0m\u001b[0m\n\u001b[0;32m     14\u001b[0m \u001b[1;31m#print best estimator\u001b[0m\u001b[1;33m\u001b[0m\u001b[1;33m\u001b[0m\u001b[1;33m\u001b[0m\u001b[0m\n",
      "\u001b[1;32m~\\AppData\\Local\\Continuum\\anaconda3\\lib\\site-packages\\dask_ml\\model_selection\\_search.py\u001b[0m in \u001b[0;36mfit\u001b[1;34m(self, X, y, groups, **fit_params)\u001b[0m\n\u001b[0;32m   1260\u001b[0m             \u001b[0mout\u001b[0m \u001b[1;33m=\u001b[0m \u001b[1;33m[\u001b[0m\u001b[0mresult_map\u001b[0m\u001b[1;33m[\u001b[0m\u001b[0mk\u001b[0m\u001b[1;33m]\u001b[0m \u001b[1;32mfor\u001b[0m \u001b[0mk\u001b[0m \u001b[1;32min\u001b[0m \u001b[0mkeys\u001b[0m\u001b[1;33m]\u001b[0m\u001b[1;33m\u001b[0m\u001b[1;33m\u001b[0m\u001b[0m\n\u001b[0;32m   1261\u001b[0m         \u001b[1;32melse\u001b[0m\u001b[1;33m:\u001b[0m\u001b[1;33m\u001b[0m\u001b[1;33m\u001b[0m\u001b[0m\n\u001b[1;32m-> 1262\u001b[1;33m             \u001b[0mout\u001b[0m \u001b[1;33m=\u001b[0m \u001b[0mscheduler\u001b[0m\u001b[1;33m(\u001b[0m\u001b[0mdsk\u001b[0m\u001b[1;33m,\u001b[0m \u001b[0mkeys\u001b[0m\u001b[1;33m,\u001b[0m \u001b[0mnum_workers\u001b[0m\u001b[1;33m=\u001b[0m\u001b[0mn_jobs\u001b[0m\u001b[1;33m)\u001b[0m\u001b[1;33m\u001b[0m\u001b[1;33m\u001b[0m\u001b[0m\n\u001b[0m\u001b[0;32m   1263\u001b[0m \u001b[1;33m\u001b[0m\u001b[0m\n\u001b[0;32m   1264\u001b[0m         \u001b[1;32mif\u001b[0m \u001b[0mself\u001b[0m\u001b[1;33m.\u001b[0m\u001b[0miid\u001b[0m\u001b[1;33m:\u001b[0m\u001b[1;33m\u001b[0m\u001b[1;33m\u001b[0m\u001b[0m\n",
      "\u001b[1;32m~\\AppData\\Local\\Continuum\\anaconda3\\lib\\site-packages\\dask\\threaded.py\u001b[0m in \u001b[0;36mget\u001b[1;34m(dsk, result, cache, num_workers, pool, **kwargs)\u001b[0m\n\u001b[0;32m     80\u001b[0m         \u001b[0mget_id\u001b[0m\u001b[1;33m=\u001b[0m\u001b[0m_thread_get_id\u001b[0m\u001b[1;33m,\u001b[0m\u001b[1;33m\u001b[0m\u001b[1;33m\u001b[0m\u001b[0m\n\u001b[0;32m     81\u001b[0m         \u001b[0mpack_exception\u001b[0m\u001b[1;33m=\u001b[0m\u001b[0mpack_exception\u001b[0m\u001b[1;33m,\u001b[0m\u001b[1;33m\u001b[0m\u001b[1;33m\u001b[0m\u001b[0m\n\u001b[1;32m---> 82\u001b[1;33m         \u001b[1;33m**\u001b[0m\u001b[0mkwargs\u001b[0m\u001b[1;33m\u001b[0m\u001b[1;33m\u001b[0m\u001b[0m\n\u001b[0m\u001b[0;32m     83\u001b[0m     )\n\u001b[0;32m     84\u001b[0m \u001b[1;33m\u001b[0m\u001b[0m\n",
      "\u001b[1;32m~\\AppData\\Local\\Continuum\\anaconda3\\lib\\site-packages\\dask\\local.py\u001b[0m in \u001b[0;36mget_async\u001b[1;34m(apply_async, num_workers, dsk, result, cache, get_id, rerun_exceptions_locally, pack_exception, raise_exception, callbacks, dumps, loads, **kwargs)\u001b[0m\n\u001b[0;32m    478\u001b[0m             \u001b[1;31m# Main loop, wait on tasks to finish, insert new ones\u001b[0m\u001b[1;33m\u001b[0m\u001b[1;33m\u001b[0m\u001b[1;33m\u001b[0m\u001b[0m\n\u001b[0;32m    479\u001b[0m             \u001b[1;32mwhile\u001b[0m \u001b[0mstate\u001b[0m\u001b[1;33m[\u001b[0m\u001b[1;34m\"waiting\"\u001b[0m\u001b[1;33m]\u001b[0m \u001b[1;32mor\u001b[0m \u001b[0mstate\u001b[0m\u001b[1;33m[\u001b[0m\u001b[1;34m\"ready\"\u001b[0m\u001b[1;33m]\u001b[0m \u001b[1;32mor\u001b[0m \u001b[0mstate\u001b[0m\u001b[1;33m[\u001b[0m\u001b[1;34m\"running\"\u001b[0m\u001b[1;33m]\u001b[0m\u001b[1;33m:\u001b[0m\u001b[1;33m\u001b[0m\u001b[1;33m\u001b[0m\u001b[0m\n\u001b[1;32m--> 480\u001b[1;33m                 \u001b[0mkey\u001b[0m\u001b[1;33m,\u001b[0m \u001b[0mres_info\u001b[0m\u001b[1;33m,\u001b[0m \u001b[0mfailed\u001b[0m \u001b[1;33m=\u001b[0m \u001b[0mqueue_get\u001b[0m\u001b[1;33m(\u001b[0m\u001b[0mqueue\u001b[0m\u001b[1;33m)\u001b[0m\u001b[1;33m\u001b[0m\u001b[1;33m\u001b[0m\u001b[0m\n\u001b[0m\u001b[0;32m    481\u001b[0m                 \u001b[1;32mif\u001b[0m \u001b[0mfailed\u001b[0m\u001b[1;33m:\u001b[0m\u001b[1;33m\u001b[0m\u001b[1;33m\u001b[0m\u001b[0m\n\u001b[0;32m    482\u001b[0m                     \u001b[0mexc\u001b[0m\u001b[1;33m,\u001b[0m \u001b[0mtb\u001b[0m \u001b[1;33m=\u001b[0m \u001b[0mloads\u001b[0m\u001b[1;33m(\u001b[0m\u001b[0mres_info\u001b[0m\u001b[1;33m)\u001b[0m\u001b[1;33m\u001b[0m\u001b[1;33m\u001b[0m\u001b[0m\n",
      "\u001b[1;32m~\\AppData\\Local\\Continuum\\anaconda3\\lib\\site-packages\\dask\\local.py\u001b[0m in \u001b[0;36mqueue_get\u001b[1;34m(q)\u001b[0m\n\u001b[0;32m    134\u001b[0m         \u001b[1;32mwhile\u001b[0m \u001b[1;32mTrue\u001b[0m\u001b[1;33m:\u001b[0m\u001b[1;33m\u001b[0m\u001b[1;33m\u001b[0m\u001b[0m\n\u001b[0;32m    135\u001b[0m             \u001b[1;32mtry\u001b[0m\u001b[1;33m:\u001b[0m\u001b[1;33m\u001b[0m\u001b[1;33m\u001b[0m\u001b[0m\n\u001b[1;32m--> 136\u001b[1;33m                 \u001b[1;32mreturn\u001b[0m \u001b[0mq\u001b[0m\u001b[1;33m.\u001b[0m\u001b[0mget\u001b[0m\u001b[1;33m(\u001b[0m\u001b[0mblock\u001b[0m\u001b[1;33m=\u001b[0m\u001b[1;32mTrue\u001b[0m\u001b[1;33m,\u001b[0m \u001b[0mtimeout\u001b[0m\u001b[1;33m=\u001b[0m\u001b[1;36m0.1\u001b[0m\u001b[1;33m)\u001b[0m\u001b[1;33m\u001b[0m\u001b[1;33m\u001b[0m\u001b[0m\n\u001b[0m\u001b[0;32m    137\u001b[0m             \u001b[1;32mexcept\u001b[0m \u001b[0mEmpty\u001b[0m\u001b[1;33m:\u001b[0m\u001b[1;33m\u001b[0m\u001b[1;33m\u001b[0m\u001b[0m\n\u001b[0;32m    138\u001b[0m                 \u001b[1;32mpass\u001b[0m\u001b[1;33m\u001b[0m\u001b[1;33m\u001b[0m\u001b[0m\n",
      "\u001b[1;32m~\\AppData\\Local\\Continuum\\anaconda3\\lib\\queue.py\u001b[0m in \u001b[0;36mget\u001b[1;34m(self, block, timeout)\u001b[0m\n\u001b[0;32m    177\u001b[0m                     \u001b[1;32mif\u001b[0m \u001b[0mremaining\u001b[0m \u001b[1;33m<=\u001b[0m \u001b[1;36m0.0\u001b[0m\u001b[1;33m:\u001b[0m\u001b[1;33m\u001b[0m\u001b[1;33m\u001b[0m\u001b[0m\n\u001b[0;32m    178\u001b[0m                         \u001b[1;32mraise\u001b[0m \u001b[0mEmpty\u001b[0m\u001b[1;33m\u001b[0m\u001b[1;33m\u001b[0m\u001b[0m\n\u001b[1;32m--> 179\u001b[1;33m                     \u001b[0mself\u001b[0m\u001b[1;33m.\u001b[0m\u001b[0mnot_empty\u001b[0m\u001b[1;33m.\u001b[0m\u001b[0mwait\u001b[0m\u001b[1;33m(\u001b[0m\u001b[0mremaining\u001b[0m\u001b[1;33m)\u001b[0m\u001b[1;33m\u001b[0m\u001b[1;33m\u001b[0m\u001b[0m\n\u001b[0m\u001b[0;32m    180\u001b[0m             \u001b[0mitem\u001b[0m \u001b[1;33m=\u001b[0m \u001b[0mself\u001b[0m\u001b[1;33m.\u001b[0m\u001b[0m_get\u001b[0m\u001b[1;33m(\u001b[0m\u001b[1;33m)\u001b[0m\u001b[1;33m\u001b[0m\u001b[1;33m\u001b[0m\u001b[0m\n\u001b[0;32m    181\u001b[0m             \u001b[0mself\u001b[0m\u001b[1;33m.\u001b[0m\u001b[0mnot_full\u001b[0m\u001b[1;33m.\u001b[0m\u001b[0mnotify\u001b[0m\u001b[1;33m(\u001b[0m\u001b[1;33m)\u001b[0m\u001b[1;33m\u001b[0m\u001b[1;33m\u001b[0m\u001b[0m\n",
      "\u001b[1;32m~\\AppData\\Local\\Continuum\\anaconda3\\lib\\threading.py\u001b[0m in \u001b[0;36mwait\u001b[1;34m(self, timeout)\u001b[0m\n\u001b[0;32m    298\u001b[0m             \u001b[1;32melse\u001b[0m\u001b[1;33m:\u001b[0m\u001b[1;33m\u001b[0m\u001b[1;33m\u001b[0m\u001b[0m\n\u001b[0;32m    299\u001b[0m                 \u001b[1;32mif\u001b[0m \u001b[0mtimeout\u001b[0m \u001b[1;33m>\u001b[0m \u001b[1;36m0\u001b[0m\u001b[1;33m:\u001b[0m\u001b[1;33m\u001b[0m\u001b[1;33m\u001b[0m\u001b[0m\n\u001b[1;32m--> 300\u001b[1;33m                     \u001b[0mgotit\u001b[0m \u001b[1;33m=\u001b[0m \u001b[0mwaiter\u001b[0m\u001b[1;33m.\u001b[0m\u001b[0macquire\u001b[0m\u001b[1;33m(\u001b[0m\u001b[1;32mTrue\u001b[0m\u001b[1;33m,\u001b[0m \u001b[0mtimeout\u001b[0m\u001b[1;33m)\u001b[0m\u001b[1;33m\u001b[0m\u001b[1;33m\u001b[0m\u001b[0m\n\u001b[0m\u001b[0;32m    301\u001b[0m                 \u001b[1;32melse\u001b[0m\u001b[1;33m:\u001b[0m\u001b[1;33m\u001b[0m\u001b[1;33m\u001b[0m\u001b[0m\n\u001b[0;32m    302\u001b[0m                     \u001b[0mgotit\u001b[0m \u001b[1;33m=\u001b[0m \u001b[0mwaiter\u001b[0m\u001b[1;33m.\u001b[0m\u001b[0macquire\u001b[0m\u001b[1;33m(\u001b[0m\u001b[1;32mFalse\u001b[0m\u001b[1;33m)\u001b[0m\u001b[1;33m\u001b[0m\u001b[1;33m\u001b[0m\u001b[0m\n",
      "\u001b[1;31mKeyboardInterrupt\u001b[0m: "
     ]
    }
   ],
   "source": [
    "#original data set\n",
    "\n",
    "#create new grid for SVM - took too long to run\n",
    "'''param_grid_SVM = {'C': [0.1,1,10],\n",
    "                  'kernel': ['linear','rbf'],\n",
    "                  'gamma': [1,0.1,0.001]}\n",
    "\n",
    "# create the grid\n",
    "grid_SVM = dcv.GridSearchCV(SVC(), param_grid_SVM, cv = 3, scoring='recall', n_jobs=-1)\n",
    "\n",
    "#training        \n",
    "grid_SVM.fit(X_train_v0, y_train_v0)\n",
    "\n",
    "#print best estimator\n",
    "print(grid_SVM.best_estimator_)\n",
    "\n",
    "#with its score\n",
    "print(\"Recall:\",np.abs(grid_SVM.best_score_))'''"
   ]
  },
  {
   "cell_type": "code",
   "execution_count": 137,
   "metadata": {},
   "outputs": [
    {
     "name": "stdout",
     "output_type": "stream",
     "text": [
      "Accuracy: 0.7806666666666666\n",
      "Kappa: 0.012317264308953746\n",
      "Precision: 0.4838709677419355\n",
      "Recall: 0.011406844106463879\n"
     ]
    }
   ],
   "source": [
    "SVM = SVC(gamma='auto')\n",
    "\n",
    "SVM.fit(X_train_v0,y_train_v0)\n",
    "\n",
    "y_pred_v0 = SVM.predict(X_test_v0)\n",
    "\n",
    "print(\"Accuracy:\",metrics.accuracy_score(y_test_v0, y_pred_v0))\n",
    "print(\"Kappa:\",metrics.cohen_kappa_score(y_test_v0,y_pred_v0))\n",
    "print(\"Precision:\",metrics.precision_score(y_test_v0,y_pred_v0))\n",
    "print(\"Recall:\",metrics.recall_score(y_test_v0,y_pred_v0))"
   ]
  },
  {
   "cell_type": "code",
   "execution_count": 138,
   "metadata": {},
   "outputs": [
    {
     "name": "stdout",
     "output_type": "stream",
     "text": [
      "Accuracy: 0.8115\n",
      "Kappa: 0.3025616317221198\n",
      "Precision: 0.6565295169946332\n",
      "Recall: 0.28101071975497705\n"
     ]
    }
   ],
   "source": [
    "#discretized data set\n",
    "SVM.fit(X_train_v1,y_train_v1)\n",
    "\n",
    "y_pred_v1 = SVM.predict(X_test_v1)\n",
    "\n",
    "print(\"Accuracy:\",metrics.accuracy_score(y_test_v1, y_pred_v1))\n",
    "print(\"Kappa:\",metrics.cohen_kappa_score(y_test_v1,y_pred_v1))\n",
    "print(\"Precision:\",metrics.precision_score(y_test_v1,y_pred_v1))\n",
    "print(\"Recall:\",metrics.recall_score(y_test_v1,y_pred_v1))"
   ]
  },
  {
   "cell_type": "code",
   "execution_count": 139,
   "metadata": {},
   "outputs": [
    {
     "name": "stdout",
     "output_type": "stream",
     "text": [
      "Accuracy: 0.7805\n",
      "Kappa: 0.023943160932034302\n",
      "Precision: 0.625\n",
      "Recall: 0.018839487565938208\n"
     ]
    }
   ],
   "source": [
    "#CORR data set\n",
    "SVM.fit(X_train_CORR,y_train_CORR)\n",
    "\n",
    "y_pred_CORR = SVM.predict(X_test_CORR)\n",
    "\n",
    "print(\"Accuracy:\",metrics.accuracy_score(y_test_CORR, y_pred_CORR))\n",
    "print(\"Kappa:\",metrics.cohen_kappa_score(y_test_CORR,y_pred_CORR))\n",
    "print(\"Precision:\",metrics.precision_score(y_test_CORR,y_pred_CORR))\n",
    "print(\"Recall:\",metrics.recall_score(y_test_CORR,y_pred_CORR))"
   ]
  },
  {
   "cell_type": "code",
   "execution_count": 140,
   "metadata": {},
   "outputs": [
    {
     "name": "stdout",
     "output_type": "stream",
     "text": [
      "Accuracy: 0.7881666666666667\n",
      "Kappa: 0.018191649607972038\n",
      "Precision: 0.5588235294117647\n",
      "Recall: 0.014901960784313726\n"
     ]
    }
   ],
   "source": [
    "#RFE data set\n",
    "SVM.fit(X_train_RFE,y_train_RFE)\n",
    "\n",
    "y_pred_RFE = SVM.predict(X_test_RFE)\n",
    "\n",
    "print(\"Accuracy:\",metrics.accuracy_score(y_test_RFE, y_pred_RFE))\n",
    "print(\"Kappa:\",metrics.cohen_kappa_score(y_test_RFE,y_pred_RFE))\n",
    "print(\"Precision:\",metrics.precision_score(y_test_RFE,y_pred_RFE))\n",
    "print(\"Recall:\",metrics.recall_score(y_test_RFE,y_pred_RFE))"
   ]
  },
  {
   "cell_type": "markdown",
   "metadata": {},
   "source": [
    "#### Logistic Regression"
   ]
  },
  {
   "cell_type": "code",
   "execution_count": 142,
   "metadata": {},
   "outputs": [
    {
     "name": "stdout",
     "output_type": "stream",
     "text": [
      "Accuracy: 0.7808333333333334\n",
      "Recall: 0.0\n"
     ]
    }
   ],
   "source": [
    "#original data set\n",
    "log = LogisticRegression(solver='liblinear')\n",
    "log.fit(X_train_v0,y_train_v0)\n",
    "y_pred_v0 = log.predict(X_test_v0)\n",
    "\n",
    "print(\"Accuracy:\",metrics.accuracy_score(y_test_v0, y_pred_v0))\n",
    "print(\"Recall:\", metrics.recall_score(y_test_v0,y_pred_v0))"
   ]
  },
  {
   "cell_type": "code",
   "execution_count": 143,
   "metadata": {},
   "outputs": [
    {
     "name": "stdout",
     "output_type": "stream",
     "text": [
      "Accuracy: 0.7823333333333333\n",
      "Recall: 0.0\n"
     ]
    }
   ],
   "source": [
    "#discretized data set\n",
    "log.fit(X_train_v1,y_train_v1)\n",
    "y_pred_log_v1 = log.predict(X_test_v1)\n",
    "\n",
    "print(\"Accuracy:\",metrics.accuracy_score(y_test_v1, y_pred_log_v1))\n",
    "print(\"Recall:\",metrics.recall_score(y_test_v1,y_pred_log_v1))"
   ]
  },
  {
   "cell_type": "markdown",
   "metadata": {},
   "source": [
    "#### Gradient Boosted"
   ]
  },
  {
   "cell_type": "code",
   "execution_count": 148,
   "metadata": {
    "scrolled": true
   },
   "outputs": [
    {
     "name": "stdout",
     "output_type": "stream",
     "text": [
      "GradientBoostingClassifier(criterion='friedman_mse', init=None,\n",
      "                           learning_rate=0.1, loss='deviance', max_depth=3,\n",
      "                           max_features=None, max_leaf_nodes=None,\n",
      "                           min_impurity_decrease=0.0, min_impurity_split=None,\n",
      "                           min_samples_leaf=1, min_samples_split=2,\n",
      "                           min_weight_fraction_leaf=0.0, n_estimators=300,\n",
      "                           n_iter_no_change=None, presort='auto',\n",
      "                           random_state=None, subsample=1.0, tol=0.0001,\n",
      "                           validation_fraction=0.1, verbose=0,\n",
      "                           warm_start=False)\n",
      "Recall: 0.37023111730076586\n"
     ]
    }
   ],
   "source": [
    "#set parameters for GBM\n",
    "param_grid_GBM = {'n_estimators': [100,200,300],\n",
    "                  'loss': ['deviance','exponential']}\n",
    "\n",
    "# create the grid\n",
    "grid_GBM = dcv.GridSearchCV(GradientBoostingClassifier(), param_grid_GBM, cv = 3, scoring='recall')\n",
    "\n",
    "#training        \n",
    "grid_GBM.fit(X_train_v0, y_train_v0)\n",
    "\n",
    "#print best estimator\n",
    "print(grid_GBM.best_estimator_)\n",
    "\n",
    "#with its score\n",
    "print(\"Recall:\",np.abs(grid_GBM.best_score_))"
   ]
  },
  {
   "cell_type": "code",
   "execution_count": 172,
   "metadata": {},
   "outputs": [
    {
     "name": "stdout",
     "output_type": "stream",
     "text": [
      "Accuracy: 0.7025\n",
      "Kappa: 0.04541711083144084\n",
      "Precision: 0.26214574898785425\n",
      "Recall: 0.19695817490494297\n"
     ]
    }
   ],
   "source": [
    "GBM_v0 = GradientBoostingClassifier(criterion='friedman_mse', init=None,\n",
    "                           learning_rate=0.1, loss='deviance', max_depth=3,\n",
    "                           max_features=None, max_leaf_nodes=None,\n",
    "                           min_impurity_decrease=0.0, min_impurity_split=None,\n",
    "                           min_samples_leaf=1, min_samples_split=2,\n",
    "                           min_weight_fraction_leaf=0.0, n_estimators=300,\n",
    "                           n_iter_no_change=None, presort='auto',\n",
    "                           random_state=None, subsample=1.0, tol=0.0001,\n",
    "                           validation_fraction=0.1, verbose=0,\n",
    "                           warm_start=False)\n",
    "GBM_v0.fit(X_train_v0,y_train_v0)\n",
    "y_pred_GBMv0 = GBM_v0.predict(X_test_v0)\n",
    "\n",
    "\n",
    "print(\"Accuracy:\",metrics.accuracy_score(y_test_v0, y_pred_v0))\n",
    "print(\"Kappa:\",metrics.cohen_kappa_score(y_test_v0,y_pred_v0))\n",
    "print(\"Precision:\",metrics.precision_score(y_test_v0,y_pred_v0))\n",
    "print(\"Recall:\",metrics.recall_score(y_test_v0,y_pred_v0))"
   ]
  },
  {
   "cell_type": "code",
   "execution_count": 150,
   "metadata": {},
   "outputs": [
    {
     "name": "stdout",
     "output_type": "stream",
     "text": [
      "GradientBoostingClassifier(criterion='friedman_mse', init=None,\n",
      "                           learning_rate=0.1, loss='deviance', max_depth=3,\n",
      "                           max_features=None, max_leaf_nodes=None,\n",
      "                           min_impurity_decrease=0.0, min_impurity_split=None,\n",
      "                           min_samples_leaf=1, min_samples_split=2,\n",
      "                           min_weight_fraction_leaf=0.0, n_estimators=300,\n",
      "                           n_iter_no_change=None, presort='auto',\n",
      "                           random_state=None, subsample=1.0, tol=0.0001,\n",
      "                           validation_fraction=0.1, verbose=0,\n",
      "                           warm_start=False)\n",
      "Recall: 0.37523433955110846\n"
     ]
    }
   ],
   "source": [
    "#training        \n",
    "grid_GBM.fit(X_train_v1, y_train_v1)\n",
    "\n",
    "#print best estimator\n",
    "print(grid_GBM.best_estimator_)\n",
    "\n",
    "#with its score\n",
    "print(\"Recall:\",np.abs(grid_GBM.best_score_))"
   ]
  },
  {
   "cell_type": "code",
   "execution_count": 162,
   "metadata": {},
   "outputs": [
    {
     "name": "stdout",
     "output_type": "stream",
     "text": [
      "Accuracy: 0.8223333333333334\n",
      "Kappa: 0.3754808875279745\n",
      "Precision: 0.6690140845070423\n",
      "Recall: 0.36370597243491576\n"
     ]
    }
   ],
   "source": [
    "GBM_v1 = GradientBoostingClassifier(criterion='friedman_mse', init=None,\n",
    "                           learning_rate=0.1, loss='deviance', max_depth=3,\n",
    "                           max_features=None, max_leaf_nodes=None,\n",
    "                           min_impurity_decrease=0.0, min_impurity_split=None,\n",
    "                           min_samples_leaf=1, min_samples_split=2,\n",
    "                           min_weight_fraction_leaf=0.0, n_estimators=300,\n",
    "                           n_iter_no_change=None, presort='auto',\n",
    "                           random_state=None, subsample=1.0, tol=0.0001,\n",
    "                           validation_fraction=0.1, verbose=0,\n",
    "                           warm_start=False)\n",
    "\n",
    "GBM_v1.fit(X_train_v1,y_train_v1)\n",
    "y_pred_v1 = GBM_v1.predict(X_test_v1)\n",
    "\n",
    "print(\"Accuracy:\",metrics.accuracy_score(y_test_v1, y_pred_v1))\n",
    "print(\"Kappa:\",metrics.cohen_kappa_score(y_test_v1,y_pred_v1))\n",
    "print(\"Precision:\",metrics.precision_score(y_test_v1,y_pred_v1))\n",
    "print(\"Recall:\",metrics.recall_score(y_test_v1,y_pred_v1))"
   ]
  },
  {
   "cell_type": "code",
   "execution_count": 163,
   "metadata": {},
   "outputs": [
    {
     "name": "stdout",
     "output_type": "stream",
     "text": [
      "GradientBoostingClassifier(criterion='friedman_mse', init=None,\n",
      "                           learning_rate=0.1, loss='deviance', max_depth=3,\n",
      "                           max_features=None, max_leaf_nodes=None,\n",
      "                           min_impurity_decrease=0.0, min_impurity_split=None,\n",
      "                           min_samples_leaf=1, min_samples_split=2,\n",
      "                           min_weight_fraction_leaf=0.0, n_estimators=300,\n",
      "                           n_iter_no_change=None, presort='auto',\n",
      "                           random_state=None, subsample=1.0, tol=0.0001,\n",
      "                           validation_fraction=0.1, verbose=0,\n",
      "                           warm_start=False)\n",
      "Recall: 0.3678650017991375\n"
     ]
    }
   ],
   "source": [
    "#training        \n",
    "grid_GBM.fit(X_train_CORR, y_train_CORR)\n",
    "\n",
    "#print best estimator\n",
    "print(grid_GBM.best_estimator_)\n",
    "\n",
    "#with its score\n",
    "print(\"Recall:\",np.abs(grid_GBM.best_score_))"
   ]
  },
  {
   "cell_type": "code",
   "execution_count": 165,
   "metadata": {},
   "outputs": [
    {
     "name": "stdout",
     "output_type": "stream",
     "text": [
      "Accuracy: 0.8215\n",
      "Kappa: 0.38750860690519706\n",
      "Precision: 0.6693121693121693\n",
      "Recall: 0.3813112283345893\n"
     ]
    }
   ],
   "source": [
    "GBM_CORR = GradientBoostingClassifier(criterion='friedman_mse', init=None,\n",
    "                           learning_rate=0.1, loss='deviance', max_depth=3,\n",
    "                           max_features=None, max_leaf_nodes=None,\n",
    "                           min_impurity_decrease=0.0, min_impurity_split=None,\n",
    "                           min_samples_leaf=1, min_samples_split=2,\n",
    "                           min_weight_fraction_leaf=0.0, n_estimators=300,\n",
    "                           n_iter_no_change=None, presort='auto',\n",
    "                           random_state=None, subsample=1.0, tol=0.0001,\n",
    "                           validation_fraction=0.1, verbose=0,\n",
    "                           warm_start=False)\n",
    "\n",
    "GBM_CORR.fit(X_train_CORR,y_train_CORR)\n",
    "y_pred_CORR = GBM_CORR.predict(X_test_CORR)\n",
    "\n",
    "print(\"Accuracy:\",metrics.accuracy_score(y_test_CORR, y_pred_CORR))\n",
    "print(\"Kappa:\",metrics.cohen_kappa_score(y_test_CORR,y_pred_CORR))\n",
    "print(\"Precision:\",metrics.precision_score(y_test_CORR,y_pred_CORR))\n",
    "print(\"Recall:\",metrics.recall_score(y_test_CORR,y_pred_CORR))"
   ]
  },
  {
   "cell_type": "code",
   "execution_count": 166,
   "metadata": {},
   "outputs": [
    {
     "name": "stdout",
     "output_type": "stream",
     "text": [
      "GradientBoostingClassifier(criterion='friedman_mse', init=None,\n",
      "                           learning_rate=0.1, loss='deviance', max_depth=3,\n",
      "                           max_features=None, max_leaf_nodes=None,\n",
      "                           min_impurity_decrease=0.0, min_impurity_split=None,\n",
      "                           min_samples_leaf=1, min_samples_split=2,\n",
      "                           min_weight_fraction_leaf=0.0, n_estimators=300,\n",
      "                           n_iter_no_change=None, presort='auto',\n",
      "                           random_state=None, subsample=1.0, tol=0.0001,\n",
      "                           validation_fraction=0.1, verbose=0,\n",
      "                           warm_start=False)\n",
      "Recall: 0.3497481813094572\n"
     ]
    }
   ],
   "source": [
    "#training        \n",
    "grid_GBM.fit(X_train_RFE, y_train_RFE)\n",
    "\n",
    "#print best estimator\n",
    "print(grid_GBM.best_estimator_)\n",
    "\n",
    "#with its score\n",
    "print(\"Recall:\",np.abs(grid_GBM.best_score_))"
   ]
  },
  {
   "cell_type": "code",
   "execution_count": 167,
   "metadata": {},
   "outputs": [
    {
     "name": "stdout",
     "output_type": "stream",
     "text": [
      "Accuracy: 0.8245\n",
      "Kappa: 0.37184955409073284\n",
      "Precision: 0.6590257879656161\n",
      "Recall: 0.3607843137254902\n"
     ]
    }
   ],
   "source": [
    "GBM_RFE = GradientBoostingClassifier(criterion='friedman_mse', init=None,\n",
    "                           learning_rate=0.1, loss='deviance', max_depth=3,\n",
    "                           max_features=None, max_leaf_nodes=None,\n",
    "                           min_impurity_decrease=0.0, min_impurity_split=None,\n",
    "                           min_samples_leaf=1, min_samples_split=2,\n",
    "                           min_weight_fraction_leaf=0.0, n_estimators=300,\n",
    "                           n_iter_no_change=None, presort='auto',\n",
    "                           random_state=None, subsample=1.0, tol=0.0001,\n",
    "                           validation_fraction=0.1, verbose=0,\n",
    "                           warm_start=False)\n",
    "\n",
    "GBM_RFE.fit(X_train_RFE,y_train_RFE)\n",
    "y_pred_RFE = GBM_RFE.predict(X_test_RFE)\n",
    "\n",
    "print(\"Accuracy:\",metrics.accuracy_score(y_test_RFE, y_pred_RFE))\n",
    "print(\"Kappa:\",metrics.cohen_kappa_score(y_test_RFE,y_pred_RFE))\n",
    "print(\"Precision:\",metrics.precision_score(y_test_RFE,y_pred_RFE))\n",
    "print(\"Recall:\",metrics.recall_score(y_test_RFE,y_pred_RFE))"
   ]
  },
  {
   "cell_type": "markdown",
   "metadata": {},
   "source": [
    "#### Neural Network"
   ]
  },
  {
   "cell_type": "code",
   "execution_count": 156,
   "metadata": {},
   "outputs": [
    {
     "name": "stdout",
     "output_type": "stream",
     "text": [
      "Accuracy: 0.7025\n",
      "Recall: 0.19695817490494297\n"
     ]
    }
   ],
   "source": [
    "#original data set\n",
    "MLP = MLPClassifier(solver='lbfgs')\n",
    "MLP.fit(X_train_v0,y_train_v0)\n",
    "y_pred_v0 = MLP.predict(X_test_v0)\n",
    "\n",
    "print(\"Accuracy:\",metrics.accuracy_score(y_test_v0, y_pred_v0))\n",
    "print(\"Recall:\", metrics.recall_score(y_test_v0,y_pred_v0))"
   ]
  },
  {
   "cell_type": "markdown",
   "metadata": {},
   "source": [
    "Best performing models in terms of accuracy and recall:<br><br>\n",
    "RandomForest with CORR data set (rf_CORR_2; y_pred_2_CORR)<br>\n",
    "DecisionTree with v1 data set (tree_v1; y_pred_v1)<br>\n",
    "GBM with original data set (GBM_v0; y_pred_GBMv0)"
   ]
  },
  {
   "cell_type": "markdown",
   "metadata": {},
   "source": [
    "### Compare Models"
   ]
  },
  {
   "cell_type": "code",
   "execution_count": 194,
   "metadata": {},
   "outputs": [],
   "source": [
    "RF_cm = confusion_matrix(y_test_CORR,y_pred_2_CORR)\n",
    "tree_cm = confusion_matrix(y_test_v1,y_pred_treev1)\n",
    "GBM_cm = confusion_matrix(y_test_v0,y_pred_GBMv0)"
   ]
  },
  {
   "cell_type": "code",
   "execution_count": 195,
   "metadata": {
    "scrolled": true
   },
   "outputs": [
    {
     "data": {
      "text/plain": [
       "array([[4444,  229],\n",
       "       [ 853,  474]], dtype=int64)"
      ]
     },
     "execution_count": 195,
     "metadata": {},
     "output_type": "execute_result"
    }
   ],
   "source": [
    "RF_cm"
   ]
  },
  {
   "cell_type": "code",
   "execution_count": 213,
   "metadata": {},
   "outputs": [
    {
     "name": "stdout",
     "output_type": "stream",
     "text": [
      "Accuracy: 0.8196666666666667\n",
      "Kappa: 0.37057880572466906\n",
      "Precision: 0.6742532005689901\n",
      "Recall: 0.3571966842501884\n"
     ]
    }
   ],
   "source": [
    "#print RF metrics again\n",
    "print(\"Accuracy:\",metrics.accuracy_score(y_test_CORR, y_pred_2_CORR))\n",
    "print(\"Kappa:\",metrics.cohen_kappa_score(y_test_CORR,y_pred_2_CORR))\n",
    "print(\"Precision:\",metrics.precision_score(y_test_CORR,y_pred_2_CORR))\n",
    "print(\"Recall:\",metrics.recall_score(y_test_CORR,y_pred_2_CORR))"
   ]
  },
  {
   "cell_type": "code",
   "execution_count": 215,
   "metadata": {},
   "outputs": [
    {
     "data": {
      "text/plain": [
       "[Text(0, 0.5, 'Not Default'), Text(0, 1.5, 'Default')]"
      ]
     },
     "execution_count": 215,
     "metadata": {},
     "output_type": "execute_result"
    },
    {
     "data": {
      "image/png": "[encoded data removed]",
      "text/plain": [
       "<Figure size 432x288 with 2 Axes>"
      ]
     },
     "metadata": {
      "needs_background": "light"
     },
     "output_type": "display_data"
    }
   ],
   "source": [
    "ax = plt.subplot()\n",
    "sns.heatmap(RF_cm, annot=True, ax = ax, fmt='g', cmap='Blues') #annot=True to annotate cells, fmt='g' to remove sci notation\n",
    "\n",
    "# labels, title and ticks\n",
    "ax.set_xlabel('Predicted labels')\n",
    "ax.set_ylabel('True labels')\n",
    "ax.set_title('Confusion Matrix for Random Forest')\n",
    "ax.xaxis.set_ticklabels(['Not Default', 'Default'])\n",
    "ax.yaxis.set_ticklabels(['Not Default', 'Default'])"
   ]
  },
  {
   "cell_type": "code",
   "execution_count": 216,
   "metadata": {},
   "outputs": [
    {
     "data": {
      "text/plain": [
       "[Text(0, 0.5, 'Not Default'), Text(0, 1.5, 'Default')]"
      ]
     },
     "execution_count": 216,
     "metadata": {},
     "output_type": "execute_result"
    },
    {
     "data": {
      "image/png": "[encoded data removed]",
      "text/plain": [
       "<Figure size 432x288 with 2 Axes>"
      ]
     },
     "metadata": {
      "needs_background": "light"
     },
     "output_type": "display_data"
    }
   ],
   "source": [
    "#plot CM for Decision Tree data\n",
    "ax = plt.subplot()\n",
    "sns.heatmap(tree_cm, annot=True, ax = ax, fmt='g', cmap='Blues') #annot=True to annotate cells, fmt='g' to remove sci notation\n",
    "\n",
    "# labels, title and ticks\n",
    "ax.set_xlabel('Predicted labels')\n",
    "ax.set_ylabel('True labels')\n",
    "ax.set_title('Confusion Matrix for Decision Tree')\n",
    "ax.xaxis.set_ticklabels(['Not Default', 'Default'])\n",
    "ax.yaxis.set_ticklabels(['Not Default', 'Default'])"
   ]
  },
  {
   "cell_type": "code",
   "execution_count": 1,
   "metadata": {},
   "outputs": [
    {
     "ename": "NameError",
     "evalue": "name 'plt' is not defined",
     "output_type": "error",
     "traceback": [
      "\u001b[1;31m---------------------------------------------------------------------------\u001b[0m",
      "\u001b[1;31mNameError\u001b[0m                                 Traceback (most recent call last)",
      "\u001b[1;32m<ipython-input-1-4bb7f87e2247>\u001b[0m in \u001b[0;36m<module>\u001b[1;34m\u001b[0m\n\u001b[0;32m      1\u001b[0m \u001b[1;31m#plot CM for GBM model\u001b[0m\u001b[1;33m\u001b[0m\u001b[1;33m\u001b[0m\u001b[1;33m\u001b[0m\u001b[0m\n\u001b[1;32m----> 2\u001b[1;33m \u001b[0max\u001b[0m \u001b[1;33m=\u001b[0m \u001b[0mplt\u001b[0m\u001b[1;33m.\u001b[0m\u001b[0msubplot\u001b[0m\u001b[1;33m(\u001b[0m\u001b[1;33m)\u001b[0m\u001b[1;33m\u001b[0m\u001b[1;33m\u001b[0m\u001b[0m\n\u001b[0m\u001b[0;32m      3\u001b[0m \u001b[0msns\u001b[0m\u001b[1;33m.\u001b[0m\u001b[0mheatmap\u001b[0m\u001b[1;33m(\u001b[0m\u001b[0mGBM_cm\u001b[0m\u001b[1;33m,\u001b[0m \u001b[0mannot\u001b[0m\u001b[1;33m=\u001b[0m\u001b[1;32mTrue\u001b[0m\u001b[1;33m,\u001b[0m \u001b[0max\u001b[0m \u001b[1;33m=\u001b[0m \u001b[0max\u001b[0m\u001b[1;33m,\u001b[0m \u001b[0mfmt\u001b[0m\u001b[1;33m=\u001b[0m\u001b[1;34m'g'\u001b[0m\u001b[1;33m,\u001b[0m \u001b[0mcmap\u001b[0m\u001b[1;33m=\u001b[0m\u001b[1;34m'Blues'\u001b[0m\u001b[1;33m)\u001b[0m \u001b[1;31m#annot=True to annotate cells, fmt='g' to remove sci notation\u001b[0m\u001b[1;33m\u001b[0m\u001b[1;33m\u001b[0m\u001b[0m\n\u001b[0;32m      4\u001b[0m \u001b[1;33m\u001b[0m\u001b[0m\n\u001b[0;32m      5\u001b[0m \u001b[1;31m# labels, title and ticks\u001b[0m\u001b[1;33m\u001b[0m\u001b[1;33m\u001b[0m\u001b[1;33m\u001b[0m\u001b[0m\n",
      "\u001b[1;31mNameError\u001b[0m: name 'plt' is not defined"
     ]
    }
   ],
   "source": [
    "#plot CM for GBM model\n",
    "ax = plt.subplot()\n",
    "sns.heatmap(GBM_cm, annot=True, ax = ax, fmt='g', cmap='Blues') #annot=True to annotate cells, fmt='g' to remove sci notation\n",
    "\n",
    "# labels, title and ticks\n",
    "ax.set_xlabel('Predicted labels')\n",
    "ax.set_ylabel('True labels')\n",
    "ax.set_title('Confusion Matrix for GBM')\n",
    "ax.xaxis.set_ticklabels(['Not Default', 'Default'])\n",
    "ax.yaxis.set_ticklabels(['Not Default', 'Default'])"
   ]
  },
  {
   "cell_type": "markdown",
   "metadata": {},
   "source": [
    "All three models perform pretty similarly with regards to accuracy, precision, and recall. None are all that great for what we need, however. Let's go back and increase cv to 10 to see if there's any improvement."
   ]
  },
  {
   "cell_type": "code",
   "execution_count": 232,
   "metadata": {},
   "outputs": [
    {
     "name": "stdout",
     "output_type": "stream",
     "text": [
      "RF with 10-fold CV: [0.82507289 0.82458333 0.82       0.8225     0.81333333 0.81875\n",
      " 0.81       0.81208333 0.82375    0.82451021]\n",
      "Decision Tree with 10-fold CV: [0.81875    0.82       0.8225     0.81166667 0.82125    0.815\n",
      " 0.82708333 0.81958333 0.815      0.82375   ]\n",
      "GBM with 10-fold CV: [0.82299042 0.81458333 0.81875    0.82166667 0.81       0.815\n",
      " 0.82916667 0.81791667 0.82041667 0.81533972]\n"
     ]
    }
   ],
   "source": [
    "print(\"RF with 10-fold CV:\",cross_val_score(rf_CORR_2,X_train_CORR,y_train_CORR, cv=10))\n",
    "print(\"Decision Tree with 10-fold CV:\",cross_val_score(tree_v1,X_train_v1,y_train_v1, cv=10))\n",
    "print(\"GBM with 10-fold CV:\",cross_val_score(GBM_v0,X_train_v0,y_train_v0, cv=10))"
   ]
  },
  {
   "cell_type": "markdown",
   "metadata": {},
   "source": [
    "Since none of the models differ all that much in their metrics, even with datasets that are significantly different in terms of feature engineering, conclude that these are the best results we can get with the available data."
   ]
  }
 ],
 "metadata": {
  "kernelspec": {
   "display_name": "Python 3",
   "language": "python",
   "name": "python3"
  },
  "language_info": {
   "codemirror_mode": {
    "name": "ipython",
    "version": 3
   },
   "file_extension": ".py",
   "mimetype": "text/x-python",
   "name": "python",
   "nbconvert_exporter": "python",
   "pygments_lexer": "ipython3",
   "version": "3.7.3"
  }
 },
 "nbformat": 4,
 "nbformat_minor": 2
}
